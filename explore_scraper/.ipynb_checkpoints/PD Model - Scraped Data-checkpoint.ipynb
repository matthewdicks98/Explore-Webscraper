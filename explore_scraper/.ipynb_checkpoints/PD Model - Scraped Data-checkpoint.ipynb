{
 "cells": [
  {
   "cell_type": "markdown",
   "metadata": {},
   "source": [
    "# PD Model"
   ]
  },
  {
   "cell_type": "markdown",
   "metadata": {},
   "source": [
    "### Import libraries & read in data"
   ]
  },
  {
   "cell_type": "code",
   "execution_count": 1,
   "metadata": {},
   "outputs": [],
   "source": [
    "import pandas as pd\n",
    "import numpy as np\n",
    "from sklearn.model_selection import train_test_split\n",
    "from sklearn.linear_model import LogisticRegression\n",
    "from sklearn.linear_model import LinearRegression\n",
    "from sklearn.linear_model import Lasso\n",
    "from sklearn.linear_model import Ridge\n",
    "from sklearn.ensemble import RandomForestClassifier\n",
    "from sklearn.ensemble import RandomForestRegressor\n",
    "import statsmodels.api as sm\n",
    "from sklearn.metrics import confusion_matrix\n",
    "from sklearn.metrics import classification_report\n",
    "from sklearn.metrics import roc_curve\n",
    "from sklearn.metrics import roc_auc_score\n",
    "from sklearn.metrics import brier_score_loss\n",
    "from sklearn.calibration import calibration_curve\n",
    "import seaborn as sns\n",
    "import matplotlib.pyplot as plt\n",
    "%matplotlib inline"
   ]
  },
  {
   "cell_type": "code",
   "execution_count": 2,
   "metadata": {},
   "outputs": [
    {
     "data": {
      "text/html": [
       "<div>\n",
       "<style scoped>\n",
       "    .dataframe tbody tr th:only-of-type {\n",
       "        vertical-align: middle;\n",
       "    }\n",
       "\n",
       "    .dataframe tbody tr th {\n",
       "        vertical-align: top;\n",
       "    }\n",
       "\n",
       "    .dataframe thead th {\n",
       "        text-align: right;\n",
       "    }\n",
       "</style>\n",
       "<table border=\"1\" class=\"dataframe\">\n",
       "  <thead>\n",
       "    <tr style=\"text-align: right;\">\n",
       "      <th></th>\n",
       "      <th>company</th>\n",
       "      <th>id</th>\n",
       "      <th>year</th>\n",
       "      <th>net_sales</th>\n",
       "      <th>op_profit_ebit</th>\n",
       "      <th>prof_after_net_fin_items</th>\n",
       "      <th>results</th>\n",
       "      <th>sub_unpaid_cap</th>\n",
       "      <th>fixed_assets</th>\n",
       "      <th>current_assets</th>\n",
       "      <th>...</th>\n",
       "      <th>du_pont_model</th>\n",
       "      <th>prof_margin</th>\n",
       "      <th>gross_prof</th>\n",
       "      <th>working_cap</th>\n",
       "      <th>solidity</th>\n",
       "      <th>quick_ratio</th>\n",
       "      <th>status</th>\n",
       "      <th>actual_status</th>\n",
       "      <th>date</th>\n",
       "      <th>default</th>\n",
       "    </tr>\n",
       "  </thead>\n",
       "  <tbody>\n",
       "    <tr>\n",
       "      <th>0</th>\n",
       "      <td>A D Gustafssons RÃ¶r AB</td>\n",
       "      <td>5567054589</td>\n",
       "      <td>2019</td>\n",
       "      <td>20902.0</td>\n",
       "      <td>1275.0</td>\n",
       "      <td>1274.0</td>\n",
       "      <td>978.0</td>\n",
       "      <td>0.0</td>\n",
       "      <td>142.0</td>\n",
       "      <td>3886.0</td>\n",
       "      <td>...</td>\n",
       "      <td>0.3168</td>\n",
       "      <td>0.0610</td>\n",
       "      <td>0.4291</td>\n",
       "      <td>0.0759</td>\n",
       "      <td>0.4101</td>\n",
       "      <td>1.6773</td>\n",
       "      <td>1</td>\n",
       "      <td>Bolaget Ã¤r aktivt</td>\n",
       "      <td>2019-12-31</td>\n",
       "      <td>0</td>\n",
       "    </tr>\n",
       "    <tr>\n",
       "      <th>1</th>\n",
       "      <td>A D Gustafssons RÃ¶r AB</td>\n",
       "      <td>5567054589</td>\n",
       "      <td>2018</td>\n",
       "      <td>17181.0</td>\n",
       "      <td>1439.0</td>\n",
       "      <td>1438.0</td>\n",
       "      <td>833.0</td>\n",
       "      <td>0.0</td>\n",
       "      <td>130.0</td>\n",
       "      <td>3390.0</td>\n",
       "      <td>...</td>\n",
       "      <td>0.4091</td>\n",
       "      <td>0.0838</td>\n",
       "      <td>0.5077</td>\n",
       "      <td>0.0725</td>\n",
       "      <td>0.3616</td>\n",
       "      <td>1.5664</td>\n",
       "      <td>1</td>\n",
       "      <td>Bolaget Ã¤r aktivt</td>\n",
       "      <td>2018-12-31</td>\n",
       "      <td>0</td>\n",
       "    </tr>\n",
       "    <tr>\n",
       "      <th>2</th>\n",
       "      <td>A D Gustafssons RÃ¶r AB</td>\n",
       "      <td>5567054589</td>\n",
       "      <td>2017</td>\n",
       "      <td>7804.0</td>\n",
       "      <td>68.0</td>\n",
       "      <td>68.0</td>\n",
       "      <td>35.0</td>\n",
       "      <td>0.0</td>\n",
       "      <td>71.0</td>\n",
       "      <td>1049.0</td>\n",
       "      <td>...</td>\n",
       "      <td>0.0607</td>\n",
       "      <td>0.0087</td>\n",
       "      <td>0.6376</td>\n",
       "      <td>0.0446</td>\n",
       "      <td>0.1499</td>\n",
       "      <td>1.4536</td>\n",
       "      <td>1</td>\n",
       "      <td>Bolaget Ã¤r aktivt</td>\n",
       "      <td>2017-12-31</td>\n",
       "      <td>0</td>\n",
       "    </tr>\n",
       "    <tr>\n",
       "      <th>3</th>\n",
       "      <td>A D Gustafssons RÃ¶r AB</td>\n",
       "      <td>5567054589</td>\n",
       "      <td>2016</td>\n",
       "      <td>10389.0</td>\n",
       "      <td>504.0</td>\n",
       "      <td>503.0</td>\n",
       "      <td>388.0</td>\n",
       "      <td>0.0</td>\n",
       "      <td>120.0</td>\n",
       "      <td>1945.0</td>\n",
       "      <td>...</td>\n",
       "      <td>0.2447</td>\n",
       "      <td>0.0486</td>\n",
       "      <td>0.5203</td>\n",
       "      <td>0.0577</td>\n",
       "      <td>0.2582</td>\n",
       "      <td>1.1300</td>\n",
       "      <td>1</td>\n",
       "      <td>Bolaget Ã¤r aktivt</td>\n",
       "      <td>2016-12-31</td>\n",
       "      <td>0</td>\n",
       "    </tr>\n",
       "    <tr>\n",
       "      <th>4</th>\n",
       "      <td>A D Gustafssons RÃ¶r AB</td>\n",
       "      <td>5567054589</td>\n",
       "      <td>2015</td>\n",
       "      <td>8568.0</td>\n",
       "      <td>86.0</td>\n",
       "      <td>85.0</td>\n",
       "      <td>64.0</td>\n",
       "      <td>0.0</td>\n",
       "      <td>125.0</td>\n",
       "      <td>1048.0</td>\n",
       "      <td>...</td>\n",
       "      <td>0.0733</td>\n",
       "      <td>0.0100</td>\n",
       "      <td>0.5152</td>\n",
       "      <td>0.0354</td>\n",
       "      <td>0.2819</td>\n",
       "      <td>1.1275</td>\n",
       "      <td>1</td>\n",
       "      <td>Bolaget Ã¤r aktivt</td>\n",
       "      <td>2015-12-31</td>\n",
       "      <td>0</td>\n",
       "    </tr>\n",
       "  </tbody>\n",
       "</table>\n",
       "<p>5 rows × 31 columns</p>\n",
       "</div>"
      ],
      "text/plain": [
       "                   company          id  year  net_sales  op_profit_ebit  \\\n",
       "0  A D Gustafssons RÃ¶r AB  5567054589  2019    20902.0          1275.0   \n",
       "1  A D Gustafssons RÃ¶r AB  5567054589  2018    17181.0          1439.0   \n",
       "2  A D Gustafssons RÃ¶r AB  5567054589  2017     7804.0            68.0   \n",
       "3  A D Gustafssons RÃ¶r AB  5567054589  2016    10389.0           504.0   \n",
       "4  A D Gustafssons RÃ¶r AB  5567054589  2015     8568.0            86.0   \n",
       "\n",
       "   prof_after_net_fin_items  results  sub_unpaid_cap  fixed_assets  \\\n",
       "0                    1274.0    978.0             0.0         142.0   \n",
       "1                    1438.0    833.0             0.0         130.0   \n",
       "2                      68.0     35.0             0.0          71.0   \n",
       "3                     503.0    388.0             0.0         120.0   \n",
       "4                      85.0     64.0             0.0         125.0   \n",
       "\n",
       "   current_assets  ...  du_pont_model  prof_margin  gross_prof  working_cap  \\\n",
       "0          3886.0  ...         0.3168       0.0610      0.4291       0.0759   \n",
       "1          3390.0  ...         0.4091       0.0838      0.5077       0.0725   \n",
       "2          1049.0  ...         0.0607       0.0087      0.6376       0.0446   \n",
       "3          1945.0  ...         0.2447       0.0486      0.5203       0.0577   \n",
       "4          1048.0  ...         0.0733       0.0100      0.5152       0.0354   \n",
       "\n",
       "   solidity  quick_ratio  status        actual_status       date  default  \n",
       "0    0.4101       1.6773       1   Bolaget Ã¤r aktivt 2019-12-31        0  \n",
       "1    0.3616       1.5664       1   Bolaget Ã¤r aktivt 2018-12-31        0  \n",
       "2    0.1499       1.4536       1   Bolaget Ã¤r aktivt 2017-12-31        0  \n",
       "3    0.2582       1.1300       1   Bolaget Ã¤r aktivt 2016-12-31        0  \n",
       "4    0.2819       1.1275       1   Bolaget Ã¤r aktivt 2015-12-31        0  \n",
       "\n",
       "[5 rows x 31 columns]"
      ]
     },
     "execution_count": 2,
     "metadata": {},
     "output_type": "execute_result"
    }
   ],
   "source": [
    "# Read data in\n",
    "dataset = pd.read_excel('Sweden Scraped Data.xlsx', sheet_name='final')\n",
    "dataset.head()"
   ]
  },
  {
   "cell_type": "markdown",
   "metadata": {},
   "source": [
    "### Filter Dataset"
   ]
  },
  {
   "cell_type": "code",
   "execution_count": 3,
   "metadata": {},
   "outputs": [],
   "source": [
    "# Filter dataset for:\n",
    "# -> Relevant entries for default vs non-default\n",
    "# -> error entries\n",
    "\n",
    "dataset['rank'] = dataset.groupby(by='id')['year'].rank(method='first', ascending=False)\n",
    "dataset = dataset[((dataset['default']==1) | ((dataset['rank']!=1) & (dataset['default']==0)))\n",
    "                    & ((dataset['assets'] > 0) & (dataset['current_assets'] >= 0) & (dataset['curr_liabilities'] >= 0))]"
   ]
  },
  {
   "cell_type": "markdown",
   "metadata": {},
   "source": [
    "### Create New Features"
   ]
  },
  {
   "cell_type": "code",
   "execution_count": 4,
   "metadata": {},
   "outputs": [],
   "source": [
    "# Financials features\n",
    "dataset['equity_ratio'] = np.where(dataset['assets']<=0, np.nan, dataset['equity'] / dataset['assets'])\n",
    "dataset['current_ratio'] = np.where(dataset['curr_liabilities']==0, 1, (dataset['current_assets'] / dataset['curr_liabilities']))\n",
    "dataset['wc_assets'] = np.where(dataset['assets']<=0, np.nan,(dataset['current_assets'] - dataset['curr_liabilities']) / dataset['assets'])\n",
    "dataset['net_profit_margin'] = np.where(dataset['net_sales']<=0, 0, dataset['results'] / dataset['net_sales'])\n",
    "dataset['roa'] = np.where(dataset['assets']<=0, np.nan, dataset['results'] / dataset['assets'])\n",
    "dataset['roe'] = np.where(dataset['equity']==0, 0, dataset['results'] / dataset['equity'])\n",
    "dataset['asset_turnover'] = np.where(dataset['assets']<=0, np.nan, dataset['net_sales'] / dataset['assets'])\n",
    "\n",
    "# Growth features\n",
    "dataset['net_sales_growth'] = np.where(dataset.groupby('id')['net_sales'].shift(-1)==0, 1, \n",
    "                                  dataset['net_sales'] / dataset.groupby('id')['net_sales'].shift(-1) - 1)\n",
    "dataset['profit_growth'] = np.where(dataset.groupby('id')['results'].shift(-1)==0, 1, \n",
    "                                  dataset['results'] / dataset.groupby('id')['results'].shift(-1) - 1)\n",
    "dataset['assets_growth'] = np.where(dataset.groupby('id')['assets'].shift(-1)==0, 1, \n",
    "                                  dataset['assets'] / dataset.groupby('id')['assets'].shift(-1) - 1)\n",
    "dataset['equity_growth'] = np.where(dataset.groupby('id')['equity'].shift(-1)==0, 1, \n",
    "                                  dataset['equity'] / dataset.groupby('id')['equity'].shift(-1) - 1)"
   ]
  },
  {
   "cell_type": "code",
   "execution_count": 5,
   "metadata": {
    "scrolled": true
   },
   "outputs": [
    {
     "data": {
      "text/html": [
       "<div>\n",
       "<style scoped>\n",
       "    .dataframe tbody tr th:only-of-type {\n",
       "        vertical-align: middle;\n",
       "    }\n",
       "\n",
       "    .dataframe tbody tr th {\n",
       "        vertical-align: top;\n",
       "    }\n",
       "\n",
       "    .dataframe thead th {\n",
       "        text-align: right;\n",
       "    }\n",
       "</style>\n",
       "<table border=\"1\" class=\"dataframe\">\n",
       "  <thead>\n",
       "    <tr style=\"text-align: right;\">\n",
       "      <th></th>\n",
       "      <th>id</th>\n",
       "      <th>year</th>\n",
       "      <th>net_sales</th>\n",
       "      <th>op_profit_ebit</th>\n",
       "      <th>prof_after_net_fin_items</th>\n",
       "      <th>results</th>\n",
       "      <th>sub_unpaid_cap</th>\n",
       "      <th>fixed_assets</th>\n",
       "      <th>current_assets</th>\n",
       "      <th>assets</th>\n",
       "      <th>...</th>\n",
       "      <th>current_ratio</th>\n",
       "      <th>wc_assets</th>\n",
       "      <th>net_profit_margin</th>\n",
       "      <th>roa</th>\n",
       "      <th>roe</th>\n",
       "      <th>asset_turnover</th>\n",
       "      <th>net_sales_growth</th>\n",
       "      <th>profit_growth</th>\n",
       "      <th>assets_growth</th>\n",
       "      <th>equity_growth</th>\n",
       "    </tr>\n",
       "  </thead>\n",
       "  <tbody>\n",
       "    <tr>\n",
       "      <th>count</th>\n",
       "      <td>1.025520e+05</td>\n",
       "      <td>102552.000000</td>\n",
       "      <td>1.025520e+05</td>\n",
       "      <td>102552.000000</td>\n",
       "      <td>102361.000000</td>\n",
       "      <td>102552.000000</td>\n",
       "      <td>102388.000000</td>\n",
       "      <td>102388.000000</td>\n",
       "      <td>1.025520e+05</td>\n",
       "      <td>1.025520e+05</td>\n",
       "      <td>...</td>\n",
       "      <td>102552.000000</td>\n",
       "      <td>102552.000000</td>\n",
       "      <td>102552.000000</td>\n",
       "      <td>102552.000000</td>\n",
       "      <td>102552.000000</td>\n",
       "      <td>102552.000000</td>\n",
       "      <td>88843.000000</td>\n",
       "      <td>88843.000000</td>\n",
       "      <td>88843.000000</td>\n",
       "      <td>88843.000000</td>\n",
       "    </tr>\n",
       "    <tr>\n",
       "      <th>mean</th>\n",
       "      <td>5.566887e+09</td>\n",
       "      <td>2014.165887</td>\n",
       "      <td>1.299878e+04</td>\n",
       "      <td>782.479162</td>\n",
       "      <td>844.758844</td>\n",
       "      <td>595.345923</td>\n",
       "      <td>0.028216</td>\n",
       "      <td>2701.103694</td>\n",
       "      <td>5.058400e+03</td>\n",
       "      <td>7.761590e+03</td>\n",
       "      <td>...</td>\n",
       "      <td>2.447356</td>\n",
       "      <td>0.238384</td>\n",
       "      <td>0.053064</td>\n",
       "      <td>0.063119</td>\n",
       "      <td>0.188203</td>\n",
       "      <td>2.762611</td>\n",
       "      <td>0.940952</td>\n",
       "      <td>0.062824</td>\n",
       "      <td>0.766223</td>\n",
       "      <td>0.484649</td>\n",
       "    </tr>\n",
       "    <tr>\n",
       "      <th>std</th>\n",
       "      <td>4.890511e+06</td>\n",
       "      <td>2.570404</td>\n",
       "      <td>3.301755e+04</td>\n",
       "      <td>3720.909378</td>\n",
       "      <td>5611.428247</td>\n",
       "      <td>5502.071244</td>\n",
       "      <td>4.188376</td>\n",
       "      <td>14682.623040</td>\n",
       "      <td>2.889684e+04</td>\n",
       "      <td>3.715236e+04</td>\n",
       "      <td>...</td>\n",
       "      <td>55.246880</td>\n",
       "      <td>5.036166</td>\n",
       "      <td>2.902384</td>\n",
       "      <td>3.095684</td>\n",
       "      <td>6.719012</td>\n",
       "      <td>8.036275</td>\n",
       "      <td>27.216609</td>\n",
       "      <td>737.761337</td>\n",
       "      <td>17.597275</td>\n",
       "      <td>22.467899</td>\n",
       "    </tr>\n",
       "    <tr>\n",
       "      <th>min</th>\n",
       "      <td>5.560101e+09</td>\n",
       "      <td>2003.000000</td>\n",
       "      <td>-4.090000e+02</td>\n",
       "      <td>-206152.000000</td>\n",
       "      <td>-295391.000000</td>\n",
       "      <td>-263895.000000</td>\n",
       "      <td>-13.000000</td>\n",
       "      <td>-2.000000</td>\n",
       "      <td>0.000000e+00</td>\n",
       "      <td>1.000000e+00</td>\n",
       "      <td>...</td>\n",
       "      <td>0.000000</td>\n",
       "      <td>-1256.000000</td>\n",
       "      <td>-281.000000</td>\n",
       "      <td>-837.000000</td>\n",
       "      <td>-863.778761</td>\n",
       "      <td>-5.833333</td>\n",
       "      <td>-42.772616</td>\n",
       "      <td>-214903.000000</td>\n",
       "      <td>-0.999618</td>\n",
       "      <td>-612.500000</td>\n",
       "    </tr>\n",
       "    <tr>\n",
       "      <th>25%</th>\n",
       "      <td>5.564477e+09</td>\n",
       "      <td>2012.000000</td>\n",
       "      <td>5.300000e+03</td>\n",
       "      <td>87.000000</td>\n",
       "      <td>62.000000</td>\n",
       "      <td>41.000000</td>\n",
       "      <td>0.000000</td>\n",
       "      <td>81.000000</td>\n",
       "      <td>1.430000e+03</td>\n",
       "      <td>1.952750e+03</td>\n",
       "      <td>...</td>\n",
       "      <td>1.191886</td>\n",
       "      <td>0.109168</td>\n",
       "      <td>0.005568</td>\n",
       "      <td>0.013236</td>\n",
       "      <td>0.072437</td>\n",
       "      <td>1.530280</td>\n",
       "      <td>-0.065414</td>\n",
       "      <td>-0.806543</td>\n",
       "      <td>-0.066013</td>\n",
       "      <td>-0.057238</td>\n",
       "    </tr>\n",
       "    <tr>\n",
       "      <th>50%</th>\n",
       "      <td>5.566709e+09</td>\n",
       "      <td>2014.000000</td>\n",
       "      <td>8.612000e+03</td>\n",
       "      <td>422.000000</td>\n",
       "      <td>395.000000</td>\n",
       "      <td>242.000000</td>\n",
       "      <td>0.000000</td>\n",
       "      <td>404.000000</td>\n",
       "      <td>2.703000e+03</td>\n",
       "      <td>3.884000e+03</td>\n",
       "      <td>...</td>\n",
       "      <td>1.588540</td>\n",
       "      <td>0.287643</td>\n",
       "      <td>0.029682</td>\n",
       "      <td>0.070059</td>\n",
       "      <td>0.261499</td>\n",
       "      <td>2.466290</td>\n",
       "      <td>0.094982</td>\n",
       "      <td>-0.087675</td>\n",
       "      <td>0.087516</td>\n",
       "      <td>0.106667</td>\n",
       "    </tr>\n",
       "    <tr>\n",
       "      <th>75%</th>\n",
       "      <td>5.568056e+09</td>\n",
       "      <td>2016.000000</td>\n",
       "      <td>1.526725e+04</td>\n",
       "      <td>1050.250000</td>\n",
       "      <td>1039.000000</td>\n",
       "      <td>645.000000</td>\n",
       "      <td>0.000000</td>\n",
       "      <td>1958.000000</td>\n",
       "      <td>5.118000e+03</td>\n",
       "      <td>7.588250e+03</td>\n",
       "      <td>...</td>\n",
       "      <td>2.235299</td>\n",
       "      <td>0.463944</td>\n",
       "      <td>0.065708</td>\n",
       "      <td>0.147287</td>\n",
       "      <td>0.519231</td>\n",
       "      <td>3.515213</td>\n",
       "      <td>0.329475</td>\n",
       "      <td>0.971529</td>\n",
       "      <td>0.327796</td>\n",
       "      <td>0.412854</td>\n",
       "    </tr>\n",
       "    <tr>\n",
       "      <th>max</th>\n",
       "      <td>5.591279e+09</td>\n",
       "      <td>2019.000000</td>\n",
       "      <td>4.873586e+06</td>\n",
       "      <td>474258.000000</td>\n",
       "      <td>594790.000000</td>\n",
       "      <td>478007.000000</td>\n",
       "      <td>930.000000</td>\n",
       "      <td>984533.000000</td>\n",
       "      <td>4.386411e+06</td>\n",
       "      <td>4.925121e+06</td>\n",
       "      <td>...</td>\n",
       "      <td>16965.000000</td>\n",
       "      <td>2.324210</td>\n",
       "      <td>609.776119</td>\n",
       "      <td>334.000000</td>\n",
       "      <td>1539.000000</td>\n",
       "      <td>2186.000000</td>\n",
       "      <td>3765.545455</td>\n",
       "      <td>29584.000000</td>\n",
       "      <td>2675.457447</td>\n",
       "      <td>5653.193548</td>\n",
       "    </tr>\n",
       "  </tbody>\n",
       "</table>\n",
       "<p>8 rows × 40 columns</p>\n",
       "</div>"
      ],
      "text/plain": [
       "                 id           year     net_sales  op_profit_ebit  \\\n",
       "count  1.025520e+05  102552.000000  1.025520e+05   102552.000000   \n",
       "mean   5.566887e+09    2014.165887  1.299878e+04      782.479162   \n",
       "std    4.890511e+06       2.570404  3.301755e+04     3720.909378   \n",
       "min    5.560101e+09    2003.000000 -4.090000e+02  -206152.000000   \n",
       "25%    5.564477e+09    2012.000000  5.300000e+03       87.000000   \n",
       "50%    5.566709e+09    2014.000000  8.612000e+03      422.000000   \n",
       "75%    5.568056e+09    2016.000000  1.526725e+04     1050.250000   \n",
       "max    5.591279e+09    2019.000000  4.873586e+06   474258.000000   \n",
       "\n",
       "       prof_after_net_fin_items        results  sub_unpaid_cap   fixed_assets  \\\n",
       "count             102361.000000  102552.000000   102388.000000  102388.000000   \n",
       "mean                 844.758844     595.345923        0.028216    2701.103694   \n",
       "std                 5611.428247    5502.071244        4.188376   14682.623040   \n",
       "min              -295391.000000 -263895.000000      -13.000000      -2.000000   \n",
       "25%                   62.000000      41.000000        0.000000      81.000000   \n",
       "50%                  395.000000     242.000000        0.000000     404.000000   \n",
       "75%                 1039.000000     645.000000        0.000000    1958.000000   \n",
       "max               594790.000000  478007.000000      930.000000  984533.000000   \n",
       "\n",
       "       current_assets        assets  ...  current_ratio      wc_assets  \\\n",
       "count    1.025520e+05  1.025520e+05  ...  102552.000000  102552.000000   \n",
       "mean     5.058400e+03  7.761590e+03  ...       2.447356       0.238384   \n",
       "std      2.889684e+04  3.715236e+04  ...      55.246880       5.036166   \n",
       "min      0.000000e+00  1.000000e+00  ...       0.000000   -1256.000000   \n",
       "25%      1.430000e+03  1.952750e+03  ...       1.191886       0.109168   \n",
       "50%      2.703000e+03  3.884000e+03  ...       1.588540       0.287643   \n",
       "75%      5.118000e+03  7.588250e+03  ...       2.235299       0.463944   \n",
       "max      4.386411e+06  4.925121e+06  ...   16965.000000       2.324210   \n",
       "\n",
       "       net_profit_margin            roa            roe  asset_turnover  \\\n",
       "count      102552.000000  102552.000000  102552.000000   102552.000000   \n",
       "mean            0.053064       0.063119       0.188203        2.762611   \n",
       "std             2.902384       3.095684       6.719012        8.036275   \n",
       "min          -281.000000    -837.000000    -863.778761       -5.833333   \n",
       "25%             0.005568       0.013236       0.072437        1.530280   \n",
       "50%             0.029682       0.070059       0.261499        2.466290   \n",
       "75%             0.065708       0.147287       0.519231        3.515213   \n",
       "max           609.776119     334.000000    1539.000000     2186.000000   \n",
       "\n",
       "       net_sales_growth  profit_growth  assets_growth  equity_growth  \n",
       "count      88843.000000   88843.000000   88843.000000   88843.000000  \n",
       "mean           0.940952       0.062824       0.766223       0.484649  \n",
       "std           27.216609     737.761337      17.597275      22.467899  \n",
       "min          -42.772616 -214903.000000      -0.999618    -612.500000  \n",
       "25%           -0.065414      -0.806543      -0.066013      -0.057238  \n",
       "50%            0.094982      -0.087675       0.087516       0.106667  \n",
       "75%            0.329475       0.971529       0.327796       0.412854  \n",
       "max         3765.545455   29584.000000    2675.457447    5653.193548  \n",
       "\n",
       "[8 rows x 40 columns]"
      ]
     },
     "execution_count": 5,
     "metadata": {},
     "output_type": "execute_result"
    }
   ],
   "source": [
    "dataset.describe()"
   ]
  },
  {
   "cell_type": "code",
   "execution_count": 6,
   "metadata": {},
   "outputs": [
    {
     "name": "stdout",
     "output_type": "stream",
     "text": [
      "<class 'pandas.core.frame.DataFrame'>\n",
      "Int64Index: 102552 entries, 1 to 115572\n",
      "Data columns (total 43 columns):\n",
      " #   Column                    Non-Null Count   Dtype         \n",
      "---  ------                    --------------   -----         \n",
      " 0   company                   102552 non-null  object        \n",
      " 1   id                        102552 non-null  int64         \n",
      " 2   year                      102552 non-null  int64         \n",
      " 3   net_sales                 102552 non-null  float64       \n",
      " 4   op_profit_ebit            102552 non-null  float64       \n",
      " 5   prof_after_net_fin_items  102361 non-null  float64       \n",
      " 6   results                   102552 non-null  float64       \n",
      " 7   sub_unpaid_cap            102388 non-null  float64       \n",
      " 8   fixed_assets              102388 non-null  float64       \n",
      " 9   current_assets            102552 non-null  float64       \n",
      " 10  assets                    102552 non-null  float64       \n",
      " 11  equity                    102552 non-null  float64       \n",
      " 12  untaxed_reserves          102389 non-null  float64       \n",
      " 13  provisions                102389 non-null  float64       \n",
      " 14  lt_liabilities            102552 non-null  float64       \n",
      " 15  curr_liabilities          102552 non-null  float64       \n",
      " 16  lia_and_equity            102362 non-null  float64       \n",
      " 17  dividends                 102456 non-null  float64       \n",
      " 18  revenue                   102387 non-null  float64       \n",
      " 19  num_employes              100474 non-null  float64       \n",
      " 20  op_prof_ebitda            102424 non-null  float64       \n",
      " 21  du_pont_model             102552 non-null  float64       \n",
      " 22  prof_margin               102552 non-null  float64       \n",
      " 23  gross_prof                102552 non-null  float64       \n",
      " 24  working_cap               102552 non-null  float64       \n",
      " 25  solidity                  102552 non-null  float64       \n",
      " 26  quick_ratio               102552 non-null  float64       \n",
      " 27  status                    102552 non-null  int64         \n",
      " 28  actual_status             102552 non-null  object        \n",
      " 29  date                      102552 non-null  datetime64[ns]\n",
      " 30  default                   102552 non-null  int64         \n",
      " 31  rank                      102552 non-null  float64       \n",
      " 32  equity_ratio              102552 non-null  float64       \n",
      " 33  current_ratio             102552 non-null  float64       \n",
      " 34  wc_assets                 102552 non-null  float64       \n",
      " 35  net_profit_margin         102552 non-null  float64       \n",
      " 36  roa                       102552 non-null  float64       \n",
      " 37  roe                       102552 non-null  float64       \n",
      " 38  asset_turnover            102552 non-null  float64       \n",
      " 39  net_sales_growth          88843 non-null   float64       \n",
      " 40  profit_growth             88843 non-null   float64       \n",
      " 41  assets_growth             88843 non-null   float64       \n",
      " 42  equity_growth             88843 non-null   float64       \n",
      "dtypes: datetime64[ns](1), float64(36), int64(4), object(2)\n",
      "memory usage: 34.4+ MB\n"
     ]
    }
   ],
   "source": [
    "dataset.info()"
   ]
  },
  {
   "cell_type": "code",
   "execution_count": 7,
   "metadata": {},
   "outputs": [
    {
     "data": {
      "text/plain": [
       "Index(['company', 'id', 'year', 'net_sales', 'op_profit_ebit',\n",
       "       'prof_after_net_fin_items', 'results', 'sub_unpaid_cap', 'fixed_assets',\n",
       "       'current_assets', 'assets', 'equity', 'untaxed_reserves', 'provisions',\n",
       "       'lt_liabilities', 'curr_liabilities', 'lia_and_equity', 'dividends',\n",
       "       'revenue', 'num_employes', 'op_prof_ebitda', 'du_pont_model',\n",
       "       'prof_margin', 'gross_prof', 'working_cap', 'solidity', 'quick_ratio',\n",
       "       'status', 'actual_status', 'date', 'default', 'rank', 'equity_ratio',\n",
       "       'current_ratio', 'wc_assets', 'net_profit_margin', 'roa', 'roe',\n",
       "       'asset_turnover', 'net_sales_growth', 'profit_growth', 'assets_growth',\n",
       "       'equity_growth'],\n",
       "      dtype='object')"
      ]
     },
     "execution_count": 7,
     "metadata": {},
     "output_type": "execute_result"
    }
   ],
   "source": [
    "dataset.columns"
   ]
  },
  {
   "cell_type": "code",
   "execution_count": 8,
   "metadata": {},
   "outputs": [
    {
     "data": {
      "text/html": [
       "<div>\n",
       "<style scoped>\n",
       "    .dataframe tbody tr th:only-of-type {\n",
       "        vertical-align: middle;\n",
       "    }\n",
       "\n",
       "    .dataframe tbody tr th {\n",
       "        vertical-align: top;\n",
       "    }\n",
       "\n",
       "    .dataframe thead th {\n",
       "        text-align: right;\n",
       "    }\n",
       "</style>\n",
       "<table border=\"1\" class=\"dataframe\">\n",
       "  <thead>\n",
       "    <tr style=\"text-align: right;\">\n",
       "      <th></th>\n",
       "      <th>company</th>\n",
       "      <th>id</th>\n",
       "      <th>year</th>\n",
       "      <th>net_sales</th>\n",
       "      <th>op_profit_ebit</th>\n",
       "      <th>prof_after_net_fin_items</th>\n",
       "      <th>results</th>\n",
       "      <th>sub_unpaid_cap</th>\n",
       "      <th>fixed_assets</th>\n",
       "      <th>current_assets</th>\n",
       "      <th>...</th>\n",
       "      <th>current_ratio</th>\n",
       "      <th>wc_assets</th>\n",
       "      <th>net_profit_margin</th>\n",
       "      <th>roa</th>\n",
       "      <th>roe</th>\n",
       "      <th>asset_turnover</th>\n",
       "      <th>net_sales_growth</th>\n",
       "      <th>profit_growth</th>\n",
       "      <th>assets_growth</th>\n",
       "      <th>equity_growth</th>\n",
       "    </tr>\n",
       "    <tr>\n",
       "      <th>default</th>\n",
       "      <th></th>\n",
       "      <th></th>\n",
       "      <th></th>\n",
       "      <th></th>\n",
       "      <th></th>\n",
       "      <th></th>\n",
       "      <th></th>\n",
       "      <th></th>\n",
       "      <th></th>\n",
       "      <th></th>\n",
       "      <th></th>\n",
       "      <th></th>\n",
       "      <th></th>\n",
       "      <th></th>\n",
       "      <th></th>\n",
       "      <th></th>\n",
       "      <th></th>\n",
       "      <th></th>\n",
       "      <th></th>\n",
       "      <th></th>\n",
       "      <th></th>\n",
       "    </tr>\n",
       "  </thead>\n",
       "  <tbody>\n",
       "    <tr>\n",
       "      <th>0</th>\n",
       "      <td>101797</td>\n",
       "      <td>101797</td>\n",
       "      <td>101797</td>\n",
       "      <td>101797</td>\n",
       "      <td>101797</td>\n",
       "      <td>101610</td>\n",
       "      <td>101797</td>\n",
       "      <td>101634</td>\n",
       "      <td>101634</td>\n",
       "      <td>101797</td>\n",
       "      <td>...</td>\n",
       "      <td>101797</td>\n",
       "      <td>101797</td>\n",
       "      <td>101797</td>\n",
       "      <td>101797</td>\n",
       "      <td>101797</td>\n",
       "      <td>101797</td>\n",
       "      <td>88131</td>\n",
       "      <td>88131</td>\n",
       "      <td>88131</td>\n",
       "      <td>88131</td>\n",
       "    </tr>\n",
       "    <tr>\n",
       "      <th>1</th>\n",
       "      <td>755</td>\n",
       "      <td>755</td>\n",
       "      <td>755</td>\n",
       "      <td>755</td>\n",
       "      <td>755</td>\n",
       "      <td>751</td>\n",
       "      <td>755</td>\n",
       "      <td>754</td>\n",
       "      <td>754</td>\n",
       "      <td>755</td>\n",
       "      <td>...</td>\n",
       "      <td>755</td>\n",
       "      <td>755</td>\n",
       "      <td>755</td>\n",
       "      <td>755</td>\n",
       "      <td>755</td>\n",
       "      <td>755</td>\n",
       "      <td>712</td>\n",
       "      <td>712</td>\n",
       "      <td>712</td>\n",
       "      <td>712</td>\n",
       "    </tr>\n",
       "  </tbody>\n",
       "</table>\n",
       "<p>2 rows × 42 columns</p>\n",
       "</div>"
      ],
      "text/plain": [
       "         company      id    year  net_sales  op_profit_ebit  \\\n",
       "default                                                       \n",
       "0         101797  101797  101797     101797          101797   \n",
       "1            755     755     755        755             755   \n",
       "\n",
       "         prof_after_net_fin_items  results  sub_unpaid_cap  fixed_assets  \\\n",
       "default                                                                    \n",
       "0                          101610   101797          101634        101634   \n",
       "1                             751      755             754           754   \n",
       "\n",
       "         current_assets  ...  current_ratio  wc_assets  net_profit_margin  \\\n",
       "default                  ...                                                \n",
       "0                101797  ...         101797     101797             101797   \n",
       "1                   755  ...            755        755                755   \n",
       "\n",
       "            roa     roe  asset_turnover  net_sales_growth  profit_growth  \\\n",
       "default                                                                    \n",
       "0        101797  101797          101797             88131          88131   \n",
       "1           755     755             755               712            712   \n",
       "\n",
       "         assets_growth  equity_growth  \n",
       "default                                \n",
       "0                88131          88131  \n",
       "1                  712            712  \n",
       "\n",
       "[2 rows x 42 columns]"
      ]
     },
     "execution_count": 8,
     "metadata": {},
     "output_type": "execute_result"
    }
   ],
   "source": [
    "dataset.groupby(by='default').count()"
   ]
  },
  {
   "cell_type": "markdown",
   "metadata": {},
   "source": [
    "### Feature / Labels Split"
   ]
  },
  {
   "cell_type": "code",
   "execution_count": 72,
   "metadata": {},
   "outputs": [],
   "source": [
    "data = dataset[['net_profit_margin', 'quick_ratio', 'asset_turnover', 'gross_prof', 'current_ratio',\n",
    "       'equity_ratio', 'roa', 'roe', 'results',\n",
    "       'equity', 'assets', 'net_sales', \n",
    "       'net_sales_growth', 'profit_growth', 'assets_growth', 'equity_growth',\n",
    "       'default']].dropna()\n",
    "\n",
    "X = data.drop('default', axis=1)\n",
    "\n",
    "\n",
    "y = data['default']"
   ]
  },
  {
   "cell_type": "code",
   "execution_count": 73,
   "metadata": {},
   "outputs": [
    {
     "data": {
      "text/html": [
       "<div>\n",
       "<style scoped>\n",
       "    .dataframe tbody tr th:only-of-type {\n",
       "        vertical-align: middle;\n",
       "    }\n",
       "\n",
       "    .dataframe tbody tr th {\n",
       "        vertical-align: top;\n",
       "    }\n",
       "\n",
       "    .dataframe thead th {\n",
       "        text-align: right;\n",
       "    }\n",
       "</style>\n",
       "<table border=\"1\" class=\"dataframe\">\n",
       "  <thead>\n",
       "    <tr style=\"text-align: right;\">\n",
       "      <th></th>\n",
       "      <th>net_profit_margin</th>\n",
       "      <th>quick_ratio</th>\n",
       "      <th>asset_turnover</th>\n",
       "      <th>gross_prof</th>\n",
       "      <th>current_ratio</th>\n",
       "      <th>equity_ratio</th>\n",
       "      <th>roa</th>\n",
       "      <th>roe</th>\n",
       "      <th>results</th>\n",
       "      <th>equity</th>\n",
       "      <th>assets</th>\n",
       "      <th>net_sales</th>\n",
       "      <th>net_sales_growth</th>\n",
       "      <th>profit_growth</th>\n",
       "      <th>assets_growth</th>\n",
       "      <th>equity_growth</th>\n",
       "    </tr>\n",
       "    <tr>\n",
       "      <th>default</th>\n",
       "      <th></th>\n",
       "      <th></th>\n",
       "      <th></th>\n",
       "      <th></th>\n",
       "      <th></th>\n",
       "      <th></th>\n",
       "      <th></th>\n",
       "      <th></th>\n",
       "      <th></th>\n",
       "      <th></th>\n",
       "      <th></th>\n",
       "      <th></th>\n",
       "      <th></th>\n",
       "      <th></th>\n",
       "      <th></th>\n",
       "      <th></th>\n",
       "    </tr>\n",
       "  </thead>\n",
       "  <tbody>\n",
       "    <tr>\n",
       "      <th>0</th>\n",
       "      <td>88131</td>\n",
       "      <td>88131</td>\n",
       "      <td>88131</td>\n",
       "      <td>88131</td>\n",
       "      <td>88131</td>\n",
       "      <td>88131</td>\n",
       "      <td>88131</td>\n",
       "      <td>88131</td>\n",
       "      <td>88131</td>\n",
       "      <td>88131</td>\n",
       "      <td>88131</td>\n",
       "      <td>88131</td>\n",
       "      <td>88131</td>\n",
       "      <td>88131</td>\n",
       "      <td>88131</td>\n",
       "      <td>88131</td>\n",
       "    </tr>\n",
       "    <tr>\n",
       "      <th>1</th>\n",
       "      <td>712</td>\n",
       "      <td>712</td>\n",
       "      <td>712</td>\n",
       "      <td>712</td>\n",
       "      <td>712</td>\n",
       "      <td>712</td>\n",
       "      <td>712</td>\n",
       "      <td>712</td>\n",
       "      <td>712</td>\n",
       "      <td>712</td>\n",
       "      <td>712</td>\n",
       "      <td>712</td>\n",
       "      <td>712</td>\n",
       "      <td>712</td>\n",
       "      <td>712</td>\n",
       "      <td>712</td>\n",
       "    </tr>\n",
       "  </tbody>\n",
       "</table>\n",
       "</div>"
      ],
      "text/plain": [
       "         net_profit_margin  quick_ratio  asset_turnover  gross_prof  \\\n",
       "default                                                               \n",
       "0                    88131        88131           88131       88131   \n",
       "1                      712          712             712         712   \n",
       "\n",
       "         current_ratio  equity_ratio    roa    roe  results  equity  assets  \\\n",
       "default                                                                       \n",
       "0                88131         88131  88131  88131    88131   88131   88131   \n",
       "1                  712           712    712    712      712     712     712   \n",
       "\n",
       "         net_sales  net_sales_growth  profit_growth  assets_growth  \\\n",
       "default                                                              \n",
       "0            88131             88131          88131          88131   \n",
       "1              712               712            712            712   \n",
       "\n",
       "         equity_growth  \n",
       "default                 \n",
       "0                88131  \n",
       "1                  712  "
      ]
     },
     "execution_count": 73,
     "metadata": {},
     "output_type": "execute_result"
    }
   ],
   "source": [
    "data.groupby(by='default').count()"
   ]
  },
  {
   "cell_type": "markdown",
   "metadata": {},
   "source": [
    "## Feature Importance"
   ]
  },
  {
   "cell_type": "markdown",
   "metadata": {},
   "source": [
    "### Averages"
   ]
  },
  {
   "cell_type": "code",
   "execution_count": 74,
   "metadata": {},
   "outputs": [
    {
     "data": {
      "text/html": [
       "<div>\n",
       "<style scoped>\n",
       "    .dataframe tbody tr th:only-of-type {\n",
       "        vertical-align: middle;\n",
       "    }\n",
       "\n",
       "    .dataframe tbody tr th {\n",
       "        vertical-align: top;\n",
       "    }\n",
       "\n",
       "    .dataframe thead th {\n",
       "        text-align: right;\n",
       "    }\n",
       "</style>\n",
       "<table border=\"1\" class=\"dataframe\">\n",
       "  <thead>\n",
       "    <tr style=\"text-align: right;\">\n",
       "      <th>default</th>\n",
       "      <th>0</th>\n",
       "      <th>1</th>\n",
       "    </tr>\n",
       "  </thead>\n",
       "  <tbody>\n",
       "    <tr>\n",
       "      <th>net_profit_margin</th>\n",
       "      <td>0.059085</td>\n",
       "      <td>-0.183226</td>\n",
       "    </tr>\n",
       "    <tr>\n",
       "      <th>quick_ratio</th>\n",
       "      <td>2.225262</td>\n",
       "      <td>1.755264</td>\n",
       "    </tr>\n",
       "    <tr>\n",
       "      <th>asset_turnover</th>\n",
       "      <td>2.740430</td>\n",
       "      <td>4.566163</td>\n",
       "    </tr>\n",
       "    <tr>\n",
       "      <th>gross_prof</th>\n",
       "      <td>0.591605</td>\n",
       "      <td>0.529447</td>\n",
       "    </tr>\n",
       "    <tr>\n",
       "      <th>current_ratio</th>\n",
       "      <td>2.500909</td>\n",
       "      <td>1.850262</td>\n",
       "    </tr>\n",
       "    <tr>\n",
       "      <th>equity_ratio</th>\n",
       "      <td>0.244764</td>\n",
       "      <td>-0.137695</td>\n",
       "    </tr>\n",
       "    <tr>\n",
       "      <th>roa</th>\n",
       "      <td>0.077339</td>\n",
       "      <td>-0.264271</td>\n",
       "    </tr>\n",
       "    <tr>\n",
       "      <th>roe</th>\n",
       "      <td>0.181399</td>\n",
       "      <td>-0.508462</td>\n",
       "    </tr>\n",
       "    <tr>\n",
       "      <th>results</th>\n",
       "      <td>642.146873</td>\n",
       "      <td>-401.815876</td>\n",
       "    </tr>\n",
       "    <tr>\n",
       "      <th>equity</th>\n",
       "      <td>2588.833943</td>\n",
       "      <td>426.573248</td>\n",
       "    </tr>\n",
       "    <tr>\n",
       "      <th>assets</th>\n",
       "      <td>8221.401168</td>\n",
       "      <td>5318.027662</td>\n",
       "    </tr>\n",
       "    <tr>\n",
       "      <th>net_sales</th>\n",
       "      <td>13690.093776</td>\n",
       "      <td>16273.201750</td>\n",
       "    </tr>\n",
       "    <tr>\n",
       "      <th>net_sales_growth</th>\n",
       "      <td>0.936509</td>\n",
       "      <td>1.490874</td>\n",
       "    </tr>\n",
       "    <tr>\n",
       "      <th>profit_growth</th>\n",
       "      <td>0.149905</td>\n",
       "      <td>-10.715963</td>\n",
       "    </tr>\n",
       "    <tr>\n",
       "      <th>assets_growth</th>\n",
       "      <td>0.758231</td>\n",
       "      <td>1.755407</td>\n",
       "    </tr>\n",
       "    <tr>\n",
       "      <th>equity_growth</th>\n",
       "      <td>0.493317</td>\n",
       "      <td>-0.588246</td>\n",
       "    </tr>\n",
       "  </tbody>\n",
       "</table>\n",
       "</div>"
      ],
      "text/plain": [
       "default                       0             1\n",
       "net_profit_margin      0.059085     -0.183226\n",
       "quick_ratio            2.225262      1.755264\n",
       "asset_turnover         2.740430      4.566163\n",
       "gross_prof             0.591605      0.529447\n",
       "current_ratio          2.500909      1.850262\n",
       "equity_ratio           0.244764     -0.137695\n",
       "roa                    0.077339     -0.264271\n",
       "roe                    0.181399     -0.508462\n",
       "results              642.146873   -401.815876\n",
       "equity              2588.833943    426.573248\n",
       "assets              8221.401168   5318.027662\n",
       "net_sales          13690.093776  16273.201750\n",
       "net_sales_growth       0.936509      1.490874\n",
       "profit_growth          0.149905    -10.715963\n",
       "assets_growth          0.758231      1.755407\n",
       "equity_growth          0.493317     -0.588246"
      ]
     },
     "execution_count": 74,
     "metadata": {},
     "output_type": "execute_result"
    }
   ],
   "source": [
    "data.groupby(by='default').mean().T"
   ]
  },
  {
   "cell_type": "markdown",
   "metadata": {},
   "source": [
    "### Correlation"
   ]
  },
  {
   "cell_type": "code",
   "execution_count": 75,
   "metadata": {},
   "outputs": [
    {
     "data": {
      "text/plain": [
       "<matplotlib.axes._subplots.AxesSubplot at 0x1f56fce0a58>"
      ]
     },
     "execution_count": 75,
     "metadata": {},
     "output_type": "execute_result"
    },
    {
     "data": {
      "image/png": "[encoded data removed]",
      "text/plain": [
       "<Figure size 1080x1080 with 2 Axes>"
      ]
     },
     "metadata": {
      "needs_background": "light"
     },
     "output_type": "display_data"
    }
   ],
   "source": [
    "f, ax = plt.subplots(figsize=(15,15))\n",
    "\n",
    "sns.heatmap(data.corr(), annot=True, cmap='RdYlGn', vmin=-1, vmax=1)"
   ]
  },
  {
   "cell_type": "markdown",
   "metadata": {},
   "source": [
    "### Linear"
   ]
  },
  {
   "cell_type": "markdown",
   "metadata": {},
   "source": [
    "#### Single Factors"
   ]
  },
  {
   "cell_type": "code",
   "execution_count": 76,
   "metadata": {},
   "outputs": [],
   "source": [
    "p_values = []\n",
    "\n",
    "for c in X.columns:\n",
    "    \n",
    "    X2 = sm.add_constant(X[c])\n",
    "    logit_model=sm.OLS(y, X2)\n",
    "    result=logit_model.fit()\n",
    "    p_values.append(result.pvalues[1])"
   ]
  },
  {
   "cell_type": "code",
   "execution_count": 77,
   "metadata": {},
   "outputs": [
    {
     "data": {
      "text/html": [
       "<div>\n",
       "<style scoped>\n",
       "    .dataframe tbody tr th:only-of-type {\n",
       "        vertical-align: middle;\n",
       "    }\n",
       "\n",
       "    .dataframe tbody tr th {\n",
       "        vertical-align: top;\n",
       "    }\n",
       "\n",
       "    .dataframe thead th {\n",
       "        text-align: right;\n",
       "    }\n",
       "</style>\n",
       "<table border=\"1\" class=\"dataframe\">\n",
       "  <thead>\n",
       "    <tr style=\"text-align: right;\">\n",
       "      <th></th>\n",
       "      <th>p-values</th>\n",
       "      <th>significant</th>\n",
       "    </tr>\n",
       "  </thead>\n",
       "  <tbody>\n",
       "    <tr>\n",
       "      <th>asset_turnover</th>\n",
       "      <td>7.530402e-09</td>\n",
       "      <td>Yes</td>\n",
       "    </tr>\n",
       "    <tr>\n",
       "      <th>roa</th>\n",
       "      <td>1.989998e-08</td>\n",
       "      <td>Yes</td>\n",
       "    </tr>\n",
       "    <tr>\n",
       "      <th>results</th>\n",
       "      <td>2.129707e-06</td>\n",
       "      <td>Yes</td>\n",
       "    </tr>\n",
       "    <tr>\n",
       "      <th>equity</th>\n",
       "      <td>4.502185e-04</td>\n",
       "      <td>Yes</td>\n",
       "    </tr>\n",
       "    <tr>\n",
       "      <th>gross_prof</th>\n",
       "      <td>7.217952e-04</td>\n",
       "      <td>Yes</td>\n",
       "    </tr>\n",
       "    <tr>\n",
       "      <th>roe</th>\n",
       "      <td>1.004291e-02</td>\n",
       "      <td>Yes</td>\n",
       "    </tr>\n",
       "    <tr>\n",
       "      <th>net_profit_margin</th>\n",
       "      <td>3.658611e-02</td>\n",
       "      <td>Yes</td>\n",
       "    </tr>\n",
       "    <tr>\n",
       "      <th>net_sales</th>\n",
       "      <td>4.835248e-02</td>\n",
       "      <td>Yes</td>\n",
       "    </tr>\n",
       "    <tr>\n",
       "      <th>assets</th>\n",
       "      <td>4.842645e-02</td>\n",
       "      <td>Yes</td>\n",
       "    </tr>\n",
       "    <tr>\n",
       "      <th>equity_ratio</th>\n",
       "      <td>6.998602e-02</td>\n",
       "      <td>No</td>\n",
       "    </tr>\n",
       "    <tr>\n",
       "      <th>assets_growth</th>\n",
       "      <td>1.320732e-01</td>\n",
       "      <td>No</td>\n",
       "    </tr>\n",
       "    <tr>\n",
       "      <th>equity_growth</th>\n",
       "      <td>2.007829e-01</td>\n",
       "      <td>No</td>\n",
       "    </tr>\n",
       "    <tr>\n",
       "      <th>net_sales_growth</th>\n",
       "      <td>5.882898e-01</td>\n",
       "      <td>No</td>\n",
       "    </tr>\n",
       "    <tr>\n",
       "      <th>profit_growth</th>\n",
       "      <td>6.954903e-01</td>\n",
       "      <td>No</td>\n",
       "    </tr>\n",
       "    <tr>\n",
       "      <th>current_ratio</th>\n",
       "      <td>7.707264e-01</td>\n",
       "      <td>No</td>\n",
       "    </tr>\n",
       "    <tr>\n",
       "      <th>quick_ratio</th>\n",
       "      <td>8.271084e-01</td>\n",
       "      <td>No</td>\n",
       "    </tr>\n",
       "  </tbody>\n",
       "</table>\n",
       "</div>"
      ],
      "text/plain": [
       "                       p-values significant\n",
       "asset_turnover     7.530402e-09         Yes\n",
       "roa                1.989998e-08         Yes\n",
       "results            2.129707e-06         Yes\n",
       "equity             4.502185e-04         Yes\n",
       "gross_prof         7.217952e-04         Yes\n",
       "roe                1.004291e-02         Yes\n",
       "net_profit_margin  3.658611e-02         Yes\n",
       "net_sales          4.835248e-02         Yes\n",
       "assets             4.842645e-02         Yes\n",
       "equity_ratio       6.998602e-02          No\n",
       "assets_growth      1.320732e-01          No\n",
       "equity_growth      2.007829e-01          No\n",
       "net_sales_growth   5.882898e-01          No\n",
       "profit_growth      6.954903e-01          No\n",
       "current_ratio      7.707264e-01          No\n",
       "quick_ratio        8.271084e-01          No"
      ]
     },
     "execution_count": 77,
     "metadata": {},
     "output_type": "execute_result"
    }
   ],
   "source": [
    "significance = pd.DataFrame(data=p_values, columns=['p-values'], index=X.columns).sort_values(by='p-values')\n",
    "significance['significant'] = significance['p-values'].apply(lambda x: 'Yes' if x < 0.05 else 'No')\n",
    "\n",
    "significance"
   ]
  },
  {
   "cell_type": "markdown",
   "metadata": {},
   "source": [
    "## Model Building"
   ]
  },
  {
   "cell_type": "markdown",
   "metadata": {},
   "source": [
    "### ML Data Prep"
   ]
  },
  {
   "cell_type": "code",
   "execution_count": 78,
   "metadata": {},
   "outputs": [],
   "source": [
    "X_standardise = (X - X.mean()) / X.std()"
   ]
  },
  {
   "cell_type": "code",
   "execution_count": 79,
   "metadata": {},
   "outputs": [],
   "source": [
    "X_train, X_test, y_train, y_test = train_test_split(X, y, test_size=0.2, random_state=49)"
   ]
  },
  {
   "cell_type": "markdown",
   "metadata": {},
   "source": [
    "### Training"
   ]
  },
  {
   "cell_type": "code",
   "execution_count": 80,
   "metadata": {},
   "outputs": [],
   "source": [
    "#model = LogisticRegression(penalty='l2', C=1)\n",
    "model = RandomForestClassifier(n_estimators=50, random_state=23, min_samples_leaf=100)"
   ]
  },
  {
   "cell_type": "code",
   "execution_count": 81,
   "metadata": {},
   "outputs": [
    {
     "data": {
      "text/plain": [
       "RandomForestClassifier(min_samples_leaf=100, n_estimators=50, random_state=23)"
      ]
     },
     "execution_count": 81,
     "metadata": {},
     "output_type": "execute_result"
    }
   ],
   "source": [
    "model.fit(X_train, y_train)\n",
    "\n",
    "#X_test = X_standardise\n",
    "#y_test = y\n",
    "#model.fit(X_test, y_test)"
   ]
  },
  {
   "cell_type": "code",
   "execution_count": 71,
   "metadata": {},
   "outputs": [
    {
     "data": {
      "text/html": [
       "<div>\n",
       "<style scoped>\n",
       "    .dataframe tbody tr th:only-of-type {\n",
       "        vertical-align: middle;\n",
       "    }\n",
       "\n",
       "    .dataframe tbody tr th {\n",
       "        vertical-align: top;\n",
       "    }\n",
       "\n",
       "    .dataframe thead th {\n",
       "        text-align: right;\n",
       "    }\n",
       "</style>\n",
       "<table border=\"1\" class=\"dataframe\">\n",
       "  <thead>\n",
       "    <tr style=\"text-align: right;\">\n",
       "      <th></th>\n",
       "      <th>Coef</th>\n",
       "    </tr>\n",
       "  </thead>\n",
       "  <tbody>\n",
       "    <tr>\n",
       "      <th>net_sales</th>\n",
       "      <td>0.862880</td>\n",
       "    </tr>\n",
       "    <tr>\n",
       "      <th>quick_ratio</th>\n",
       "      <td>0.321010</td>\n",
       "    </tr>\n",
       "    <tr>\n",
       "      <th>results</th>\n",
       "      <td>0.274994</td>\n",
       "    </tr>\n",
       "    <tr>\n",
       "      <th>equity_ratio</th>\n",
       "      <td>0.033892</td>\n",
       "    </tr>\n",
       "    <tr>\n",
       "      <th>assets_growth</th>\n",
       "      <td>0.020858</td>\n",
       "    </tr>\n",
       "    <tr>\n",
       "      <th>asset_turnover</th>\n",
       "      <td>0.012773</td>\n",
       "    </tr>\n",
       "    <tr>\n",
       "      <th>net_sales_growth</th>\n",
       "      <td>0.002750</td>\n",
       "    </tr>\n",
       "    <tr>\n",
       "      <th>net_profit_margin</th>\n",
       "      <td>-0.024830</td>\n",
       "    </tr>\n",
       "    <tr>\n",
       "      <th>gross_prof</th>\n",
       "      <td>-0.033091</td>\n",
       "    </tr>\n",
       "    <tr>\n",
       "      <th>roe</th>\n",
       "      <td>-0.083532</td>\n",
       "    </tr>\n",
       "    <tr>\n",
       "      <th>roa</th>\n",
       "      <td>-0.088012</td>\n",
       "    </tr>\n",
       "    <tr>\n",
       "      <th>equity_growth</th>\n",
       "      <td>-0.161283</td>\n",
       "    </tr>\n",
       "    <tr>\n",
       "      <th>current_ratio</th>\n",
       "      <td>-0.339545</td>\n",
       "    </tr>\n",
       "    <tr>\n",
       "      <th>profit_growth</th>\n",
       "      <td>-0.555124</td>\n",
       "    </tr>\n",
       "    <tr>\n",
       "      <th>assets</th>\n",
       "      <td>-1.849268</td>\n",
       "    </tr>\n",
       "    <tr>\n",
       "      <th>equity</th>\n",
       "      <td>-4.254761</td>\n",
       "    </tr>\n",
       "    <tr>\n",
       "      <th>untaxed_reserves</th>\n",
       "      <td>-4.505396</td>\n",
       "    </tr>\n",
       "  </tbody>\n",
       "</table>\n",
       "</div>"
      ],
      "text/plain": [
       "                       Coef\n",
       "net_sales          0.862880\n",
       "quick_ratio        0.321010\n",
       "results            0.274994\n",
       "equity_ratio       0.033892\n",
       "assets_growth      0.020858\n",
       "asset_turnover     0.012773\n",
       "net_sales_growth   0.002750\n",
       "net_profit_margin -0.024830\n",
       "gross_prof        -0.033091\n",
       "roe               -0.083532\n",
       "roa               -0.088012\n",
       "equity_growth     -0.161283\n",
       "current_ratio     -0.339545\n",
       "profit_growth     -0.555124\n",
       "assets            -1.849268\n",
       "equity            -4.254761\n",
       "untaxed_reserves  -4.505396"
      ]
     },
     "execution_count": 71,
     "metadata": {},
     "output_type": "execute_result"
    }
   ],
   "source": [
    "# Logistic Regression Only\n",
    "pd.DataFrame(data=model.coef_.T, columns=['Coef'], index=X.columns).sort_values(by='Coef', ascending=False)"
   ]
  },
  {
   "cell_type": "code",
   "execution_count": 82,
   "metadata": {},
   "outputs": [
    {
     "data": {
      "text/html": [
       "<div>\n",
       "<style scoped>\n",
       "    .dataframe tbody tr th:only-of-type {\n",
       "        vertical-align: middle;\n",
       "    }\n",
       "\n",
       "    .dataframe tbody tr th {\n",
       "        vertical-align: top;\n",
       "    }\n",
       "\n",
       "    .dataframe thead th {\n",
       "        text-align: right;\n",
       "    }\n",
       "</style>\n",
       "<table border=\"1\" class=\"dataframe\">\n",
       "  <thead>\n",
       "    <tr style=\"text-align: right;\">\n",
       "      <th></th>\n",
       "      <th>Coef</th>\n",
       "    </tr>\n",
       "  </thead>\n",
       "  <tbody>\n",
       "    <tr>\n",
       "      <th>equity</th>\n",
       "      <td>0.157660</td>\n",
       "    </tr>\n",
       "    <tr>\n",
       "      <th>equity_ratio</th>\n",
       "      <td>0.110448</td>\n",
       "    </tr>\n",
       "    <tr>\n",
       "      <th>roa</th>\n",
       "      <td>0.097283</td>\n",
       "    </tr>\n",
       "    <tr>\n",
       "      <th>results</th>\n",
       "      <td>0.093735</td>\n",
       "    </tr>\n",
       "    <tr>\n",
       "      <th>assets_growth</th>\n",
       "      <td>0.064822</td>\n",
       "    </tr>\n",
       "    <tr>\n",
       "      <th>asset_turnover</th>\n",
       "      <td>0.062756</td>\n",
       "    </tr>\n",
       "    <tr>\n",
       "      <th>equity_growth</th>\n",
       "      <td>0.058868</td>\n",
       "    </tr>\n",
       "    <tr>\n",
       "      <th>net_sales</th>\n",
       "      <td>0.058176</td>\n",
       "    </tr>\n",
       "    <tr>\n",
       "      <th>net_sales_growth</th>\n",
       "      <td>0.056729</td>\n",
       "    </tr>\n",
       "    <tr>\n",
       "      <th>roe</th>\n",
       "      <td>0.053346</td>\n",
       "    </tr>\n",
       "    <tr>\n",
       "      <th>net_profit_margin</th>\n",
       "      <td>0.052638</td>\n",
       "    </tr>\n",
       "    <tr>\n",
       "      <th>current_ratio</th>\n",
       "      <td>0.038579</td>\n",
       "    </tr>\n",
       "    <tr>\n",
       "      <th>profit_growth</th>\n",
       "      <td>0.025271</td>\n",
       "    </tr>\n",
       "    <tr>\n",
       "      <th>assets</th>\n",
       "      <td>0.023485</td>\n",
       "    </tr>\n",
       "    <tr>\n",
       "      <th>quick_ratio</th>\n",
       "      <td>0.023226</td>\n",
       "    </tr>\n",
       "    <tr>\n",
       "      <th>gross_prof</th>\n",
       "      <td>0.022976</td>\n",
       "    </tr>\n",
       "  </tbody>\n",
       "</table>\n",
       "</div>"
      ],
      "text/plain": [
       "                       Coef\n",
       "equity             0.157660\n",
       "equity_ratio       0.110448\n",
       "roa                0.097283\n",
       "results            0.093735\n",
       "assets_growth      0.064822\n",
       "asset_turnover     0.062756\n",
       "equity_growth      0.058868\n",
       "net_sales          0.058176\n",
       "net_sales_growth   0.056729\n",
       "roe                0.053346\n",
       "net_profit_margin  0.052638\n",
       "current_ratio      0.038579\n",
       "profit_growth      0.025271\n",
       "assets             0.023485\n",
       "quick_ratio        0.023226\n",
       "gross_prof         0.022976"
      ]
     },
     "execution_count": 82,
     "metadata": {},
     "output_type": "execute_result"
    }
   ],
   "source": [
    "# Random Forest Only\n",
    "pd.DataFrame(data=model.feature_importances_.T, columns=['Coef'], index=X.columns).sort_values(by='Coef', ascending=False)"
   ]
  },
  {
   "cell_type": "markdown",
   "metadata": {},
   "source": [
    "### Predicting"
   ]
  },
  {
   "cell_type": "code",
   "execution_count": 83,
   "metadata": {},
   "outputs": [],
   "source": [
    "pred = model.predict(X_test)"
   ]
  },
  {
   "cell_type": "markdown",
   "metadata": {},
   "source": [
    "### Testing"
   ]
  },
  {
   "cell_type": "code",
   "execution_count": 84,
   "metadata": {},
   "outputs": [
    {
     "data": {
      "text/html": [
       "<div>\n",
       "<style scoped>\n",
       "    .dataframe tbody tr th:only-of-type {\n",
       "        vertical-align: middle;\n",
       "    }\n",
       "\n",
       "    .dataframe tbody tr th {\n",
       "        vertical-align: top;\n",
       "    }\n",
       "\n",
       "    .dataframe thead th {\n",
       "        text-align: right;\n",
       "    }\n",
       "</style>\n",
       "<table border=\"1\" class=\"dataframe\">\n",
       "  <thead>\n",
       "    <tr style=\"text-align: right;\">\n",
       "      <th></th>\n",
       "      <th>No</th>\n",
       "      <th>Yes</th>\n",
       "    </tr>\n",
       "  </thead>\n",
       "  <tbody>\n",
       "    <tr>\n",
       "      <th>No</th>\n",
       "      <td>17627</td>\n",
       "      <td>0</td>\n",
       "    </tr>\n",
       "    <tr>\n",
       "      <th>Yes</th>\n",
       "      <td>142</td>\n",
       "      <td>0</td>\n",
       "    </tr>\n",
       "  </tbody>\n",
       "</table>\n",
       "</div>"
      ],
      "text/plain": [
       "        No  Yes\n",
       "No   17627    0\n",
       "Yes    142    0"
      ]
     },
     "execution_count": 84,
     "metadata": {},
     "output_type": "execute_result"
    }
   ],
   "source": [
    "labels = ['No', 'Yes']\n",
    "\n",
    "pd.DataFrame(data=confusion_matrix(y_test, pred), index=labels, columns=labels)"
   ]
  },
  {
   "cell_type": "code",
   "execution_count": 85,
   "metadata": {
    "scrolled": true
   },
   "outputs": [
    {
     "name": "stdout",
     "output_type": "stream",
     "text": [
      "              precision    recall  f1-score   support\n",
      "\n",
      "          No       0.99      1.00      1.00     17627\n",
      "         Yes       0.00      0.00      0.00       142\n",
      "\n",
      "    accuracy                           0.99     17769\n",
      "   macro avg       0.50      0.50      0.50     17769\n",
      "weighted avg       0.98      0.99      0.99     17769\n",
      "\n"
     ]
    }
   ],
   "source": [
    "print(classification_report(y_test, pred, target_names=['No', 'Yes']))"
   ]
  },
  {
   "cell_type": "code",
   "execution_count": 86,
   "metadata": {},
   "outputs": [
    {
     "name": "stdout",
     "output_type": "stream",
     "text": [
      "Optimization terminated successfully.\n",
      "         Current function value: 0.043825\n",
      "         Iterations 15\n",
      "                          Results: Logit\n",
      "==================================================================\n",
      "Model:               Logit            Pseudo R-squared: 0.061     \n",
      "Dependent Variable:  default          AIC:              7821.0887 \n",
      "Date:                2021-01-11 11:07 BIC:              7980.7973 \n",
      "No. Observations:    88843            Log-Likelihood:   -3893.5   \n",
      "Df Model:            16               LL-Null:          -4145.6   \n",
      "Df Residuals:        88826            LLR p-value:      4.3280e-97\n",
      "Converged:           1.0000           Scale:            1.0000    \n",
      "No. Iterations:      15.0000                                      \n",
      "------------------------------------------------------------------\n",
      "                   Coef.  Std.Err.    z     P>|z|   [0.025  0.975]\n",
      "------------------------------------------------------------------\n",
      "const             -4.1855   0.0612 -68.4134 0.0000 -4.3054 -4.0656\n",
      "net_profit_margin -0.0008   0.0068  -0.1235 0.9017 -0.0142  0.0125\n",
      "quick_ratio        0.6036   0.1440   4.1918 0.0000  0.3214  0.8858\n",
      "asset_turnover     0.0019   0.0022   0.8633 0.3880 -0.0024  0.0061\n",
      "gross_prof        -0.1729   0.0504  -3.4315 0.0006 -0.2717 -0.0741\n",
      "current_ratio     -0.6037   0.1440  -4.1920 0.0000 -0.8859 -0.3214\n",
      "equity_ratio       0.0066   0.0067   0.9879 0.3232 -0.0065  0.0197\n",
      "roa               -0.0518   0.0241  -2.1473 0.0318 -0.0990 -0.0045\n",
      "roe               -0.0134   0.0039  -3.4632 0.0005 -0.0210 -0.0058\n",
      "results            0.0000   0.0000   0.9901 0.3221 -0.0000  0.0001\n",
      "equity            -0.0004   0.0000 -14.5711 0.0000 -0.0004 -0.0003\n",
      "assets            -0.0001   0.0000  -7.2170 0.0000 -0.0001 -0.0001\n",
      "net_sales          0.0000   0.0000   7.2665 0.0000  0.0000  0.0000\n",
      "net_sales_growth   0.0001   0.0010   0.1183 0.9059 -0.0018  0.0021\n",
      "profit_growth     -0.0012   0.0003  -4.4569 0.0000 -0.0017 -0.0007\n",
      "assets_growth      0.0019   0.0013   1.3934 0.1635 -0.0008  0.0045\n",
      "equity_growth     -0.0070   0.0023  -3.0166 0.0026 -0.0116 -0.0025\n",
      "==================================================================\n",
      "\n"
     ]
    }
   ],
   "source": [
    "# Linear model using statsmodels\n",
    "import statsmodels.api as sm\n",
    "X2 = sm.add_constant(X)\n",
    "logit_model=sm.Logit(y, X2)\n",
    "result=logit_model.fit()\n",
    "print(result.summary2())"
   ]
  },
  {
   "cell_type": "markdown",
   "metadata": {},
   "source": [
    "### Predict Probability of Default"
   ]
  },
  {
   "cell_type": "code",
   "execution_count": 87,
   "metadata": {},
   "outputs": [],
   "source": [
    "# Create result-set with probabilities and actual entries\n",
    "prob = pd.DataFrame(data=model.predict_proba(X_test)[:, 1:2], columns=['Probability of Default'])\n",
    "pred = pd.DataFrame(data=pred, columns=['Predicted'])\n",
    "actual = pd.DataFrame(data=y_test.values, columns=['Actual'])\n",
    "results = pd.concat([prob, pred, actual], axis=1)"
   ]
  },
  {
   "cell_type": "code",
   "execution_count": 88,
   "metadata": {},
   "outputs": [
    {
     "data": {
      "text/plain": [
       "Text(0.5,1,'ROC Curve')"
      ]
     },
     "execution_count": 88,
     "metadata": {},
     "output_type": "execute_result"
    },
    {
     "data": {
      "image/png": "[encoded data removed]",
      "text/plain": [
       "<Figure size 576x576 with 1 Axes>"
      ]
     },
     "metadata": {
      "needs_background": "light"
     },
     "output_type": "display_data"
    }
   ],
   "source": [
    "# Plot RUC curve\n",
    "f, ax = plt.subplots(figsize=(8,8))\n",
    "fpr, tpr, _ = roc_curve(y_test,  prob)\n",
    "auc = roc_auc_score(y_test, prob)\n",
    "ax.plot(fpr,tpr,label=\"AUC=\"+str(round(auc,3)))\n",
    "ax.legend(loc='lower right')\n",
    "ax.set_xlabel('False Positive Rate')\n",
    "ax.set_ylabel('True Positive Rate')\n",
    "ax.set_title('ROC Curve')"
   ]
  },
  {
   "cell_type": "code",
   "execution_count": 89,
   "metadata": {},
   "outputs": [],
   "source": [
    "threshold = 0.015\n",
    "\n",
    "\n",
    "def new_decision(value):\n",
    "    if value >= threshold:\n",
    "        return 1\n",
    "    else:\n",
    "        return 0"
   ]
  },
  {
   "cell_type": "code",
   "execution_count": 90,
   "metadata": {},
   "outputs": [],
   "source": [
    "results['pred_adj'] = results['Probability of Default'].apply(new_decision)"
   ]
  },
  {
   "cell_type": "code",
   "execution_count": 91,
   "metadata": {},
   "outputs": [
    {
     "data": {
      "text/html": [
       "<div>\n",
       "<style scoped>\n",
       "    .dataframe tbody tr th:only-of-type {\n",
       "        vertical-align: middle;\n",
       "    }\n",
       "\n",
       "    .dataframe tbody tr th {\n",
       "        vertical-align: top;\n",
       "    }\n",
       "\n",
       "    .dataframe thead th {\n",
       "        text-align: right;\n",
       "    }\n",
       "</style>\n",
       "<table border=\"1\" class=\"dataframe\">\n",
       "  <thead>\n",
       "    <tr style=\"text-align: right;\">\n",
       "      <th></th>\n",
       "      <th>No</th>\n",
       "      <th>Yes</th>\n",
       "    </tr>\n",
       "  </thead>\n",
       "  <tbody>\n",
       "    <tr>\n",
       "      <th>No</th>\n",
       "      <td>15021</td>\n",
       "      <td>2606</td>\n",
       "    </tr>\n",
       "    <tr>\n",
       "      <th>Yes</th>\n",
       "      <td>46</td>\n",
       "      <td>96</td>\n",
       "    </tr>\n",
       "  </tbody>\n",
       "</table>\n",
       "</div>"
      ],
      "text/plain": [
       "        No   Yes\n",
       "No   15021  2606\n",
       "Yes     46    96"
      ]
     },
     "execution_count": 91,
     "metadata": {},
     "output_type": "execute_result"
    }
   ],
   "source": [
    "labels = ['No', 'Yes']\n",
    "\n",
    "pd.DataFrame(data=confusion_matrix(y_test, results['pred_adj']), index=labels, columns=labels)"
   ]
  },
  {
   "cell_type": "code",
   "execution_count": 92,
   "metadata": {},
   "outputs": [
    {
     "name": "stdout",
     "output_type": "stream",
     "text": [
      "0.676056338028169\n",
      "0.8521586202984058\n"
     ]
    }
   ],
   "source": [
    "c = confusion_matrix(y_test, results['pred_adj'])\n",
    "\n",
    "print(c[1,1] / (c[1,1]+c[1,0]))\n",
    "print(c[0,0] / (c[0,0]+c[0,1]))"
   ]
  },
  {
   "cell_type": "code",
   "execution_count": 93,
   "metadata": {},
   "outputs": [
    {
     "name": "stdout",
     "output_type": "stream",
     "text": [
      "              precision    recall  f1-score   support\n",
      "\n",
      "          No       1.00      0.85      0.92     17627\n",
      "         Yes       0.04      0.68      0.07       142\n",
      "\n",
      "    accuracy                           0.85     17769\n",
      "   macro avg       0.52      0.76      0.49     17769\n",
      "weighted avg       0.99      0.85      0.91     17769\n",
      "\n"
     ]
    }
   ],
   "source": [
    "print(classification_report(y_test, results['pred_adj'], target_names=['No', 'Yes']))"
   ]
  },
  {
   "cell_type": "code",
   "execution_count": 94,
   "metadata": {},
   "outputs": [
    {
     "data": {
      "image/png": "[encoded data removed]",
      "text/plain": [
       "<Figure size 720x720 with 1 Axes>"
      ]
     },
     "metadata": {
      "needs_background": "light"
     },
     "output_type": "display_data"
    }
   ],
   "source": [
    "# Plot boxplot of probabilities\n",
    "f, ax =plt.subplots(figsize=(10,10))\n",
    "ax.set_ylim([0,0.25])\n",
    "ax = sns.boxplot(x=results['Actual'], y=results['Probability of Default'])"
   ]
  },
  {
   "cell_type": "markdown",
   "metadata": {},
   "source": [
    "### Brier Score"
   ]
  },
  {
   "cell_type": "code",
   "execution_count": 95,
   "metadata": {},
   "outputs": [
    {
     "data": {
      "text/plain": [
       "0.007568847008035799"
      ]
     },
     "execution_count": 95,
     "metadata": {},
     "output_type": "execute_result"
    }
   ],
   "source": [
    "bs = brier_score_loss(y_true=results['Actual'], y_prob=results['Probability of Default'])\n",
    "bs"
   ]
  },
  {
   "cell_type": "code",
   "execution_count": 96,
   "metadata": {},
   "outputs": [],
   "source": [
    "c_curve = calibration_curve(y_true=results['Actual'], y_prob=results['Probability of Default'], n_bins=5)"
   ]
  },
  {
   "cell_type": "code",
   "execution_count": 97,
   "metadata": {},
   "outputs": [
    {
     "data": {
      "text/plain": [
       "(array([0.00772005, 0.2173913 ]), array([0.00796712, 0.21284115]))"
      ]
     },
     "execution_count": 97,
     "metadata": {},
     "output_type": "execute_result"
    }
   ],
   "source": [
    "c_curve"
   ]
  },
  {
   "cell_type": "code",
   "execution_count": 98,
   "metadata": {},
   "outputs": [
    {
     "data": {
      "text/plain": [
       "Text(0.5,0,'Predicted Probability')"
      ]
     },
     "execution_count": 98,
     "metadata": {},
     "output_type": "execute_result"
    },
    {
     "data": {
      "image/png": "[encoded data removed]",
      "text/plain": [
       "<Figure size 720x720 with 1 Axes>"
      ]
     },
     "metadata": {
      "needs_background": "light"
     },
     "output_type": "display_data"
    }
   ],
   "source": [
    "f, ax =plt.subplots(figsize=(10,10))\n",
    "\n",
    "ax.set_title('Brier Score: {}'.format(round(bs,5)))\n",
    "ax.scatter(x=c_curve[1], y=c_curve[0])\n",
    "ax.plot(c_curve[1], c_curve[0], '.b-')\n",
    "ax.set_xlim([0,1])\n",
    "ax.set_ylim([0,1])\n",
    "ax.plot([0,1],[0,1], transform=ax.transAxes, c='black')\n",
    "ax.set_ylabel('Fraction of Positives')\n",
    "ax.set_xlabel('Predicted Probability')"
   ]
  },
  {
   "cell_type": "code",
   "execution_count": 99,
   "metadata": {},
   "outputs": [
    {
     "name": "stdout",
     "output_type": "stream",
     "text": [
      "0 0.8436425775710477\n",
      "1 0.8809312779021554\n",
      "2 0.8479353266672689\n",
      "3 0.8591320158550981\n",
      "4 0.8619654063175659\n",
      "5 0.8840816085821518\n",
      "6 0.8851021332238721\n",
      "7 0.8732468011312529\n",
      "8 0.8633853889481385\n",
      "9 0.8749858164075797\n"
     ]
    },
    {
     "data": {
      "text/plain": [
       "0.8674408352606131"
      ]
     },
     "execution_count": 99,
     "metadata": {},
     "output_type": "execute_result"
    }
   ],
   "source": [
    "# Cross-validation looping through different train/test combinations\n",
    "import warnings\n",
    "warnings.filterwarnings(\"ignore\")\n",
    "\n",
    "auc = []\n",
    "\n",
    "for i in range(10):\n",
    "    \n",
    "    X_train, X_test, y_train, y_test = train_test_split(X, y, test_size=0.2, random_state=i)\n",
    "    \n",
    "    #model = LogisticRegression(penalty='l2', C=0.1, solver='lbfgs')\n",
    "    model = RandomForestClassifier(n_estimators=50, random_state=23, min_samples_leaf=100, bootstrap=True)\n",
    "    model.fit(X_train, y_train)\n",
    "\n",
    "    prob = pd.DataFrame(data=model.predict_proba(X_test)[:, 1:2], columns=['Probability of Default'])\n",
    "    \n",
    "    print(i, roc_auc_score(y_test, prob))\n",
    "    \n",
    "    auc.append(roc_auc_score(y_test, prob))\n",
    "    \n",
    "sum(auc) / len(auc)"
   ]
  },
  {
   "cell_type": "markdown",
   "metadata": {
    "collapsed": true
   },
   "source": [
    "### Output results"
   ]
  },
  {
   "cell_type": "code",
   "execution_count": null,
   "metadata": {},
   "outputs": [],
   "source": [
    "prob = pd.DataFrame(data=model.predict_proba(X_test)[:, 1:2], columns=['Probability of Default'])\n",
    "actual = pd.DataFrame(data=y_test.values, columns=['Actual'])\n",
    "results = pd.concat([X_test.reset_index(), prob, actual], axis=1)"
   ]
  },
  {
   "cell_type": "code",
   "execution_count": null,
   "metadata": {},
   "outputs": [],
   "source": [
    "results.to_csv('results_scraped.csv')"
   ]
  }
 ],
 "metadata": {
  "kernelspec": {
   "display_name": "Python 3",
   "language": "python",
   "name": "python3"
  },
  "language_info": {
   "codemirror_mode": {
    "name": "ipython",
    "version": 3
   },
   "file_extension": ".py",
   "mimetype": "text/x-python",
   "name": "python",
   "nbconvert_exporter": "python",
   "pygments_lexer": "ipython3",
   "version": "3.8.5"
  }
 },
 "nbformat": 4,
 "nbformat_minor": 2
}
