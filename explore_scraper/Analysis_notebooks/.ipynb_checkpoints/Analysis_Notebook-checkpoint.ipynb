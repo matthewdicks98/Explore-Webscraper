{
 "cells": [
  {
   "cell_type": "code",
   "execution_count": 4,
   "metadata": {},
   "outputs": [],
   "source": [
    "import numpy as np\n",
    "import pandas as pd\n",
    "import matplotlib.pyplot as plt"
   ]
  },
  {
   "cell_type": "markdown",
   "metadata": {},
   "source": [
    "## Reading in the data"
   ]
  },
  {
   "cell_type": "code",
   "execution_count": 5,
   "metadata": {},
   "outputs": [],
   "source": [
    "data = pd.read_csv(\"../data/financials/financials_status_forms_clean2.csv\")"
   ]
  },
  {
   "cell_type": "markdown",
   "metadata": {},
   "source": [
    "## Just some stats about the dataset"
   ]
  },
  {
   "cell_type": "code",
   "execution_count": 6,
   "metadata": {},
   "outputs": [
    {
     "data": {
      "text/plain": [
       "(478033, 48)"
      ]
     },
     "execution_count": 6,
     "metadata": {},
     "output_type": "execute_result"
    }
   ],
   "source": [
    "data.shape"
   ]
  },
  {
   "cell_type": "code",
   "execution_count": 7,
   "metadata": {},
   "outputs": [
    {
     "name": "stdout",
     "output_type": "stream",
     "text": [
      "<class 'pandas.core.frame.DataFrame'>\n",
      "RangeIndex: 478033 entries, 0 to 478032\n",
      "Data columns (total 48 columns):\n",
      " #   Column                    Non-Null Count   Dtype  \n",
      "---  ------                    --------------   -----  \n",
      " 0   company                   478033 non-null  object \n",
      " 1   id                        478033 non-null  int64  \n",
      " 2   date                      478033 non-null  object \n",
      " 3   net_sales                 474999 non-null  float64\n",
      " 4   other_sales               194756 non-null  float64\n",
      " 5   op_profit_ebit            474998 non-null  float64\n",
      " 6   prof_after_net_fin_items  474998 non-null  float64\n",
      " 7   results                   474998 non-null  float64\n",
      " 8   sub_unpaid_cap            475048 non-null  float64\n",
      " 9   fixed_assets              475047 non-null  float64\n",
      " 10  current_assets            475031 non-null  float64\n",
      " 11  assets                    474923 non-null  float64\n",
      " 12  equity                    475034 non-null  float64\n",
      " 13  untaxed_reserves          475049 non-null  float64\n",
      " 14  provisions                475051 non-null  float64\n",
      " 15  lt_liabilities            475050 non-null  float64\n",
      " 16  curr_liabilities          475037 non-null  float64\n",
      " 17  lia_and_equity            474902 non-null  float64\n",
      " 18  salar_board_ceo           182868 non-null  float64\n",
      " 19  royalties_board_ceo       39848 non-null   float64\n",
      " 20  sal_other_empl            285651 non-null  float64\n",
      " 21  perf_other_empl           41215 non-null   float64\n",
      " 22  social_exp                305947 non-null  float64\n",
      " 23  dividends                 475482 non-null  float64\n",
      " 24  revenue                   475003 non-null  float64\n",
      " 25  num_employes              435120 non-null  float64\n",
      " 26  net_sales_empl            379854 non-null  float64\n",
      " 27  pers_cost_empl            377178 non-null  float64\n",
      " 28  op_prof_ebitda            475375 non-null  float64\n",
      " 29  net_change                376635 non-null  float64\n",
      " 30  du_pont_model             442006 non-null  float64\n",
      " 31  prof_margin               442337 non-null  float64\n",
      " 32  gross_prof                442337 non-null  float64\n",
      " 33  working_cap               442427 non-null  float64\n",
      " 34  solidity                  473899 non-null  float64\n",
      " 35  quick_ratio               465687 non-null  float64\n",
      " 36  default                   478033 non-null  int64  \n",
      " 37  date_diff                 1805 non-null    float64\n",
      " 38  default_date              1805 non-null    object \n",
      " 39  status                    478033 non-null  object \n",
      " 40  actual_status             1805 non-null    object \n",
      " 41  remark                    1805 non-null    object \n",
      " 42  year                      478033 non-null  int64  \n",
      " 43  company_form              478033 non-null  object \n",
      " 44  county                    478033 non-null  object \n",
      " 45  industry                  476595 non-null  object \n",
      " 46  operation                 476595 non-null  object \n",
      " 47  registered_date           478033 non-null  object \n",
      "dtypes: float64(34), int64(3), object(11)\n",
      "memory usage: 175.1+ MB\n"
     ]
    }
   ],
   "source": [
    "# checking the datatypes and nulls\n",
    " # looks like most of the valuable columns have enough data\n",
    "data.info()"
   ]
  },
  {
   "cell_type": "code",
   "execution_count": 8,
   "metadata": {},
   "outputs": [
    {
     "data": {
      "text/plain": [
       "68993"
      ]
     },
     "execution_count": 8,
     "metadata": {},
     "output_type": "execute_result"
    }
   ],
   "source": [
    "# how many companies are there\n",
    "data['id'].nunique()"
   ]
  },
  {
   "cell_type": "code",
   "execution_count": 9,
   "metadata": {},
   "outputs": [
    {
     "data": {
      "text/plain": [
       "1805"
      ]
     },
     "execution_count": 9,
     "metadata": {},
     "output_type": "execute_result"
    }
   ],
   "source": [
    "# how many companies went bankrupt\n",
    "data[data['default']==1]['id'].nunique()"
   ]
  },
  {
   "cell_type": "markdown",
   "metadata": {},
   "source": [
    "## Trends overtime"
   ]
  },
  {
   "cell_type": "markdown",
   "metadata": {},
   "source": [
    "### Number of companies"
   ]
  },
  {
   "cell_type": "code",
   "execution_count": 10,
   "metadata": {},
   "outputs": [],
   "source": [
    "companies_by_year = data.groupby(by=['year']).count()['id']"
   ]
  },
  {
   "cell_type": "code",
   "execution_count": 11,
   "metadata": {},
   "outputs": [
    {
     "data": {
      "text/plain": [
       "Text(0, 0.5, 'Number of companies')"
      ]
     },
     "execution_count": 11,
     "metadata": {},
     "output_type": "execute_result"
    },
    {
     "data": {
      "image/png": "[encoded data removed]",
      "text/plain": [
       "<Figure size 576x360 with 1 Axes>"
      ]
     },
     "metadata": {
      "needs_background": "light"
     },
     "output_type": "display_data"
    }
   ],
   "source": [
    "plt.figure(figsize=(8,5))\n",
    "plt.bar(companies_by_year.index,companies_by_year.values)\n",
    "plt.xticks(ticks = companies_by_year.index,rotation=90)\n",
    "plt.title(\"Number of companies by year\")\n",
    "plt.xlabel(\"Years\")\n",
    "plt.ylabel(\"Number of companies\")"
   ]
  },
  {
   "cell_type": "markdown",
   "metadata": {},
   "source": [
    "### Revenue"
   ]
  },
  {
   "cell_type": "code",
   "execution_count": 12,
   "metadata": {},
   "outputs": [],
   "source": [
    "rev_by_year = data.groupby(by=['year']).mean()['revenue']"
   ]
  },
  {
   "cell_type": "code",
   "execution_count": 13,
   "metadata": {},
   "outputs": [
    {
     "data": {
      "text/plain": [
       "Text(0, 0.5, 'Average Revenue')"
      ]
     },
     "execution_count": 13,
     "metadata": {},
     "output_type": "execute_result"
    },
    {
     "data": {
      "image/png": "[encoded data removed]",
      "text/plain": [
       "<Figure size 576x360 with 1 Axes>"
      ]
     },
     "metadata": {
      "needs_background": "light"
     },
     "output_type": "display_data"
    }
   ],
   "source": [
    "plt.figure(figsize=(8,5))\n",
    "plt.bar(rev_by_year.index,rev_by_year.values)\n",
    "plt.xticks(ticks = rev_by_year.index,rotation=90)\n",
    "plt.title(\"Average revenue by year\")\n",
    "plt.xlabel(\"Years\")\n",
    "plt.ylabel(\"Average Revenue\")"
   ]
  },
  {
   "cell_type": "markdown",
   "metadata": {},
   "source": [
    "### Net Sales (sanity check above)"
   ]
  },
  {
   "cell_type": "code",
   "execution_count": 14,
   "metadata": {},
   "outputs": [],
   "source": [
    "net_sales_by_year = data.groupby(by=['year']).mean()['net_sales']"
   ]
  },
  {
   "cell_type": "code",
   "execution_count": 15,
   "metadata": {},
   "outputs": [
    {
     "data": {
      "text/plain": [
       "Text(0, 0.5, 'Average net sales')"
      ]
     },
     "execution_count": 15,
     "metadata": {},
     "output_type": "execute_result"
    },
    {
     "data": {
      "image/png": "[encoded data removed]",
      "text/plain": [
       "<Figure size 576x360 with 1 Axes>"
      ]
     },
     "metadata": {
      "needs_background": "light"
     },
     "output_type": "display_data"
    }
   ],
   "source": [
    "plt.figure(figsize=(8,5))\n",
    "plt.bar(net_sales_by_year.index,net_sales_by_year.values)\n",
    "plt.xticks(ticks = net_sales_by_year.index,rotation=90)\n",
    "plt.title(\"Average net sales by year\")\n",
    "plt.xlabel(\"Years\")\n",
    "plt.ylabel(\"Average net sales\")"
   ]
  },
  {
   "cell_type": "markdown",
   "metadata": {},
   "source": [
    "### Defaults"
   ]
  },
  {
   "cell_type": "code",
   "execution_count": 16,
   "metadata": {},
   "outputs": [],
   "source": [
    "default_by_year = data.groupby(by=['year']).sum()['default']"
   ]
  },
  {
   "cell_type": "code",
   "execution_count": 17,
   "metadata": {},
   "outputs": [
    {
     "data": {
      "text/plain": [
       "Text(0, 0.5, 'Companies that defaulted')"
      ]
     },
     "execution_count": 17,
     "metadata": {},
     "output_type": "execute_result"
    },
    {
     "data": {
      "image/png": "[encoded data removed]",
      "text/plain": [
       "<Figure size 576x360 with 1 Axes>"
      ]
     },
     "metadata": {
      "needs_background": "light"
     },
     "output_type": "display_data"
    }
   ],
   "source": [
    "plt.figure(figsize=(8,5))\n",
    "plt.bar(default_by_year.index,default_by_year.values)\n",
    "plt.xticks(ticks = default_by_year.index,rotation=90)\n",
    "plt.title(\"Number of companies that defaulted per year\")\n",
    "plt.xlabel(\"Years\")\n",
    "plt.ylabel(\"Companies that defaulted\")"
   ]
  },
  {
   "cell_type": "markdown",
   "metadata": {},
   "source": [
    "### Defaults (normalized by number of companies in that year)"
   ]
  },
  {
   "cell_type": "code",
   "execution_count": 18,
   "metadata": {},
   "outputs": [],
   "source": [
    "default_by_year_norm = data.groupby(by=['year']).mean()['default']"
   ]
  },
  {
   "cell_type": "code",
   "execution_count": 19,
   "metadata": {},
   "outputs": [
    {
     "data": {
      "text/plain": [
       "Text(0, 0.5, '% Companies that defaulted')"
      ]
     },
     "execution_count": 19,
     "metadata": {},
     "output_type": "execute_result"
    },
    {
     "data": {
      "image/png": "[encoded data removed]",
      "text/plain": [
       "<Figure size 576x360 with 1 Axes>"
      ]
     },
     "metadata": {
      "needs_background": "light"
     },
     "output_type": "display_data"
    }
   ],
   "source": [
    "plt.figure(figsize=(8,5))\n",
    "plt.bar(default_by_year_norm.index,default_by_year_norm.values*100)\n",
    "plt.xticks(ticks = default_by_year_norm.index,rotation=90)\n",
    "plt.title(\"Number of companies that defaulted per year (normalized by number of companies)\")\n",
    "plt.xlabel(\"Years\")\n",
    "plt.ylabel(\"% Companies that defaulted\")"
   ]
  },
  {
   "cell_type": "markdown",
   "metadata": {},
   "source": [
    "### Solidity ratio\n",
    "Lots of companies have defaulted in 2017, 2018 and 2019. Looking at the revenue and net sales plots this is not obvious so maybe they had low solidity ratios."
   ]
  },
  {
   "cell_type": "code",
   "execution_count": 20,
   "metadata": {},
   "outputs": [],
   "source": [
    "solidity_per_year = data.groupby(by=['year']).mean()['solidity']"
   ]
  },
  {
   "cell_type": "code",
   "execution_count": 21,
   "metadata": {},
   "outputs": [
    {
     "data": {
      "text/plain": [
       "Text(0, 0.5, 'Solidity')"
      ]
     },
     "execution_count": 21,
     "metadata": {},
     "output_type": "execute_result"
    },
    {
     "data": {
      "image/png": "[encoded data removed]",
      "text/plain": [
       "<Figure size 576x360 with 1 Axes>"
      ]
     },
     "metadata": {
      "needs_background": "light"
     },
     "output_type": "display_data"
    }
   ],
   "source": [
    "plt.figure(figsize=(8,5))\n",
    "plt.bar(solidity_per_year.index,solidity_per_year.values*100)\n",
    "plt.xticks(ticks = solidity_per_year.index,rotation=90)\n",
    "plt.title(\"Average Solidity per year\")\n",
    "plt.xlabel(\"Years\")\n",
    "plt.ylabel(\"Solidity\")"
   ]
  },
  {
   "cell_type": "markdown",
   "metadata": {},
   "source": [
    "Looks like a better predictor of bankrupcy. 2016, 2017 and 2018 all have low mean solidity scores. There are earlier years with these low scores but due to the data being biased to more recent bankrupcy there arent many companies that went bankrupt then. This with the year will be good at predicting bankrupcy. This score consists of assets and equity so it will be worthwhile to look at those two components."
   ]
  },
  {
   "cell_type": "markdown",
   "metadata": {},
   "source": [
    "### Assets"
   ]
  },
  {
   "cell_type": "code",
   "execution_count": 22,
   "metadata": {},
   "outputs": [],
   "source": [
    "assets_per_year = data.groupby(by=['year']).mean()['assets']"
   ]
  },
  {
   "cell_type": "code",
   "execution_count": 23,
   "metadata": {},
   "outputs": [
    {
     "data": {
      "text/plain": [
       "Text(0, 0.5, 'Assets')"
      ]
     },
     "execution_count": 23,
     "metadata": {},
     "output_type": "execute_result"
    },
    {
     "data": {
      "image/png": "[encoded data removed]",
      "text/plain": [
       "<Figure size 576x360 with 1 Axes>"
      ]
     },
     "metadata": {
      "needs_background": "light"
     },
     "output_type": "display_data"
    }
   ],
   "source": [
    "plt.figure(figsize=(8,5))\n",
    "plt.bar(assets_per_year.index,assets_per_year.values*100)\n",
    "plt.xticks(ticks = assets_per_year.index,rotation=90)\n",
    "plt.title(\"Average Assets per year\")\n",
    "plt.xlabel(\"Years\")\n",
    "plt.ylabel(\"Assets\")"
   ]
  },
  {
   "cell_type": "markdown",
   "metadata": {},
   "source": [
    "### Equity"
   ]
  },
  {
   "cell_type": "code",
   "execution_count": 24,
   "metadata": {},
   "outputs": [],
   "source": [
    "equity_per_year = data.groupby(by=['year']).mean()['equity']"
   ]
  },
  {
   "cell_type": "code",
   "execution_count": 25,
   "metadata": {
    "scrolled": false
   },
   "outputs": [
    {
     "data": {
      "text/plain": [
       "Text(0, 0.5, 'Equity')"
      ]
     },
     "execution_count": 25,
     "metadata": {},
     "output_type": "execute_result"
    },
    {
     "data": {
      "image/png": "[encoded data removed]",
      "text/plain": [
       "<Figure size 576x360 with 1 Axes>"
      ]
     },
     "metadata": {
      "needs_background": "light"
     },
     "output_type": "display_data"
    }
   ],
   "source": [
    "plt.figure(figsize=(8,5))\n",
    "plt.bar(equity_per_year.index,equity_per_year.values*100)\n",
    "plt.xticks(ticks = equity_per_year.index,rotation=90)\n",
    "plt.title(\"Average Equity per year\")\n",
    "plt.xlabel(\"Years\")\n",
    "plt.ylabel(\"Equity\")"
   ]
  },
  {
   "cell_type": "markdown",
   "metadata": {},
   "source": [
    "### Quick ratio"
   ]
  },
  {
   "cell_type": "code",
   "execution_count": 26,
   "metadata": {},
   "outputs": [],
   "source": [
    "quick_ratio_per_year = data.groupby(by=['year']).mean()['quick_ratio']"
   ]
  },
  {
   "cell_type": "code",
   "execution_count": 27,
   "metadata": {
    "scrolled": false
   },
   "outputs": [
    {
     "data": {
      "text/plain": [
       "Text(0, 0.5, 'Quick Ratio')"
      ]
     },
     "execution_count": 27,
     "metadata": {},
     "output_type": "execute_result"
    },
    {
     "data": {
      "image/png": "[encoded data removed]",
      "text/plain": [
       "<Figure size 576x360 with 1 Axes>"
      ]
     },
     "metadata": {
      "needs_background": "light"
     },
     "output_type": "display_data"
    }
   ],
   "source": [
    "plt.figure(figsize=(8,5))\n",
    "plt.bar(quick_ratio_per_year.index,quick_ratio_per_year.values*100)\n",
    "plt.xticks(ticks = quick_ratio_per_year.index,rotation=90)\n",
    "plt.title(\"Average Quick Ratio per year\")\n",
    "plt.xlabel(\"Years\")\n",
    "plt.ylabel(\"Quick Ratio\")"
   ]
  },
  {
   "cell_type": "markdown",
   "metadata": {},
   "source": [
    "Quick ratio (higher is better). Seems like an inverse corrolation overtime which does not sound right."
   ]
  },
  {
   "cell_type": "markdown",
   "metadata": {},
   "source": [
    "### Liabilities"
   ]
  },
  {
   "cell_type": "code",
   "execution_count": 28,
   "metadata": {},
   "outputs": [],
   "source": [
    "lt_liabilities_per_year = data.groupby(by=['year']).mean()['lt_liabilities']"
   ]
  },
  {
   "cell_type": "code",
   "execution_count": 29,
   "metadata": {
    "scrolled": false
   },
   "outputs": [
    {
     "data": {
      "text/plain": [
       "Text(0, 0.5, 'lt_liabilities')"
      ]
     },
     "execution_count": 29,
     "metadata": {},
     "output_type": "execute_result"
    },
    {
     "data": {
      "image/png": "[encoded data removed]",
      "text/plain": [
       "<Figure size 576x360 with 1 Axes>"
      ]
     },
     "metadata": {
      "needs_background": "light"
     },
     "output_type": "display_data"
    }
   ],
   "source": [
    "plt.figure(figsize=(8,5))\n",
    "plt.bar(lt_liabilities_per_year.index,lt_liabilities_per_year.values*100)\n",
    "plt.xticks(ticks = lt_liabilities_per_year.index,rotation=90)\n",
    "plt.title(\"Average lt_liabilities per year\")\n",
    "plt.xlabel(\"Years\")\n",
    "plt.ylabel(\"lt_liabilities\")"
   ]
  },
  {
   "cell_type": "code",
   "execution_count": 30,
   "metadata": {},
   "outputs": [],
   "source": [
    "curr_liabilities_per_year = data.groupby(by=['year']).mean()['curr_liabilities']"
   ]
  },
  {
   "cell_type": "code",
   "execution_count": 31,
   "metadata": {
    "scrolled": false
   },
   "outputs": [
    {
     "data": {
      "text/plain": [
       "Text(0, 0.5, 'curr_liabilities')"
      ]
     },
     "execution_count": 31,
     "metadata": {},
     "output_type": "execute_result"
    },
    {
     "data": {
      "image/png": "[encoded data removed]",
      "text/plain": [
       "<Figure size 576x360 with 1 Axes>"
      ]
     },
     "metadata": {
      "needs_background": "light"
     },
     "output_type": "display_data"
    }
   ],
   "source": [
    "plt.figure(figsize=(8,5))\n",
    "plt.bar(curr_liabilities_per_year.index,curr_liabilities_per_year.values*100)\n",
    "plt.xticks(ticks = curr_liabilities_per_year.index,rotation=90)\n",
    "plt.title(\"Average curr_liabilities per year\")\n",
    "plt.xlabel(\"Years\")\n",
    "plt.ylabel(\"curr_liabilities\")"
   ]
  },
  {
   "cell_type": "markdown",
   "metadata": {},
   "source": [
    "### operating profit"
   ]
  },
  {
   "cell_type": "code",
   "execution_count": 32,
   "metadata": {},
   "outputs": [],
   "source": [
    "op_prof_ebitda_per_year = data.groupby(by=['year']).mean()['op_prof_ebitda']"
   ]
  },
  {
   "cell_type": "code",
   "execution_count": 33,
   "metadata": {
    "scrolled": false
   },
   "outputs": [
    {
     "data": {
      "text/plain": [
       "Text(0, 0.5, 'op_prof_ebitda')"
      ]
     },
     "execution_count": 33,
     "metadata": {},
     "output_type": "execute_result"
    },
    {
     "data": {
      "image/png": "[encoded data removed]",
      "text/plain": [
       "<Figure size 576x360 with 1 Axes>"
      ]
     },
     "metadata": {
      "needs_background": "light"
     },
     "output_type": "display_data"
    }
   ],
   "source": [
    "plt.figure(figsize=(8,5))\n",
    "plt.bar(op_prof_ebitda_per_year.index,op_prof_ebitda_per_year.values*100)\n",
    "plt.xticks(ticks = op_prof_ebitda_per_year.index,rotation=90)\n",
    "plt.title(\"Average op_prof_ebitda per year\")\n",
    "plt.xlabel(\"Years\")\n",
    "plt.ylabel(\"op_prof_ebitda\")"
   ]
  },
  {
   "cell_type": "markdown",
   "metadata": {},
   "source": [
    "# Difference between defaulters and non-defaulters over time\n",
    "In each of the years there are many more companies that did not go bankrupt. This will shift the averages in their favor. Here I will look at these values but I will differentiate between defaulters and non-defaulters to see the differences."
   ]
  },
  {
   "cell_type": "markdown",
   "metadata": {},
   "source": [
    "### Revenue"
   ]
  },
  {
   "cell_type": "code",
   "execution_count": 34,
   "metadata": {},
   "outputs": [
    {
     "data": {
      "text/plain": [
       "<AxesSubplot:title={'center':'Comparing revenue'}, xlabel='year', ylabel='net sales'>"
      ]
     },
     "execution_count": 34,
     "metadata": {},
     "output_type": "execute_result"
    },
    {
     "data": {
      "image/png": "[encoded data removed]",
      "text/plain": [
       "<Figure size 576x360 with 1 Axes>"
      ]
     },
     "metadata": {
      "needs_background": "light"
     },
     "output_type": "display_data"
    }
   ],
   "source": [
    "data.groupby(by=['year','default']).mean()['revenue'].unstack().plot(kind='bar',\n",
    "                                                                     title=\"Comparing revenue\",\n",
    "                                                                     ylabel='net sales',\n",
    "                                                                    figsize=(8,5))"
   ]
  },
  {
   "cell_type": "markdown",
   "metadata": {},
   "source": [
    "### Solidity"
   ]
  },
  {
   "cell_type": "code",
   "execution_count": 35,
   "metadata": {},
   "outputs": [
    {
     "data": {
      "text/plain": [
       "<AxesSubplot:title={'center':'Comparing Solidity'}, xlabel='year', ylabel='Solidity'>"
      ]
     },
     "execution_count": 35,
     "metadata": {},
     "output_type": "execute_result"
    },
    {
     "data": {
      "image/png": "[encoded data removed]",
      "text/plain": [
       "<Figure size 576x360 with 1 Axes>"
      ]
     },
     "metadata": {
      "needs_background": "light"
     },
     "output_type": "display_data"
    }
   ],
   "source": [
    "data.groupby(by=['year','default']).mean()['solidity'].unstack().plot(kind='bar',\n",
    "                                                                     title=\"Comparing Solidity\",\n",
    "                                                                     ylabel='Solidity',\n",
    "                                                                    figsize=(8,5))"
   ]
  },
  {
   "cell_type": "markdown",
   "metadata": {},
   "source": [
    "### Operating profit"
   ]
  },
  {
   "cell_type": "code",
   "execution_count": 36,
   "metadata": {},
   "outputs": [
    {
     "data": {
      "text/plain": [
       "<AxesSubplot:title={'center':'Comparing operating profit'}, xlabel='year', ylabel='Operating profit'>"
      ]
     },
     "execution_count": 36,
     "metadata": {},
     "output_type": "execute_result"
    },
    {
     "data": {
      "image/png": "[encoded data removed]",
      "text/plain": [
       "<Figure size 576x360 with 1 Axes>"
      ]
     },
     "metadata": {
      "needs_background": "light"
     },
     "output_type": "display_data"
    }
   ],
   "source": [
    "data.groupby(by=['year','default']).mean()['op_prof_ebitda'].unstack().plot(kind='bar',\n",
    "                                                                     title=\"Comparing operating profit\",\n",
    "                                                                     ylabel='Operating profit',\n",
    "                                                                    figsize=(8,5))"
   ]
  },
  {
   "cell_type": "markdown",
   "metadata": {},
   "source": [
    "### Quick ratio"
   ]
  },
  {
   "cell_type": "code",
   "execution_count": 37,
   "metadata": {},
   "outputs": [
    {
     "data": {
      "text/plain": [
       "<AxesSubplot:title={'center':'Comparing quick ratio'}, xlabel='year', ylabel='Quick ratio'>"
      ]
     },
     "execution_count": 37,
     "metadata": {},
     "output_type": "execute_result"
    },
    {
     "data": {
      "image/png": "[encoded data removed]",
      "text/plain": [
       "<Figure size 576x360 with 1 Axes>"
      ]
     },
     "metadata": {
      "needs_background": "light"
     },
     "output_type": "display_data"
    }
   ],
   "source": [
    "data.groupby(by=['year','default']).mean()['quick_ratio'].unstack().plot(kind='bar',\n",
    "                                                                     title=\"Comparing quick ratio\",\n",
    "                                                                     ylabel='Quick ratio',\n",
    "                                                                    figsize=(8,5))"
   ]
  },
  {
   "cell_type": "markdown",
   "metadata": {},
   "source": [
    "### Number of employees"
   ]
  },
  {
   "cell_type": "code",
   "execution_count": 38,
   "metadata": {},
   "outputs": [
    {
     "data": {
      "text/plain": [
       "<AxesSubplot:title={'center':'Comparing num employes'}, xlabel='year', ylabel='Num employes'>"
      ]
     },
     "execution_count": 38,
     "metadata": {},
     "output_type": "execute_result"
    },
    {
     "data": {
      "image/png": "[encoded data removed]",
      "text/plain": [
       "<Figure size 576x360 with 1 Axes>"
      ]
     },
     "metadata": {
      "needs_background": "light"
     },
     "output_type": "display_data"
    }
   ],
   "source": [
    "data.groupby(by=['year','default']).mean()['num_employes'].unstack().plot(kind='bar',\n",
    "                                                                     title=\"Comparing num employes\",\n",
    "                                                                     ylabel='Num employes',\n",
    "                                                                    figsize=(8,5))"
   ]
  },
  {
   "cell_type": "markdown",
   "metadata": {},
   "source": [
    "### Results"
   ]
  },
  {
   "cell_type": "code",
   "execution_count": 39,
   "metadata": {},
   "outputs": [
    {
     "data": {
      "text/plain": [
       "<AxesSubplot:title={'center':'Comparing results'}, xlabel='year', ylabel='Results'>"
      ]
     },
     "execution_count": 39,
     "metadata": {},
     "output_type": "execute_result"
    },
    {
     "data": {
      "image/png": "[encoded data removed]",
      "text/plain": [
       "<Figure size 576x360 with 1 Axes>"
      ]
     },
     "metadata": {
      "needs_background": "light"
     },
     "output_type": "display_data"
    }
   ],
   "source": [
    "data.groupby(by=['year','default']).mean()['results'].unstack().plot(kind='bar',\n",
    "                                                                     title=\"Comparing results\",\n",
    "                                                                     ylabel='Results',\n",
    "                                                                    figsize=(8,5))"
   ]
  },
  {
   "cell_type": "markdown",
   "metadata": {},
   "source": [
    "### Du pont"
   ]
  },
  {
   "cell_type": "code",
   "execution_count": 40,
   "metadata": {},
   "outputs": [
    {
     "data": {
      "text/plain": [
       "<AxesSubplot:title={'center':'Comparing results'}, xlabel='year', ylabel='Results'>"
      ]
     },
     "execution_count": 40,
     "metadata": {},
     "output_type": "execute_result"
    },
    {
     "data": {
      "image/png": "[encoded data removed]",
      "text/plain": [
       "<Figure size 576x360 with 1 Axes>"
      ]
     },
     "metadata": {
      "needs_background": "light"
     },
     "output_type": "display_data"
    }
   ],
   "source": [
    "data.groupby(by=['year','default']).mean()['du_pont_model'].unstack().plot(kind='bar',\n",
    "                                                                     title=\"Comparing results\",\n",
    "                                                                     ylabel='Results',\n",
    "                                                                    figsize=(8,5))"
   ]
  },
  {
   "cell_type": "markdown",
   "metadata": {},
   "source": [
    "# Feature importance using a Random Forrest"
   ]
  },
  {
   "cell_type": "markdown",
   "metadata": {},
   "source": [
    "## Getting the features and target variables"
   ]
  },
  {
   "cell_type": "code",
   "execution_count": 120,
   "metadata": {},
   "outputs": [],
   "source": [
    "# getting the columns that will be used\n",
    "# only use the numeric features\n",
    "# 3-36 + 42 this includes the default column\n",
    "# removing columns with lots on NaNs\n",
    "column_indices = [1,3]\n",
    "column_indices = column_indices + list(np.arange(5,18))\n",
    "column_indices = column_indices + list(np.arange(23,25))\n",
    "column_indices = column_indices + [28]\n",
    "column_indices = column_indices + list(np.arange(30,37))\n",
    "column_indices = column_indices + [42]\n",
    "features_and_target = data.iloc[:,column_indices]"
   ]
  },
  {
   "cell_type": "code",
   "execution_count": 121,
   "metadata": {},
   "outputs": [
    {
     "data": {
      "text/html": [
       "<div>\n",
       "<style scoped>\n",
       "    .dataframe tbody tr th:only-of-type {\n",
       "        vertical-align: middle;\n",
       "    }\n",
       "\n",
       "    .dataframe tbody tr th {\n",
       "        vertical-align: top;\n",
       "    }\n",
       "\n",
       "    .dataframe thead th {\n",
       "        text-align: right;\n",
       "    }\n",
       "</style>\n",
       "<table border=\"1\" class=\"dataframe\">\n",
       "  <thead>\n",
       "    <tr style=\"text-align: right;\">\n",
       "      <th></th>\n",
       "      <th>id</th>\n",
       "      <th>net_sales</th>\n",
       "      <th>op_profit_ebit</th>\n",
       "      <th>prof_after_net_fin_items</th>\n",
       "      <th>results</th>\n",
       "      <th>sub_unpaid_cap</th>\n",
       "      <th>fixed_assets</th>\n",
       "      <th>current_assets</th>\n",
       "      <th>assets</th>\n",
       "      <th>equity</th>\n",
       "      <th>...</th>\n",
       "      <th>revenue</th>\n",
       "      <th>op_prof_ebitda</th>\n",
       "      <th>du_pont_model</th>\n",
       "      <th>prof_margin</th>\n",
       "      <th>gross_prof</th>\n",
       "      <th>working_cap</th>\n",
       "      <th>solidity</th>\n",
       "      <th>quick_ratio</th>\n",
       "      <th>default</th>\n",
       "      <th>year</th>\n",
       "    </tr>\n",
       "  </thead>\n",
       "  <tbody>\n",
       "    <tr>\n",
       "      <th>0</th>\n",
       "      <td>5590655865</td>\n",
       "      <td>0.0</td>\n",
       "      <td>-44.0</td>\n",
       "      <td>-44.0</td>\n",
       "      <td>-44.0</td>\n",
       "      <td>0.0</td>\n",
       "      <td>99.0</td>\n",
       "      <td>55.0</td>\n",
       "      <td>153.0</td>\n",
       "      <td>105.0</td>\n",
       "      <td>...</td>\n",
       "      <td>0.0</td>\n",
       "      <td>-13.0</td>\n",
       "      <td>NaN</td>\n",
       "      <td>NaN</td>\n",
       "      <td>NaN</td>\n",
       "      <td>NaN</td>\n",
       "      <td>0.6863</td>\n",
       "      <td>0.5714</td>\n",
       "      <td>0</td>\n",
       "      <td>2019</td>\n",
       "    </tr>\n",
       "    <tr>\n",
       "      <th>1</th>\n",
       "      <td>5590655865</td>\n",
       "      <td>0.0</td>\n",
       "      <td>-72.0</td>\n",
       "      <td>-72.0</td>\n",
       "      <td>-72.0</td>\n",
       "      <td>0.0</td>\n",
       "      <td>130.0</td>\n",
       "      <td>67.0</td>\n",
       "      <td>197.0</td>\n",
       "      <td>148.0</td>\n",
       "      <td>...</td>\n",
       "      <td>0.0</td>\n",
       "      <td>-41.0</td>\n",
       "      <td>NaN</td>\n",
       "      <td>NaN</td>\n",
       "      <td>NaN</td>\n",
       "      <td>NaN</td>\n",
       "      <td>0.7513</td>\n",
       "      <td>0.8163</td>\n",
       "      <td>0</td>\n",
       "      <td>2018</td>\n",
       "    </tr>\n",
       "    <tr>\n",
       "      <th>2</th>\n",
       "      <td>5590655865</td>\n",
       "      <td>28.0</td>\n",
       "      <td>-279.0</td>\n",
       "      <td>-279.0</td>\n",
       "      <td>-279.0</td>\n",
       "      <td>0.0</td>\n",
       "      <td>160.0</td>\n",
       "      <td>409.0</td>\n",
       "      <td>570.0</td>\n",
       "      <td>520.0</td>\n",
       "      <td>...</td>\n",
       "      <td>28.0</td>\n",
       "      <td>-248.0</td>\n",
       "      <td>-0.4895</td>\n",
       "      <td>-9.9643</td>\n",
       "      <td>1.0</td>\n",
       "      <td>12.8214</td>\n",
       "      <td>0.9123</td>\n",
       "      <td>7.6400</td>\n",
       "      <td>0</td>\n",
       "      <td>2017</td>\n",
       "    </tr>\n",
       "    <tr>\n",
       "      <th>3</th>\n",
       "      <td>5590655865</td>\n",
       "      <td>0.0</td>\n",
       "      <td>-226.0</td>\n",
       "      <td>749.0</td>\n",
       "      <td>749.0</td>\n",
       "      <td>0.0</td>\n",
       "      <td>801.0</td>\n",
       "      <td>47.0</td>\n",
       "      <td>848.0</td>\n",
       "      <td>799.0</td>\n",
       "      <td>...</td>\n",
       "      <td>0.0</td>\n",
       "      <td>-169.0</td>\n",
       "      <td>NaN</td>\n",
       "      <td>NaN</td>\n",
       "      <td>NaN</td>\n",
       "      <td>NaN</td>\n",
       "      <td>0.9422</td>\n",
       "      <td>0.4082</td>\n",
       "      <td>0</td>\n",
       "      <td>2016</td>\n",
       "    </tr>\n",
       "    <tr>\n",
       "      <th>4</th>\n",
       "      <td>5564709904</td>\n",
       "      <td>0.0</td>\n",
       "      <td>-62.0</td>\n",
       "      <td>7938.0</td>\n",
       "      <td>7938.0</td>\n",
       "      <td>0.0</td>\n",
       "      <td>8649.0</td>\n",
       "      <td>19537.0</td>\n",
       "      <td>28186.0</td>\n",
       "      <td>20940.0</td>\n",
       "      <td>...</td>\n",
       "      <td>0.0</td>\n",
       "      <td>-62.0</td>\n",
       "      <td>NaN</td>\n",
       "      <td>NaN</td>\n",
       "      <td>NaN</td>\n",
       "      <td>NaN</td>\n",
       "      <td>0.7429</td>\n",
       "      <td>2.6962</td>\n",
       "      <td>0</td>\n",
       "      <td>2019</td>\n",
       "    </tr>\n",
       "  </tbody>\n",
       "</table>\n",
       "<p>5 rows × 26 columns</p>\n",
       "</div>"
      ],
      "text/plain": [
       "           id  net_sales  op_profit_ebit  prof_after_net_fin_items  results  \\\n",
       "0  5590655865        0.0           -44.0                     -44.0    -44.0   \n",
       "1  5590655865        0.0           -72.0                     -72.0    -72.0   \n",
       "2  5590655865       28.0          -279.0                    -279.0   -279.0   \n",
       "3  5590655865        0.0          -226.0                     749.0    749.0   \n",
       "4  5564709904        0.0           -62.0                    7938.0   7938.0   \n",
       "\n",
       "   sub_unpaid_cap  fixed_assets  current_assets   assets   equity  ...  \\\n",
       "0             0.0          99.0            55.0    153.0    105.0  ...   \n",
       "1             0.0         130.0            67.0    197.0    148.0  ...   \n",
       "2             0.0         160.0           409.0    570.0    520.0  ...   \n",
       "3             0.0         801.0            47.0    848.0    799.0  ...   \n",
       "4             0.0        8649.0         19537.0  28186.0  20940.0  ...   \n",
       "\n",
       "   revenue  op_prof_ebitda  du_pont_model  prof_margin  gross_prof  \\\n",
       "0      0.0           -13.0            NaN          NaN         NaN   \n",
       "1      0.0           -41.0            NaN          NaN         NaN   \n",
       "2     28.0          -248.0        -0.4895      -9.9643         1.0   \n",
       "3      0.0          -169.0            NaN          NaN         NaN   \n",
       "4      0.0           -62.0            NaN          NaN         NaN   \n",
       "\n",
       "   working_cap  solidity  quick_ratio  default  year  \n",
       "0          NaN    0.6863       0.5714        0  2019  \n",
       "1          NaN    0.7513       0.8163        0  2018  \n",
       "2      12.8214    0.9123       7.6400        0  2017  \n",
       "3          NaN    0.9422       0.4082        0  2016  \n",
       "4          NaN    0.7429       2.6962        0  2019  \n",
       "\n",
       "[5 rows x 26 columns]"
      ]
     },
     "execution_count": 121,
     "metadata": {},
     "output_type": "execute_result"
    }
   ],
   "source": [
    "features_and_target.head()"
   ]
  },
  {
   "cell_type": "code",
   "execution_count": 122,
   "metadata": {},
   "outputs": [
    {
     "name": "stdout",
     "output_type": "stream",
     "text": [
      "<class 'pandas.core.frame.DataFrame'>\n",
      "RangeIndex: 478033 entries, 0 to 478032\n",
      "Data columns (total 26 columns):\n",
      " #   Column                    Non-Null Count   Dtype  \n",
      "---  ------                    --------------   -----  \n",
      " 0   id                        478033 non-null  int64  \n",
      " 1   net_sales                 474999 non-null  float64\n",
      " 2   op_profit_ebit            474998 non-null  float64\n",
      " 3   prof_after_net_fin_items  474998 non-null  float64\n",
      " 4   results                   474998 non-null  float64\n",
      " 5   sub_unpaid_cap            475048 non-null  float64\n",
      " 6   fixed_assets              475047 non-null  float64\n",
      " 7   current_assets            475031 non-null  float64\n",
      " 8   assets                    474923 non-null  float64\n",
      " 9   equity                    475034 non-null  float64\n",
      " 10  untaxed_reserves          475049 non-null  float64\n",
      " 11  provisions                475051 non-null  float64\n",
      " 12  lt_liabilities            475050 non-null  float64\n",
      " 13  curr_liabilities          475037 non-null  float64\n",
      " 14  lia_and_equity            474902 non-null  float64\n",
      " 15  dividends                 475482 non-null  float64\n",
      " 16  revenue                   475003 non-null  float64\n",
      " 17  op_prof_ebitda            475375 non-null  float64\n",
      " 18  du_pont_model             442006 non-null  float64\n",
      " 19  prof_margin               442337 non-null  float64\n",
      " 20  gross_prof                442337 non-null  float64\n",
      " 21  working_cap               442427 non-null  float64\n",
      " 22  solidity                  473899 non-null  float64\n",
      " 23  quick_ratio               465687 non-null  float64\n",
      " 24  default                   478033 non-null  int64  \n",
      " 25  year                      478033 non-null  int64  \n",
      "dtypes: float64(23), int64(3)\n",
      "memory usage: 94.8 MB\n"
     ]
    }
   ],
   "source": [
    "features_and_target.info()"
   ]
  },
  {
   "cell_type": "code",
   "execution_count": 123,
   "metadata": {},
   "outputs": [
    {
     "name": "stderr",
     "output_type": "stream",
     "text": [
      "<ipython-input-123-bf4e3d2a4ff3>:2: SettingWithCopyWarning: \n",
      "A value is trying to be set on a copy of a slice from a DataFrame\n",
      "\n",
      "See the caveats in the documentation: https://pandas.pydata.org/pandas-docs/stable/user_guide/indexing.html#returning-a-view-versus-a-copy\n",
      "  features_and_target.dropna(inplace=True)\n"
     ]
    }
   ],
   "source": [
    "# removing NaNs\n",
    "features_and_target.dropna(inplace=True)"
   ]
  },
  {
   "cell_type": "code",
   "execution_count": 124,
   "metadata": {},
   "outputs": [
    {
     "data": {
      "text/plain": [
       "(439836, 26)"
      ]
     },
     "execution_count": 124,
     "metadata": {},
     "output_type": "execute_result"
    }
   ],
   "source": [
    "features_and_target.shape"
   ]
  },
  {
   "cell_type": "code",
   "execution_count": 125,
   "metadata": {},
   "outputs": [
    {
     "data": {
      "text/plain": [
       "67230"
      ]
     },
     "execution_count": 125,
     "metadata": {},
     "output_type": "execute_result"
    }
   ],
   "source": [
    "features_and_target['id'].nunique()"
   ]
  },
  {
   "cell_type": "code",
   "execution_count": 126,
   "metadata": {},
   "outputs": [
    {
     "data": {
      "text/plain": [
       "1664"
      ]
     },
     "execution_count": 126,
     "metadata": {},
     "output_type": "execute_result"
    }
   ],
   "source": [
    "features_and_target[features_and_target['default']==1]['id'].nunique()"
   ]
  },
  {
   "cell_type": "code",
   "execution_count": 127,
   "metadata": {},
   "outputs": [
    {
     "name": "stderr",
     "output_type": "stream",
     "text": [
      "/home/matt/anaconda3/envs/scrapy/lib/python3.8/site-packages/pandas/core/frame.py:4163: SettingWithCopyWarning: \n",
      "A value is trying to be set on a copy of a slice from a DataFrame\n",
      "\n",
      "See the caveats in the documentation: https://pandas.pydata.org/pandas-docs/stable/user_guide/indexing.html#returning-a-view-versus-a-copy\n",
      "  return super().drop(\n"
     ]
    }
   ],
   "source": [
    "# droping the id column\n",
    "features_and_target.drop('id',axis=1,inplace=True)"
   ]
  },
  {
   "cell_type": "code",
   "execution_count": 128,
   "metadata": {},
   "outputs": [],
   "source": [
    "# get the non-defaulters\n",
    "non_default = features_and_target[features_and_target['default']!=1]"
   ]
  },
  {
   "cell_type": "code",
   "execution_count": 129,
   "metadata": {},
   "outputs": [],
   "source": [
    "# train test split on defaulters\n",
    "default = features_and_target[features_and_target['default']==1]"
   ]
  },
  {
   "cell_type": "code",
   "execution_count": 130,
   "metadata": {},
   "outputs": [],
   "source": [
    "from sklearn.model_selection import train_test_split"
   ]
  },
  {
   "cell_type": "code",
   "execution_count": 131,
   "metadata": {},
   "outputs": [],
   "source": [
    "# X and y for non-defaulters\n",
    "X_non_default = non_default.drop('default',axis = 1)\n",
    "y_non_default = non_default['default']"
   ]
  },
  {
   "cell_type": "code",
   "execution_count": 132,
   "metadata": {},
   "outputs": [],
   "source": [
    "# train, test split on the non-defaulters\n",
    "X_train_non_default, X_test_non_default, y_train_non_default, y_test_non_default = train_test_split(X_non_default, y_non_default, test_size=0.3, random_state=42)"
   ]
  },
  {
   "cell_type": "code",
   "execution_count": 133,
   "metadata": {},
   "outputs": [],
   "source": [
    "# creating the X and y for defaulters\n",
    "X_default = default.drop('default',axis = 1)\n",
    "y_default = default['default']"
   ]
  },
  {
   "cell_type": "code",
   "execution_count": 134,
   "metadata": {},
   "outputs": [],
   "source": [
    "# create the train and test sets\n",
    "X_train_default, X_test_default, y_train_default, y_test_default = train_test_split(X_default, y_default, test_size=0.3, random_state=42)"
   ]
  },
  {
   "cell_type": "code",
   "execution_count": 135,
   "metadata": {},
   "outputs": [],
   "source": [
    "# create the X_train y_train, X_test and y_test to input to the model\n",
    "X_train = X_train_non_default.append(X_train_default, ignore_index=True)\n",
    "y_train = y_train_non_default.append(y_train_default,ignore_index=True)\n",
    "X_test = X_test_non_default.append(X_test_default, ignore_index=True)\n",
    "y_test = y_test_non_default.append(y_test_default, ignore_index=True)"
   ]
  },
  {
   "cell_type": "markdown",
   "metadata": {},
   "source": [
    "## Fit the model"
   ]
  },
  {
   "cell_type": "code",
   "execution_count": 136,
   "metadata": {},
   "outputs": [],
   "source": [
    "from sklearn.ensemble import RandomForestClassifier"
   ]
  },
  {
   "cell_type": "code",
   "execution_count": 137,
   "metadata": {},
   "outputs": [],
   "source": [
    "# using default for now\n",
    "rf = RandomForestClassifier()"
   ]
  },
  {
   "cell_type": "code",
   "execution_count": 138,
   "metadata": {},
   "outputs": [
    {
     "data": {
      "text/plain": [
       "RandomForestClassifier()"
      ]
     },
     "execution_count": 138,
     "metadata": {},
     "output_type": "execute_result"
    }
   ],
   "source": [
    "rf.fit(X=X_train,y=y_train)"
   ]
  },
  {
   "cell_type": "markdown",
   "metadata": {},
   "source": [
    "## Eval on test set (not great practice but fine for feature selection)"
   ]
  },
  {
   "cell_type": "code",
   "execution_count": 139,
   "metadata": {},
   "outputs": [],
   "source": [
    "pred = rf.predict(X_test)"
   ]
  },
  {
   "cell_type": "code",
   "execution_count": 140,
   "metadata": {},
   "outputs": [
    {
     "name": "stdout",
     "output_type": "stream",
     "text": [
      "Accuracy: 0.996218321813993\n"
     ]
    }
   ],
   "source": [
    "from sklearn import metrics\n",
    "print(\"Accuracy:\",metrics.accuracy_score(y_test, pred))"
   ]
  },
  {
   "cell_type": "markdown",
   "metadata": {},
   "source": [
    "## Collect feature importance"
   ]
  },
  {
   "cell_type": "code",
   "execution_count": 147,
   "metadata": {},
   "outputs": [],
   "source": [
    "feature_imp = pd.Series(rf.feature_importances_,index=X_train.columns).sort_values(ascending=False)"
   ]
  },
  {
   "cell_type": "code",
   "execution_count": 148,
   "metadata": {},
   "outputs": [
    {
     "name": "stderr",
     "output_type": "stream",
     "text": [
      "No handles with labels found to put in legend.\n"
     ]
    },
    {
     "data": {
      "image/png": "[encoded data removed]",
      "text/plain": [
       "<Figure size 432x288 with 1 Axes>"
      ]
     },
     "metadata": {
      "needs_background": "light"
     },
     "output_type": "display_data"
    }
   ],
   "source": [
    "import seaborn as sns\n",
    "%matplotlib inline\n",
    "# Creating a bar plot\n",
    "sns.barplot(x=feature_imp, y=feature_imp.index)\n",
    "# Add labels to your graph\n",
    "plt.xlabel('Feature Importance Score')\n",
    "plt.ylabel('Features')\n",
    "plt.title(\"Visualizing Important Features\")\n",
    "plt.legend()\n",
    "plt.show()"
   ]
  },
  {
   "cell_type": "code",
   "execution_count": null,
   "metadata": {},
   "outputs": [],
   "source": [
    "# need to look at what features\n",
    "    # net_sales\n",
    "    # equity\n",
    "    # working_cap\n",
    "    # prof_margin\n",
    "    # assets\n",
    "    # lia_and_equity\n",
    "    # current assests\n",
    "    # gross_prof"
   ]
  },
  {
   "cell_type": "code",
   "execution_count": null,
   "metadata": {},
   "outputs": [],
   "source": []
  }
 ],
 "metadata": {
  "kernelspec": {
   "display_name": "Python 3",
   "language": "python",
   "name": "python3"
  },
  "language_info": {
   "codemirror_mode": {
    "name": "ipython",
    "version": 3
   },
   "file_extension": ".py",
   "mimetype": "text/x-python",
   "name": "python",
   "nbconvert_exporter": "python",
   "pygments_lexer": "ipython3",
   "version": "3.8.5"
  }
 },
 "nbformat": 4,
 "nbformat_minor": 4
}
