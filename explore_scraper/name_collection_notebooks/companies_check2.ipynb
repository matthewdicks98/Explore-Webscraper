{
 "cells": [
  {
   "cell_type": "code",
   "execution_count": 1,
   "metadata": {},
   "outputs": [],
   "source": [
    "import pandas as pd\n",
    "import numpy as np"
   ]
  },
  {
   "cell_type": "markdown",
   "metadata": {},
   "source": [
    "## Testing on company 1 just for speed sake"
   ]
  },
  {
   "cell_type": "code",
   "execution_count": 2,
   "metadata": {},
   "outputs": [],
   "source": [
    "# reading in data\n",
    "company1 = pd.read_csv('../data/company1.csv')"
   ]
  },
  {
   "cell_type": "code",
   "execution_count": 3,
   "metadata": {},
   "outputs": [
    {
     "data": {
      "text/html": [
       "<div>\n",
       "<style scoped>\n",
       "    .dataframe tbody tr th:only-of-type {\n",
       "        vertical-align: middle;\n",
       "    }\n",
       "\n",
       "    .dataframe tbody tr th {\n",
       "        vertical-align: top;\n",
       "    }\n",
       "\n",
       "    .dataframe thead th {\n",
       "        text-align: right;\n",
       "    }\n",
       "</style>\n",
       "<table border=\"1\" class=\"dataframe\">\n",
       "  <thead>\n",
       "    <tr style=\"text-align: right;\">\n",
       "      <th></th>\n",
       "      <th>company_no</th>\n",
       "      <th>company_name</th>\n",
       "    </tr>\n",
       "  </thead>\n",
       "  <tbody>\n",
       "    <tr>\n",
       "      <th>36291</th>\n",
       "      <td>5567547392</td>\n",
       "      <td>Järfälla Rör AB</td>\n",
       "    </tr>\n",
       "    <tr>\n",
       "      <th>36292</th>\n",
       "      <td>5569112385</td>\n",
       "      <td>Swemål Bygg &amp; Måleri AB</td>\n",
       "    </tr>\n",
       "    <tr>\n",
       "      <th>36293</th>\n",
       "      <td>5569910986</td>\n",
       "      <td>Go Team AB</td>\n",
       "    </tr>\n",
       "    <tr>\n",
       "      <th>36294</th>\n",
       "      <td>5568060510</td>\n",
       "      <td>T &amp; P All el AB</td>\n",
       "    </tr>\n",
       "    <tr>\n",
       "      <th>36295</th>\n",
       "      <td>5569980161</td>\n",
       "      <td>Golvbevakning i Stockholm AB</td>\n",
       "    </tr>\n",
       "  </tbody>\n",
       "</table>\n",
       "</div>"
      ],
      "text/plain": [
       "       company_no                  company_name\n",
       "36291  5567547392               Järfälla Rör AB\n",
       "36292  5569112385       Swemål Bygg & Måleri AB\n",
       "36293  5569910986                    Go Team AB\n",
       "36294  5568060510               T & P All el AB\n",
       "36295  5569980161  Golvbevakning i Stockholm AB"
      ]
     },
     "execution_count": 3,
     "metadata": {},
     "output_type": "execute_result"
    }
   ],
   "source": [
    "company1.tail()"
   ]
  },
  {
   "cell_type": "code",
   "execution_count": 4,
   "metadata": {},
   "outputs": [
    {
     "data": {
      "text/plain": [
       "36187"
      ]
     },
     "execution_count": 4,
     "metadata": {},
     "output_type": "execute_result"
    }
   ],
   "source": [
    "company1['company_name'].nunique()"
   ]
  },
  {
   "cell_type": "code",
   "execution_count": 5,
   "metadata": {},
   "outputs": [
    {
     "data": {
      "text/plain": [
       "32288"
      ]
     },
     "execution_count": 5,
     "metadata": {},
     "output_type": "execute_result"
    }
   ],
   "source": [
    "company1['company_no'].nunique()"
   ]
  },
  {
   "cell_type": "code",
   "execution_count": 6,
   "metadata": {},
   "outputs": [
    {
     "data": {
      "text/html": [
       "<div>\n",
       "<style scoped>\n",
       "    .dataframe tbody tr th:only-of-type {\n",
       "        vertical-align: middle;\n",
       "    }\n",
       "\n",
       "    .dataframe tbody tr th {\n",
       "        vertical-align: top;\n",
       "    }\n",
       "\n",
       "    .dataframe thead th {\n",
       "        text-align: right;\n",
       "    }\n",
       "</style>\n",
       "<table border=\"1\" class=\"dataframe\">\n",
       "  <thead>\n",
       "    <tr style=\"text-align: right;\">\n",
       "      <th></th>\n",
       "      <th>company_no</th>\n",
       "      <th>company_name</th>\n",
       "    </tr>\n",
       "  </thead>\n",
       "  <tbody>\n",
       "    <tr>\n",
       "      <th>13</th>\n",
       "      <td>302370XXXX</td>\n",
       "      <td>APSEGA; ALGIMANTAS</td>\n",
       "    </tr>\n",
       "    <tr>\n",
       "      <th>2036</th>\n",
       "      <td>302370XXXX</td>\n",
       "      <td>APSEGA; ALGIMANTAS</td>\n",
       "    </tr>\n",
       "    <tr>\n",
       "      <th>25797</th>\n",
       "      <td>560105XXXX</td>\n",
       "      <td>Akalla lås 14 15 16</td>\n",
       "    </tr>\n",
       "    <tr>\n",
       "      <th>21847</th>\n",
       "      <td>560105XXXX</td>\n",
       "      <td>Akalla lås 14 15 16</td>\n",
       "    </tr>\n",
       "    <tr>\n",
       "      <th>605</th>\n",
       "      <td>302336XXXX</td>\n",
       "      <td>BANASZEWSKI; RADOSLAW PIOTR</td>\n",
       "    </tr>\n",
       "    <tr>\n",
       "      <th>1975</th>\n",
       "      <td>302336XXXX</td>\n",
       "      <td>BANASZEWSKI; RADOSLAW PIOTR</td>\n",
       "    </tr>\n",
       "    <tr>\n",
       "      <th>2028</th>\n",
       "      <td>302350XXXX</td>\n",
       "      <td>BARC; GRZEGORZ</td>\n",
       "    </tr>\n",
       "    <tr>\n",
       "      <th>183</th>\n",
       "      <td>302350XXXX</td>\n",
       "      <td>BARC; GRZEGORZ</td>\n",
       "    </tr>\n",
       "    <tr>\n",
       "      <th>306</th>\n",
       "      <td>302342XXXX</td>\n",
       "      <td>BETKA; KRZYSZTOF</td>\n",
       "    </tr>\n",
       "    <tr>\n",
       "      <th>1987</th>\n",
       "      <td>302342XXXX</td>\n",
       "      <td>BETKA; KRZYSZTOF</td>\n",
       "    </tr>\n",
       "    <tr>\n",
       "      <th>427</th>\n",
       "      <td>302350XXXX</td>\n",
       "      <td>BOLIN; DARIUSZ WOCIECH</td>\n",
       "    </tr>\n",
       "    <tr>\n",
       "      <th>2023</th>\n",
       "      <td>302350XXXX</td>\n",
       "      <td>BOLIN; DARIUSZ WOCIECH</td>\n",
       "    </tr>\n",
       "    <tr>\n",
       "      <th>2000</th>\n",
       "      <td>302346XXXX</td>\n",
       "      <td>BRYLINSKI; JOZEF</td>\n",
       "    </tr>\n",
       "    <tr>\n",
       "      <th>158</th>\n",
       "      <td>302346XXXX</td>\n",
       "      <td>BRYLINSKI; JOZEF</td>\n",
       "    </tr>\n",
       "    <tr>\n",
       "      <th>1990</th>\n",
       "      <td>302343XXXX</td>\n",
       "      <td>BRZOZOWSKI; ZBIGNIEW</td>\n",
       "    </tr>\n",
       "    <tr>\n",
       "      <th>335</th>\n",
       "      <td>302343XXXX</td>\n",
       "      <td>BRZOZOWSKI; ZBIGNIEW</td>\n",
       "    </tr>\n",
       "    <tr>\n",
       "      <th>186</th>\n",
       "      <td>302340XXXX</td>\n",
       "      <td>BUCZYNSKI; KAZIMIERZ</td>\n",
       "    </tr>\n",
       "    <tr>\n",
       "      <th>1980</th>\n",
       "      <td>302340XXXX</td>\n",
       "      <td>BUCZYNSKI; KAZIMIERZ</td>\n",
       "    </tr>\n",
       "    <tr>\n",
       "      <th>463</th>\n",
       "      <td>302340XXXX</td>\n",
       "      <td>CEBULA; KRZYSZTOF SYLWESTER</td>\n",
       "    </tr>\n",
       "    <tr>\n",
       "      <th>1907</th>\n",
       "      <td>302340XXXX</td>\n",
       "      <td>CEBULA; KRZYSZTOF SYLWESTER</td>\n",
       "    </tr>\n",
       "    <tr>\n",
       "      <th>1962</th>\n",
       "      <td>302280XXXX</td>\n",
       "      <td>CZECHERA; GRZEGORZ</td>\n",
       "    </tr>\n",
       "    <tr>\n",
       "      <th>512</th>\n",
       "      <td>302280XXXX</td>\n",
       "      <td>CZECHERA; GRZEGORZ</td>\n",
       "    </tr>\n",
       "    <tr>\n",
       "      <th>336</th>\n",
       "      <td>302348XXXX</td>\n",
       "      <td>DABROWSKI; ZBIGNIEW TADEUSZ</td>\n",
       "    </tr>\n",
       "    <tr>\n",
       "      <th>2012</th>\n",
       "      <td>302348XXXX</td>\n",
       "      <td>DABROWSKI; ZBIGNIEW TADEUSZ</td>\n",
       "    </tr>\n",
       "    <tr>\n",
       "      <th>316</th>\n",
       "      <td>302350XXXX</td>\n",
       "      <td>DOMANSKI; PIOTR JERZY</td>\n",
       "    </tr>\n",
       "    <tr>\n",
       "      <th>2022</th>\n",
       "      <td>302350XXXX</td>\n",
       "      <td>DOMANSKI; PIOTR JERZY</td>\n",
       "    </tr>\n",
       "    <tr>\n",
       "      <th>523</th>\n",
       "      <td>302351XXXX</td>\n",
       "      <td>DOMIN; JANUSZ PIOTR</td>\n",
       "    </tr>\n",
       "    <tr>\n",
       "      <th>2029</th>\n",
       "      <td>302351XXXX</td>\n",
       "      <td>DOMIN; JANUSZ PIOTR</td>\n",
       "    </tr>\n",
       "    <tr>\n",
       "      <th>1983</th>\n",
       "      <td>302340XXXX</td>\n",
       "      <td>DOROSZCZYK; JOZEF STANISLAW</td>\n",
       "    </tr>\n",
       "    <tr>\n",
       "      <th>620</th>\n",
       "      <td>302340XXXX</td>\n",
       "      <td>DOROSZCZYK; JOZEF STANISLAW</td>\n",
       "    </tr>\n",
       "  </tbody>\n",
       "</table>\n",
       "</div>"
      ],
      "text/plain": [
       "       company_no                 company_name\n",
       "13     302370XXXX           APSEGA; ALGIMANTAS\n",
       "2036   302370XXXX           APSEGA; ALGIMANTAS\n",
       "25797  560105XXXX          Akalla lås 14 15 16\n",
       "21847  560105XXXX          Akalla lås 14 15 16\n",
       "605    302336XXXX  BANASZEWSKI; RADOSLAW PIOTR\n",
       "1975   302336XXXX  BANASZEWSKI; RADOSLAW PIOTR\n",
       "2028   302350XXXX               BARC; GRZEGORZ\n",
       "183    302350XXXX               BARC; GRZEGORZ\n",
       "306    302342XXXX             BETKA; KRZYSZTOF\n",
       "1987   302342XXXX             BETKA; KRZYSZTOF\n",
       "427    302350XXXX       BOLIN; DARIUSZ WOCIECH\n",
       "2023   302350XXXX       BOLIN; DARIUSZ WOCIECH\n",
       "2000   302346XXXX             BRYLINSKI; JOZEF\n",
       "158    302346XXXX             BRYLINSKI; JOZEF\n",
       "1990   302343XXXX         BRZOZOWSKI; ZBIGNIEW\n",
       "335    302343XXXX         BRZOZOWSKI; ZBIGNIEW\n",
       "186    302340XXXX         BUCZYNSKI; KAZIMIERZ\n",
       "1980   302340XXXX         BUCZYNSKI; KAZIMIERZ\n",
       "463    302340XXXX  CEBULA; KRZYSZTOF SYLWESTER\n",
       "1907   302340XXXX  CEBULA; KRZYSZTOF SYLWESTER\n",
       "1962   302280XXXX           CZECHERA; GRZEGORZ\n",
       "512    302280XXXX           CZECHERA; GRZEGORZ\n",
       "336    302348XXXX  DABROWSKI; ZBIGNIEW TADEUSZ\n",
       "2012   302348XXXX  DABROWSKI; ZBIGNIEW TADEUSZ\n",
       "316    302350XXXX        DOMANSKI; PIOTR JERZY\n",
       "2022   302350XXXX        DOMANSKI; PIOTR JERZY\n",
       "523    302351XXXX          DOMIN; JANUSZ PIOTR\n",
       "2029   302351XXXX          DOMIN; JANUSZ PIOTR\n",
       "1983   302340XXXX  DOROSZCZYK; JOZEF STANISLAW\n",
       "620    302340XXXX  DOROSZCZYK; JOZEF STANISLAW"
      ]
     },
     "execution_count": 6,
     "metadata": {},
     "output_type": "execute_result"
    }
   ],
   "source": [
    "company1[company1.duplicated(['company_no','company_name'],keep=False)].sort_values(by=['company_name']).head(30)"
   ]
  },
  {
   "cell_type": "code",
   "execution_count": 7,
   "metadata": {},
   "outputs": [
    {
     "data": {
      "text/plain": [
       "2"
      ]
     },
     "execution_count": 7,
     "metadata": {},
     "output_type": "execute_result"
    }
   ],
   "source": [
    "company1[company1['company_name']==\"WOJCIECHOWSKI; RAFAL\"]['company_no'].nunique()"
   ]
  },
  {
   "cell_type": "code",
   "execution_count": 8,
   "metadata": {},
   "outputs": [
    {
     "name": "stdout",
     "output_type": "stream",
     "text": [
      "      company_no          company_name\n",
      "300   302383XXXX  WOJCIECHOWSKI; RAFAL\n",
      "315   302328XXXX  WOJCIECHOWSKI; RAFAL\n",
      "1969  302328XXXX  WOJCIECHOWSKI; RAFAL\n"
     ]
    },
    {
     "data": {
      "text/plain": [
       "False"
      ]
     },
     "execution_count": 8,
     "metadata": {},
     "output_type": "execute_result"
    }
   ],
   "source": [
    "# does the same company name have the same ID always NO\n",
    "b = True\n",
    "for name in company1['company_name'].unique():\n",
    "    # get all rows with the same id\n",
    "    ids = company1[company1['company_name'] == name]['company_no'].nunique()\n",
    "    if ids == 1:\n",
    "        continue\n",
    "    else:\n",
    "        b = False\n",
    "        print(company1[company1['company_name'] == name])\n",
    "        break\n",
    "b"
   ]
  },
  {
   "cell_type": "markdown",
   "metadata": {},
   "source": [
    "## Get all the data"
   ]
  },
  {
   "cell_type": "code",
   "execution_count": 9,
   "metadata": {},
   "outputs": [
    {
     "name": "stdout",
     "output_type": "stream",
     "text": [
      "(36296, 2)\n",
      "(20483, 2)\n",
      "(15335, 2)\n",
      "(15079, 2)\n",
      "(16301, 2)\n",
      "(16777, 2)\n",
      "(13931, 2)\n",
      "Total rows 134202\n"
     ]
    }
   ],
   "source": [
    "rows = 0\n",
    "company1 = pd.read_csv('../data/company1.csv',\n",
    "                              encoding='utf-8')\n",
    "print(company1.shape)\n",
    "rows += company1.shape[0]\n",
    "company2 = pd.read_csv('../data/company2.csv',\n",
    "                              encoding='utf-8')\n",
    "print(company2.shape)\n",
    "rows += company2.shape[0]\n",
    "company3 = pd.read_csv('../data/company3.csv',\n",
    "                              encoding='utf-8')\n",
    "print(company3.shape)\n",
    "rows += company3.shape[0]\n",
    "company46 = pd.read_csv('../data/company4-6.csv',\n",
    "                              encoding='utf-8')\n",
    "print(company46.shape)\n",
    "rows += company46.shape[0]\n",
    "company710 = pd.read_csv('../data/company7-10.csv',\n",
    "                              encoding='utf-8')\n",
    "print(company710.shape)\n",
    "rows += company710.shape[0]\n",
    "company1115 = pd.read_csv('../data/company11-15.csv',\n",
    "                              encoding='utf-8')\n",
    "print(company1115.shape)\n",
    "rows += company1115.shape[0]\n",
    "company1621 = pd.read_csv('../data/company16-21.csv',\n",
    "                              encoding='utf-8')\n",
    "print(company1621.shape)\n",
    "rows += company1621.shape[0]\n",
    "\n",
    "print(f\"Total rows {rows}\")"
   ]
  },
  {
   "cell_type": "code",
   "execution_count": 10,
   "metadata": {},
   "outputs": [],
   "source": [
    "companies = pd.DataFrame({'company_no':[],'company_name':[]})"
   ]
  },
  {
   "cell_type": "code",
   "execution_count": 11,
   "metadata": {},
   "outputs": [
    {
     "data": {
      "text/plain": [
       "(134202, 2)"
      ]
     },
     "execution_count": 11,
     "metadata": {},
     "output_type": "execute_result"
    }
   ],
   "source": [
    "companies = companies.append(company1, ignore_index=True)\n",
    "companies = companies.append(company2, ignore_index=True)\n",
    "companies = companies.append(company3, ignore_index=True)\n",
    "companies = companies.append(company46, ignore_index=True)\n",
    "companies = companies.append(company710, ignore_index=True)\n",
    "companies = companies.append(company1115, ignore_index=True)\n",
    "companies = companies.append(company1621, ignore_index=True)\n",
    "companies.shape"
   ]
  },
  {
   "cell_type": "code",
   "execution_count": 12,
   "metadata": {},
   "outputs": [
    {
     "name": "stdout",
     "output_type": "stream",
     "text": [
      "(15534, 2)\n"
     ]
    }
   ],
   "source": [
    "sample_companies = pd.read_csv(\"../../../../project_overview_sample_data/drive-download-20201127T093101Z-001/List of Base Companies.csv\",\n",
    "                              encoding='ISO-8859-1')\n",
    "sample_companies['company_no'] = sample_companies['company_no'].astype(str)\n",
    "print(sample_companies.shape)"
   ]
  },
  {
   "cell_type": "code",
   "execution_count": 13,
   "metadata": {},
   "outputs": [],
   "source": [
    "sample_companies = sample_companies.drop_duplicates(subset=['company_no','company_name'])"
   ]
  },
  {
   "cell_type": "code",
   "execution_count": 14,
   "metadata": {},
   "outputs": [],
   "source": [
    "new_companies = sample_companies[~sample_companies['company_no'].isin(companies['company_no'].unique())]"
   ]
  },
  {
   "cell_type": "code",
   "execution_count": 15,
   "metadata": {},
   "outputs": [
    {
     "data": {
      "text/plain": [
       "(1797, 2)"
      ]
     },
     "execution_count": 15,
     "metadata": {},
     "output_type": "execute_result"
    }
   ],
   "source": [
    "new_companies.shape"
   ]
  },
  {
   "cell_type": "code",
   "execution_count": 16,
   "metadata": {},
   "outputs": [],
   "source": [
    "companies = companies.append(new_companies, ignore_index=True)"
   ]
  },
  {
   "cell_type": "code",
   "execution_count": 17,
   "metadata": {},
   "outputs": [
    {
     "data": {
      "text/plain": [
       "(135999, 2)"
      ]
     },
     "execution_count": 17,
     "metadata": {},
     "output_type": "execute_result"
    }
   ],
   "source": [
    "companies.shape"
   ]
  },
  {
   "cell_type": "code",
   "execution_count": 18,
   "metadata": {},
   "outputs": [
    {
     "data": {
      "text/html": [
       "<div>\n",
       "<style scoped>\n",
       "    .dataframe tbody tr th:only-of-type {\n",
       "        vertical-align: middle;\n",
       "    }\n",
       "\n",
       "    .dataframe tbody tr th {\n",
       "        vertical-align: top;\n",
       "    }\n",
       "\n",
       "    .dataframe thead th {\n",
       "        text-align: right;\n",
       "    }\n",
       "</style>\n",
       "<table border=\"1\" class=\"dataframe\">\n",
       "  <thead>\n",
       "    <tr style=\"text-align: right;\">\n",
       "      <th></th>\n",
       "      <th>company_no</th>\n",
       "      <th>company_name</th>\n",
       "    </tr>\n",
       "  </thead>\n",
       "  <tbody>\n",
       "    <tr>\n",
       "      <th>135994</th>\n",
       "      <td>7704087316</td>\n",
       "      <td>1,2,3 Bygg</td>\n",
       "    </tr>\n",
       "    <tr>\n",
       "      <th>135995</th>\n",
       "      <td>5567148720</td>\n",
       "      <td>2Nd Planet AB</td>\n",
       "    </tr>\n",
       "    <tr>\n",
       "      <th>135996</th>\n",
       "      <td>5565409173</td>\n",
       "      <td>3L Måleri i Umeå AB</td>\n",
       "    </tr>\n",
       "    <tr>\n",
       "      <th>135997</th>\n",
       "      <td>5590056932</td>\n",
       "      <td>321 Bygg AB</td>\n",
       "    </tr>\n",
       "    <tr>\n",
       "      <th>135998</th>\n",
       "      <td>5568297674</td>\n",
       "      <td>83Ans Bygg AB</td>\n",
       "    </tr>\n",
       "  </tbody>\n",
       "</table>\n",
       "</div>"
      ],
      "text/plain": [
       "        company_no         company_name\n",
       "135994  7704087316           1,2,3 Bygg\n",
       "135995  5567148720        2Nd Planet AB\n",
       "135996  5565409173  3L Måleri i Umeå AB\n",
       "135997  5590056932          321 Bygg AB\n",
       "135998  5568297674        83Ans Bygg AB"
      ]
     },
     "execution_count": 18,
     "metadata": {},
     "output_type": "execute_result"
    }
   ],
   "source": [
    "companies.tail()"
   ]
  },
  {
   "cell_type": "code",
   "execution_count": 19,
   "metadata": {},
   "outputs": [
    {
     "data": {
      "text/plain": [
       "133749"
      ]
     },
     "execution_count": 19,
     "metadata": {},
     "output_type": "execute_result"
    }
   ],
   "source": [
    "companies['company_name'].nunique()"
   ]
  },
  {
   "cell_type": "code",
   "execution_count": 20,
   "metadata": {},
   "outputs": [
    {
     "data": {
      "text/plain": [
       "101868"
      ]
     },
     "execution_count": 20,
     "metadata": {},
     "output_type": "execute_result"
    }
   ],
   "source": [
    "companies['company_no'].nunique()"
   ]
  },
  {
   "cell_type": "code",
   "execution_count": 21,
   "metadata": {},
   "outputs": [
    {
     "data": {
      "text/plain": [
       "53632"
      ]
     },
     "execution_count": 21,
     "metadata": {},
     "output_type": "execute_result"
    }
   ],
   "source": [
    "# how many of the companies end in XXXX [this will make it hard scrape the financial data]\n",
    "count = 0\n",
    "for i in range(companies.shape[0]):\n",
    "    suffix = companies.iloc[i]['company_no'][-4:]\n",
    "    if suffix == 'XXXX':\n",
    "        count += 1\n",
    "count"
   ]
  },
  {
   "cell_type": "code",
   "execution_count": 22,
   "metadata": {},
   "outputs": [],
   "source": [
    "# removing duplicated rows\n",
    "companies = companies.drop_duplicates(subset=['company_no','company_name'])"
   ]
  },
  {
   "cell_type": "code",
   "execution_count": 23,
   "metadata": {},
   "outputs": [
    {
     "data": {
      "text/plain": [
       "(135879, 2)"
      ]
     },
     "execution_count": 23,
     "metadata": {},
     "output_type": "execute_result"
    }
   ],
   "source": [
    "companies.shape"
   ]
  },
  {
   "cell_type": "code",
   "execution_count": 24,
   "metadata": {},
   "outputs": [
    {
     "data": {
      "text/plain": [
       "133749"
      ]
     },
     "execution_count": 24,
     "metadata": {},
     "output_type": "execute_result"
    }
   ],
   "source": [
    "companies['company_name'].nunique()"
   ]
  },
  {
   "cell_type": "code",
   "execution_count": 25,
   "metadata": {},
   "outputs": [
    {
     "data": {
      "text/plain": [
       "101868"
      ]
     },
     "execution_count": 25,
     "metadata": {},
     "output_type": "execute_result"
    }
   ],
   "source": [
    "companies['company_no'].nunique()"
   ]
  },
  {
   "cell_type": "markdown",
   "metadata": {},
   "source": [
    "## Creating the dataset with all the companies that end in XXXX"
   ]
  },
  {
   "cell_type": "code",
   "execution_count": 26,
   "metadata": {},
   "outputs": [
    {
     "data": {
      "text/plain": [
       "53512"
      ]
     },
     "execution_count": 26,
     "metadata": {},
     "output_type": "execute_result"
    }
   ],
   "source": [
    "count = 0\n",
    "names = []\n",
    "numbers = []\n",
    "for i in range(companies.shape[0]):\n",
    "    suffix = companies.iloc[i]['company_no'][-4:]\n",
    "    if suffix == 'XXXX':\n",
    "        names.append(companies.iloc[i]['company_name'])\n",
    "        numbers.append(companies.iloc[i]['company_no'])\n",
    "        count += 1\n",
    "count"
   ]
  },
  {
   "cell_type": "code",
   "execution_count": 27,
   "metadata": {},
   "outputs": [],
   "source": [
    "xs = pd.DataFrame({'company_no':numbers,'company_name':names})"
   ]
  },
  {
   "cell_type": "code",
   "execution_count": 28,
   "metadata": {},
   "outputs": [
    {
     "data": {
      "text/plain": [
       "(53512, 2)"
      ]
     },
     "execution_count": 28,
     "metadata": {},
     "output_type": "execute_result"
    }
   ],
   "source": [
    "xs.shape"
   ]
  },
  {
   "cell_type": "code",
   "execution_count": 29,
   "metadata": {},
   "outputs": [
    {
     "data": {
      "text/html": [
       "<div>\n",
       "<style scoped>\n",
       "    .dataframe tbody tr th:only-of-type {\n",
       "        vertical-align: middle;\n",
       "    }\n",
       "\n",
       "    .dataframe tbody tr th {\n",
       "        vertical-align: top;\n",
       "    }\n",
       "\n",
       "    .dataframe thead th {\n",
       "        text-align: right;\n",
       "    }\n",
       "</style>\n",
       "<table border=\"1\" class=\"dataframe\">\n",
       "  <thead>\n",
       "    <tr style=\"text-align: right;\">\n",
       "      <th></th>\n",
       "      <th>company_no</th>\n",
       "      <th>company_name</th>\n",
       "    </tr>\n",
       "  </thead>\n",
       "  <tbody>\n",
       "    <tr>\n",
       "      <th>0</th>\n",
       "      <td>302363XXXX</td>\n",
       "      <td>KONIECZNY; WOJCIECH</td>\n",
       "    </tr>\n",
       "    <tr>\n",
       "      <th>1</th>\n",
       "      <td>302364XXXX</td>\n",
       "      <td>KREZOLEK; MARCIN OLAF</td>\n",
       "    </tr>\n",
       "    <tr>\n",
       "      <th>2</th>\n",
       "      <td>302371XXXX</td>\n",
       "      <td>JANECZKO; MONIKA MARIA</td>\n",
       "    </tr>\n",
       "    <tr>\n",
       "      <th>3</th>\n",
       "      <td>800817XXXX</td>\n",
       "      <td>R.Ny bygg &amp; entreprenad</td>\n",
       "    </tr>\n",
       "    <tr>\n",
       "      <th>4</th>\n",
       "      <td>880613XXXX</td>\n",
       "      <td>Habram; Gustaf</td>\n",
       "    </tr>\n",
       "    <tr>\n",
       "      <th>5</th>\n",
       "      <td>840708XXXX</td>\n",
       "      <td>Sevara Bygg</td>\n",
       "    </tr>\n",
       "    <tr>\n",
       "      <th>6</th>\n",
       "      <td>302338XXXX</td>\n",
       "      <td>JASIEWICZ; DANIEL ADAM</td>\n",
       "    </tr>\n",
       "    <tr>\n",
       "      <th>7</th>\n",
       "      <td>302347XXXX</td>\n",
       "      <td>KRAWIEC; STANISLAW</td>\n",
       "    </tr>\n",
       "    <tr>\n",
       "      <th>8</th>\n",
       "      <td>302366XXXX</td>\n",
       "      <td>TOKARZ; MAREK</td>\n",
       "    </tr>\n",
       "    <tr>\n",
       "      <th>9</th>\n",
       "      <td>302370XXXX</td>\n",
       "      <td>APSEGA; ALGIMANTAS</td>\n",
       "    </tr>\n",
       "    <tr>\n",
       "      <th>10</th>\n",
       "      <td>302370XXXX</td>\n",
       "      <td>ANDERSEN; SVEND BÖRJE</td>\n",
       "    </tr>\n",
       "    <tr>\n",
       "      <th>11</th>\n",
       "      <td>302382XXXX</td>\n",
       "      <td>JAKUBOWSKI; ADAM KSAWERY</td>\n",
       "    </tr>\n",
       "    <tr>\n",
       "      <th>12</th>\n",
       "      <td>000821XXXX</td>\n",
       "      <td>Alvo Bygg</td>\n",
       "    </tr>\n",
       "    <tr>\n",
       "      <th>13</th>\n",
       "      <td>302403XXXX</td>\n",
       "      <td>KULETA; LUKASZ MARCIN</td>\n",
       "    </tr>\n",
       "    <tr>\n",
       "      <th>14</th>\n",
       "      <td>771109XXXX</td>\n",
       "      <td>Kvarnlöf; Helén</td>\n",
       "    </tr>\n",
       "    <tr>\n",
       "      <th>15</th>\n",
       "      <td>302365XXXX</td>\n",
       "      <td>MÄRTEN; DANIEL</td>\n",
       "    </tr>\n",
       "    <tr>\n",
       "      <th>16</th>\n",
       "      <td>302369XXXX</td>\n",
       "      <td>URBANSKI; MARCIN ARTUR</td>\n",
       "    </tr>\n",
       "    <tr>\n",
       "      <th>17</th>\n",
       "      <td>302381XXXX</td>\n",
       "      <td>SIWIEC; GRZEGORZ PAWEL</td>\n",
       "    </tr>\n",
       "    <tr>\n",
       "      <th>18</th>\n",
       "      <td>640119XXXX</td>\n",
       "      <td>Helli; Martin</td>\n",
       "    </tr>\n",
       "    <tr>\n",
       "      <th>19</th>\n",
       "      <td>940330XXXX</td>\n",
       "      <td>SELLERSTRAND VVS</td>\n",
       "    </tr>\n",
       "  </tbody>\n",
       "</table>\n",
       "</div>"
      ],
      "text/plain": [
       "    company_no              company_name\n",
       "0   302363XXXX       KONIECZNY; WOJCIECH\n",
       "1   302364XXXX     KREZOLEK; MARCIN OLAF\n",
       "2   302371XXXX    JANECZKO; MONIKA MARIA\n",
       "3   800817XXXX   R.Ny bygg & entreprenad\n",
       "4   880613XXXX            Habram; Gustaf\n",
       "5   840708XXXX               Sevara Bygg\n",
       "6   302338XXXX    JASIEWICZ; DANIEL ADAM\n",
       "7   302347XXXX        KRAWIEC; STANISLAW\n",
       "8   302366XXXX             TOKARZ; MAREK\n",
       "9   302370XXXX        APSEGA; ALGIMANTAS\n",
       "10  302370XXXX     ANDERSEN; SVEND BÖRJE\n",
       "11  302382XXXX  JAKUBOWSKI; ADAM KSAWERY\n",
       "12  000821XXXX                 Alvo Bygg\n",
       "13  302403XXXX     KULETA; LUKASZ MARCIN\n",
       "14  771109XXXX           Kvarnlöf; Helén\n",
       "15  302365XXXX            MÄRTEN; DANIEL\n",
       "16  302369XXXX    URBANSKI; MARCIN ARTUR\n",
       "17  302381XXXX    SIWIEC; GRZEGORZ PAWEL\n",
       "18  640119XXXX             Helli; Martin\n",
       "19  940330XXXX          SELLERSTRAND VVS"
      ]
     },
     "execution_count": 29,
     "metadata": {},
     "output_type": "execute_result"
    }
   ],
   "source": [
    "xs.head(20)"
   ]
  },
  {
   "cell_type": "code",
   "execution_count": 30,
   "metadata": {},
   "outputs": [],
   "source": [
    "#xs.to_csv('../data/XS.csv')"
   ]
  },
  {
   "cell_type": "code",
   "execution_count": 31,
   "metadata": {},
   "outputs": [
    {
     "data": {
      "text/html": [
       "<div>\n",
       "<style scoped>\n",
       "    .dataframe tbody tr th:only-of-type {\n",
       "        vertical-align: middle;\n",
       "    }\n",
       "\n",
       "    .dataframe tbody tr th {\n",
       "        vertical-align: top;\n",
       "    }\n",
       "\n",
       "    .dataframe thead th {\n",
       "        text-align: right;\n",
       "    }\n",
       "</style>\n",
       "<table border=\"1\" class=\"dataframe\">\n",
       "  <thead>\n",
       "    <tr style=\"text-align: right;\">\n",
       "      <th></th>\n",
       "      <th>company_no</th>\n",
       "      <th>company_name</th>\n",
       "    </tr>\n",
       "  </thead>\n",
       "  <tbody>\n",
       "    <tr>\n",
       "      <th>4</th>\n",
       "      <td>880613XXXX</td>\n",
       "      <td>Habram; Gustaf</td>\n",
       "    </tr>\n",
       "    <tr>\n",
       "      <th>2</th>\n",
       "      <td>302371XXXX</td>\n",
       "      <td>JANECZKO; MONIKA MARIA</td>\n",
       "    </tr>\n",
       "    <tr>\n",
       "      <th>0</th>\n",
       "      <td>302363XXXX</td>\n",
       "      <td>KONIECZNY; WOJCIECH</td>\n",
       "    </tr>\n",
       "    <tr>\n",
       "      <th>1</th>\n",
       "      <td>302364XXXX</td>\n",
       "      <td>KREZOLEK; MARCIN OLAF</td>\n",
       "    </tr>\n",
       "    <tr>\n",
       "      <th>3</th>\n",
       "      <td>800817XXXX</td>\n",
       "      <td>R.Ny bygg &amp; entreprenad</td>\n",
       "    </tr>\n",
       "  </tbody>\n",
       "</table>\n",
       "</div>"
      ],
      "text/plain": [
       "   company_no             company_name\n",
       "4  880613XXXX           Habram; Gustaf\n",
       "2  302371XXXX   JANECZKO; MONIKA MARIA\n",
       "0  302363XXXX      KONIECZNY; WOJCIECH\n",
       "1  302364XXXX    KREZOLEK; MARCIN OLAF\n",
       "3  800817XXXX  R.Ny bygg & entreprenad"
      ]
     },
     "execution_count": 31,
     "metadata": {},
     "output_type": "execute_result"
    }
   ],
   "source": [
    "xs.head().sort_values(by='company_name')"
   ]
  },
  {
   "cell_type": "markdown",
   "metadata": {},
   "source": [
    "## Checking the number of XXXX companies that have financials"
   ]
  },
  {
   "cell_type": "markdown",
   "metadata": {},
   "source": [
    "### reading in the data"
   ]
  },
  {
   "cell_type": "code",
   "execution_count": 32,
   "metadata": {},
   "outputs": [],
   "source": [
    "f2000 = pd.read_csv(\"../data/first2000.csv\")"
   ]
  },
  {
   "cell_type": "code",
   "execution_count": 33,
   "metadata": {},
   "outputs": [],
   "source": [
    "s2000 = pd.read_csv(\"../data/second2000.csv\")"
   ]
  },
  {
   "cell_type": "code",
   "execution_count": 36,
   "metadata": {},
   "outputs": [],
   "source": [
    "l500 = pd.read_csv(\"../data/last500.csv\")"
   ]
  },
  {
   "cell_type": "code",
   "execution_count": 45,
   "metadata": {},
   "outputs": [],
   "source": [
    "sl500 = pd.read_csv(\"../data/secondlast500.csv\")"
   ]
  },
  {
   "cell_type": "code",
   "execution_count": 46,
   "metadata": {},
   "outputs": [],
   "source": [
    "tl500 = pd.read_csv(\"../data/thirdlast500.csv\")"
   ]
  },
  {
   "cell_type": "markdown",
   "metadata": {},
   "source": [
    "### checking the number of mis matches"
   ]
  },
  {
   "cell_type": "code",
   "execution_count": 37,
   "metadata": {},
   "outputs": [
    {
     "data": {
      "text/plain": [
       "(1692, 3)"
      ]
     },
     "execution_count": 37,
     "metadata": {},
     "output_type": "execute_result"
    }
   ],
   "source": [
    "f2000.shape"
   ]
  },
  {
   "cell_type": "code",
   "execution_count": 39,
   "metadata": {},
   "outputs": [
    {
     "data": {
      "text/plain": [
       "(264, 3)"
      ]
     },
     "execution_count": 39,
     "metadata": {},
     "output_type": "execute_result"
    }
   ],
   "source": [
    "l500.shape"
   ]
  },
  {
   "cell_type": "code",
   "execution_count": 40,
   "metadata": {},
   "outputs": [],
   "source": [
    "def count_mismatched(df):\n",
    "    c = 0\n",
    "    for i in range(df.shape[0]):\n",
    "        row = df.iloc[i]\n",
    "        sudo_num = row['company_no']\n",
    "        num = row['company_no_real']\n",
    "        if sudo_num[:6] != num[:6]:\n",
    "            c += 1\n",
    "            f2000.drop\n",
    "    return c"
   ]
  },
  {
   "cell_type": "code",
   "execution_count": 41,
   "metadata": {},
   "outputs": [
    {
     "data": {
      "text/plain": [
       "141"
      ]
     },
     "execution_count": 41,
     "metadata": {},
     "output_type": "execute_result"
    }
   ],
   "source": [
    "count_mismatched(f2000)"
   ]
  },
  {
   "cell_type": "code",
   "execution_count": 42,
   "metadata": {},
   "outputs": [
    {
     "data": {
      "text/plain": [
       "171"
      ]
     },
     "execution_count": 42,
     "metadata": {},
     "output_type": "execute_result"
    }
   ],
   "source": [
    "count_mismatched(s2000)"
   ]
  },
  {
   "cell_type": "code",
   "execution_count": 43,
   "metadata": {},
   "outputs": [
    {
     "data": {
      "text/plain": [
       "0"
      ]
     },
     "execution_count": 43,
     "metadata": {},
     "output_type": "execute_result"
    }
   ],
   "source": [
    "count_mismatched(l500)"
   ]
  },
  {
   "cell_type": "code",
   "execution_count": 47,
   "metadata": {},
   "outputs": [
    {
     "data": {
      "text/plain": [
       "0"
      ]
     },
     "execution_count": 47,
     "metadata": {},
     "output_type": "execute_result"
    }
   ],
   "source": [
    "count_mismatched(sl500)"
   ]
  },
  {
   "cell_type": "code",
   "execution_count": 48,
   "metadata": {},
   "outputs": [
    {
     "data": {
      "text/plain": [
       "0"
      ]
     },
     "execution_count": 48,
     "metadata": {},
     "output_type": "execute_result"
    }
   ],
   "source": [
    "count_mismatched(tl500)"
   ]
  },
  {
   "cell_type": "markdown",
   "metadata": {},
   "source": [
    "### Checking the number of XXXX compnaies that have financials "
   ]
  },
  {
   "cell_type": "code",
   "execution_count": 110,
   "metadata": {},
   "outputs": [],
   "source": [
    "def count_companies(df):\n",
    "    count = 0\n",
    "    for row in df['company'].unique():\n",
    "        name = row.lower()\n",
    "        for j in range(xs.shape[0]):\n",
    "            row2 = xs.iloc[j]\n",
    "            name2 = row2['company_name'].replace(\";\",\",\").lower()\n",
    "            if name == name2:\n",
    "                count += 1\n",
    "                print(count)\n",
    "                break\n",
    "                \n",
    "    return count"
   ]
  },
  {
   "cell_type": "code",
   "execution_count": 111,
   "metadata": {},
   "outputs": [],
   "source": [
    "fin_first4000 = pd.read_csv(\"../data/fin_first4000.csv\")"
   ]
  },
  {
   "cell_type": "code",
   "execution_count": 112,
   "metadata": {},
   "outputs": [
    {
     "data": {
      "text/plain": [
       "0"
      ]
     },
     "execution_count": 112,
     "metadata": {},
     "output_type": "execute_result"
    }
   ],
   "source": [
    "count_companies(fin_first4000)"
   ]
  },
  {
   "cell_type": "markdown",
   "metadata": {},
   "source": [
    "## Calculating the number of companies with XXXX I checked for financials"
   ]
  },
  {
   "cell_type": "code",
   "execution_count": 50,
   "metadata": {},
   "outputs": [
    {
     "data": {
      "text/plain": [
       "3596"
      ]
     },
     "execution_count": 50,
     "metadata": {},
     "output_type": "execute_result"
    }
   ],
   "source": [
    "(f2000.shape[0]-141) + (s2000.shape[0]-171) + l500.shape[0] + sl500.shape[0] + tl500.shape[0]"
   ]
  },
  {
   "cell_type": "markdown",
   "metadata": {},
   "source": [
    "## Create the dataset with no XXXXs in it"
   ]
  },
  {
   "cell_type": "code",
   "execution_count": 55,
   "metadata": {},
   "outputs": [
    {
     "data": {
      "text/plain": [
       "82367"
      ]
     },
     "execution_count": 55,
     "metadata": {},
     "output_type": "execute_result"
    }
   ],
   "source": [
    "count1 = 0\n",
    "names1 = []\n",
    "numbers1 = []\n",
    "for i in range(companies.shape[0]):\n",
    "    suffix = companies.iloc[i]['company_no'][-4:]\n",
    "    if suffix != 'XXXX':\n",
    "        names1.append(companies.iloc[i]['company_name'])\n",
    "        numbers1.append(companies.iloc[i]['company_no'])\n",
    "        count1 += 1\n",
    "count1"
   ]
  },
  {
   "cell_type": "code",
   "execution_count": 58,
   "metadata": {},
   "outputs": [],
   "source": [
    "final_companies = pd.DataFrame({'company_no':numbers1, 'company_name':names1})"
   ]
  },
  {
   "cell_type": "code",
   "execution_count": 59,
   "metadata": {},
   "outputs": [
    {
     "data": {
      "text/html": [
       "<div>\n",
       "<style scoped>\n",
       "    .dataframe tbody tr th:only-of-type {\n",
       "        vertical-align: middle;\n",
       "    }\n",
       "\n",
       "    .dataframe tbody tr th {\n",
       "        vertical-align: top;\n",
       "    }\n",
       "\n",
       "    .dataframe thead th {\n",
       "        text-align: right;\n",
       "    }\n",
       "</style>\n",
       "<table border=\"1\" class=\"dataframe\">\n",
       "  <thead>\n",
       "    <tr style=\"text-align: right;\">\n",
       "      <th></th>\n",
       "      <th>company_no</th>\n",
       "      <th>company_name</th>\n",
       "    </tr>\n",
       "  </thead>\n",
       "  <tbody>\n",
       "    <tr>\n",
       "      <th>82362</th>\n",
       "      <td>7704087316</td>\n",
       "      <td>1,2,3 Bygg</td>\n",
       "    </tr>\n",
       "    <tr>\n",
       "      <th>82363</th>\n",
       "      <td>5567148720</td>\n",
       "      <td>2Nd Planet AB</td>\n",
       "    </tr>\n",
       "    <tr>\n",
       "      <th>82364</th>\n",
       "      <td>5565409173</td>\n",
       "      <td>3L Måleri i Umeå AB</td>\n",
       "    </tr>\n",
       "    <tr>\n",
       "      <th>82365</th>\n",
       "      <td>5590056932</td>\n",
       "      <td>321 Bygg AB</td>\n",
       "    </tr>\n",
       "    <tr>\n",
       "      <th>82366</th>\n",
       "      <td>5568297674</td>\n",
       "      <td>83Ans Bygg AB</td>\n",
       "    </tr>\n",
       "  </tbody>\n",
       "</table>\n",
       "</div>"
      ],
      "text/plain": [
       "       company_no         company_name\n",
       "82362  7704087316           1,2,3 Bygg\n",
       "82363  5567148720        2Nd Planet AB\n",
       "82364  5565409173  3L Måleri i Umeå AB\n",
       "82365  5590056932          321 Bygg AB\n",
       "82366  5568297674        83Ans Bygg AB"
      ]
     },
     "execution_count": 59,
     "metadata": {},
     "output_type": "execute_result"
    }
   ],
   "source": [
    "final_companies.tail()"
   ]
  },
  {
   "cell_type": "code",
   "execution_count": 60,
   "metadata": {},
   "outputs": [
    {
     "data": {
      "text/plain": [
       "(82367, 2)"
      ]
     },
     "execution_count": 60,
     "metadata": {},
     "output_type": "execute_result"
    }
   ],
   "source": [
    "final_companies.shape"
   ]
  },
  {
   "cell_type": "code",
   "execution_count": 61,
   "metadata": {},
   "outputs": [
    {
     "data": {
      "text/plain": [
       "82337"
      ]
     },
     "execution_count": 61,
     "metadata": {},
     "output_type": "execute_result"
    }
   ],
   "source": [
    "final_companies['company_no'].nunique()"
   ]
  },
  {
   "cell_type": "code",
   "execution_count": 62,
   "metadata": {},
   "outputs": [
    {
     "data": {
      "text/plain": [
       "82358"
      ]
     },
     "execution_count": 62,
     "metadata": {},
     "output_type": "execute_result"
    }
   ],
   "source": [
    "final_companies['company_name'].nunique()"
   ]
  },
  {
   "cell_type": "code",
   "execution_count": 71,
   "metadata": {},
   "outputs": [
    {
     "data": {
      "text/html": [
       "<div>\n",
       "<style scoped>\n",
       "    .dataframe tbody tr th:only-of-type {\n",
       "        vertical-align: middle;\n",
       "    }\n",
       "\n",
       "    .dataframe tbody tr th {\n",
       "        vertical-align: top;\n",
       "    }\n",
       "\n",
       "    .dataframe thead th {\n",
       "        text-align: right;\n",
       "    }\n",
       "</style>\n",
       "<table border=\"1\" class=\"dataframe\">\n",
       "  <thead>\n",
       "    <tr style=\"text-align: right;\">\n",
       "      <th></th>\n",
       "      <th>company_no</th>\n",
       "      <th>company_name</th>\n",
       "    </tr>\n",
       "  </thead>\n",
       "  <tbody>\n",
       "  </tbody>\n",
       "</table>\n",
       "</div>"
      ],
      "text/plain": [
       "Empty DataFrame\n",
       "Columns: [company_no, company_name]\n",
       "Index: []"
      ]
     },
     "execution_count": 71,
     "metadata": {},
     "output_type": "execute_result"
    }
   ],
   "source": [
    "# there are no duplicates\n",
    "final_companies[final_companies.duplicated(['company_name','company_no'])]"
   ]
  },
  {
   "cell_type": "code",
   "execution_count": 69,
   "metadata": {},
   "outputs": [
    {
     "data": {
      "text/html": [
       "<div>\n",
       "<style scoped>\n",
       "    .dataframe tbody tr th:only-of-type {\n",
       "        vertical-align: middle;\n",
       "    }\n",
       "\n",
       "    .dataframe tbody tr th {\n",
       "        vertical-align: top;\n",
       "    }\n",
       "\n",
       "    .dataframe thead th {\n",
       "        text-align: right;\n",
       "    }\n",
       "</style>\n",
       "<table border=\"1\" class=\"dataframe\">\n",
       "  <thead>\n",
       "    <tr style=\"text-align: right;\">\n",
       "      <th></th>\n",
       "      <th>company_no</th>\n",
       "      <th>company_name</th>\n",
       "    </tr>\n",
       "  </thead>\n",
       "  <tbody>\n",
       "    <tr>\n",
       "      <th>35322</th>\n",
       "      <td>5567595490</td>\n",
       "      <td>Byggnadsfirma Rolf Johansson i Hunnebostrand AB</td>\n",
       "    </tr>\n",
       "    <tr>\n",
       "      <th>80802</th>\n",
       "      <td>5566620026</td>\n",
       "      <td>Byggnadsfirma Rolf Johansson i Hunnebostrand AB</td>\n",
       "    </tr>\n",
       "    <tr>\n",
       "      <th>30456</th>\n",
       "      <td>9697725795</td>\n",
       "      <td>CR Bygg Handelsbolag</td>\n",
       "    </tr>\n",
       "    <tr>\n",
       "      <th>52839</th>\n",
       "      <td>9697860295</td>\n",
       "      <td>CR Bygg Handelsbolag</td>\n",
       "    </tr>\n",
       "    <tr>\n",
       "      <th>22239</th>\n",
       "      <td>5590648803</td>\n",
       "      <td>JB Mark &amp; Bygg AB</td>\n",
       "    </tr>\n",
       "    <tr>\n",
       "      <th>81260</th>\n",
       "      <td>5590643937</td>\n",
       "      <td>JB Mark &amp; Bygg AB</td>\n",
       "    </tr>\n",
       "    <tr>\n",
       "      <th>76577</th>\n",
       "      <td>5565455457</td>\n",
       "      <td>Marklunds El AB</td>\n",
       "    </tr>\n",
       "    <tr>\n",
       "      <th>81512</th>\n",
       "      <td>5567389084</td>\n",
       "      <td>Marklunds El AB</td>\n",
       "    </tr>\n",
       "    <tr>\n",
       "      <th>81686</th>\n",
       "      <td>7705800592</td>\n",
       "      <td>Orda, Slawomir Mikolaj</td>\n",
       "    </tr>\n",
       "    <tr>\n",
       "      <th>81685</th>\n",
       "      <td>7705206055</td>\n",
       "      <td>Orda, Slawomir Mikolaj</td>\n",
       "    </tr>\n",
       "    <tr>\n",
       "      <th>18526</th>\n",
       "      <td>5566717418</td>\n",
       "      <td>Ryds Glas Stockholm AB</td>\n",
       "    </tr>\n",
       "    <tr>\n",
       "      <th>81852</th>\n",
       "      <td>5564310034</td>\n",
       "      <td>Ryds Glas Stockholm AB</td>\n",
       "    </tr>\n",
       "    <tr>\n",
       "      <th>82010</th>\n",
       "      <td>5590723556</td>\n",
       "      <td>Stockholm El-design AB</td>\n",
       "    </tr>\n",
       "    <tr>\n",
       "      <th>13077</th>\n",
       "      <td>5569770844</td>\n",
       "      <td>Stockholm El-design AB</td>\n",
       "    </tr>\n",
       "    <tr>\n",
       "      <th>24377</th>\n",
       "      <td>5592119407</td>\n",
       "      <td>Tomtec AB</td>\n",
       "    </tr>\n",
       "    <tr>\n",
       "      <th>82150</th>\n",
       "      <td>5568760440</td>\n",
       "      <td>Tomtec AB</td>\n",
       "    </tr>\n",
       "    <tr>\n",
       "      <th>69676</th>\n",
       "      <td>5590047774</td>\n",
       "      <td>Tärnaby Rör AB</td>\n",
       "    </tr>\n",
       "    <tr>\n",
       "      <th>82175</th>\n",
       "      <td>5566710710</td>\n",
       "      <td>Tärnaby Rör AB</td>\n",
       "    </tr>\n",
       "  </tbody>\n",
       "</table>\n",
       "</div>"
      ],
      "text/plain": [
       "       company_no                                     company_name\n",
       "35322  5567595490  Byggnadsfirma Rolf Johansson i Hunnebostrand AB\n",
       "80802  5566620026  Byggnadsfirma Rolf Johansson i Hunnebostrand AB\n",
       "30456  9697725795                             CR Bygg Handelsbolag\n",
       "52839  9697860295                             CR Bygg Handelsbolag\n",
       "22239  5590648803                                JB Mark & Bygg AB\n",
       "81260  5590643937                                JB Mark & Bygg AB\n",
       "76577  5565455457                                  Marklunds El AB\n",
       "81512  5567389084                                  Marklunds El AB\n",
       "81686  7705800592                           Orda, Slawomir Mikolaj\n",
       "81685  7705206055                           Orda, Slawomir Mikolaj\n",
       "18526  5566717418                           Ryds Glas Stockholm AB\n",
       "81852  5564310034                           Ryds Glas Stockholm AB\n",
       "82010  5590723556                           Stockholm El-design AB\n",
       "13077  5569770844                           Stockholm El-design AB\n",
       "24377  5592119407                                        Tomtec AB\n",
       "82150  5568760440                                        Tomtec AB\n",
       "69676  5590047774                                   Tärnaby Rör AB\n",
       "82175  5566710710                                   Tärnaby Rör AB"
      ]
     },
     "execution_count": 69,
     "metadata": {},
     "output_type": "execute_result"
    }
   ],
   "source": [
    "final_companies[final_companies.duplicated(['company_name'],keep=False)].sort_values(by='company_name')"
   ]
  },
  {
   "cell_type": "code",
   "execution_count": 70,
   "metadata": {},
   "outputs": [
    {
     "data": {
      "text/html": [
       "<div>\n",
       "<style scoped>\n",
       "    .dataframe tbody tr th:only-of-type {\n",
       "        vertical-align: middle;\n",
       "    }\n",
       "\n",
       "    .dataframe tbody tr th {\n",
       "        vertical-align: top;\n",
       "    }\n",
       "\n",
       "    .dataframe thead th {\n",
       "        text-align: right;\n",
       "    }\n",
       "</style>\n",
       "<table border=\"1\" class=\"dataframe\">\n",
       "  <thead>\n",
       "    <tr style=\"text-align: right;\">\n",
       "      <th></th>\n",
       "      <th>company_no</th>\n",
       "      <th>company_name</th>\n",
       "    </tr>\n",
       "  </thead>\n",
       "  <tbody>\n",
       "    <tr>\n",
       "      <th>82338</th>\n",
       "      <td>2120000415</td>\n",
       "      <td>Åtvidabergs kommun - Kultur och Samhällsbyggn ...</td>\n",
       "    </tr>\n",
       "    <tr>\n",
       "      <th>82337</th>\n",
       "      <td>2120000415</td>\n",
       "      <td>Åtvidabergs kommun - Korshults Återvinningscen...</td>\n",
       "    </tr>\n",
       "    <tr>\n",
       "      <th>82084</th>\n",
       "      <td>2120000563</td>\n",
       "      <td>Sävsjö kommun - Garage och Förråd</td>\n",
       "    </tr>\n",
       "    <tr>\n",
       "      <th>82085</th>\n",
       "      <td>2120000563</td>\n",
       "      <td>Sävsjö kommun - Park och Fastighetsenhet</td>\n",
       "    </tr>\n",
       "    <tr>\n",
       "      <th>82086</th>\n",
       "      <td>2120000563</td>\n",
       "      <td>Sävsjö kommun - Tekniska Förvaltningen</td>\n",
       "    </tr>\n",
       "    <tr>\n",
       "      <th>82239</th>\n",
       "      <td>2120000571</td>\n",
       "      <td>Vetlanda kommun - Gatuavdelningens Centralförråd</td>\n",
       "    </tr>\n",
       "    <tr>\n",
       "      <th>82240</th>\n",
       "      <td>2120000571</td>\n",
       "      <td>Vetlanda kommun - Trygghetslarm</td>\n",
       "    </tr>\n",
       "    <tr>\n",
       "      <th>82213</th>\n",
       "      <td>2120000605</td>\n",
       "      <td>Uppvidinge kommun - Förråd Lenhovda</td>\n",
       "    </tr>\n",
       "    <tr>\n",
       "      <th>82214</th>\n",
       "      <td>2120000605</td>\n",
       "      <td>Uppvidinge kommun - Förråd Nottebäck</td>\n",
       "    </tr>\n",
       "    <tr>\n",
       "      <th>82215</th>\n",
       "      <td>2120000605</td>\n",
       "      <td>Uppvidinge kommun - Förråd Åseda</td>\n",
       "    </tr>\n",
       "    <tr>\n",
       "      <th>82216</th>\n",
       "      <td>2120000605</td>\n",
       "      <td>Uppvidinge kommun - Förråd Älghult</td>\n",
       "    </tr>\n",
       "    <tr>\n",
       "      <th>82217</th>\n",
       "      <td>2120000605</td>\n",
       "      <td>Uppvidinge kommun - Kommunförråd Lenhovda</td>\n",
       "    </tr>\n",
       "    <tr>\n",
       "      <th>82218</th>\n",
       "      <td>2120000605</td>\n",
       "      <td>Uppvidinge kommun - Tekniska Kontoret Avdelnin...</td>\n",
       "    </tr>\n",
       "    <tr>\n",
       "      <th>82355</th>\n",
       "      <td>2120000860</td>\n",
       "      <td>Östra Göinge kommun - Tekniska Kontoret</td>\n",
       "    </tr>\n",
       "    <tr>\n",
       "      <th>82354</th>\n",
       "      <td>2120000860</td>\n",
       "      <td>Östra Göinge kommun - Kommunförråd och Verkstad</td>\n",
       "    </tr>\n",
       "    <tr>\n",
       "      <th>81690</th>\n",
       "      <td>2120000902</td>\n",
       "      <td>Osby kommun - Förrådet Gatukontorets Teknik</td>\n",
       "    </tr>\n",
       "    <tr>\n",
       "      <th>81689</th>\n",
       "      <td>2120000902</td>\n",
       "      <td>Osby kommun - Fastighetskontor Expedition</td>\n",
       "    </tr>\n",
       "    <tr>\n",
       "      <th>81039</th>\n",
       "      <td>2120001819</td>\n",
       "      <td>Forshaga kommun - Gatukontorets Personal Forshaga</td>\n",
       "    </tr>\n",
       "    <tr>\n",
       "      <th>81040</th>\n",
       "      <td>2120001819</td>\n",
       "      <td>Forshaga kommun - Gatukontorspersonal Deje</td>\n",
       "    </tr>\n",
       "    <tr>\n",
       "      <th>81502</th>\n",
       "      <td>2120002148</td>\n",
       "      <td>Malung-Sälens kommun - Service och Teknikförva...</td>\n",
       "    </tr>\n",
       "    <tr>\n",
       "      <th>81501</th>\n",
       "      <td>2120002148</td>\n",
       "      <td>Malung-Sälens kommun - Kommunförrådet</td>\n",
       "    </tr>\n",
       "    <tr>\n",
       "      <th>81464</th>\n",
       "      <td>2120002320</td>\n",
       "      <td>Ljusdals kommun - Lokalkontor Los Tekniska</td>\n",
       "    </tr>\n",
       "    <tr>\n",
       "      <th>81465</th>\n",
       "      <td>2120002320</td>\n",
       "      <td>Ljusdals kommun - Lokalkontor Ramsjö Tekniska</td>\n",
       "    </tr>\n",
       "    <tr>\n",
       "      <th>81463</th>\n",
       "      <td>2120002320</td>\n",
       "      <td>Ljusdals kommun - Driftavdelning och Förråd Te...</td>\n",
       "    </tr>\n",
       "    <tr>\n",
       "      <th>82033</th>\n",
       "      <td>2120002486</td>\n",
       "      <td>Strömsunds kommun - Förråd Hoting</td>\n",
       "    </tr>\n",
       "    <tr>\n",
       "      <th>82030</th>\n",
       "      <td>2120002486</td>\n",
       "      <td>Strömsunds kommun - Centralförråd och Verkstad</td>\n",
       "    </tr>\n",
       "    <tr>\n",
       "      <th>82031</th>\n",
       "      <td>2120002486</td>\n",
       "      <td>Strömsunds kommun - Förråd Gäddede och Vattenverk</td>\n",
       "    </tr>\n",
       "    <tr>\n",
       "      <th>82032</th>\n",
       "      <td>2120002486</td>\n",
       "      <td>Strömsunds kommun - Förråd Hammerdal</td>\n",
       "    </tr>\n",
       "    <tr>\n",
       "      <th>82026</th>\n",
       "      <td>2120002577</td>\n",
       "      <td>Storumans kommun - Kommunförråd Tärnaby</td>\n",
       "    </tr>\n",
       "    <tr>\n",
       "      <th>82025</th>\n",
       "      <td>2120002577</td>\n",
       "      <td>Storumans kommun - Kommunförråd Storuman</td>\n",
       "    </tr>\n",
       "    <tr>\n",
       "      <th>82359</th>\n",
       "      <td>2120002700</td>\n",
       "      <td>Övertorneå kommun - Hedenäset Förrådet</td>\n",
       "    </tr>\n",
       "    <tr>\n",
       "      <th>82358</th>\n",
       "      <td>2120002700</td>\n",
       "      <td>Övertorneå kommun - Förråd</td>\n",
       "    </tr>\n",
       "    <tr>\n",
       "      <th>80959</th>\n",
       "      <td>5562275775</td>\n",
       "      <td>Elstenen 100 AB</td>\n",
       "    </tr>\n",
       "    <tr>\n",
       "      <th>80960</th>\n",
       "      <td>5562275775</td>\n",
       "      <td>Elstenen 100 AB - Sba-Elektriska</td>\n",
       "    </tr>\n",
       "    <tr>\n",
       "      <th>81560</th>\n",
       "      <td>5563094472</td>\n",
       "      <td>Mjölby Rör AB - Ödeshögs-Filialen</td>\n",
       "    </tr>\n",
       "    <tr>\n",
       "      <th>81557</th>\n",
       "      <td>5563094472</td>\n",
       "      <td>Mjölby Rör AB - Gränna-Filialen</td>\n",
       "    </tr>\n",
       "    <tr>\n",
       "      <th>81558</th>\n",
       "      <td>5563094472</td>\n",
       "      <td>Mjölby Rör AB - Motala-Filialen</td>\n",
       "    </tr>\n",
       "    <tr>\n",
       "      <th>81559</th>\n",
       "      <td>5563094472</td>\n",
       "      <td>Mjölby Rör AB - Vadstena-Filialen</td>\n",
       "    </tr>\n",
       "    <tr>\n",
       "      <th>82039</th>\n",
       "      <td>5563916625</td>\n",
       "      <td>Styr.It AB - Regelab AB</td>\n",
       "    </tr>\n",
       "    <tr>\n",
       "      <th>82038</th>\n",
       "      <td>5563916625</td>\n",
       "      <td>Styr.It AB</td>\n",
       "    </tr>\n",
       "    <tr>\n",
       "      <th>81788</th>\n",
       "      <td>5564951589</td>\n",
       "      <td>Regelab AB</td>\n",
       "    </tr>\n",
       "    <tr>\n",
       "      <th>81789</th>\n",
       "      <td>5564951589</td>\n",
       "      <td>Regelab AB - Energigallerian</td>\n",
       "    </tr>\n",
       "    <tr>\n",
       "      <th>81628</th>\n",
       "      <td>5565154993</td>\n",
       "      <td>Nokas Teknik Öst AB - Linköping</td>\n",
       "    </tr>\n",
       "    <tr>\n",
       "      <th>81629</th>\n",
       "      <td>5565154993</td>\n",
       "      <td>Nokas Teknik Öst AB - Västerås</td>\n",
       "    </tr>\n",
       "    <tr>\n",
       "      <th>81630</th>\n",
       "      <td>5565154993</td>\n",
       "      <td>Nokas Teknik Öst AB - Örebro</td>\n",
       "    </tr>\n",
       "    <tr>\n",
       "      <th>81627</th>\n",
       "      <td>5565154993</td>\n",
       "      <td>Nokas Teknik Öst AB</td>\n",
       "    </tr>\n",
       "    <tr>\n",
       "      <th>80877</th>\n",
       "      <td>5567148555</td>\n",
       "      <td>Dala Vatten och Avfall AB - Va/Rör-Avd</td>\n",
       "    </tr>\n",
       "    <tr>\n",
       "      <th>80876</th>\n",
       "      <td>5567148555</td>\n",
       "      <td>Dala Vatten och Avfall AB - Gata/Parkavd</td>\n",
       "    </tr>\n",
       "  </tbody>\n",
       "</table>\n",
       "</div>"
      ],
      "text/plain": [
       "       company_no                                       company_name\n",
       "82338  2120000415  Åtvidabergs kommun - Kultur och Samhällsbyggn ...\n",
       "82337  2120000415  Åtvidabergs kommun - Korshults Återvinningscen...\n",
       "82084  2120000563                  Sävsjö kommun - Garage och Förråd\n",
       "82085  2120000563           Sävsjö kommun - Park och Fastighetsenhet\n",
       "82086  2120000563             Sävsjö kommun - Tekniska Förvaltningen\n",
       "82239  2120000571   Vetlanda kommun - Gatuavdelningens Centralförråd\n",
       "82240  2120000571                    Vetlanda kommun - Trygghetslarm\n",
       "82213  2120000605                Uppvidinge kommun - Förråd Lenhovda\n",
       "82214  2120000605               Uppvidinge kommun - Förråd Nottebäck\n",
       "82215  2120000605                   Uppvidinge kommun - Förråd Åseda\n",
       "82216  2120000605                 Uppvidinge kommun - Förråd Älghult\n",
       "82217  2120000605          Uppvidinge kommun - Kommunförråd Lenhovda\n",
       "82218  2120000605  Uppvidinge kommun - Tekniska Kontoret Avdelnin...\n",
       "82355  2120000860            Östra Göinge kommun - Tekniska Kontoret\n",
       "82354  2120000860    Östra Göinge kommun - Kommunförråd och Verkstad\n",
       "81690  2120000902        Osby kommun - Förrådet Gatukontorets Teknik\n",
       "81689  2120000902          Osby kommun - Fastighetskontor Expedition\n",
       "81039  2120001819  Forshaga kommun - Gatukontorets Personal Forshaga\n",
       "81040  2120001819         Forshaga kommun - Gatukontorspersonal Deje\n",
       "81502  2120002148  Malung-Sälens kommun - Service och Teknikförva...\n",
       "81501  2120002148              Malung-Sälens kommun - Kommunförrådet\n",
       "81464  2120002320         Ljusdals kommun - Lokalkontor Los Tekniska\n",
       "81465  2120002320      Ljusdals kommun - Lokalkontor Ramsjö Tekniska\n",
       "81463  2120002320  Ljusdals kommun - Driftavdelning och Förråd Te...\n",
       "82033  2120002486                  Strömsunds kommun - Förråd Hoting\n",
       "82030  2120002486     Strömsunds kommun - Centralförråd och Verkstad\n",
       "82031  2120002486  Strömsunds kommun - Förråd Gäddede och Vattenverk\n",
       "82032  2120002486               Strömsunds kommun - Förråd Hammerdal\n",
       "82026  2120002577            Storumans kommun - Kommunförråd Tärnaby\n",
       "82025  2120002577           Storumans kommun - Kommunförråd Storuman\n",
       "82359  2120002700             Övertorneå kommun - Hedenäset Förrådet\n",
       "82358  2120002700                         Övertorneå kommun - Förråd\n",
       "80959  5562275775                                    Elstenen 100 AB\n",
       "80960  5562275775                   Elstenen 100 AB - Sba-Elektriska\n",
       "81560  5563094472                  Mjölby Rör AB - Ödeshögs-Filialen\n",
       "81557  5563094472                    Mjölby Rör AB - Gränna-Filialen\n",
       "81558  5563094472                    Mjölby Rör AB - Motala-Filialen\n",
       "81559  5563094472                  Mjölby Rör AB - Vadstena-Filialen\n",
       "82039  5563916625                            Styr.It AB - Regelab AB\n",
       "82038  5563916625                                         Styr.It AB\n",
       "81788  5564951589                                         Regelab AB\n",
       "81789  5564951589                       Regelab AB - Energigallerian\n",
       "81628  5565154993                    Nokas Teknik Öst AB - Linköping\n",
       "81629  5565154993                     Nokas Teknik Öst AB - Västerås\n",
       "81630  5565154993                       Nokas Teknik Öst AB - Örebro\n",
       "81627  5565154993                                Nokas Teknik Öst AB\n",
       "80877  5567148555             Dala Vatten och Avfall AB - Va/Rör-Avd\n",
       "80876  5567148555           Dala Vatten och Avfall AB - Gata/Parkavd"
      ]
     },
     "execution_count": 70,
     "metadata": {},
     "output_type": "execute_result"
    }
   ],
   "source": [
    "final_companies[final_companies.duplicated(['company_no'],keep=False)].sort_values(by='company_no')"
   ]
  },
  {
   "cell_type": "code",
   "execution_count": 75,
   "metadata": {},
   "outputs": [],
   "source": [
    "final_companies.to_csv('../data/financials/final_companies.csv')"
   ]
  },
  {
   "cell_type": "code",
   "execution_count": null,
   "metadata": {},
   "outputs": [],
   "source": []
  }
 ],
 "metadata": {
  "kernelspec": {
   "display_name": "Python 3",
   "language": "python",
   "name": "python3"
  },
  "language_info": {
   "codemirror_mode": {
    "name": "ipython",
    "version": 3
   },
   "file_extension": ".py",
   "mimetype": "text/x-python",
   "name": "python",
   "nbconvert_exporter": "python",
   "pygments_lexer": "ipython3",
   "version": "3.8.5"
  }
 },
 "nbformat": 4,
 "nbformat_minor": 4
}
