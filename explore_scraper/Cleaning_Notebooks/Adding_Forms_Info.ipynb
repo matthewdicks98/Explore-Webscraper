{
 "cells": [
  {
   "cell_type": "code",
   "execution_count": 2,
   "metadata": {},
   "outputs": [],
   "source": [
    "import numpy as np\n",
    "import pandas as pd\n",
    "import warnings\n",
    "warnings.filterwarnings(\"ignore\")"
   ]
  },
  {
   "cell_type": "code",
   "execution_count": 2,
   "metadata": {},
   "outputs": [],
   "source": [
    "data = pd.read_csv(\"../data/financials/financials_status_clean1.csv\")"
   ]
  },
  {
   "cell_type": "code",
   "execution_count": 3,
   "metadata": {},
   "outputs": [],
   "source": [
    "forms_0_30 = pd.read_csv(\"../data/financials/forms_0_30000.csv\")"
   ]
  },
  {
   "cell_type": "code",
   "execution_count": 4,
   "metadata": {},
   "outputs": [],
   "source": [
    "forms_30_ = pd.read_csv(\"../data/financials/forms_30000_.csv\")"
   ]
  },
  {
   "cell_type": "code",
   "execution_count": 5,
   "metadata": {},
   "outputs": [],
   "source": [
    "forms_rest = pd.read_csv(\"../data/financials/forms_rest.csv\")"
   ]
  },
  {
   "cell_type": "code",
   "execution_count": 6,
   "metadata": {},
   "outputs": [],
   "source": [
    "forms = forms_0_30.append(forms_30_,ignore_index=True)\n",
    "forms = forms.append(forms_rest,ignore_index=True)"
   ]
  },
  {
   "cell_type": "code",
   "execution_count": 7,
   "metadata": {},
   "outputs": [
    {
     "data": {
      "text/plain": [
       "(68993, 7)"
      ]
     },
     "execution_count": 7,
     "metadata": {},
     "output_type": "execute_result"
    }
   ],
   "source": [
    "forms.shape"
   ]
  },
  {
   "cell_type": "code",
   "execution_count": 8,
   "metadata": {},
   "outputs": [
    {
     "data": {
      "text/plain": [
       "68995"
      ]
     },
     "execution_count": 8,
     "metadata": {},
     "output_type": "execute_result"
    }
   ],
   "source": [
    "data['id'].nunique()"
   ]
  },
  {
   "cell_type": "code",
   "execution_count": 9,
   "metadata": {},
   "outputs": [],
   "source": [
    "form_ids = forms['id'].unique()"
   ]
  },
  {
   "cell_type": "code",
   "execution_count": 10,
   "metadata": {},
   "outputs": [
    {
     "data": {
      "text/html": [
       "<div>\n",
       "<style scoped>\n",
       "    .dataframe tbody tr th:only-of-type {\n",
       "        vertical-align: middle;\n",
       "    }\n",
       "\n",
       "    .dataframe tbody tr th {\n",
       "        vertical-align: top;\n",
       "    }\n",
       "\n",
       "    .dataframe thead th {\n",
       "        text-align: right;\n",
       "    }\n",
       "</style>\n",
       "<table border=\"1\" class=\"dataframe\">\n",
       "  <thead>\n",
       "    <tr style=\"text-align: right;\">\n",
       "      <th></th>\n",
       "      <th>company</th>\n",
       "      <th>id</th>\n",
       "      <th>date</th>\n",
       "      <th>net_sales</th>\n",
       "      <th>other_sales</th>\n",
       "      <th>op_profit_ebit</th>\n",
       "      <th>prof_after_net_fin_items</th>\n",
       "      <th>results</th>\n",
       "      <th>sub_unpaid_cap</th>\n",
       "      <th>fixed_assets</th>\n",
       "      <th>...</th>\n",
       "      <th>working_cap</th>\n",
       "      <th>solidity_equity_assets_ratio</th>\n",
       "      <th>cash_liquidity_quick_ratio</th>\n",
       "      <th>status_bool</th>\n",
       "      <th>date_diff</th>\n",
       "      <th>default_date</th>\n",
       "      <th>status</th>\n",
       "      <th>actual_status</th>\n",
       "      <th>remark</th>\n",
       "      <th>year</th>\n",
       "    </tr>\n",
       "  </thead>\n",
       "  <tbody>\n",
       "    <tr>\n",
       "      <th>0</th>\n",
       "      <td>Lily Properties AB</td>\n",
       "      <td>5590655865</td>\n",
       "      <td>2019-12</td>\n",
       "      <td>0.0</td>\n",
       "      <td>NaN</td>\n",
       "      <td>-44.0</td>\n",
       "      <td>-44.0</td>\n",
       "      <td>-44.0</td>\n",
       "      <td>0.0</td>\n",
       "      <td>99.0</td>\n",
       "      <td>...</td>\n",
       "      <td>NaN</td>\n",
       "      <td>68.63</td>\n",
       "      <td>57.14</td>\n",
       "      <td>0</td>\n",
       "      <td>NaN</td>\n",
       "      <td>NaN</td>\n",
       "      <td>active</td>\n",
       "      <td>NaN</td>\n",
       "      <td>NaN</td>\n",
       "      <td>2019</td>\n",
       "    </tr>\n",
       "    <tr>\n",
       "      <th>1</th>\n",
       "      <td>Lily Properties AB</td>\n",
       "      <td>5590655865</td>\n",
       "      <td>2018-12</td>\n",
       "      <td>0.0</td>\n",
       "      <td>NaN</td>\n",
       "      <td>-72.0</td>\n",
       "      <td>-72.0</td>\n",
       "      <td>-72.0</td>\n",
       "      <td>0.0</td>\n",
       "      <td>130.0</td>\n",
       "      <td>...</td>\n",
       "      <td>NaN</td>\n",
       "      <td>75.13</td>\n",
       "      <td>81.63</td>\n",
       "      <td>0</td>\n",
       "      <td>NaN</td>\n",
       "      <td>NaN</td>\n",
       "      <td>active</td>\n",
       "      <td>NaN</td>\n",
       "      <td>NaN</td>\n",
       "      <td>2018</td>\n",
       "    </tr>\n",
       "    <tr>\n",
       "      <th>2</th>\n",
       "      <td>Lily Properties AB</td>\n",
       "      <td>5590655865</td>\n",
       "      <td>2017-12</td>\n",
       "      <td>28.0</td>\n",
       "      <td>NaN</td>\n",
       "      <td>-279.0</td>\n",
       "      <td>-279.0</td>\n",
       "      <td>-279.0</td>\n",
       "      <td>0.0</td>\n",
       "      <td>160.0</td>\n",
       "      <td>...</td>\n",
       "      <td>1282.14</td>\n",
       "      <td>91.23</td>\n",
       "      <td>764.00</td>\n",
       "      <td>0</td>\n",
       "      <td>NaN</td>\n",
       "      <td>NaN</td>\n",
       "      <td>active</td>\n",
       "      <td>NaN</td>\n",
       "      <td>NaN</td>\n",
       "      <td>2017</td>\n",
       "    </tr>\n",
       "    <tr>\n",
       "      <th>3</th>\n",
       "      <td>Lily Properties AB</td>\n",
       "      <td>5590655865</td>\n",
       "      <td>2016-12</td>\n",
       "      <td>0.0</td>\n",
       "      <td>NaN</td>\n",
       "      <td>-226.0</td>\n",
       "      <td>749.0</td>\n",
       "      <td>749.0</td>\n",
       "      <td>0.0</td>\n",
       "      <td>801.0</td>\n",
       "      <td>...</td>\n",
       "      <td>NaN</td>\n",
       "      <td>94.22</td>\n",
       "      <td>40.82</td>\n",
       "      <td>0</td>\n",
       "      <td>NaN</td>\n",
       "      <td>NaN</td>\n",
       "      <td>active</td>\n",
       "      <td>NaN</td>\n",
       "      <td>NaN</td>\n",
       "      <td>2016</td>\n",
       "    </tr>\n",
       "    <tr>\n",
       "      <th>4</th>\n",
       "      <td>Fogdetorps El Aktiebolag</td>\n",
       "      <td>5564709904</td>\n",
       "      <td>2019-12</td>\n",
       "      <td>0.0</td>\n",
       "      <td>NaN</td>\n",
       "      <td>-62.0</td>\n",
       "      <td>7938.0</td>\n",
       "      <td>7938.0</td>\n",
       "      <td>0.0</td>\n",
       "      <td>8649.0</td>\n",
       "      <td>...</td>\n",
       "      <td>NaN</td>\n",
       "      <td>74.29</td>\n",
       "      <td>269.62</td>\n",
       "      <td>0</td>\n",
       "      <td>NaN</td>\n",
       "      <td>NaN</td>\n",
       "      <td>active</td>\n",
       "      <td>NaN</td>\n",
       "      <td>NaN</td>\n",
       "      <td>2019</td>\n",
       "    </tr>\n",
       "  </tbody>\n",
       "</table>\n",
       "<p>5 rows × 43 columns</p>\n",
       "</div>"
      ],
      "text/plain": [
       "                    company          id     date  net_sales  other_sales  \\\n",
       "0        Lily Properties AB  5590655865  2019-12        0.0          NaN   \n",
       "1        Lily Properties AB  5590655865  2018-12        0.0          NaN   \n",
       "2        Lily Properties AB  5590655865  2017-12       28.0          NaN   \n",
       "3        Lily Properties AB  5590655865  2016-12        0.0          NaN   \n",
       "4  Fogdetorps El Aktiebolag  5564709904  2019-12        0.0          NaN   \n",
       "\n",
       "   op_profit_ebit  prof_after_net_fin_items  results  sub_unpaid_cap  \\\n",
       "0           -44.0                     -44.0    -44.0             0.0   \n",
       "1           -72.0                     -72.0    -72.0             0.0   \n",
       "2          -279.0                    -279.0   -279.0             0.0   \n",
       "3          -226.0                     749.0    749.0             0.0   \n",
       "4           -62.0                    7938.0   7938.0             0.0   \n",
       "\n",
       "   fixed_assets  ...  working_cap  solidity_equity_assets_ratio  \\\n",
       "0          99.0  ...          NaN                         68.63   \n",
       "1         130.0  ...          NaN                         75.13   \n",
       "2         160.0  ...      1282.14                         91.23   \n",
       "3         801.0  ...          NaN                         94.22   \n",
       "4        8649.0  ...          NaN                         74.29   \n",
       "\n",
       "   cash_liquidity_quick_ratio  status_bool  date_diff  default_date  status  \\\n",
       "0                       57.14            0        NaN           NaN  active   \n",
       "1                       81.63            0        NaN           NaN  active   \n",
       "2                      764.00            0        NaN           NaN  active   \n",
       "3                       40.82            0        NaN           NaN  active   \n",
       "4                      269.62            0        NaN           NaN  active   \n",
       "\n",
       "   actual_status  remark  year  \n",
       "0            NaN     NaN  2019  \n",
       "1            NaN     NaN  2018  \n",
       "2            NaN     NaN  2017  \n",
       "3            NaN     NaN  2016  \n",
       "4            NaN     NaN  2019  \n",
       "\n",
       "[5 rows x 43 columns]"
      ]
     },
     "execution_count": 10,
     "metadata": {},
     "output_type": "execute_result"
    }
   ],
   "source": [
    "data.head()"
   ]
  },
  {
   "cell_type": "code",
   "execution_count": 11,
   "metadata": {},
   "outputs": [
    {
     "data": {
      "text/html": [
       "<div>\n",
       "<style scoped>\n",
       "    .dataframe tbody tr th:only-of-type {\n",
       "        vertical-align: middle;\n",
       "    }\n",
       "\n",
       "    .dataframe tbody tr th {\n",
       "        vertical-align: top;\n",
       "    }\n",
       "\n",
       "    .dataframe thead th {\n",
       "        text-align: right;\n",
       "    }\n",
       "</style>\n",
       "<table border=\"1\" class=\"dataframe\">\n",
       "  <thead>\n",
       "    <tr style=\"text-align: right;\">\n",
       "      <th></th>\n",
       "      <th>company</th>\n",
       "      <th>id</th>\n",
       "      <th>company_form</th>\n",
       "      <th>county</th>\n",
       "      <th>industry</th>\n",
       "      <th>operation</th>\n",
       "      <th>registered_date</th>\n",
       "    </tr>\n",
       "  </thead>\n",
       "  <tbody>\n",
       "    <tr>\n",
       "      <th>0</th>\n",
       "      <td>Lily Properties AB</td>\n",
       "      <td>5590655865</td>\n",
       "      <td>Aktiebolag</td>\n",
       "      <td>Stockholms län</td>\n",
       "      <td>Bygg-; Design- &amp; Inredningsverksamhet</td>\n",
       "      <td>Byggverksamhet</td>\n",
       "      <td>2016-06-07</td>\n",
       "    </tr>\n",
       "    <tr>\n",
       "      <th>1</th>\n",
       "      <td>Fogdetorps El Aktiebolag</td>\n",
       "      <td>5564709904</td>\n",
       "      <td>Aktiebolag</td>\n",
       "      <td>Stockholms län</td>\n",
       "      <td>Bygg-; Design- &amp; Inredningsverksamhet</td>\n",
       "      <td>El-VVS &amp; Bygginstallationer</td>\n",
       "      <td>1993-08-09</td>\n",
       "    </tr>\n",
       "    <tr>\n",
       "      <th>2</th>\n",
       "      <td>Årsta Markentreprenad AB</td>\n",
       "      <td>5592051295</td>\n",
       "      <td>Aktiebolag</td>\n",
       "      <td>Stockholms län</td>\n",
       "      <td>Bygg-; Design- &amp; Inredningsverksamhet</td>\n",
       "      <td>Anläggningsarbeten</td>\n",
       "      <td>2019-05-10</td>\n",
       "    </tr>\n",
       "    <tr>\n",
       "      <th>3</th>\n",
       "      <td>Sportgolvsgruppen Sverige AB</td>\n",
       "      <td>5568855877</td>\n",
       "      <td>Aktiebolag</td>\n",
       "      <td>Stockholms län</td>\n",
       "      <td>Bygg-; Design- &amp; Inredningsverksamhet</td>\n",
       "      <td>Golv- &amp; Väggbeläggningsarbeten</td>\n",
       "      <td>2012-02-28</td>\n",
       "    </tr>\n",
       "    <tr>\n",
       "      <th>4</th>\n",
       "      <td>J.N. Kraftinstallatörer Aktiebolag</td>\n",
       "      <td>5591365738</td>\n",
       "      <td>Aktiebolag</td>\n",
       "      <td>Stockholms län</td>\n",
       "      <td>Bygg-; Design- &amp; Inredningsverksamhet</td>\n",
       "      <td>El-VVS &amp; Bygginstallationer</td>\n",
       "      <td>2017-12-01</td>\n",
       "    </tr>\n",
       "  </tbody>\n",
       "</table>\n",
       "</div>"
      ],
      "text/plain": [
       "                              company          id company_form  \\\n",
       "0                  Lily Properties AB  5590655865   Aktiebolag   \n",
       "1            Fogdetorps El Aktiebolag  5564709904   Aktiebolag   \n",
       "2            Årsta Markentreprenad AB  5592051295   Aktiebolag   \n",
       "3        Sportgolvsgruppen Sverige AB  5568855877   Aktiebolag   \n",
       "4  J.N. Kraftinstallatörer Aktiebolag  5591365738   Aktiebolag   \n",
       "\n",
       "           county                               industry  \\\n",
       "0  Stockholms län  Bygg-; Design- & Inredningsverksamhet   \n",
       "1  Stockholms län  Bygg-; Design- & Inredningsverksamhet   \n",
       "2  Stockholms län  Bygg-; Design- & Inredningsverksamhet   \n",
       "3  Stockholms län  Bygg-; Design- & Inredningsverksamhet   \n",
       "4  Stockholms län  Bygg-; Design- & Inredningsverksamhet   \n",
       "\n",
       "                        operation registered_date  \n",
       "0                  Byggverksamhet      2016-06-07  \n",
       "1     El-VVS & Bygginstallationer      1993-08-09  \n",
       "2              Anläggningsarbeten      2019-05-10  \n",
       "3  Golv- & Väggbeläggningsarbeten      2012-02-28  \n",
       "4     El-VVS & Bygginstallationer      2017-12-01  "
      ]
     },
     "execution_count": 11,
     "metadata": {},
     "output_type": "execute_result"
    }
   ],
   "source": [
    "forms.head()"
   ]
  },
  {
   "cell_type": "markdown",
   "metadata": {},
   "source": [
    "## Making sure all ids in data are in forms\n",
    "Missed two inactive companies because they were removed"
   ]
  },
  {
   "cell_type": "code",
   "execution_count": 12,
   "metadata": {},
   "outputs": [
    {
     "data": {
      "text/plain": [
       "68993"
      ]
     },
     "execution_count": 12,
     "metadata": {},
     "output_type": "execute_result"
    }
   ],
   "source": [
    "data[data['id'].isin(form_ids)]['id'].nunique()"
   ]
  },
  {
   "cell_type": "code",
   "execution_count": 13,
   "metadata": {},
   "outputs": [],
   "source": [
    "data = data[data['id'].isin(form_ids)]"
   ]
  },
  {
   "cell_type": "code",
   "execution_count": 14,
   "metadata": {},
   "outputs": [
    {
     "data": {
      "text/plain": [
       "1805"
      ]
     },
     "execution_count": 14,
     "metadata": {},
     "output_type": "execute_result"
    }
   ],
   "source": [
    "data[data['status_bool']==1]['id'].nunique()"
   ]
  },
  {
   "cell_type": "markdown",
   "metadata": {},
   "source": [
    "## Adding the form information"
   ]
  },
  {
   "cell_type": "code",
   "execution_count": 15,
   "metadata": {},
   "outputs": [],
   "source": [
    "data['company_form'] = [np.nan]*data.shape[0]\n",
    "data['county'] = [np.nan]*data.shape[0]\n",
    "data['industry'] = [np.nan]*data.shape[0]\n",
    "data['operation'] = [np.nan]*data.shape[0]\n",
    "data['registered_date'] = [np.nan]*data.shape[0]"
   ]
  },
  {
   "cell_type": "code",
   "execution_count": 16,
   "metadata": {},
   "outputs": [
    {
     "data": {
      "text/html": [
       "<div>\n",
       "<style scoped>\n",
       "    .dataframe tbody tr th:only-of-type {\n",
       "        vertical-align: middle;\n",
       "    }\n",
       "\n",
       "    .dataframe tbody tr th {\n",
       "        vertical-align: top;\n",
       "    }\n",
       "\n",
       "    .dataframe thead th {\n",
       "        text-align: right;\n",
       "    }\n",
       "</style>\n",
       "<table border=\"1\" class=\"dataframe\">\n",
       "  <thead>\n",
       "    <tr style=\"text-align: right;\">\n",
       "      <th></th>\n",
       "      <th>company</th>\n",
       "      <th>id</th>\n",
       "      <th>company_form</th>\n",
       "      <th>county</th>\n",
       "      <th>industry</th>\n",
       "      <th>operation</th>\n",
       "      <th>registered_date</th>\n",
       "    </tr>\n",
       "  </thead>\n",
       "  <tbody>\n",
       "    <tr>\n",
       "      <th>0</th>\n",
       "      <td>Lily Properties AB</td>\n",
       "      <td>5590655865</td>\n",
       "      <td>Aktiebolag</td>\n",
       "      <td>Stockholms län</td>\n",
       "      <td>Bygg-; Design- &amp; Inredningsverksamhet</td>\n",
       "      <td>Byggverksamhet</td>\n",
       "      <td>2016-06-07</td>\n",
       "    </tr>\n",
       "  </tbody>\n",
       "</table>\n",
       "</div>"
      ],
      "text/plain": [
       "              company          id company_form          county  \\\n",
       "0  Lily Properties AB  5590655865   Aktiebolag  Stockholms län   \n",
       "\n",
       "                                industry       operation registered_date  \n",
       "0  Bygg-; Design- & Inredningsverksamhet  Byggverksamhet      2016-06-07  "
      ]
     },
     "execution_count": 16,
     "metadata": {},
     "output_type": "execute_result"
    }
   ],
   "source": [
    "forms.head(1)"
   ]
  },
  {
   "cell_type": "code",
   "execution_count": 17,
   "metadata": {},
   "outputs": [
    {
     "data": {
      "text/html": [
       "<div>\n",
       "<style scoped>\n",
       "    .dataframe tbody tr th:only-of-type {\n",
       "        vertical-align: middle;\n",
       "    }\n",
       "\n",
       "    .dataframe tbody tr th {\n",
       "        vertical-align: top;\n",
       "    }\n",
       "\n",
       "    .dataframe thead th {\n",
       "        text-align: right;\n",
       "    }\n",
       "</style>\n",
       "<table border=\"1\" class=\"dataframe\">\n",
       "  <thead>\n",
       "    <tr style=\"text-align: right;\">\n",
       "      <th></th>\n",
       "      <th>company</th>\n",
       "      <th>id</th>\n",
       "      <th>date</th>\n",
       "      <th>net_sales</th>\n",
       "      <th>other_sales</th>\n",
       "      <th>op_profit_ebit</th>\n",
       "      <th>prof_after_net_fin_items</th>\n",
       "      <th>results</th>\n",
       "      <th>sub_unpaid_cap</th>\n",
       "      <th>fixed_assets</th>\n",
       "      <th>...</th>\n",
       "      <th>default_date</th>\n",
       "      <th>status</th>\n",
       "      <th>actual_status</th>\n",
       "      <th>remark</th>\n",
       "      <th>year</th>\n",
       "      <th>company_form</th>\n",
       "      <th>county</th>\n",
       "      <th>industry</th>\n",
       "      <th>operation</th>\n",
       "      <th>registered_date</th>\n",
       "    </tr>\n",
       "  </thead>\n",
       "  <tbody>\n",
       "    <tr>\n",
       "      <th>4044</th>\n",
       "      <td>Fastighetsaktiebolaget Postgården AB</td>\n",
       "      <td>5590168885</td>\n",
       "      <td>2019-12</td>\n",
       "      <td>0.0</td>\n",
       "      <td>69.0</td>\n",
       "      <td>69.0</td>\n",
       "      <td>69.0</td>\n",
       "      <td>55.0</td>\n",
       "      <td>0.0</td>\n",
       "      <td>163.0</td>\n",
       "      <td>...</td>\n",
       "      <td>NaN</td>\n",
       "      <td>active</td>\n",
       "      <td>NaN</td>\n",
       "      <td>NaN</td>\n",
       "      <td>2019</td>\n",
       "      <td>NaN</td>\n",
       "      <td>NaN</td>\n",
       "      <td>NaN</td>\n",
       "      <td>NaN</td>\n",
       "      <td>NaN</td>\n",
       "    </tr>\n",
       "    <tr>\n",
       "      <th>4045</th>\n",
       "      <td>Fastighetsaktiebolaget Postgården AB</td>\n",
       "      <td>5590168885</td>\n",
       "      <td>2017-12</td>\n",
       "      <td>0.0</td>\n",
       "      <td>NaN</td>\n",
       "      <td>-267.0</td>\n",
       "      <td>-270.0</td>\n",
       "      <td>-212.0</td>\n",
       "      <td>0.0</td>\n",
       "      <td>97.0</td>\n",
       "      <td>...</td>\n",
       "      <td>NaN</td>\n",
       "      <td>active</td>\n",
       "      <td>NaN</td>\n",
       "      <td>NaN</td>\n",
       "      <td>2017</td>\n",
       "      <td>NaN</td>\n",
       "      <td>NaN</td>\n",
       "      <td>NaN</td>\n",
       "      <td>NaN</td>\n",
       "      <td>NaN</td>\n",
       "    </tr>\n",
       "    <tr>\n",
       "      <th>4046</th>\n",
       "      <td>Fastighetsaktiebolaget Postgården AB</td>\n",
       "      <td>5590168885</td>\n",
       "      <td>2016-12</td>\n",
       "      <td>0.0</td>\n",
       "      <td>NaN</td>\n",
       "      <td>-178.0</td>\n",
       "      <td>-185.0</td>\n",
       "      <td>-146.0</td>\n",
       "      <td>0.0</td>\n",
       "      <td>39.0</td>\n",
       "      <td>...</td>\n",
       "      <td>NaN</td>\n",
       "      <td>active</td>\n",
       "      <td>NaN</td>\n",
       "      <td>NaN</td>\n",
       "      <td>2016</td>\n",
       "      <td>NaN</td>\n",
       "      <td>NaN</td>\n",
       "      <td>NaN</td>\n",
       "      <td>NaN</td>\n",
       "      <td>NaN</td>\n",
       "    </tr>\n",
       "    <tr>\n",
       "      <th>4047</th>\n",
       "      <td>Fastighetsaktiebolaget Postgården AB</td>\n",
       "      <td>5590168885</td>\n",
       "      <td>2015-12</td>\n",
       "      <td>0.0</td>\n",
       "      <td>NaN</td>\n",
       "      <td>-30.0</td>\n",
       "      <td>-30.0</td>\n",
       "      <td>-30.0</td>\n",
       "      <td>0.0</td>\n",
       "      <td>0.0</td>\n",
       "      <td>...</td>\n",
       "      <td>NaN</td>\n",
       "      <td>active</td>\n",
       "      <td>NaN</td>\n",
       "      <td>NaN</td>\n",
       "      <td>2015</td>\n",
       "      <td>NaN</td>\n",
       "      <td>NaN</td>\n",
       "      <td>NaN</td>\n",
       "      <td>NaN</td>\n",
       "      <td>NaN</td>\n",
       "    </tr>\n",
       "    <tr>\n",
       "      <th>4048</th>\n",
       "      <td>Fastighetsaktiebolaget Postgården AB</td>\n",
       "      <td>5590168885</td>\n",
       "      <td>2015-12</td>\n",
       "      <td>0.0</td>\n",
       "      <td>NaN</td>\n",
       "      <td>-30.0</td>\n",
       "      <td>-30.0</td>\n",
       "      <td>-30.0</td>\n",
       "      <td>0.0</td>\n",
       "      <td>150.0</td>\n",
       "      <td>...</td>\n",
       "      <td>NaN</td>\n",
       "      <td>active</td>\n",
       "      <td>NaN</td>\n",
       "      <td>NaN</td>\n",
       "      <td>2015</td>\n",
       "      <td>NaN</td>\n",
       "      <td>NaN</td>\n",
       "      <td>NaN</td>\n",
       "      <td>NaN</td>\n",
       "      <td>NaN</td>\n",
       "    </tr>\n",
       "  </tbody>\n",
       "</table>\n",
       "<p>5 rows × 48 columns</p>\n",
       "</div>"
      ],
      "text/plain": [
       "                                   company          id     date  net_sales  \\\n",
       "4044  Fastighetsaktiebolaget Postgården AB  5590168885  2019-12        0.0   \n",
       "4045  Fastighetsaktiebolaget Postgården AB  5590168885  2017-12        0.0   \n",
       "4046  Fastighetsaktiebolaget Postgården AB  5590168885  2016-12        0.0   \n",
       "4047  Fastighetsaktiebolaget Postgården AB  5590168885  2015-12        0.0   \n",
       "4048  Fastighetsaktiebolaget Postgården AB  5590168885  2015-12        0.0   \n",
       "\n",
       "      other_sales  op_profit_ebit  prof_after_net_fin_items  results  \\\n",
       "4044         69.0            69.0                      69.0     55.0   \n",
       "4045          NaN          -267.0                    -270.0   -212.0   \n",
       "4046          NaN          -178.0                    -185.0   -146.0   \n",
       "4047          NaN           -30.0                     -30.0    -30.0   \n",
       "4048          NaN           -30.0                     -30.0    -30.0   \n",
       "\n",
       "      sub_unpaid_cap  fixed_assets  ...  default_date  status  actual_status  \\\n",
       "4044             0.0         163.0  ...           NaN  active            NaN   \n",
       "4045             0.0          97.0  ...           NaN  active            NaN   \n",
       "4046             0.0          39.0  ...           NaN  active            NaN   \n",
       "4047             0.0           0.0  ...           NaN  active            NaN   \n",
       "4048             0.0         150.0  ...           NaN  active            NaN   \n",
       "\n",
       "      remark  year  company_form  county  industry  operation  registered_date  \n",
       "4044     NaN  2019           NaN     NaN       NaN        NaN              NaN  \n",
       "4045     NaN  2017           NaN     NaN       NaN        NaN              NaN  \n",
       "4046     NaN  2016           NaN     NaN       NaN        NaN              NaN  \n",
       "4047     NaN  2015           NaN     NaN       NaN        NaN              NaN  \n",
       "4048     NaN  2015           NaN     NaN       NaN        NaN              NaN  \n",
       "\n",
       "[5 rows x 48 columns]"
      ]
     },
     "execution_count": 17,
     "metadata": {},
     "output_type": "execute_result"
    }
   ],
   "source": [
    "data[data['id']==5590168885]"
   ]
  },
  {
   "cell_type": "code",
   "execution_count": 18,
   "metadata": {},
   "outputs": [],
   "source": [
    "comp = data[data['id']==5590655865]"
   ]
  },
  {
   "cell_type": "code",
   "execution_count": 19,
   "metadata": {},
   "outputs": [
    {
     "data": {
      "text/html": [
       "<div>\n",
       "<style scoped>\n",
       "    .dataframe tbody tr th:only-of-type {\n",
       "        vertical-align: middle;\n",
       "    }\n",
       "\n",
       "    .dataframe tbody tr th {\n",
       "        vertical-align: top;\n",
       "    }\n",
       "\n",
       "    .dataframe thead th {\n",
       "        text-align: right;\n",
       "    }\n",
       "</style>\n",
       "<table border=\"1\" class=\"dataframe\">\n",
       "  <thead>\n",
       "    <tr style=\"text-align: right;\">\n",
       "      <th></th>\n",
       "      <th>company</th>\n",
       "      <th>id</th>\n",
       "      <th>company_form</th>\n",
       "      <th>county</th>\n",
       "      <th>industry</th>\n",
       "      <th>operation</th>\n",
       "      <th>registered_date</th>\n",
       "    </tr>\n",
       "  </thead>\n",
       "  <tbody>\n",
       "    <tr>\n",
       "      <th>692</th>\n",
       "      <td>Fastighetsaktiebolaget Postgården AB</td>\n",
       "      <td>5590168885</td>\n",
       "      <td>Aktiebolag</td>\n",
       "      <td>Stockholms län</td>\n",
       "      <td>Bygg-; Design- &amp; Inredningsverksamhet</td>\n",
       "      <td>Byggverksamhet</td>\n",
       "      <td>2015-06-10</td>\n",
       "    </tr>\n",
       "  </tbody>\n",
       "</table>\n",
       "</div>"
      ],
      "text/plain": [
       "                                  company          id company_form  \\\n",
       "692  Fastighetsaktiebolaget Postgården AB  5590168885   Aktiebolag   \n",
       "\n",
       "             county                               industry       operation  \\\n",
       "692  Stockholms län  Bygg-; Design- & Inredningsverksamhet  Byggverksamhet   \n",
       "\n",
       "    registered_date  \n",
       "692      2015-06-10  "
      ]
     },
     "execution_count": 19,
     "metadata": {},
     "output_type": "execute_result"
    }
   ],
   "source": [
    "forms[forms['id']==5590168885]"
   ]
  },
  {
   "cell_type": "code",
   "execution_count": 20,
   "metadata": {},
   "outputs": [],
   "source": [
    "comp['company_form'] = comp.shape[0]*list(forms[forms['id']==5590655865]['company_form'])"
   ]
  },
  {
   "cell_type": "code",
   "execution_count": 21,
   "metadata": {},
   "outputs": [],
   "source": [
    "def add_forms(company_id):\n",
    "    \n",
    "    company = data[data['id']==company_id]\n",
    "    company_form = forms[forms['id']==company_id]\n",
    "    \n",
    "    company['company_form'] = company.shape[0]*list(company_form['company_form'])\n",
    "    company['county'] = company.shape[0]*list(company_form['county'])\n",
    "    company['industry'] = company.shape[0]*list(company_form['industry'])\n",
    "    company['operation'] = company.shape[0]*list(company_form['operation'])\n",
    "    company['registered_date'] = company.shape[0]*list(company_form['registered_date'])\n",
    "\n",
    "    return company"
   ]
  },
  {
   "cell_type": "code",
   "execution_count": 22,
   "metadata": {},
   "outputs": [
    {
     "data": {
      "text/html": [
       "<div>\n",
       "<style scoped>\n",
       "    .dataframe tbody tr th:only-of-type {\n",
       "        vertical-align: middle;\n",
       "    }\n",
       "\n",
       "    .dataframe tbody tr th {\n",
       "        vertical-align: top;\n",
       "    }\n",
       "\n",
       "    .dataframe thead th {\n",
       "        text-align: right;\n",
       "    }\n",
       "</style>\n",
       "<table border=\"1\" class=\"dataframe\">\n",
       "  <thead>\n",
       "    <tr style=\"text-align: right;\">\n",
       "      <th></th>\n",
       "      <th>company</th>\n",
       "      <th>id</th>\n",
       "      <th>date</th>\n",
       "      <th>net_sales</th>\n",
       "      <th>other_sales</th>\n",
       "      <th>op_profit_ebit</th>\n",
       "      <th>prof_after_net_fin_items</th>\n",
       "      <th>results</th>\n",
       "      <th>sub_unpaid_cap</th>\n",
       "      <th>fixed_assets</th>\n",
       "      <th>...</th>\n",
       "      <th>default_date</th>\n",
       "      <th>status</th>\n",
       "      <th>actual_status</th>\n",
       "      <th>remark</th>\n",
       "      <th>year</th>\n",
       "      <th>company_form</th>\n",
       "      <th>county</th>\n",
       "      <th>industry</th>\n",
       "      <th>operation</th>\n",
       "      <th>registered_date</th>\n",
       "    </tr>\n",
       "  </thead>\n",
       "  <tbody>\n",
       "    <tr>\n",
       "      <th>4044</th>\n",
       "      <td>Fastighetsaktiebolaget Postgården AB</td>\n",
       "      <td>5590168885</td>\n",
       "      <td>2019-12</td>\n",
       "      <td>0.0</td>\n",
       "      <td>69.0</td>\n",
       "      <td>69.0</td>\n",
       "      <td>69.0</td>\n",
       "      <td>55.0</td>\n",
       "      <td>0.0</td>\n",
       "      <td>163.0</td>\n",
       "      <td>...</td>\n",
       "      <td>NaN</td>\n",
       "      <td>active</td>\n",
       "      <td>NaN</td>\n",
       "      <td>NaN</td>\n",
       "      <td>2019</td>\n",
       "      <td>Aktiebolag</td>\n",
       "      <td>Stockholms län</td>\n",
       "      <td>Bygg-; Design- &amp; Inredningsverksamhet</td>\n",
       "      <td>Byggverksamhet</td>\n",
       "      <td>2015-06-10</td>\n",
       "    </tr>\n",
       "    <tr>\n",
       "      <th>4045</th>\n",
       "      <td>Fastighetsaktiebolaget Postgården AB</td>\n",
       "      <td>5590168885</td>\n",
       "      <td>2017-12</td>\n",
       "      <td>0.0</td>\n",
       "      <td>NaN</td>\n",
       "      <td>-267.0</td>\n",
       "      <td>-270.0</td>\n",
       "      <td>-212.0</td>\n",
       "      <td>0.0</td>\n",
       "      <td>97.0</td>\n",
       "      <td>...</td>\n",
       "      <td>NaN</td>\n",
       "      <td>active</td>\n",
       "      <td>NaN</td>\n",
       "      <td>NaN</td>\n",
       "      <td>2017</td>\n",
       "      <td>Aktiebolag</td>\n",
       "      <td>Stockholms län</td>\n",
       "      <td>Bygg-; Design- &amp; Inredningsverksamhet</td>\n",
       "      <td>Byggverksamhet</td>\n",
       "      <td>2015-06-10</td>\n",
       "    </tr>\n",
       "    <tr>\n",
       "      <th>4046</th>\n",
       "      <td>Fastighetsaktiebolaget Postgården AB</td>\n",
       "      <td>5590168885</td>\n",
       "      <td>2016-12</td>\n",
       "      <td>0.0</td>\n",
       "      <td>NaN</td>\n",
       "      <td>-178.0</td>\n",
       "      <td>-185.0</td>\n",
       "      <td>-146.0</td>\n",
       "      <td>0.0</td>\n",
       "      <td>39.0</td>\n",
       "      <td>...</td>\n",
       "      <td>NaN</td>\n",
       "      <td>active</td>\n",
       "      <td>NaN</td>\n",
       "      <td>NaN</td>\n",
       "      <td>2016</td>\n",
       "      <td>Aktiebolag</td>\n",
       "      <td>Stockholms län</td>\n",
       "      <td>Bygg-; Design- &amp; Inredningsverksamhet</td>\n",
       "      <td>Byggverksamhet</td>\n",
       "      <td>2015-06-10</td>\n",
       "    </tr>\n",
       "    <tr>\n",
       "      <th>4047</th>\n",
       "      <td>Fastighetsaktiebolaget Postgården AB</td>\n",
       "      <td>5590168885</td>\n",
       "      <td>2015-12</td>\n",
       "      <td>0.0</td>\n",
       "      <td>NaN</td>\n",
       "      <td>-30.0</td>\n",
       "      <td>-30.0</td>\n",
       "      <td>-30.0</td>\n",
       "      <td>0.0</td>\n",
       "      <td>0.0</td>\n",
       "      <td>...</td>\n",
       "      <td>NaN</td>\n",
       "      <td>active</td>\n",
       "      <td>NaN</td>\n",
       "      <td>NaN</td>\n",
       "      <td>2015</td>\n",
       "      <td>Aktiebolag</td>\n",
       "      <td>Stockholms län</td>\n",
       "      <td>Bygg-; Design- &amp; Inredningsverksamhet</td>\n",
       "      <td>Byggverksamhet</td>\n",
       "      <td>2015-06-10</td>\n",
       "    </tr>\n",
       "    <tr>\n",
       "      <th>4048</th>\n",
       "      <td>Fastighetsaktiebolaget Postgården AB</td>\n",
       "      <td>5590168885</td>\n",
       "      <td>2015-12</td>\n",
       "      <td>0.0</td>\n",
       "      <td>NaN</td>\n",
       "      <td>-30.0</td>\n",
       "      <td>-30.0</td>\n",
       "      <td>-30.0</td>\n",
       "      <td>0.0</td>\n",
       "      <td>150.0</td>\n",
       "      <td>...</td>\n",
       "      <td>NaN</td>\n",
       "      <td>active</td>\n",
       "      <td>NaN</td>\n",
       "      <td>NaN</td>\n",
       "      <td>2015</td>\n",
       "      <td>Aktiebolag</td>\n",
       "      <td>Stockholms län</td>\n",
       "      <td>Bygg-; Design- &amp; Inredningsverksamhet</td>\n",
       "      <td>Byggverksamhet</td>\n",
       "      <td>2015-06-10</td>\n",
       "    </tr>\n",
       "  </tbody>\n",
       "</table>\n",
       "<p>5 rows × 48 columns</p>\n",
       "</div>"
      ],
      "text/plain": [
       "                                   company          id     date  net_sales  \\\n",
       "4044  Fastighetsaktiebolaget Postgården AB  5590168885  2019-12        0.0   \n",
       "4045  Fastighetsaktiebolaget Postgården AB  5590168885  2017-12        0.0   \n",
       "4046  Fastighetsaktiebolaget Postgården AB  5590168885  2016-12        0.0   \n",
       "4047  Fastighetsaktiebolaget Postgården AB  5590168885  2015-12        0.0   \n",
       "4048  Fastighetsaktiebolaget Postgården AB  5590168885  2015-12        0.0   \n",
       "\n",
       "      other_sales  op_profit_ebit  prof_after_net_fin_items  results  \\\n",
       "4044         69.0            69.0                      69.0     55.0   \n",
       "4045          NaN          -267.0                    -270.0   -212.0   \n",
       "4046          NaN          -178.0                    -185.0   -146.0   \n",
       "4047          NaN           -30.0                     -30.0    -30.0   \n",
       "4048          NaN           -30.0                     -30.0    -30.0   \n",
       "\n",
       "      sub_unpaid_cap  fixed_assets  ...  default_date  status  actual_status  \\\n",
       "4044             0.0         163.0  ...           NaN  active            NaN   \n",
       "4045             0.0          97.0  ...           NaN  active            NaN   \n",
       "4046             0.0          39.0  ...           NaN  active            NaN   \n",
       "4047             0.0           0.0  ...           NaN  active            NaN   \n",
       "4048             0.0         150.0  ...           NaN  active            NaN   \n",
       "\n",
       "      remark  year  company_form          county  \\\n",
       "4044     NaN  2019    Aktiebolag  Stockholms län   \n",
       "4045     NaN  2017    Aktiebolag  Stockholms län   \n",
       "4046     NaN  2016    Aktiebolag  Stockholms län   \n",
       "4047     NaN  2015    Aktiebolag  Stockholms län   \n",
       "4048     NaN  2015    Aktiebolag  Stockholms län   \n",
       "\n",
       "                                   industry       operation  registered_date  \n",
       "4044  Bygg-; Design- & Inredningsverksamhet  Byggverksamhet       2015-06-10  \n",
       "4045  Bygg-; Design- & Inredningsverksamhet  Byggverksamhet       2015-06-10  \n",
       "4046  Bygg-; Design- & Inredningsverksamhet  Byggverksamhet       2015-06-10  \n",
       "4047  Bygg-; Design- & Inredningsverksamhet  Byggverksamhet       2015-06-10  \n",
       "4048  Bygg-; Design- & Inredningsverksamhet  Byggverksamhet       2015-06-10  \n",
       "\n",
       "[5 rows x 48 columns]"
      ]
     },
     "execution_count": 22,
     "metadata": {},
     "output_type": "execute_result"
    }
   ],
   "source": [
    "add_forms(5590168885)"
   ]
  },
  {
   "cell_type": "code",
   "execution_count": null,
   "metadata": {
    "scrolled": true
   },
   "outputs": [],
   "source": [
    "count = 0\n",
    "for Id in forms['id'].unique():\n",
    "    data[data['id']==Id] = add_forms(Id)\n",
    "    count+=1\n",
    "    print(count)"
   ]
  },
  {
   "cell_type": "code",
   "execution_count": 29,
   "metadata": {},
   "outputs": [],
   "source": [
    "#data.to_csv(\"../data/financials/financials_status_forms_clean.csv\",index=False)"
   ]
  },
  {
   "cell_type": "code",
   "execution_count": 144,
   "metadata": {},
   "outputs": [],
   "source": [
    "data = pd.read_csv(\"../data/financials/financials_status_forms_clean.csv\")"
   ]
  },
  {
   "cell_type": "code",
   "execution_count": 63,
   "metadata": {},
   "outputs": [
    {
     "data": {
      "text/plain": [
       "(478033, 48)"
      ]
     },
     "execution_count": 63,
     "metadata": {},
     "output_type": "execute_result"
    }
   ],
   "source": [
    "data.shape"
   ]
  },
  {
   "cell_type": "code",
   "execution_count": 64,
   "metadata": {},
   "outputs": [
    {
     "data": {
      "text/plain": [
       "68993"
      ]
     },
     "execution_count": 64,
     "metadata": {},
     "output_type": "execute_result"
    }
   ],
   "source": [
    "data['id'].nunique()"
   ]
  },
  {
   "cell_type": "code",
   "execution_count": 65,
   "metadata": {},
   "outputs": [
    {
     "data": {
      "text/plain": [
       "1805"
      ]
     },
     "execution_count": 65,
     "metadata": {},
     "output_type": "execute_result"
    }
   ],
   "source": [
    "data[data['status_bool']==1]['id'].nunique()"
   ]
  },
  {
   "cell_type": "markdown",
   "metadata": {},
   "source": [
    "# Translating english to sweedish"
   ]
  },
  {
   "cell_type": "code",
   "execution_count": 80,
   "metadata": {},
   "outputs": [
    {
     "data": {
      "text/plain": [
       "1"
      ]
     },
     "execution_count": 80,
     "metadata": {},
     "output_type": "execute_result"
    }
   ],
   "source": [
    "data['company_form'].nunique()"
   ]
  },
  {
   "cell_type": "code",
   "execution_count": 81,
   "metadata": {},
   "outputs": [
    {
     "data": {
      "text/plain": [
       "21"
      ]
     },
     "execution_count": 81,
     "metadata": {},
     "output_type": "execute_result"
    }
   ],
   "source": [
    "data['county'].nunique()"
   ]
  },
  {
   "cell_type": "code",
   "execution_count": 82,
   "metadata": {},
   "outputs": [
    {
     "data": {
      "text/plain": [
       "21"
      ]
     },
     "execution_count": 82,
     "metadata": {},
     "output_type": "execute_result"
    }
   ],
   "source": [
    "data['industry'].nunique()"
   ]
  },
  {
   "cell_type": "code",
   "execution_count": 83,
   "metadata": {},
   "outputs": [
    {
     "data": {
      "text/plain": [
       "95"
      ]
     },
     "execution_count": 83,
     "metadata": {},
     "output_type": "execute_result"
    }
   ],
   "source": [
    "data['operation'].nunique()"
   ]
  },
  {
   "cell_type": "code",
   "execution_count": 34,
   "metadata": {},
   "outputs": [],
   "source": [
    "translator = Translator()"
   ]
  },
  {
   "cell_type": "code",
   "execution_count": 101,
   "metadata": {},
   "outputs": [
    {
     "name": "stdout",
     "output_type": "stream",
     "text": [
      "male \n"
     ]
    }
   ],
   "source": [
    "from google_trans_new import google_translator  \n",
    "  \n",
    "translator = google_translator()  \n",
    "translate_text = translator.translate(np.nan,lang_tgt='en')  \n",
    "print(translate_text)"
   ]
  },
  {
   "cell_type": "code",
   "execution_count": 145,
   "metadata": {},
   "outputs": [],
   "source": [
    "def translate_columns(columns):\n",
    "    \n",
    "    # get all the words that need to be translated\n",
    "    sweedish_words = []\n",
    "    for col in columns:\n",
    "        sweedish_words += list(data[col].unique())\n",
    "                                                              \n",
    "    # replace the sweedish words with their english counter part\n",
    "    translator = google_translator()  \n",
    "    for word in sweedish_words:\n",
    "        if type(word)==float:\n",
    "            continue\n",
    "        else:\n",
    "            print(word + \" ------> \"+translator.translate(word,lang_tgt='en'))\n",
    "            data.replace(word,translator.translate(word,lang_tgt='en').strip(), inplace=True)\n",
    "    "
   ]
  },
  {
   "cell_type": "code",
   "execution_count": 146,
   "metadata": {
    "scrolled": true
   },
   "outputs": [
    {
     "name": "stdout",
     "output_type": "stream",
     "text": [
      "Aktiebolag ------> Limited company \n",
      "Stockholms län ------> Stockholm County \n",
      "Uppsala län ------> Uppsala county \n",
      "Kronobergs län ------> Kronoberg County \n",
      "Norrbottens län ------> Norrbotten County \n",
      "Skåne län ------> Skåne County \n",
      "Östergötlands län ------> Östergötland County \n",
      "Västra Götalands län ------> Västra Götaland County \n",
      "Jönköpings län ------> Jönköping County \n",
      "Jämtlands län ------> Jämtland County \n",
      "Västmanlands län ------> Västmanland County \n",
      "Hallands län ------> Halland County \n",
      "Dalarnas län ------> Dalarna County \n",
      "Örebro län ------> Örebro County \n",
      "Gävleborgs län ------> Gävleborg County \n",
      "Södermanlands län ------> Södermanland County \n",
      "Kalmar län ------> Kalmar County \n",
      "Gotlands län ------> Gotland County \n",
      "Västernorrlands län ------> Västernorrland County \n",
      "Västerbottens län ------> Västerbotten County \n",
      "Blekinge län ------> Blekinge county \n",
      "Värmlands län ------> Värmland County \n",
      "Bygg-; Design- & Inredningsverksamhet ------> Construction; Design & Interior design business \n",
      "Fastighetsverksamhet ------> Real estate activities \n",
      "Juridik; Ekonomi & Konsulttjänster ------> Law; Finance & Consulting Services \n",
      "Bank; Finans & Försäkring ------> Bank; Finance & Insurance \n",
      "Transport & Magasinering ------> Transport & Warehousing \n",
      "Företagstjänster ------> Business services \n",
      "Bemanning & Arbetsförmedling ------> Staffing & Employment Agency \n",
      "Avlopp; Avfall; El & Vatten ------> Drain; Waste; Electricity & Water \n",
      "Hotell & Restaurang ------> Hotel & Restaurant \n",
      "Data; IT & Telekommunikation ------> Data; IT & telecommunications \n",
      "Reklam; PR & Marknadsundersökning ------> Advertising; PR & Market Research \n",
      "Detaljhandel ------> Retail \n",
      "Utbildning; Forskning & Utveckling ------> Training; Research Development \n",
      "Partihandel ------> Wholesale \n",
      "Uthyrning & Leasing ------> Rental & Leasing \n",
      "Jordbruk; Skogsbruk; Jakt & Fiske ------> Agriculture; Forestry; Hunting & Fishing \n",
      "Tillverkning & Industri ------> Manufacturing & Industry \n",
      "Reparation & Installation ------> Reparation & Installation \n",
      "Teknisk Konsultverksamhet ------> Technical Consulting \n",
      "Motorfordonshandel ------> Motor vehicle trade \n",
      "Offentlig förvaltning & Samhälle ------> Public Administration & Society \n",
      "Byggverksamhet ------> Construction activities \n",
      "El-VVS & Bygginstallationer ------> Electrical plumbing & construction installations \n",
      "Anläggningsarbeten ------> Construction work \n",
      "Golv- & Väggbeläggningsarbeten ------> Floor & wall covering work \n",
      "Teknisk konsult inom Bygg- & Anläggningsteknik ------> Technical consultant in Construction & Civil Engineering \n",
      "Utformning av Byggprojekt ------> Design of Construction project \n",
      "Byggnadssnickeriarbeten ------> Carpentry work \n",
      "Måleriarbeten ------> Painting work \n",
      "Arkitektverksamhet ------> Architectural business \n",
      "Industri- & Produktdesignverksamhet ------> Industrial & Product Design operations \n",
      "Puts-; Fasad- & Stuckatörsarbeten ------> Puts-; Facade & stucco work \n",
      "Inredningsarkitekt ------> Interior designer \n",
      "Takarbeten ------> Roofing work \n",
      "Fastighetsförvaltning på uppdrag ------> Property management on assignment \n",
      "Rivning av hus & byggnader ------> Demolition of houses & buildings \n",
      "Grafisk Designverksamhet ------> Graphic Design activities \n",
      "Uthyrning av Bygg- & Anläggningsmaskiner med förare ------> Rental of construction machinery with driver \n",
      "Slutbehandling av byggnader ------> Finishing of buildings \n",
      "Redovisning & bokföring ------> Accounting & bookkeeping \n",
      "Markundersökning ------> Markundersökning \n",
      "Glasmästeriarbeten ------> Glazier work \n",
      "Förvaltning & Handel med Värdepapper ------> Management & Trading in Securities \n",
      "Magasinering & Varulagring ------> Warehousing and Warehousing \n",
      "Rengöring & Lokalvård ------> Cleaning & Cleaning \n",
      "Webbportaler ------> Web portals \n",
      "Kongresser & Mässor ------> Congresses & Fairs \n",
      "Personaluthyrning ------> Staffing \n",
      "Konsultverksamhet avseende företags org. ------> Consultancy relating to corporate org. \n",
      "Vägtransport; Godstrafik ------> Road transport; Freight traffic \n",
      "Avloppsrening ------> Sewage treatment \n",
      "Restaurangverksamhet ------> Restaurant business \n",
      "Verksamheter som utövas av huvudkontor ------> Activities carried out by head office \n",
      "Telekommunikation; Trådbunden ------> Telecommunication; Wired \n",
      "Uthyrning & Förvaltning av Fastigheter ------> Rental & Management of Real Estate \n",
      "Direktreklamverksamhet ------> Direct advertising \n",
      "Handel med egna fastigheter ------> Trading in own properties \n",
      "Livsmedelshandel ------> Grocery store \n",
      "Verksamhet utförd av Försäkringsombud & Försäkringsmäklare ------> Business carried out by Insurance Agents & Insurance Brokers \n",
      "Musik-; Dans- & Kulturell utbildning ------> Music-; Dance & Cultural education \n",
      "Maskiner & Utrustning övriga; Partihandel ------> Machinery & Equipment other; Wholesale \n",
      "Uthyrning & Leasing övrigt ------> Rental & Leasing other \n",
      "Taxi ------> Taxi \n",
      "Holdingverksamhet i icke-finansiella koncerner ------> Holding operations in non-financial groups \n",
      "Växtodling ------> Plant cultivation \n",
      "Skogsskötsel ------> Forest management \n",
      "Metallindustri ------> Metal industry \n",
      "Järn- & VVS- varor; Butikshandel ------> Iron & Plumbing Goods; Retail \n",
      "Fastighetsrelaterade stödtjänster ------> Property-related support services \n",
      "Tobaksvaror; Butikshandel ------> Tobacco products; Retail \n",
      "Trävaror; tillverkning ------> Timber; manufacturing \n",
      "Mineralutvinning; övrig ------> Mineral extraction; Other \n",
      "Kontors- & Butiksinred; tillverkning ------> Office & Store Furnishings; manufacturing \n",
      "Vatten & Avlopp ------> Water & Sewage \n",
      "Teleprodukter; Partihandel ------> Telecommunications products; Wholesale \n",
      "Gruv-; Bygg- & Anläggningsmaskiner; Partihandel ------> Mining; Building & Construction Machinery; Wholesale \n",
      "Icke-farligt avfall ------> Non-hazardous waste \n",
      "Byggnadsmetallvaror; tillverkning ------> Building metal products; manufacturing \n",
      "Kläder & Textilier; tillverkning ------> Clothing & Textiles; manufacturing \n",
      "Sågning; Hyvling & Impregnering ------> Sawing; Planing & Impregnation \n",
      "Maskiner; reparation ------> Machinery; repair \n",
      "Elektronikkomponenter; Partihandel ------> Electronic components; Wholesale \n",
      "Teknisk konsult inom Industriteknik ------> Technical consultant in Industrial Technology \n",
      "Postorder- & Internethandel ------> Mail Order & Internet Trading \n",
      "Färg & Lack; Butikshandel ------> Paint & Varnish; Retail \n",
      "Parfym & Kosmetika; Partihandel ------> Perfume & Cosmetics; Wholesale \n",
      "Holdingverksamhet i finansiella koncerner ------> Holding operations in financial groups \n",
      "Personbilar & Lätta Motorfordon; Handel ------> Cars & Light Motor Vehicles; Trade \n",
      "Virke & Byggvaror; Butikshandel ------> Wood & Building Products; Retail \n",
      "Betong-; Cement- & Gipsvaror; övriga ------> Concrete-; Cement & Plastering; others \n",
      "Kontors- & Butiksmöber; tillverkning ------> Office & Store Furniture; manufacturing \n",
      "Investment- & Riskkapitalbolag ------> Investment & Venture Capital Companies \n",
      "IT- & Datatjänster; övriga ------> IT & Data Services; others \n",
      "Möbler övriga; tillverkning ------> Other furniture; manufacturing \n",
      "Uthyrning & Leasing av Personbilar & lätta Motorfordon ------> Rental & Leasing of Cars & Light Motor Vehicles \n",
      "Uthyrning & Leasing av Bygg- & Anläggningsmaskiner ------> Rental & Leasing of Building & Construction Machinery \n",
      "Betongvarutillverkning ------> Concrete product manufacturing \n",
      "Avfallshantering & Återvinning ------> Waste Management & Recycling \n",
      "Drivmedel; Detaljhandel ------> Fuel; Retail \n",
      "Rälsfordon; tillverkning ------> Rail vehicles; manufacturing \n",
      "Kläder & Skor; Partihandel ------> Clothes shoes; Wholesale \n",
      "Industri- Maskiner & Utrustning; installation ------> Industrial Machinery & Equipment; installation \n",
      "Uthyrning & Leasing av andra Hushållsartiklar & Varor för Personligt bruk ------> Rental & Leasing of Other Household Items & Goods for Personal Use \n",
      "Service till växtodling ------> Service for plant cultivation \n",
      "Möbler; Hushålls- & Järnhandelsvaror; Partihandel ------> Furniture; Household & Hardware merchandise; Wholesale \n",
      "Juridisk verksamhet; övrig ------> Legal activities; Other \n",
      "Virke & Byggmaterial; Partihandel ------> Wood & Building Materials; Wholesale \n",
      "Drivning ------> Driving \n",
      "Gödsel- & Kväveprodukter; tillverkning ------> Fertilizer & Nitrogen products; manufacturing \n"
     ]
    },
    {
     "name": "stdout",
     "output_type": "stream",
     "text": [
      "Infrastrukturprogram ------> Infrastructure program \n",
      "Sport- & Fritidsartiklar; Butikshandel ------> Sports & Leisure Articles; Retail \n",
      "Kläder; Butikshandel ------> Clothes; Retail \n",
      "Blandat jordbruk ------> Mixed farming \n",
      "Källsorterat material ------> Source-sorted material \n",
      "Datoriserad materialhanteringsutr; Partihandel ------> Computerized material handling equipment; Wholesale \n",
      "Datorer; Program & Kringutr; Partihandel ------> Computers; Program & Kringutr; Wholesale \n"
     ]
    }
   ],
   "source": [
    "translate_columns(['company_form','county','industry','operation'])"
   ]
  },
  {
   "cell_type": "markdown",
   "metadata": {},
   "source": [
    "# Renaming status_bool to default"
   ]
  },
  {
   "cell_type": "code",
   "execution_count": 147,
   "metadata": {},
   "outputs": [],
   "source": [
    "data.rename(columns={\"status_bool\":\"default\"},inplace=True)"
   ]
  },
  {
   "cell_type": "code",
   "execution_count": 155,
   "metadata": {},
   "outputs": [
    {
     "data": {
      "text/plain": [
       "3139"
      ]
     },
     "execution_count": 155,
     "metadata": {},
     "output_type": "execute_result"
    }
   ],
   "source": [
    "data.shape[0]-data[data['industry']==\"Construction; Design & Interior design business\"].shape[0]"
   ]
  },
  {
   "cell_type": "code",
   "execution_count": 154,
   "metadata": {},
   "outputs": [
    {
     "data": {
      "text/plain": [
       "454"
      ]
     },
     "execution_count": 154,
     "metadata": {},
     "output_type": "execute_result"
    }
   ],
   "source": [
    "data[data['industry']!=\"Construction; Design & Interior design business\"]['id'].nunique()"
   ]
  },
  {
   "cell_type": "code",
   "execution_count": 156,
   "metadata": {},
   "outputs": [
    {
     "data": {
      "text/plain": [
       "'Construction; Design & Interior design business'"
      ]
     },
     "execution_count": 156,
     "metadata": {},
     "output_type": "execute_result"
    }
   ],
   "source": [
    "data['industry'][0]"
   ]
  },
  {
   "cell_type": "code",
   "execution_count": 158,
   "metadata": {},
   "outputs": [],
   "source": [
    "#data.to_csv(\"../data/financials/financials_status_forms_clean1.csv\",index=False)"
   ]
  },
  {
   "cell_type": "code",
   "execution_count": 36,
   "metadata": {},
   "outputs": [],
   "source": [
    "data = pd.read_csv(\"../data/financials/financials_status_forms_clean1.csv\")"
   ]
  },
  {
   "cell_type": "code",
   "execution_count": 37,
   "metadata": {},
   "outputs": [
    {
     "data": {
      "text/html": [
       "<div>\n",
       "<style scoped>\n",
       "    .dataframe tbody tr th:only-of-type {\n",
       "        vertical-align: middle;\n",
       "    }\n",
       "\n",
       "    .dataframe tbody tr th {\n",
       "        vertical-align: top;\n",
       "    }\n",
       "\n",
       "    .dataframe thead th {\n",
       "        text-align: right;\n",
       "    }\n",
       "</style>\n",
       "<table border=\"1\" class=\"dataframe\">\n",
       "  <thead>\n",
       "    <tr style=\"text-align: right;\">\n",
       "      <th></th>\n",
       "      <th>company</th>\n",
       "      <th>id</th>\n",
       "      <th>date</th>\n",
       "      <th>net_sales</th>\n",
       "      <th>other_sales</th>\n",
       "      <th>op_profit_ebit</th>\n",
       "      <th>prof_after_net_fin_items</th>\n",
       "      <th>results</th>\n",
       "      <th>sub_unpaid_cap</th>\n",
       "      <th>fixed_assets</th>\n",
       "      <th>...</th>\n",
       "      <th>default_date</th>\n",
       "      <th>status</th>\n",
       "      <th>actual_status</th>\n",
       "      <th>remark</th>\n",
       "      <th>year</th>\n",
       "      <th>company_form</th>\n",
       "      <th>county</th>\n",
       "      <th>industry</th>\n",
       "      <th>operation</th>\n",
       "      <th>registered_date</th>\n",
       "    </tr>\n",
       "  </thead>\n",
       "  <tbody>\n",
       "    <tr>\n",
       "      <th>0</th>\n",
       "      <td>Lily Properties AB</td>\n",
       "      <td>5590655865</td>\n",
       "      <td>2019-12</td>\n",
       "      <td>0.0</td>\n",
       "      <td>NaN</td>\n",
       "      <td>-44.0</td>\n",
       "      <td>-44.0</td>\n",
       "      <td>-44.0</td>\n",
       "      <td>0.0</td>\n",
       "      <td>99.0</td>\n",
       "      <td>...</td>\n",
       "      <td>NaN</td>\n",
       "      <td>active</td>\n",
       "      <td>NaN</td>\n",
       "      <td>NaN</td>\n",
       "      <td>2019</td>\n",
       "      <td>Limited company</td>\n",
       "      <td>Stockholm County</td>\n",
       "      <td>Construction; Design &amp; Interior design business</td>\n",
       "      <td>Construction activities</td>\n",
       "      <td>2016-06-07</td>\n",
       "    </tr>\n",
       "    <tr>\n",
       "      <th>1</th>\n",
       "      <td>Lily Properties AB</td>\n",
       "      <td>5590655865</td>\n",
       "      <td>2018-12</td>\n",
       "      <td>0.0</td>\n",
       "      <td>NaN</td>\n",
       "      <td>-72.0</td>\n",
       "      <td>-72.0</td>\n",
       "      <td>-72.0</td>\n",
       "      <td>0.0</td>\n",
       "      <td>130.0</td>\n",
       "      <td>...</td>\n",
       "      <td>NaN</td>\n",
       "      <td>active</td>\n",
       "      <td>NaN</td>\n",
       "      <td>NaN</td>\n",
       "      <td>2018</td>\n",
       "      <td>Limited company</td>\n",
       "      <td>Stockholm County</td>\n",
       "      <td>Construction; Design &amp; Interior design business</td>\n",
       "      <td>Construction activities</td>\n",
       "      <td>2016-06-07</td>\n",
       "    </tr>\n",
       "    <tr>\n",
       "      <th>2</th>\n",
       "      <td>Lily Properties AB</td>\n",
       "      <td>5590655865</td>\n",
       "      <td>2017-12</td>\n",
       "      <td>28.0</td>\n",
       "      <td>NaN</td>\n",
       "      <td>-279.0</td>\n",
       "      <td>-279.0</td>\n",
       "      <td>-279.0</td>\n",
       "      <td>0.0</td>\n",
       "      <td>160.0</td>\n",
       "      <td>...</td>\n",
       "      <td>NaN</td>\n",
       "      <td>active</td>\n",
       "      <td>NaN</td>\n",
       "      <td>NaN</td>\n",
       "      <td>2017</td>\n",
       "      <td>Limited company</td>\n",
       "      <td>Stockholm County</td>\n",
       "      <td>Construction; Design &amp; Interior design business</td>\n",
       "      <td>Construction activities</td>\n",
       "      <td>2016-06-07</td>\n",
       "    </tr>\n",
       "    <tr>\n",
       "      <th>3</th>\n",
       "      <td>Lily Properties AB</td>\n",
       "      <td>5590655865</td>\n",
       "      <td>2016-12</td>\n",
       "      <td>0.0</td>\n",
       "      <td>NaN</td>\n",
       "      <td>-226.0</td>\n",
       "      <td>749.0</td>\n",
       "      <td>749.0</td>\n",
       "      <td>0.0</td>\n",
       "      <td>801.0</td>\n",
       "      <td>...</td>\n",
       "      <td>NaN</td>\n",
       "      <td>active</td>\n",
       "      <td>NaN</td>\n",
       "      <td>NaN</td>\n",
       "      <td>2016</td>\n",
       "      <td>Limited company</td>\n",
       "      <td>Stockholm County</td>\n",
       "      <td>Construction; Design &amp; Interior design business</td>\n",
       "      <td>Construction activities</td>\n",
       "      <td>2016-06-07</td>\n",
       "    </tr>\n",
       "    <tr>\n",
       "      <th>4</th>\n",
       "      <td>Fogdetorps El Aktiebolag</td>\n",
       "      <td>5564709904</td>\n",
       "      <td>2019-12</td>\n",
       "      <td>0.0</td>\n",
       "      <td>NaN</td>\n",
       "      <td>-62.0</td>\n",
       "      <td>7938.0</td>\n",
       "      <td>7938.0</td>\n",
       "      <td>0.0</td>\n",
       "      <td>8649.0</td>\n",
       "      <td>...</td>\n",
       "      <td>NaN</td>\n",
       "      <td>active</td>\n",
       "      <td>NaN</td>\n",
       "      <td>NaN</td>\n",
       "      <td>2019</td>\n",
       "      <td>Limited company</td>\n",
       "      <td>Stockholm County</td>\n",
       "      <td>Construction; Design &amp; Interior design business</td>\n",
       "      <td>Electrical plumbing &amp; construction installations</td>\n",
       "      <td>1993-08-09</td>\n",
       "    </tr>\n",
       "  </tbody>\n",
       "</table>\n",
       "<p>5 rows × 48 columns</p>\n",
       "</div>"
      ],
      "text/plain": [
       "                    company          id     date  net_sales  other_sales  \\\n",
       "0        Lily Properties AB  5590655865  2019-12        0.0          NaN   \n",
       "1        Lily Properties AB  5590655865  2018-12        0.0          NaN   \n",
       "2        Lily Properties AB  5590655865  2017-12       28.0          NaN   \n",
       "3        Lily Properties AB  5590655865  2016-12        0.0          NaN   \n",
       "4  Fogdetorps El Aktiebolag  5564709904  2019-12        0.0          NaN   \n",
       "\n",
       "   op_profit_ebit  prof_after_net_fin_items  results  sub_unpaid_cap  \\\n",
       "0           -44.0                     -44.0    -44.0             0.0   \n",
       "1           -72.0                     -72.0    -72.0             0.0   \n",
       "2          -279.0                    -279.0   -279.0             0.0   \n",
       "3          -226.0                     749.0    749.0             0.0   \n",
       "4           -62.0                    7938.0   7938.0             0.0   \n",
       "\n",
       "   fixed_assets  ...  default_date  status  actual_status  remark  year  \\\n",
       "0          99.0  ...           NaN  active            NaN     NaN  2019   \n",
       "1         130.0  ...           NaN  active            NaN     NaN  2018   \n",
       "2         160.0  ...           NaN  active            NaN     NaN  2017   \n",
       "3         801.0  ...           NaN  active            NaN     NaN  2016   \n",
       "4        8649.0  ...           NaN  active            NaN     NaN  2019   \n",
       "\n",
       "      company_form            county  \\\n",
       "0  Limited company  Stockholm County   \n",
       "1  Limited company  Stockholm County   \n",
       "2  Limited company  Stockholm County   \n",
       "3  Limited company  Stockholm County   \n",
       "4  Limited company  Stockholm County   \n",
       "\n",
       "                                          industry  \\\n",
       "0  Construction; Design & Interior design business   \n",
       "1  Construction; Design & Interior design business   \n",
       "2  Construction; Design & Interior design business   \n",
       "3  Construction; Design & Interior design business   \n",
       "4  Construction; Design & Interior design business   \n",
       "\n",
       "                                          operation  registered_date  \n",
       "0                           Construction activities       2016-06-07  \n",
       "1                           Construction activities       2016-06-07  \n",
       "2                           Construction activities       2016-06-07  \n",
       "3                           Construction activities       2016-06-07  \n",
       "4  Electrical plumbing & construction installations       1993-08-09  \n",
       "\n",
       "[5 rows x 48 columns]"
      ]
     },
     "execution_count": 37,
     "metadata": {},
     "output_type": "execute_result"
    }
   ],
   "source": [
    "data.head()"
   ]
  },
  {
   "cell_type": "code",
   "execution_count": 38,
   "metadata": {},
   "outputs": [
    {
     "data": {
      "text/plain": [
       "(478033, 48)"
      ]
     },
     "execution_count": 38,
     "metadata": {},
     "output_type": "execute_result"
    }
   ],
   "source": [
    "data.shape"
   ]
  },
  {
   "cell_type": "code",
   "execution_count": 39,
   "metadata": {},
   "outputs": [
    {
     "name": "stdout",
     "output_type": "stream",
     "text": [
      "<class 'pandas.core.frame.DataFrame'>\n",
      "RangeIndex: 478033 entries, 0 to 478032\n",
      "Data columns (total 48 columns):\n",
      " #   Column                        Non-Null Count   Dtype  \n",
      "---  ------                        --------------   -----  \n",
      " 0   company                       478033 non-null  object \n",
      " 1   id                            478033 non-null  int64  \n",
      " 2   date                          478033 non-null  object \n",
      " 3   net_sales                     474999 non-null  float64\n",
      " 4   other_sales                   194756 non-null  float64\n",
      " 5   op_profit_ebit                474998 non-null  float64\n",
      " 6   prof_after_net_fin_items      474998 non-null  float64\n",
      " 7   results                       474998 non-null  float64\n",
      " 8   sub_unpaid_cap                475048 non-null  float64\n",
      " 9   fixed_assets                  475047 non-null  float64\n",
      " 10  current_assets                475031 non-null  float64\n",
      " 11  assets                        474923 non-null  float64\n",
      " 12  equity                        475034 non-null  float64\n",
      " 13  untaxed_reserves              475049 non-null  float64\n",
      " 14  provisions                    475051 non-null  float64\n",
      " 15  lt_liabilities                475050 non-null  float64\n",
      " 16  curr_liabilities              475037 non-null  float64\n",
      " 17  lia_and_equity                474902 non-null  float64\n",
      " 18  salar_board_ceo               182868 non-null  float64\n",
      " 19  royalties_board_ceo           39848 non-null   float64\n",
      " 20  sal_other_empl                285651 non-null  float64\n",
      " 21  perf_other_empl               41215 non-null   float64\n",
      " 22  social_exp                    305947 non-null  float64\n",
      " 23  dividends                     475482 non-null  float64\n",
      " 24  revenue                       475003 non-null  float64\n",
      " 25  num_employes                  435120 non-null  float64\n",
      " 26  net_sales_empl                379854 non-null  float64\n",
      " 27  pers_cost_empl                377178 non-null  float64\n",
      " 28  op_prof_ebitda                475375 non-null  float64\n",
      " 29  net_change                    376635 non-null  float64\n",
      " 30  du_pont_model                 442006 non-null  float64\n",
      " 31  prof_margin                   442337 non-null  float64\n",
      " 32  gross_prof                    442337 non-null  float64\n",
      " 33  working_cap                   442427 non-null  float64\n",
      " 34  solidity_equity_assets_ratio  473899 non-null  float64\n",
      " 35  cash_liquidity_quick_ratio    465687 non-null  float64\n",
      " 36  default                       478033 non-null  int64  \n",
      " 37  date_diff                     1805 non-null    float64\n",
      " 38  default_date                  1805 non-null    object \n",
      " 39  status                        478033 non-null  object \n",
      " 40  actual_status                 1805 non-null    object \n",
      " 41  remark                        1805 non-null    object \n",
      " 42  year                          478033 non-null  int64  \n",
      " 43  company_form                  478033 non-null  object \n",
      " 44  county                        478033 non-null  object \n",
      " 45  industry                      476595 non-null  object \n",
      " 46  operation                     476595 non-null  object \n",
      " 47  registered_date               478033 non-null  object \n",
      "dtypes: float64(34), int64(3), object(11)\n",
      "memory usage: 175.1+ MB\n"
     ]
    }
   ],
   "source": [
    "data.info()"
   ]
  },
  {
   "cell_type": "markdown",
   "metadata": {},
   "source": [
    "## Dividing columns by 100"
   ]
  },
  {
   "cell_type": "code",
   "execution_count": 40,
   "metadata": {},
   "outputs": [],
   "source": [
    "# 28 to 36\n",
    "data.iloc[:,29:36] = data.iloc[:,29:36]/100"
   ]
  },
  {
   "cell_type": "markdown",
   "metadata": {},
   "source": [
    "# another renaming"
   ]
  },
  {
   "cell_type": "code",
   "execution_count": 41,
   "metadata": {},
   "outputs": [],
   "source": [
    "#solidity_equity_assets_ratio    --->   solidity\n",
    "#cash_liquidity_quick_ratio   --->   quick_ratio\n",
    "data.rename(columns={\"solidity_equity_assets_ratio\":\"solidity\"},inplace=True)\n",
    "data.rename(columns={\"cash_liquidity_quick_ratio\":\"quick_ratio\"},inplace=True)"
   ]
  },
  {
   "cell_type": "code",
   "execution_count": 42,
   "metadata": {},
   "outputs": [
    {
     "name": "stdout",
     "output_type": "stream",
     "text": [
      "<class 'pandas.core.frame.DataFrame'>\n",
      "RangeIndex: 478033 entries, 0 to 478032\n",
      "Data columns (total 48 columns):\n",
      " #   Column                    Non-Null Count   Dtype  \n",
      "---  ------                    --------------   -----  \n",
      " 0   company                   478033 non-null  object \n",
      " 1   id                        478033 non-null  int64  \n",
      " 2   date                      478033 non-null  object \n",
      " 3   net_sales                 474999 non-null  float64\n",
      " 4   other_sales               194756 non-null  float64\n",
      " 5   op_profit_ebit            474998 non-null  float64\n",
      " 6   prof_after_net_fin_items  474998 non-null  float64\n",
      " 7   results                   474998 non-null  float64\n",
      " 8   sub_unpaid_cap            475048 non-null  float64\n",
      " 9   fixed_assets              475047 non-null  float64\n",
      " 10  current_assets            475031 non-null  float64\n",
      " 11  assets                    474923 non-null  float64\n",
      " 12  equity                    475034 non-null  float64\n",
      " 13  untaxed_reserves          475049 non-null  float64\n",
      " 14  provisions                475051 non-null  float64\n",
      " 15  lt_liabilities            475050 non-null  float64\n",
      " 16  curr_liabilities          475037 non-null  float64\n",
      " 17  lia_and_equity            474902 non-null  float64\n",
      " 18  salar_board_ceo           182868 non-null  float64\n",
      " 19  royalties_board_ceo       39848 non-null   float64\n",
      " 20  sal_other_empl            285651 non-null  float64\n",
      " 21  perf_other_empl           41215 non-null   float64\n",
      " 22  social_exp                305947 non-null  float64\n",
      " 23  dividends                 475482 non-null  float64\n",
      " 24  revenue                   475003 non-null  float64\n",
      " 25  num_employes              435120 non-null  float64\n",
      " 26  net_sales_empl            379854 non-null  float64\n",
      " 27  pers_cost_empl            377178 non-null  float64\n",
      " 28  op_prof_ebitda            475375 non-null  float64\n",
      " 29  net_change                376635 non-null  float64\n",
      " 30  du_pont_model             442006 non-null  float64\n",
      " 31  prof_margin               442337 non-null  float64\n",
      " 32  gross_prof                442337 non-null  float64\n",
      " 33  working_cap               442427 non-null  float64\n",
      " 34  solidity                  473899 non-null  float64\n",
      " 35  quick_ratio               465687 non-null  float64\n",
      " 36  default                   478033 non-null  int64  \n",
      " 37  date_diff                 1805 non-null    float64\n",
      " 38  default_date              1805 non-null    object \n",
      " 39  status                    478033 non-null  object \n",
      " 40  actual_status             1805 non-null    object \n",
      " 41  remark                    1805 non-null    object \n",
      " 42  year                      478033 non-null  int64  \n",
      " 43  company_form              478033 non-null  object \n",
      " 44  county                    478033 non-null  object \n",
      " 45  industry                  476595 non-null  object \n",
      " 46  operation                 476595 non-null  object \n",
      " 47  registered_date           478033 non-null  object \n",
      "dtypes: float64(34), int64(3), object(11)\n",
      "memory usage: 175.1+ MB\n"
     ]
    }
   ],
   "source": [
    "data.info()"
   ]
  },
  {
   "cell_type": "code",
   "execution_count": 43,
   "metadata": {},
   "outputs": [],
   "source": [
    "#data.to_csv(\"../data/financials/financials_status_forms_clean2.csv\",index=False)"
   ]
  },
  {
   "cell_type": "code",
   "execution_count": 45,
   "metadata": {},
   "outputs": [
    {
     "data": {
      "text/plain": [
       "93230    10471000.0\n",
       "93231     5647000.0\n",
       "93232     6165000.0\n",
       "93233     8568000.0\n",
       "93234     7869000.0\n",
       "93235     7006000.0\n",
       "93236     7123000.0\n",
       "93237     5536000.0\n",
       "93238     9806000.0\n",
       "93239     6759000.0\n",
       "Name: op_prof_ebitda, dtype: float64"
      ]
     },
     "execution_count": 45,
     "metadata": {},
     "output_type": "execute_result"
    }
   ],
   "source": [
    "data[data['id']==5560004615].iloc[:,28]"
   ]
  },
  {
   "cell_type": "code",
   "execution_count": null,
   "metadata": {},
   "outputs": [],
   "source": []
  }
 ],
 "metadata": {
  "kernelspec": {
   "display_name": "Python 3",
   "language": "python",
   "name": "python3"
  },
  "language_info": {
   "codemirror_mode": {
    "name": "ipython",
    "version": 3
   },
   "file_extension": ".py",
   "mimetype": "text/x-python",
   "name": "python",
   "nbconvert_exporter": "python",
   "pygments_lexer": "ipython3",
   "version": "3.8.5"
  }
 },
 "nbformat": 4,
 "nbformat_minor": 4
}
