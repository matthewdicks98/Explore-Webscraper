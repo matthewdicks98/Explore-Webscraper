{
 "cells": [
  {
   "cell_type": "code",
   "execution_count": 1,
   "metadata": {},
   "outputs": [],
   "source": [
    "import numpy as np\n",
    "import pandas as pd"
   ]
  },
  {
   "cell_type": "markdown",
   "metadata": {},
   "source": [
    "## Reading in the data"
   ]
  },
  {
   "cell_type": "code",
   "execution_count": 2,
   "metadata": {},
   "outputs": [
    {
     "name": "stderr",
     "output_type": "stream",
     "text": [
      "/home/matt/anaconda3/envs/scrapy/lib/python3.8/site-packages/IPython/core/interactiveshell.py:3146: DtypeWarning: Columns (23) have mixed types.Specify dtype option on import or set low_memory=False.\n",
      "  has_raised = await self.run_ast_nodes(code_ast.body, cell_name,\n"
     ]
    }
   ],
   "source": [
    "fin_stat = pd.read_csv(\"../data/financials/financials_and_status.csv\")"
   ]
  },
  {
   "cell_type": "code",
   "execution_count": 3,
   "metadata": {},
   "outputs": [
    {
     "data": {
      "text/html": [
       "<div>\n",
       "<style scoped>\n",
       "    .dataframe tbody tr th:only-of-type {\n",
       "        vertical-align: middle;\n",
       "    }\n",
       "\n",
       "    .dataframe tbody tr th {\n",
       "        vertical-align: top;\n",
       "    }\n",
       "\n",
       "    .dataframe thead th {\n",
       "        text-align: right;\n",
       "    }\n",
       "</style>\n",
       "<table border=\"1\" class=\"dataframe\">\n",
       "  <thead>\n",
       "    <tr style=\"text-align: right;\">\n",
       "      <th></th>\n",
       "      <th>company</th>\n",
       "      <th>id</th>\n",
       "      <th>year</th>\n",
       "      <th>net_sales</th>\n",
       "      <th>other_sales</th>\n",
       "      <th>op_profit_ebit</th>\n",
       "      <th>prof_after_net_fin_items</th>\n",
       "      <th>results</th>\n",
       "      <th>sub_unpaid_cap</th>\n",
       "      <th>fixed_assets</th>\n",
       "      <th>...</th>\n",
       "      <th>gross_prof</th>\n",
       "      <th>working_cap</th>\n",
       "      <th>solidity_equity_assets_ratio</th>\n",
       "      <th>cash_liquidity_quick_ratio</th>\n",
       "      <th>status_bool</th>\n",
       "      <th>date_diff</th>\n",
       "      <th>default_date</th>\n",
       "      <th>status</th>\n",
       "      <th>actual_status</th>\n",
       "      <th>remark</th>\n",
       "    </tr>\n",
       "  </thead>\n",
       "  <tbody>\n",
       "    <tr>\n",
       "      <th>0</th>\n",
       "      <td>Lily Properties AB</td>\n",
       "      <td>5590655865</td>\n",
       "      <td>2019-12</td>\n",
       "      <td>0</td>\n",
       "      <td>-</td>\n",
       "      <td>-44</td>\n",
       "      <td>-44</td>\n",
       "      <td>-44</td>\n",
       "      <td>0</td>\n",
       "      <td>99</td>\n",
       "      <td>...</td>\n",
       "      <td>-</td>\n",
       "      <td>-</td>\n",
       "      <td>68.63%</td>\n",
       "      <td>57.14%</td>\n",
       "      <td>0</td>\n",
       "      <td>NaN</td>\n",
       "      <td>NaN</td>\n",
       "      <td>NaN</td>\n",
       "      <td>NaN</td>\n",
       "      <td>NaN</td>\n",
       "    </tr>\n",
       "    <tr>\n",
       "      <th>1</th>\n",
       "      <td>Lily Properties AB</td>\n",
       "      <td>5590655865</td>\n",
       "      <td>2018-12</td>\n",
       "      <td>0</td>\n",
       "      <td>-</td>\n",
       "      <td>-72</td>\n",
       "      <td>-72</td>\n",
       "      <td>-72</td>\n",
       "      <td>0</td>\n",
       "      <td>130</td>\n",
       "      <td>...</td>\n",
       "      <td>-</td>\n",
       "      <td>-</td>\n",
       "      <td>75.13%</td>\n",
       "      <td>81.63%</td>\n",
       "      <td>0</td>\n",
       "      <td>NaN</td>\n",
       "      <td>NaN</td>\n",
       "      <td>NaN</td>\n",
       "      <td>NaN</td>\n",
       "      <td>NaN</td>\n",
       "    </tr>\n",
       "    <tr>\n",
       "      <th>2</th>\n",
       "      <td>Lily Properties AB</td>\n",
       "      <td>5590655865</td>\n",
       "      <td>2017-12</td>\n",
       "      <td>28</td>\n",
       "      <td>-</td>\n",
       "      <td>-279</td>\n",
       "      <td>-279</td>\n",
       "      <td>-279</td>\n",
       "      <td>0</td>\n",
       "      <td>160</td>\n",
       "      <td>...</td>\n",
       "      <td>100.00%</td>\n",
       "      <td>1282.14%</td>\n",
       "      <td>91.23%</td>\n",
       "      <td>764.00%</td>\n",
       "      <td>0</td>\n",
       "      <td>NaN</td>\n",
       "      <td>NaN</td>\n",
       "      <td>NaN</td>\n",
       "      <td>NaN</td>\n",
       "      <td>NaN</td>\n",
       "    </tr>\n",
       "    <tr>\n",
       "      <th>3</th>\n",
       "      <td>Lily Properties AB</td>\n",
       "      <td>5590655865</td>\n",
       "      <td>2016-12</td>\n",
       "      <td>0</td>\n",
       "      <td>-</td>\n",
       "      <td>-226</td>\n",
       "      <td>749</td>\n",
       "      <td>749</td>\n",
       "      <td>0</td>\n",
       "      <td>801</td>\n",
       "      <td>...</td>\n",
       "      <td>-</td>\n",
       "      <td>-</td>\n",
       "      <td>94.22%</td>\n",
       "      <td>40.82%</td>\n",
       "      <td>0</td>\n",
       "      <td>NaN</td>\n",
       "      <td>NaN</td>\n",
       "      <td>NaN</td>\n",
       "      <td>NaN</td>\n",
       "      <td>NaN</td>\n",
       "    </tr>\n",
       "    <tr>\n",
       "      <th>4</th>\n",
       "      <td>Fogdetorps El Aktiebolag</td>\n",
       "      <td>5564709904</td>\n",
       "      <td>2019-12</td>\n",
       "      <td>0</td>\n",
       "      <td>-</td>\n",
       "      <td>-62</td>\n",
       "      <td>7938</td>\n",
       "      <td>7938</td>\n",
       "      <td>0</td>\n",
       "      <td>8649</td>\n",
       "      <td>...</td>\n",
       "      <td>-</td>\n",
       "      <td>-</td>\n",
       "      <td>74.29%</td>\n",
       "      <td>269.62%</td>\n",
       "      <td>0</td>\n",
       "      <td>NaN</td>\n",
       "      <td>NaN</td>\n",
       "      <td>NaN</td>\n",
       "      <td>NaN</td>\n",
       "      <td>NaN</td>\n",
       "    </tr>\n",
       "  </tbody>\n",
       "</table>\n",
       "<p>5 rows × 42 columns</p>\n",
       "</div>"
      ],
      "text/plain": [
       "                    company          id     year net_sales other_sales  \\\n",
       "0        Lily Properties AB  5590655865  2019-12         0           -   \n",
       "1        Lily Properties AB  5590655865  2018-12         0           -   \n",
       "2        Lily Properties AB  5590655865  2017-12        28           -   \n",
       "3        Lily Properties AB  5590655865  2016-12         0           -   \n",
       "4  Fogdetorps El Aktiebolag  5564709904  2019-12         0           -   \n",
       "\n",
       "  op_profit_ebit prof_after_net_fin_items results sub_unpaid_cap fixed_assets  \\\n",
       "0            -44                      -44     -44              0           99   \n",
       "1            -72                      -72     -72              0          130   \n",
       "2           -279                     -279    -279              0          160   \n",
       "3           -226                      749     749              0          801   \n",
       "4            -62                     7938    7938              0         8649   \n",
       "\n",
       "   ... gross_prof working_cap solidity_equity_assets_ratio  \\\n",
       "0  ...          -           -                       68.63%   \n",
       "1  ...          -           -                       75.13%   \n",
       "2  ...    100.00%    1282.14%                       91.23%   \n",
       "3  ...          -           -                       94.22%   \n",
       "4  ...          -           -                       74.29%   \n",
       "\n",
       "  cash_liquidity_quick_ratio status_bool date_diff default_date status  \\\n",
       "0                     57.14%           0       NaN          NaN    NaN   \n",
       "1                     81.63%           0       NaN          NaN    NaN   \n",
       "2                    764.00%           0       NaN          NaN    NaN   \n",
       "3                     40.82%           0       NaN          NaN    NaN   \n",
       "4                    269.62%           0       NaN          NaN    NaN   \n",
       "\n",
       "  actual_status remark  \n",
       "0           NaN    NaN  \n",
       "1           NaN    NaN  \n",
       "2           NaN    NaN  \n",
       "3           NaN    NaN  \n",
       "4           NaN    NaN  \n",
       "\n",
       "[5 rows x 42 columns]"
      ]
     },
     "execution_count": 3,
     "metadata": {},
     "output_type": "execute_result"
    }
   ],
   "source": [
    "fin_stat.head()"
   ]
  },
  {
   "cell_type": "code",
   "execution_count": 4,
   "metadata": {},
   "outputs": [
    {
     "data": {
      "text/plain": [
       "(478042, 42)"
      ]
     },
     "execution_count": 4,
     "metadata": {},
     "output_type": "execute_result"
    }
   ],
   "source": [
    "fin_stat.shape"
   ]
  },
  {
   "cell_type": "code",
   "execution_count": 5,
   "metadata": {},
   "outputs": [
    {
     "data": {
      "text/plain": [
       "68995"
      ]
     },
     "execution_count": 5,
     "metadata": {},
     "output_type": "execute_result"
    }
   ],
   "source": [
    "fin_stat['id'].nunique()"
   ]
  },
  {
   "cell_type": "code",
   "execution_count": 6,
   "metadata": {},
   "outputs": [
    {
     "data": {
      "text/plain": [
       "(1807, 42)"
      ]
     },
     "execution_count": 6,
     "metadata": {},
     "output_type": "execute_result"
    }
   ],
   "source": [
    "fin_stat[fin_stat['status_bool']==1].shape"
   ]
  },
  {
   "cell_type": "markdown",
   "metadata": {},
   "source": [
    "## Replacing the dashes with NaNs"
   ]
  },
  {
   "cell_type": "code",
   "execution_count": 7,
   "metadata": {},
   "outputs": [],
   "source": [
    "columns_not_change = [36,37,38,39,40,41]"
   ]
  },
  {
   "cell_type": "code",
   "execution_count": 8,
   "metadata": {},
   "outputs": [],
   "source": [
    "for col in fin_stat.columns:\n",
    "    fin_stat[col].replace(\"-\",np.nan,inplace=True)"
   ]
  },
  {
   "cell_type": "markdown",
   "metadata": {},
   "source": [
    "## Remove the percentage signs"
   ]
  },
  {
   "cell_type": "code",
   "execution_count": 9,
   "metadata": {},
   "outputs": [],
   "source": [
    "for col in fin_stat.columns[29:36]:\n",
    "    fin_stat[col] = fin_stat[col].str[0:-1]"
   ]
  },
  {
   "cell_type": "markdown",
   "metadata": {},
   "source": [
    "## Converting the object datatypes to floats"
   ]
  },
  {
   "cell_type": "code",
   "execution_count": 10,
   "metadata": {},
   "outputs": [],
   "source": [
    "for col in fin_stat.columns[3:36]:\n",
    "    fin_stat[col] = fin_stat[col].astype(float)"
   ]
  },
  {
   "cell_type": "markdown",
   "metadata": {},
   "source": [
    "## Adding active status so it matches the 0s and 1s"
   ]
  },
  {
   "cell_type": "code",
   "execution_count": 11,
   "metadata": {},
   "outputs": [],
   "source": [
    "fin_stat['status'].replace(np.nan,'aktivt',inplace=True)"
   ]
  },
  {
   "cell_type": "code",
   "execution_count": 12,
   "metadata": {},
   "outputs": [
    {
     "data": {
      "text/html": [
       "<div>\n",
       "<style scoped>\n",
       "    .dataframe tbody tr th:only-of-type {\n",
       "        vertical-align: middle;\n",
       "    }\n",
       "\n",
       "    .dataframe tbody tr th {\n",
       "        vertical-align: top;\n",
       "    }\n",
       "\n",
       "    .dataframe thead th {\n",
       "        text-align: right;\n",
       "    }\n",
       "</style>\n",
       "<table border=\"1\" class=\"dataframe\">\n",
       "  <thead>\n",
       "    <tr style=\"text-align: right;\">\n",
       "      <th></th>\n",
       "      <th>company</th>\n",
       "      <th>id</th>\n",
       "      <th>year</th>\n",
       "      <th>net_sales</th>\n",
       "      <th>other_sales</th>\n",
       "      <th>op_profit_ebit</th>\n",
       "      <th>prof_after_net_fin_items</th>\n",
       "      <th>results</th>\n",
       "      <th>sub_unpaid_cap</th>\n",
       "      <th>fixed_assets</th>\n",
       "      <th>...</th>\n",
       "      <th>gross_prof</th>\n",
       "      <th>working_cap</th>\n",
       "      <th>solidity_equity_assets_ratio</th>\n",
       "      <th>cash_liquidity_quick_ratio</th>\n",
       "      <th>status_bool</th>\n",
       "      <th>date_diff</th>\n",
       "      <th>default_date</th>\n",
       "      <th>status</th>\n",
       "      <th>actual_status</th>\n",
       "      <th>remark</th>\n",
       "    </tr>\n",
       "  </thead>\n",
       "  <tbody>\n",
       "    <tr>\n",
       "      <th>478037</th>\n",
       "      <td>83ans Bygg AB</td>\n",
       "      <td>5568297674</td>\n",
       "      <td>2016-04</td>\n",
       "      <td>7114.0</td>\n",
       "      <td>113.0</td>\n",
       "      <td>143.0</td>\n",
       "      <td>141.0</td>\n",
       "      <td>68.0</td>\n",
       "      <td>0.0</td>\n",
       "      <td>52.0</td>\n",
       "      <td>...</td>\n",
       "      <td>44.42</td>\n",
       "      <td>2.74</td>\n",
       "      <td>17.20</td>\n",
       "      <td>117.32</td>\n",
       "      <td>0</td>\n",
       "      <td>NaN</td>\n",
       "      <td>NaN</td>\n",
       "      <td>aktivt</td>\n",
       "      <td>NaN</td>\n",
       "      <td>NaN</td>\n",
       "    </tr>\n",
       "    <tr>\n",
       "      <th>478038</th>\n",
       "      <td>83ans Bygg AB</td>\n",
       "      <td>5568297674</td>\n",
       "      <td>2015-04</td>\n",
       "      <td>5657.0</td>\n",
       "      <td>NaN</td>\n",
       "      <td>22.0</td>\n",
       "      <td>20.0</td>\n",
       "      <td>14.0</td>\n",
       "      <td>0.0</td>\n",
       "      <td>0.0</td>\n",
       "      <td>...</td>\n",
       "      <td>40.32</td>\n",
       "      <td>2.30</td>\n",
       "      <td>11.17</td>\n",
       "      <td>112.57</td>\n",
       "      <td>0</td>\n",
       "      <td>NaN</td>\n",
       "      <td>NaN</td>\n",
       "      <td>aktivt</td>\n",
       "      <td>NaN</td>\n",
       "      <td>NaN</td>\n",
       "    </tr>\n",
       "    <tr>\n",
       "      <th>478039</th>\n",
       "      <td>83ans Bygg AB</td>\n",
       "      <td>5568297674</td>\n",
       "      <td>2014-04</td>\n",
       "      <td>3078.0</td>\n",
       "      <td>NaN</td>\n",
       "      <td>32.0</td>\n",
       "      <td>31.0</td>\n",
       "      <td>22.0</td>\n",
       "      <td>0.0</td>\n",
       "      <td>0.0</td>\n",
       "      <td>...</td>\n",
       "      <td>50.13</td>\n",
       "      <td>3.80</td>\n",
       "      <td>17.23</td>\n",
       "      <td>120.82</td>\n",
       "      <td>0</td>\n",
       "      <td>NaN</td>\n",
       "      <td>NaN</td>\n",
       "      <td>aktivt</td>\n",
       "      <td>NaN</td>\n",
       "      <td>NaN</td>\n",
       "    </tr>\n",
       "    <tr>\n",
       "      <th>478040</th>\n",
       "      <td>83ans Bygg AB</td>\n",
       "      <td>5568297674</td>\n",
       "      <td>2013-04</td>\n",
       "      <td>2497.0</td>\n",
       "      <td>NaN</td>\n",
       "      <td>16.0</td>\n",
       "      <td>15.0</td>\n",
       "      <td>9.0</td>\n",
       "      <td>0.0</td>\n",
       "      <td>0.0</td>\n",
       "      <td>...</td>\n",
       "      <td>51.58</td>\n",
       "      <td>3.80</td>\n",
       "      <td>15.72</td>\n",
       "      <td>118.89</td>\n",
       "      <td>0</td>\n",
       "      <td>NaN</td>\n",
       "      <td>NaN</td>\n",
       "      <td>aktivt</td>\n",
       "      <td>NaN</td>\n",
       "      <td>NaN</td>\n",
       "    </tr>\n",
       "    <tr>\n",
       "      <th>478041</th>\n",
       "      <td>83ans Bygg AB</td>\n",
       "      <td>5568297674</td>\n",
       "      <td>2012-04</td>\n",
       "      <td>2065.0</td>\n",
       "      <td>37.0</td>\n",
       "      <td>52.0</td>\n",
       "      <td>52.0</td>\n",
       "      <td>35.0</td>\n",
       "      <td>0.0</td>\n",
       "      <td>0.0</td>\n",
       "      <td>...</td>\n",
       "      <td>66.30</td>\n",
       "      <td>4.16</td>\n",
       "      <td>20.63</td>\n",
       "      <td>126.38</td>\n",
       "      <td>0</td>\n",
       "      <td>NaN</td>\n",
       "      <td>NaN</td>\n",
       "      <td>aktivt</td>\n",
       "      <td>NaN</td>\n",
       "      <td>NaN</td>\n",
       "    </tr>\n",
       "  </tbody>\n",
       "</table>\n",
       "<p>5 rows × 42 columns</p>\n",
       "</div>"
      ],
      "text/plain": [
       "              company          id     year  net_sales  other_sales  \\\n",
       "478037  83ans Bygg AB  5568297674  2016-04     7114.0        113.0   \n",
       "478038  83ans Bygg AB  5568297674  2015-04     5657.0          NaN   \n",
       "478039  83ans Bygg AB  5568297674  2014-04     3078.0          NaN   \n",
       "478040  83ans Bygg AB  5568297674  2013-04     2497.0          NaN   \n",
       "478041  83ans Bygg AB  5568297674  2012-04     2065.0         37.0   \n",
       "\n",
       "        op_profit_ebit  prof_after_net_fin_items  results  sub_unpaid_cap  \\\n",
       "478037           143.0                     141.0     68.0             0.0   \n",
       "478038            22.0                      20.0     14.0             0.0   \n",
       "478039            32.0                      31.0     22.0             0.0   \n",
       "478040            16.0                      15.0      9.0             0.0   \n",
       "478041            52.0                      52.0     35.0             0.0   \n",
       "\n",
       "        fixed_assets  ...  gross_prof  working_cap  \\\n",
       "478037          52.0  ...       44.42         2.74   \n",
       "478038           0.0  ...       40.32         2.30   \n",
       "478039           0.0  ...       50.13         3.80   \n",
       "478040           0.0  ...       51.58         3.80   \n",
       "478041           0.0  ...       66.30         4.16   \n",
       "\n",
       "        solidity_equity_assets_ratio  cash_liquidity_quick_ratio  status_bool  \\\n",
       "478037                         17.20                      117.32            0   \n",
       "478038                         11.17                      112.57            0   \n",
       "478039                         17.23                      120.82            0   \n",
       "478040                         15.72                      118.89            0   \n",
       "478041                         20.63                      126.38            0   \n",
       "\n",
       "        date_diff  default_date  status  actual_status  remark  \n",
       "478037        NaN           NaN  aktivt            NaN     NaN  \n",
       "478038        NaN           NaN  aktivt            NaN     NaN  \n",
       "478039        NaN           NaN  aktivt            NaN     NaN  \n",
       "478040        NaN           NaN  aktivt            NaN     NaN  \n",
       "478041        NaN           NaN  aktivt            NaN     NaN  \n",
       "\n",
       "[5 rows x 42 columns]"
      ]
     },
     "execution_count": 12,
     "metadata": {},
     "output_type": "execute_result"
    }
   ],
   "source": [
    "fin_stat.tail()"
   ]
  },
  {
   "cell_type": "markdown",
   "metadata": {},
   "source": [
    "## Date year split"
   ]
  },
  {
   "cell_type": "code",
   "execution_count": 20,
   "metadata": {},
   "outputs": [],
   "source": [
    "fin_stat_clean = pd.read_csv(\"../data/financials/financials_status_clean.csv\")"
   ]
  },
  {
   "cell_type": "code",
   "execution_count": 24,
   "metadata": {},
   "outputs": [],
   "source": [
    "fin_stat_clean.rename(columns={\"year\":\"date\"},inplace=True)"
   ]
  },
  {
   "cell_type": "code",
   "execution_count": 27,
   "metadata": {},
   "outputs": [],
   "source": [
    "fin_stat_clean['year'] = fin_stat_clean['date'].str[0:4]"
   ]
  },
  {
   "cell_type": "markdown",
   "metadata": {},
   "source": [
    "## English translations"
   ]
  },
  {
   "cell_type": "code",
   "execution_count": 35,
   "metadata": {},
   "outputs": [],
   "source": [
    "fin_stat['status'].replace('aktivt','active',inplace=True)"
   ]
  },
  {
   "cell_type": "code",
   "execution_count": 37,
   "metadata": {},
   "outputs": [],
   "source": [
    "fin_stat['status'].replace('inaktivt','inactive',inplace=True)"
   ]
  },
  {
   "cell_type": "code",
   "execution_count": 40,
   "metadata": {},
   "outputs": [],
   "source": [
    "fin_stat['actual_status'].replace('Registrerad','Registered',inplace=True)"
   ]
  },
  {
   "cell_type": "code",
   "execution_count": 42,
   "metadata": {},
   "outputs": [],
   "source": [
    "fin_stat['actual_status'].replace('inaktivt','inactive',inplace=True)"
   ]
  },
  {
   "cell_type": "code",
   "execution_count": 46,
   "metadata": {},
   "outputs": [],
   "source": [
    "fin_stat['remark'].replace('Konkurs inledd','Bankruptcy initiated',inplace=True)"
   ]
  },
  {
   "cell_type": "code",
   "execution_count": 48,
   "metadata": {},
   "outputs": [],
   "source": [
    "fin_stat['remark'].replace('Konkurs avslutad','Bankruptcy completed ',inplace=True)"
   ]
  },
  {
   "cell_type": "markdown",
   "metadata": {},
   "source": [
    "## Checking and writing"
   ]
  },
  {
   "cell_type": "code",
   "execution_count": 15,
   "metadata": {},
   "outputs": [
    {
     "name": "stdout",
     "output_type": "stream",
     "text": [
      "<class 'pandas.core.frame.DataFrame'>\n",
      "RangeIndex: 478042 entries, 0 to 478041\n",
      "Data columns (total 42 columns):\n",
      " #   Column                        Non-Null Count   Dtype  \n",
      "---  ------                        --------------   -----  \n",
      " 0   company                       478042 non-null  object \n",
      " 1   id                            478042 non-null  int64  \n",
      " 2   year                          478042 non-null  object \n",
      " 3   net_sales                     475008 non-null  float64\n",
      " 4   other_sales                   194760 non-null  float64\n",
      " 5   op_profit_ebit                475007 non-null  float64\n",
      " 6   prof_after_net_fin_items      475007 non-null  float64\n",
      " 7   results                       475007 non-null  float64\n",
      " 8   sub_unpaid_cap                475057 non-null  float64\n",
      " 9   fixed_assets                  475056 non-null  float64\n",
      " 10  current_assets                475040 non-null  float64\n",
      " 11  assets                        474932 non-null  float64\n",
      " 12  equity                        475043 non-null  float64\n",
      " 13  untaxed_reserves              475058 non-null  float64\n",
      " 14  provisions                    475060 non-null  float64\n",
      " 15  lt_liabilities                475059 non-null  float64\n",
      " 16  curr_liabilities              475046 non-null  float64\n",
      " 17  lia_and_equity                474911 non-null  float64\n",
      " 18  salar_board_ceo               182873 non-null  float64\n",
      " 19  royalties_board_ceo           39848 non-null   float64\n",
      " 20  sal_other_empl                285659 non-null  float64\n",
      " 21  perf_other_empl               41215 non-null   float64\n",
      " 22  social_exp                    305956 non-null  float64\n",
      " 23  dividends                     475491 non-null  float64\n",
      " 24  revenue                       475012 non-null  float64\n",
      " 25  num_employes                  435129 non-null  float64\n",
      " 26  net_sales_empl                379863 non-null  float64\n",
      " 27  pers_cost_empl                377187 non-null  float64\n",
      " 28  op_prof_ebitda                475384 non-null  float64\n",
      " 29  net_change                    376642 non-null  float64\n",
      " 30  du_pont_model                 442015 non-null  float64\n",
      " 31  prof_margin                   442346 non-null  float64\n",
      " 32  gross_prof                    442346 non-null  float64\n",
      " 33  working_cap                   442436 non-null  float64\n",
      " 34  solidity_equity_assets_ratio  473908 non-null  float64\n",
      " 35  cash_liquidity_quick_ratio    465696 non-null  float64\n",
      " 36  status_bool                   478042 non-null  int64  \n",
      " 37  date_diff                     1807 non-null    float64\n",
      " 38  default_date                  1807 non-null    object \n",
      " 39  status                        478042 non-null  object \n",
      " 40  actual_status                 1807 non-null    object \n",
      " 41  remark                        1807 non-null    object \n",
      "dtypes: float64(34), int64(2), object(6)\n",
      "memory usage: 153.2+ MB\n"
     ]
    }
   ],
   "source": [
    "fin_stat.info()"
   ]
  },
  {
   "cell_type": "code",
   "execution_count": 16,
   "metadata": {},
   "outputs": [
    {
     "data": {
      "text/plain": [
       "(478042, 42)"
      ]
     },
     "execution_count": 16,
     "metadata": {},
     "output_type": "execute_result"
    }
   ],
   "source": [
    "fin_stat.shape"
   ]
  },
  {
   "cell_type": "code",
   "execution_count": 50,
   "metadata": {},
   "outputs": [],
   "source": [
    "#fin_stat.to_csv(\"../data/financials/financials_status_clean.csv\",index=False)"
   ]
  },
  {
   "cell_type": "code",
   "execution_count": null,
   "metadata": {},
   "outputs": [],
   "source": []
  }
 ],
 "metadata": {
  "kernelspec": {
   "display_name": "Python 3",
   "language": "python",
   "name": "python3"
  },
  "language_info": {
   "codemirror_mode": {
    "name": "ipython",
    "version": 3
   },
   "file_extension": ".py",
   "mimetype": "text/x-python",
   "name": "python",
   "nbconvert_exporter": "python",
   "pygments_lexer": "ipython3",
   "version": "3.8.5"
  }
 },
 "nbformat": 4,
 "nbformat_minor": 4
}
