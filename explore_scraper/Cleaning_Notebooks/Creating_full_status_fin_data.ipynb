{
 "cells": [
  {
   "cell_type": "code",
   "execution_count": 1,
   "metadata": {},
   "outputs": [],
   "source": [
    "import numpy as np\n",
    "import pandas as pd"
   ]
  },
  {
   "cell_type": "markdown",
   "metadata": {},
   "source": [
    "# Create the full status and financial datasets"
   ]
  },
  {
   "cell_type": "markdown",
   "metadata": {},
   "source": [
    "## Creating status dataset"
   ]
  },
  {
   "cell_type": "code",
   "execution_count": 11,
   "metadata": {},
   "outputs": [],
   "source": [
    "status_0_10000 = pd.read_csv(\"../data/financials/status_0_10000.csv\")\n",
    "status_10000_20000 = pd.read_csv(\"../data/financials/status_10000_20000.csv\")\n",
    "status_20000_40000 = pd.read_csv(\"../data/financials/status_20000_40000.csv\")\n",
    "status_40000_60000 = pd.read_csv(\"../data/financials/status_40000_60000.csv\")\n",
    "status_60000_ = pd.read_csv(\"../data/financials/status_60000_.csv\")"
   ]
  },
  {
   "cell_type": "code",
   "execution_count": 12,
   "metadata": {},
   "outputs": [
    {
     "data": {
      "text/plain": [
       "81360"
      ]
     },
     "execution_count": 12,
     "metadata": {},
     "output_type": "execute_result"
    }
   ],
   "source": [
    "status_0_10000.shape[0]+status_10000_20000.shape[0]+status_20000_40000.shape[0]+status_40000_60000.shape[0]+status_60000_.shape[0]"
   ]
  },
  {
   "cell_type": "code",
   "execution_count": 5,
   "metadata": {},
   "outputs": [],
   "source": [
    "status = status_0_10000.append(status_10000_20000,ignore_index=True)\n",
    "status = status.append(status_20000_40000,ignore_index=True)\n",
    "status = status.append(status_40000_60000,ignore_index=True)\n",
    "status = status.append(status_60000_,ignore_index=True)"
   ]
  },
  {
   "cell_type": "code",
   "execution_count": 6,
   "metadata": {},
   "outputs": [
    {
     "data": {
      "text/plain": [
       "(81360, 6)"
      ]
     },
     "execution_count": 6,
     "metadata": {},
     "output_type": "execute_result"
    }
   ],
   "source": [
    "status.shape"
   ]
  },
  {
   "cell_type": "code",
   "execution_count": 7,
   "metadata": {},
   "outputs": [
    {
     "data": {
      "text/html": [
       "<div>\n",
       "<style scoped>\n",
       "    .dataframe tbody tr th:only-of-type {\n",
       "        vertical-align: middle;\n",
       "    }\n",
       "\n",
       "    .dataframe tbody tr th {\n",
       "        vertical-align: top;\n",
       "    }\n",
       "\n",
       "    .dataframe thead th {\n",
       "        text-align: right;\n",
       "    }\n",
       "</style>\n",
       "<table border=\"1\" class=\"dataframe\">\n",
       "  <thead>\n",
       "    <tr style=\"text-align: right;\">\n",
       "      <th></th>\n",
       "      <th>company</th>\n",
       "      <th>id</th>\n",
       "      <th>status</th>\n",
       "      <th>actual_status</th>\n",
       "      <th>remark</th>\n",
       "      <th>default_date</th>\n",
       "    </tr>\n",
       "  </thead>\n",
       "  <tbody>\n",
       "    <tr>\n",
       "      <th>81355</th>\n",
       "      <td>ÖVERTORNEÅ KOMMUN</td>\n",
       "      <td>2120002700</td>\n",
       "      <td>aktivt</td>\n",
       "      <td>aktivt</td>\n",
       "      <td>NaN</td>\n",
       "      <td>NaN</td>\n",
       "    </tr>\n",
       "    <tr>\n",
       "      <th>81356</th>\n",
       "      <td>ÖVERTORNEÅ KOMMUN</td>\n",
       "      <td>2120002700</td>\n",
       "      <td>aktivt</td>\n",
       "      <td>aktivt</td>\n",
       "      <td>NaN</td>\n",
       "      <td>NaN</td>\n",
       "    </tr>\n",
       "    <tr>\n",
       "      <th>81357</th>\n",
       "      <td>Öxabäcks Måleri Aktiebolag</td>\n",
       "      <td>5561859694</td>\n",
       "      <td>inaktivt</td>\n",
       "      <td>inaktivt</td>\n",
       "      <td>Konkurs avslutad</td>\n",
       "      <td>2019-11-13</td>\n",
       "    </tr>\n",
       "    <tr>\n",
       "      <th>81358</th>\n",
       "      <td>2nd Planet AB</td>\n",
       "      <td>5567148720</td>\n",
       "      <td>aktivt</td>\n",
       "      <td>aktivt</td>\n",
       "      <td>NaN</td>\n",
       "      <td>NaN</td>\n",
       "    </tr>\n",
       "    <tr>\n",
       "      <th>81359</th>\n",
       "      <td>83ans Bygg AB</td>\n",
       "      <td>5568297674</td>\n",
       "      <td>inaktivt</td>\n",
       "      <td>inaktivt</td>\n",
       "      <td>Konkurs avslutad</td>\n",
       "      <td>2019-09-30</td>\n",
       "    </tr>\n",
       "  </tbody>\n",
       "</table>\n",
       "</div>"
      ],
      "text/plain": [
       "                          company          id    status actual_status  \\\n",
       "81355           ÖVERTORNEÅ KOMMUN  2120002700    aktivt        aktivt   \n",
       "81356           ÖVERTORNEÅ KOMMUN  2120002700    aktivt        aktivt   \n",
       "81357  Öxabäcks Måleri Aktiebolag  5561859694  inaktivt      inaktivt   \n",
       "81358               2nd Planet AB  5567148720    aktivt        aktivt   \n",
       "81359               83ans Bygg AB  5568297674  inaktivt      inaktivt   \n",
       "\n",
       "                 remark default_date  \n",
       "81355               NaN          NaN  \n",
       "81356               NaN          NaN  \n",
       "81357  Konkurs avslutad   2019-11-13  \n",
       "81358               NaN          NaN  \n",
       "81359  Konkurs avslutad   2019-09-30  "
      ]
     },
     "execution_count": 7,
     "metadata": {},
     "output_type": "execute_result"
    }
   ],
   "source": [
    "status.tail()"
   ]
  },
  {
   "cell_type": "code",
   "execution_count": 8,
   "metadata": {},
   "outputs": [
    {
     "data": {
      "text/html": [
       "<div>\n",
       "<style scoped>\n",
       "    .dataframe tbody tr th:only-of-type {\n",
       "        vertical-align: middle;\n",
       "    }\n",
       "\n",
       "    .dataframe tbody tr th {\n",
       "        vertical-align: top;\n",
       "    }\n",
       "\n",
       "    .dataframe thead th {\n",
       "        text-align: right;\n",
       "    }\n",
       "</style>\n",
       "<table border=\"1\" class=\"dataframe\">\n",
       "  <thead>\n",
       "    <tr style=\"text-align: right;\">\n",
       "      <th></th>\n",
       "      <th>company</th>\n",
       "      <th>id</th>\n",
       "      <th>status</th>\n",
       "      <th>actual_status</th>\n",
       "      <th>remark</th>\n",
       "      <th>default_date</th>\n",
       "    </tr>\n",
       "  </thead>\n",
       "  <tbody>\n",
       "    <tr>\n",
       "      <th>21513</th>\n",
       "      <td>ÖVERTORNEÅ KOMMUN</td>\n",
       "      <td>2120002700</td>\n",
       "      <td>aktivt</td>\n",
       "      <td>aktivt</td>\n",
       "      <td>NaN</td>\n",
       "      <td>NaN</td>\n",
       "    </tr>\n",
       "    <tr>\n",
       "      <th>21514</th>\n",
       "      <td>ÖVERTORNEÅ KOMMUN</td>\n",
       "      <td>2120002700</td>\n",
       "      <td>aktivt</td>\n",
       "      <td>aktivt</td>\n",
       "      <td>NaN</td>\n",
       "      <td>NaN</td>\n",
       "    </tr>\n",
       "    <tr>\n",
       "      <th>21515</th>\n",
       "      <td>Öxabäcks Måleri Aktiebolag</td>\n",
       "      <td>5561859694</td>\n",
       "      <td>inaktivt</td>\n",
       "      <td>inaktivt</td>\n",
       "      <td>Konkurs avslutad</td>\n",
       "      <td>2019-11-13</td>\n",
       "    </tr>\n",
       "    <tr>\n",
       "      <th>21516</th>\n",
       "      <td>2nd Planet AB</td>\n",
       "      <td>5567148720</td>\n",
       "      <td>aktivt</td>\n",
       "      <td>aktivt</td>\n",
       "      <td>NaN</td>\n",
       "      <td>NaN</td>\n",
       "    </tr>\n",
       "    <tr>\n",
       "      <th>21517</th>\n",
       "      <td>83ans Bygg AB</td>\n",
       "      <td>5568297674</td>\n",
       "      <td>inaktivt</td>\n",
       "      <td>inaktivt</td>\n",
       "      <td>Konkurs avslutad</td>\n",
       "      <td>2019-09-30</td>\n",
       "    </tr>\n",
       "  </tbody>\n",
       "</table>\n",
       "</div>"
      ],
      "text/plain": [
       "                          company          id    status actual_status  \\\n",
       "21513           ÖVERTORNEÅ KOMMUN  2120002700    aktivt        aktivt   \n",
       "21514           ÖVERTORNEÅ KOMMUN  2120002700    aktivt        aktivt   \n",
       "21515  Öxabäcks Måleri Aktiebolag  5561859694  inaktivt      inaktivt   \n",
       "21516               2nd Planet AB  5567148720    aktivt        aktivt   \n",
       "21517               83ans Bygg AB  5568297674  inaktivt      inaktivt   \n",
       "\n",
       "                 remark default_date  \n",
       "21513               NaN          NaN  \n",
       "21514               NaN          NaN  \n",
       "21515  Konkurs avslutad   2019-11-13  \n",
       "21516               NaN          NaN  \n",
       "21517  Konkurs avslutad   2019-09-30  "
      ]
     },
     "execution_count": 8,
     "metadata": {},
     "output_type": "execute_result"
    }
   ],
   "source": [
    "status_60000_.tail()"
   ]
  },
  {
   "cell_type": "markdown",
   "metadata": {},
   "source": [
    "## Creating financials dataset"
   ]
  },
  {
   "cell_type": "code",
   "execution_count": 8,
   "metadata": {},
   "outputs": [],
   "source": [
    "fin_0_10000 = pd.read_csv(\"../data/financials/fin_0_10000.csv\")\n",
    "fin_10000_20000 = pd.read_csv(\"../data/financials/fin_10000_20000.csv\")\n",
    "fin_20000_40000 = pd.read_csv(\"../data/financials/fin_20000_40000.csv\")\n",
    "fin_40000_60000 = pd.read_csv(\"../data/financials/fin_40000_60000.csv\")\n",
    "fin_60000_ = pd.read_csv(\"../data/financials/fin_60000_.csv\")"
   ]
  },
  {
   "cell_type": "code",
   "execution_count": 10,
   "metadata": {},
   "outputs": [
    {
     "data": {
      "text/plain": [
       "481988"
      ]
     },
     "execution_count": 10,
     "metadata": {},
     "output_type": "execute_result"
    }
   ],
   "source": [
    "fin_0_10000.shape[0]+fin_10000_20000.shape[0]+fin_20000_40000.shape[0]+fin_40000_60000.shape[0]+fin_60000_.shape[0]"
   ]
  },
  {
   "cell_type": "code",
   "execution_count": 15,
   "metadata": {},
   "outputs": [],
   "source": [
    "financials = fin_0_10000.append(fin_10000_20000,ignore_index=True)\n",
    "financials = financials.append(fin_20000_40000,ignore_index=True)\n",
    "financials = financials.append(fin_40000_60000,ignore_index=True)\n",
    "financials = financials.append(fin_60000_,ignore_index=True)"
   ]
  },
  {
   "cell_type": "code",
   "execution_count": 16,
   "metadata": {},
   "outputs": [
    {
     "data": {
      "text/plain": [
       "(481988, 36)"
      ]
     },
     "execution_count": 16,
     "metadata": {},
     "output_type": "execute_result"
    }
   ],
   "source": [
    "financials.shape"
   ]
  },
  {
   "cell_type": "code",
   "execution_count": 17,
   "metadata": {},
   "outputs": [
    {
     "data": {
      "text/html": [
       "<div>\n",
       "<style scoped>\n",
       "    .dataframe tbody tr th:only-of-type {\n",
       "        vertical-align: middle;\n",
       "    }\n",
       "\n",
       "    .dataframe tbody tr th {\n",
       "        vertical-align: top;\n",
       "    }\n",
       "\n",
       "    .dataframe thead th {\n",
       "        text-align: right;\n",
       "    }\n",
       "</style>\n",
       "<table border=\"1\" class=\"dataframe\">\n",
       "  <thead>\n",
       "    <tr style=\"text-align: right;\">\n",
       "      <th></th>\n",
       "      <th>company</th>\n",
       "      <th>id</th>\n",
       "      <th>year</th>\n",
       "      <th>net_sales</th>\n",
       "      <th>other_sales</th>\n",
       "      <th>op_profit_ebit</th>\n",
       "      <th>prof_after_net_fin_items</th>\n",
       "      <th>results</th>\n",
       "      <th>sub_unpaid_cap</th>\n",
       "      <th>fixed_assets</th>\n",
       "      <th>...</th>\n",
       "      <th>net_sales_empl</th>\n",
       "      <th>pers_cost_empl</th>\n",
       "      <th>op_prof_ebitda</th>\n",
       "      <th>net_change</th>\n",
       "      <th>du_pont_model</th>\n",
       "      <th>prof_margin</th>\n",
       "      <th>gross_prof</th>\n",
       "      <th>working_cap</th>\n",
       "      <th>solidity_equity_assets_ratio</th>\n",
       "      <th>cash_liquidity_quick_ratio</th>\n",
       "    </tr>\n",
       "  </thead>\n",
       "  <tbody>\n",
       "    <tr>\n",
       "      <th>128615</th>\n",
       "      <td>83ans Bygg AB</td>\n",
       "      <td>5568297674</td>\n",
       "      <td>2016-04</td>\n",
       "      <td>7114</td>\n",
       "      <td>113</td>\n",
       "      <td>143</td>\n",
       "      <td>141</td>\n",
       "      <td>68</td>\n",
       "      <td>0</td>\n",
       "      <td>52</td>\n",
       "      <td>...</td>\n",
       "      <td>1423</td>\n",
       "      <td>488</td>\n",
       "      <td>147</td>\n",
       "      <td>25.76%</td>\n",
       "      <td>10.42%</td>\n",
       "      <td>2.01%</td>\n",
       "      <td>44.42%</td>\n",
       "      <td>2.74%</td>\n",
       "      <td>17.20%</td>\n",
       "      <td>117.32%</td>\n",
       "    </tr>\n",
       "    <tr>\n",
       "      <th>128616</th>\n",
       "      <td>83ans Bygg AB</td>\n",
       "      <td>5568297674</td>\n",
       "      <td>2015-04</td>\n",
       "      <td>5657</td>\n",
       "      <td>-</td>\n",
       "      <td>22</td>\n",
       "      <td>20</td>\n",
       "      <td>14</td>\n",
       "      <td>0</td>\n",
       "      <td>0</td>\n",
       "      <td>...</td>\n",
       "      <td>1886</td>\n",
       "      <td>582</td>\n",
       "      <td>22</td>\n",
       "      <td>83.79%</td>\n",
       "      <td>1.89%</td>\n",
       "      <td>0.39%</td>\n",
       "      <td>40.32%</td>\n",
       "      <td>2.30%</td>\n",
       "      <td>11.17%</td>\n",
       "      <td>112.57%</td>\n",
       "    </tr>\n",
       "    <tr>\n",
       "      <th>128617</th>\n",
       "      <td>83ans Bygg AB</td>\n",
       "      <td>5568297674</td>\n",
       "      <td>2014-04</td>\n",
       "      <td>3078</td>\n",
       "      <td>-</td>\n",
       "      <td>32</td>\n",
       "      <td>31</td>\n",
       "      <td>22</td>\n",
       "      <td>0</td>\n",
       "      <td>0</td>\n",
       "      <td>...</td>\n",
       "      <td>1539</td>\n",
       "      <td>516</td>\n",
       "      <td>32</td>\n",
       "      <td>23.27%</td>\n",
       "      <td>4.71%</td>\n",
       "      <td>1.04%</td>\n",
       "      <td>50.13%</td>\n",
       "      <td>3.80%</td>\n",
       "      <td>17.23%</td>\n",
       "      <td>120.82%</td>\n",
       "    </tr>\n",
       "    <tr>\n",
       "      <th>128618</th>\n",
       "      <td>83ans Bygg AB</td>\n",
       "      <td>5568297674</td>\n",
       "      <td>2013-04</td>\n",
       "      <td>2497</td>\n",
       "      <td>-</td>\n",
       "      <td>16</td>\n",
       "      <td>15</td>\n",
       "      <td>9</td>\n",
       "      <td>0</td>\n",
       "      <td>0</td>\n",
       "      <td>...</td>\n",
       "      <td>1249</td>\n",
       "      <td>482</td>\n",
       "      <td>16</td>\n",
       "      <td>20.92%</td>\n",
       "      <td>2.68%</td>\n",
       "      <td>0.64%</td>\n",
       "      <td>51.58%</td>\n",
       "      <td>3.80%</td>\n",
       "      <td>15.72%</td>\n",
       "      <td>118.89%</td>\n",
       "    </tr>\n",
       "    <tr>\n",
       "      <th>128619</th>\n",
       "      <td>83ans Bygg AB</td>\n",
       "      <td>5568297674</td>\n",
       "      <td>2012-04</td>\n",
       "      <td>2065</td>\n",
       "      <td>37</td>\n",
       "      <td>52</td>\n",
       "      <td>52</td>\n",
       "      <td>35</td>\n",
       "      <td>0</td>\n",
       "      <td>0</td>\n",
       "      <td>...</td>\n",
       "      <td>1033</td>\n",
       "      <td>520</td>\n",
       "      <td>52</td>\n",
       "      <td>-</td>\n",
       "      <td>12.62%</td>\n",
       "      <td>2.52%</td>\n",
       "      <td>66.30%</td>\n",
       "      <td>4.16%</td>\n",
       "      <td>20.63%</td>\n",
       "      <td>126.38%</td>\n",
       "    </tr>\n",
       "  </tbody>\n",
       "</table>\n",
       "<p>5 rows × 36 columns</p>\n",
       "</div>"
      ],
      "text/plain": [
       "              company          id     year net_sales other_sales  \\\n",
       "128615  83ans Bygg AB  5568297674  2016-04      7114         113   \n",
       "128616  83ans Bygg AB  5568297674  2015-04      5657           -   \n",
       "128617  83ans Bygg AB  5568297674  2014-04      3078           -   \n",
       "128618  83ans Bygg AB  5568297674  2013-04      2497           -   \n",
       "128619  83ans Bygg AB  5568297674  2012-04      2065          37   \n",
       "\n",
       "       op_profit_ebit prof_after_net_fin_items results sub_unpaid_cap  \\\n",
       "128615            143                      141      68              0   \n",
       "128616             22                       20      14              0   \n",
       "128617             32                       31      22              0   \n",
       "128618             16                       15       9              0   \n",
       "128619             52                       52      35              0   \n",
       "\n",
       "       fixed_assets  ... net_sales_empl pers_cost_empl op_prof_ebitda  \\\n",
       "128615           52  ...           1423            488            147   \n",
       "128616            0  ...           1886            582             22   \n",
       "128617            0  ...           1539            516             32   \n",
       "128618            0  ...           1249            482             16   \n",
       "128619            0  ...           1033            520             52   \n",
       "\n",
       "       net_change du_pont_model prof_margin gross_prof working_cap  \\\n",
       "128615     25.76%        10.42%       2.01%     44.42%       2.74%   \n",
       "128616     83.79%         1.89%       0.39%     40.32%       2.30%   \n",
       "128617     23.27%         4.71%       1.04%     50.13%       3.80%   \n",
       "128618     20.92%         2.68%       0.64%     51.58%       3.80%   \n",
       "128619          -        12.62%       2.52%     66.30%       4.16%   \n",
       "\n",
       "       solidity_equity_assets_ratio cash_liquidity_quick_ratio  \n",
       "128615                       17.20%                    117.32%  \n",
       "128616                       11.17%                    112.57%  \n",
       "128617                       17.23%                    120.82%  \n",
       "128618                       15.72%                    118.89%  \n",
       "128619                       20.63%                    126.38%  \n",
       "\n",
       "[5 rows x 36 columns]"
      ]
     },
     "execution_count": 17,
     "metadata": {},
     "output_type": "execute_result"
    }
   ],
   "source": [
    "fin_60000_.tail()"
   ]
  },
  {
   "cell_type": "code",
   "execution_count": 18,
   "metadata": {},
   "outputs": [
    {
     "data": {
      "text/html": [
       "<div>\n",
       "<style scoped>\n",
       "    .dataframe tbody tr th:only-of-type {\n",
       "        vertical-align: middle;\n",
       "    }\n",
       "\n",
       "    .dataframe tbody tr th {\n",
       "        vertical-align: top;\n",
       "    }\n",
       "\n",
       "    .dataframe thead th {\n",
       "        text-align: right;\n",
       "    }\n",
       "</style>\n",
       "<table border=\"1\" class=\"dataframe\">\n",
       "  <thead>\n",
       "    <tr style=\"text-align: right;\">\n",
       "      <th></th>\n",
       "      <th>company</th>\n",
       "      <th>id</th>\n",
       "      <th>year</th>\n",
       "      <th>net_sales</th>\n",
       "      <th>other_sales</th>\n",
       "      <th>op_profit_ebit</th>\n",
       "      <th>prof_after_net_fin_items</th>\n",
       "      <th>results</th>\n",
       "      <th>sub_unpaid_cap</th>\n",
       "      <th>fixed_assets</th>\n",
       "      <th>...</th>\n",
       "      <th>net_sales_empl</th>\n",
       "      <th>pers_cost_empl</th>\n",
       "      <th>op_prof_ebitda</th>\n",
       "      <th>net_change</th>\n",
       "      <th>du_pont_model</th>\n",
       "      <th>prof_margin</th>\n",
       "      <th>gross_prof</th>\n",
       "      <th>working_cap</th>\n",
       "      <th>solidity_equity_assets_ratio</th>\n",
       "      <th>cash_liquidity_quick_ratio</th>\n",
       "    </tr>\n",
       "  </thead>\n",
       "  <tbody>\n",
       "    <tr>\n",
       "      <th>481983</th>\n",
       "      <td>83ans Bygg AB</td>\n",
       "      <td>5568297674</td>\n",
       "      <td>2016-04</td>\n",
       "      <td>7114</td>\n",
       "      <td>113</td>\n",
       "      <td>143</td>\n",
       "      <td>141</td>\n",
       "      <td>68</td>\n",
       "      <td>0</td>\n",
       "      <td>52</td>\n",
       "      <td>...</td>\n",
       "      <td>1423</td>\n",
       "      <td>488</td>\n",
       "      <td>147</td>\n",
       "      <td>25.76%</td>\n",
       "      <td>10.42%</td>\n",
       "      <td>2.01%</td>\n",
       "      <td>44.42%</td>\n",
       "      <td>2.74%</td>\n",
       "      <td>17.20%</td>\n",
       "      <td>117.32%</td>\n",
       "    </tr>\n",
       "    <tr>\n",
       "      <th>481984</th>\n",
       "      <td>83ans Bygg AB</td>\n",
       "      <td>5568297674</td>\n",
       "      <td>2015-04</td>\n",
       "      <td>5657</td>\n",
       "      <td>-</td>\n",
       "      <td>22</td>\n",
       "      <td>20</td>\n",
       "      <td>14</td>\n",
       "      <td>0</td>\n",
       "      <td>0</td>\n",
       "      <td>...</td>\n",
       "      <td>1886</td>\n",
       "      <td>582</td>\n",
       "      <td>22</td>\n",
       "      <td>83.79%</td>\n",
       "      <td>1.89%</td>\n",
       "      <td>0.39%</td>\n",
       "      <td>40.32%</td>\n",
       "      <td>2.30%</td>\n",
       "      <td>11.17%</td>\n",
       "      <td>112.57%</td>\n",
       "    </tr>\n",
       "    <tr>\n",
       "      <th>481985</th>\n",
       "      <td>83ans Bygg AB</td>\n",
       "      <td>5568297674</td>\n",
       "      <td>2014-04</td>\n",
       "      <td>3078</td>\n",
       "      <td>-</td>\n",
       "      <td>32</td>\n",
       "      <td>31</td>\n",
       "      <td>22</td>\n",
       "      <td>0</td>\n",
       "      <td>0</td>\n",
       "      <td>...</td>\n",
       "      <td>1539</td>\n",
       "      <td>516</td>\n",
       "      <td>32</td>\n",
       "      <td>23.27%</td>\n",
       "      <td>4.71%</td>\n",
       "      <td>1.04%</td>\n",
       "      <td>50.13%</td>\n",
       "      <td>3.80%</td>\n",
       "      <td>17.23%</td>\n",
       "      <td>120.82%</td>\n",
       "    </tr>\n",
       "    <tr>\n",
       "      <th>481986</th>\n",
       "      <td>83ans Bygg AB</td>\n",
       "      <td>5568297674</td>\n",
       "      <td>2013-04</td>\n",
       "      <td>2497</td>\n",
       "      <td>-</td>\n",
       "      <td>16</td>\n",
       "      <td>15</td>\n",
       "      <td>9</td>\n",
       "      <td>0</td>\n",
       "      <td>0</td>\n",
       "      <td>...</td>\n",
       "      <td>1249</td>\n",
       "      <td>482</td>\n",
       "      <td>16</td>\n",
       "      <td>20.92%</td>\n",
       "      <td>2.68%</td>\n",
       "      <td>0.64%</td>\n",
       "      <td>51.58%</td>\n",
       "      <td>3.80%</td>\n",
       "      <td>15.72%</td>\n",
       "      <td>118.89%</td>\n",
       "    </tr>\n",
       "    <tr>\n",
       "      <th>481987</th>\n",
       "      <td>83ans Bygg AB</td>\n",
       "      <td>5568297674</td>\n",
       "      <td>2012-04</td>\n",
       "      <td>2065</td>\n",
       "      <td>37</td>\n",
       "      <td>52</td>\n",
       "      <td>52</td>\n",
       "      <td>35</td>\n",
       "      <td>0</td>\n",
       "      <td>0</td>\n",
       "      <td>...</td>\n",
       "      <td>1033</td>\n",
       "      <td>520</td>\n",
       "      <td>52</td>\n",
       "      <td>-</td>\n",
       "      <td>12.62%</td>\n",
       "      <td>2.52%</td>\n",
       "      <td>66.30%</td>\n",
       "      <td>4.16%</td>\n",
       "      <td>20.63%</td>\n",
       "      <td>126.38%</td>\n",
       "    </tr>\n",
       "  </tbody>\n",
       "</table>\n",
       "<p>5 rows × 36 columns</p>\n",
       "</div>"
      ],
      "text/plain": [
       "              company          id     year net_sales other_sales  \\\n",
       "481983  83ans Bygg AB  5568297674  2016-04      7114         113   \n",
       "481984  83ans Bygg AB  5568297674  2015-04      5657           -   \n",
       "481985  83ans Bygg AB  5568297674  2014-04      3078           -   \n",
       "481986  83ans Bygg AB  5568297674  2013-04      2497           -   \n",
       "481987  83ans Bygg AB  5568297674  2012-04      2065          37   \n",
       "\n",
       "       op_profit_ebit prof_after_net_fin_items results sub_unpaid_cap  \\\n",
       "481983            143                      141      68              0   \n",
       "481984             22                       20      14              0   \n",
       "481985             32                       31      22              0   \n",
       "481986             16                       15       9              0   \n",
       "481987             52                       52      35              0   \n",
       "\n",
       "       fixed_assets  ... net_sales_empl pers_cost_empl op_prof_ebitda  \\\n",
       "481983           52  ...           1423            488            147   \n",
       "481984            0  ...           1886            582             22   \n",
       "481985            0  ...           1539            516             32   \n",
       "481986            0  ...           1249            482             16   \n",
       "481987            0  ...           1033            520             52   \n",
       "\n",
       "       net_change du_pont_model prof_margin gross_prof working_cap  \\\n",
       "481983     25.76%        10.42%       2.01%     44.42%       2.74%   \n",
       "481984     83.79%         1.89%       0.39%     40.32%       2.30%   \n",
       "481985     23.27%         4.71%       1.04%     50.13%       3.80%   \n",
       "481986     20.92%         2.68%       0.64%     51.58%       3.80%   \n",
       "481987          -        12.62%       2.52%     66.30%       4.16%   \n",
       "\n",
       "       solidity_equity_assets_ratio cash_liquidity_quick_ratio  \n",
       "481983                       17.20%                    117.32%  \n",
       "481984                       11.17%                    112.57%  \n",
       "481985                       17.23%                    120.82%  \n",
       "481986                       15.72%                    118.89%  \n",
       "481987                       20.63%                    126.38%  \n",
       "\n",
       "[5 rows x 36 columns]"
      ]
     },
     "execution_count": 18,
     "metadata": {},
     "output_type": "execute_result"
    }
   ],
   "source": [
    "financials.tail()"
   ]
  },
  {
   "cell_type": "markdown",
   "metadata": {},
   "source": [
    "## Writing them to a file"
   ]
  },
  {
   "cell_type": "code",
   "execution_count": 26,
   "metadata": {},
   "outputs": [],
   "source": [
    "#status.to_csv(\"../data/financials/status_full.csv\",index=False)"
   ]
  },
  {
   "cell_type": "code",
   "execution_count": 27,
   "metadata": {},
   "outputs": [],
   "source": [
    "#financials.to_csv(\"../data/financials/financials_full.csv\",index=False)"
   ]
  },
  {
   "cell_type": "code",
   "execution_count": 13,
   "metadata": {},
   "outputs": [
    {
     "data": {
      "text/plain": [
       "(81360, 6)"
      ]
     },
     "execution_count": 13,
     "metadata": {},
     "output_type": "execute_result"
    }
   ],
   "source": [
    "pd.read_csv(\"../data/financials/status_full.csv\").shape"
   ]
  },
  {
   "cell_type": "code",
   "execution_count": 14,
   "metadata": {},
   "outputs": [
    {
     "data": {
      "text/plain": [
       "(481988, 36)"
      ]
     },
     "execution_count": 14,
     "metadata": {},
     "output_type": "execute_result"
    }
   ],
   "source": [
    "pd.read_csv(\"../data/financials/financials_full.csv\").shape"
   ]
  },
  {
   "cell_type": "code",
   "execution_count": null,
   "metadata": {},
   "outputs": [],
   "source": []
  }
 ],
 "metadata": {
  "kernelspec": {
   "display_name": "Python 3",
   "language": "python",
   "name": "python3"
  },
  "language_info": {
   "codemirror_mode": {
    "name": "ipython",
    "version": 3
   },
   "file_extension": ".py",
   "mimetype": "text/x-python",
   "name": "python",
   "nbconvert_exporter": "python",
   "pygments_lexer": "ipython3",
   "version": "3.8.5"
  }
 },
 "nbformat": 4,
 "nbformat_minor": 4
}
