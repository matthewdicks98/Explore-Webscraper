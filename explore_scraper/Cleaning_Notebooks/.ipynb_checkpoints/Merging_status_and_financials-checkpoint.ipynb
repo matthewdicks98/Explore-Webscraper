{
 "cells": [
  {
   "cell_type": "code",
   "execution_count": 1,
   "metadata": {},
   "outputs": [],
   "source": [
    "import numpy as np\n",
    "import pandas as pd\n",
    "from datetime import datetime\n",
    "import warnings\n",
    "warnings.filterwarnings(\"ignore\")"
   ]
  },
  {
   "cell_type": "markdown",
   "metadata": {},
   "source": [
    "## Reading in the data"
   ]
  },
  {
   "cell_type": "code",
   "execution_count": 2,
   "metadata": {},
   "outputs": [],
   "source": [
    "status = pd.read_csv(\"../data/financials/status_full.csv\")"
   ]
  },
  {
   "cell_type": "code",
   "execution_count": 3,
   "metadata": {},
   "outputs": [],
   "source": [
    "financials = pd.read_csv(\"../data/financials/financials_full.csv\")"
   ]
  },
  {
   "cell_type": "code",
   "execution_count": 4,
   "metadata": {},
   "outputs": [],
   "source": [
    "financials['status_bool'] = [0]*financials.shape[0]"
   ]
  },
  {
   "cell_type": "code",
   "execution_count": 5,
   "metadata": {},
   "outputs": [],
   "source": [
    "financials['date_diff'] = [np.nan]*financials.shape[0]"
   ]
  },
  {
   "cell_type": "code",
   "execution_count": 6,
   "metadata": {},
   "outputs": [],
   "source": [
    "financials['default_date'] = [np.nan]*financials.shape[0]"
   ]
  },
  {
   "cell_type": "code",
   "execution_count": 7,
   "metadata": {},
   "outputs": [],
   "source": [
    "financials['status'] = [np.nan]*financials.shape[0]"
   ]
  },
  {
   "cell_type": "code",
   "execution_count": 8,
   "metadata": {},
   "outputs": [],
   "source": [
    "financials['actual_status'] = [np.nan]*financials.shape[0]"
   ]
  },
  {
   "cell_type": "code",
   "execution_count": 9,
   "metadata": {},
   "outputs": [],
   "source": [
    "financials['remark'] = [np.nan]*financials.shape[0]"
   ]
  },
  {
   "cell_type": "code",
   "execution_count": 10,
   "metadata": {},
   "outputs": [
    {
     "data": {
      "text/plain": [
       "(481988, 42)"
      ]
     },
     "execution_count": 10,
     "metadata": {},
     "output_type": "execute_result"
    }
   ],
   "source": [
    "financials.shape"
   ]
  },
  {
   "cell_type": "code",
   "execution_count": 11,
   "metadata": {},
   "outputs": [
    {
     "data": {
      "text/html": [
       "<div>\n",
       "<style scoped>\n",
       "    .dataframe tbody tr th:only-of-type {\n",
       "        vertical-align: middle;\n",
       "    }\n",
       "\n",
       "    .dataframe tbody tr th {\n",
       "        vertical-align: top;\n",
       "    }\n",
       "\n",
       "    .dataframe thead th {\n",
       "        text-align: right;\n",
       "    }\n",
       "</style>\n",
       "<table border=\"1\" class=\"dataframe\">\n",
       "  <thead>\n",
       "    <tr style=\"text-align: right;\">\n",
       "      <th></th>\n",
       "      <th>company</th>\n",
       "      <th>id</th>\n",
       "      <th>year</th>\n",
       "      <th>net_sales</th>\n",
       "      <th>other_sales</th>\n",
       "      <th>op_profit_ebit</th>\n",
       "      <th>prof_after_net_fin_items</th>\n",
       "      <th>results</th>\n",
       "      <th>sub_unpaid_cap</th>\n",
       "      <th>fixed_assets</th>\n",
       "      <th>...</th>\n",
       "      <th>gross_prof</th>\n",
       "      <th>working_cap</th>\n",
       "      <th>solidity_equity_assets_ratio</th>\n",
       "      <th>cash_liquidity_quick_ratio</th>\n",
       "      <th>status_bool</th>\n",
       "      <th>date_diff</th>\n",
       "      <th>default_date</th>\n",
       "      <th>status</th>\n",
       "      <th>actual_status</th>\n",
       "      <th>remark</th>\n",
       "    </tr>\n",
       "  </thead>\n",
       "  <tbody>\n",
       "    <tr>\n",
       "      <th>0</th>\n",
       "      <td>Lily Properties AB</td>\n",
       "      <td>5590655865</td>\n",
       "      <td>2019-12</td>\n",
       "      <td>0</td>\n",
       "      <td>-</td>\n",
       "      <td>-44</td>\n",
       "      <td>-44</td>\n",
       "      <td>-44</td>\n",
       "      <td>0</td>\n",
       "      <td>99</td>\n",
       "      <td>...</td>\n",
       "      <td>-</td>\n",
       "      <td>-</td>\n",
       "      <td>68.63%</td>\n",
       "      <td>57.14%</td>\n",
       "      <td>0</td>\n",
       "      <td>NaN</td>\n",
       "      <td>NaN</td>\n",
       "      <td>NaN</td>\n",
       "      <td>NaN</td>\n",
       "      <td>NaN</td>\n",
       "    </tr>\n",
       "    <tr>\n",
       "      <th>1</th>\n",
       "      <td>Lily Properties AB</td>\n",
       "      <td>5590655865</td>\n",
       "      <td>2018-12</td>\n",
       "      <td>0</td>\n",
       "      <td>-</td>\n",
       "      <td>-72</td>\n",
       "      <td>-72</td>\n",
       "      <td>-72</td>\n",
       "      <td>0</td>\n",
       "      <td>130</td>\n",
       "      <td>...</td>\n",
       "      <td>-</td>\n",
       "      <td>-</td>\n",
       "      <td>75.13%</td>\n",
       "      <td>81.63%</td>\n",
       "      <td>0</td>\n",
       "      <td>NaN</td>\n",
       "      <td>NaN</td>\n",
       "      <td>NaN</td>\n",
       "      <td>NaN</td>\n",
       "      <td>NaN</td>\n",
       "    </tr>\n",
       "    <tr>\n",
       "      <th>2</th>\n",
       "      <td>Lily Properties AB</td>\n",
       "      <td>5590655865</td>\n",
       "      <td>2017-12</td>\n",
       "      <td>28</td>\n",
       "      <td>-</td>\n",
       "      <td>-279</td>\n",
       "      <td>-279</td>\n",
       "      <td>-279</td>\n",
       "      <td>0</td>\n",
       "      <td>160</td>\n",
       "      <td>...</td>\n",
       "      <td>100.00%</td>\n",
       "      <td>1282.14%</td>\n",
       "      <td>91.23%</td>\n",
       "      <td>764.00%</td>\n",
       "      <td>0</td>\n",
       "      <td>NaN</td>\n",
       "      <td>NaN</td>\n",
       "      <td>NaN</td>\n",
       "      <td>NaN</td>\n",
       "      <td>NaN</td>\n",
       "    </tr>\n",
       "    <tr>\n",
       "      <th>3</th>\n",
       "      <td>Lily Properties AB</td>\n",
       "      <td>5590655865</td>\n",
       "      <td>2016-12</td>\n",
       "      <td>0</td>\n",
       "      <td>-</td>\n",
       "      <td>-226</td>\n",
       "      <td>749</td>\n",
       "      <td>749</td>\n",
       "      <td>0</td>\n",
       "      <td>801</td>\n",
       "      <td>...</td>\n",
       "      <td>-</td>\n",
       "      <td>-</td>\n",
       "      <td>94.22%</td>\n",
       "      <td>40.82%</td>\n",
       "      <td>0</td>\n",
       "      <td>NaN</td>\n",
       "      <td>NaN</td>\n",
       "      <td>NaN</td>\n",
       "      <td>NaN</td>\n",
       "      <td>NaN</td>\n",
       "    </tr>\n",
       "    <tr>\n",
       "      <th>4</th>\n",
       "      <td>Fogdetorps El Aktiebolag</td>\n",
       "      <td>5564709904</td>\n",
       "      <td>2019-12</td>\n",
       "      <td>0</td>\n",
       "      <td>-</td>\n",
       "      <td>-62</td>\n",
       "      <td>7938</td>\n",
       "      <td>7938</td>\n",
       "      <td>0</td>\n",
       "      <td>8649</td>\n",
       "      <td>...</td>\n",
       "      <td>-</td>\n",
       "      <td>-</td>\n",
       "      <td>74.29%</td>\n",
       "      <td>269.62%</td>\n",
       "      <td>0</td>\n",
       "      <td>NaN</td>\n",
       "      <td>NaN</td>\n",
       "      <td>NaN</td>\n",
       "      <td>NaN</td>\n",
       "      <td>NaN</td>\n",
       "    </tr>\n",
       "  </tbody>\n",
       "</table>\n",
       "<p>5 rows × 42 columns</p>\n",
       "</div>"
      ],
      "text/plain": [
       "                    company          id     year net_sales other_sales  \\\n",
       "0        Lily Properties AB  5590655865  2019-12         0           -   \n",
       "1        Lily Properties AB  5590655865  2018-12         0           -   \n",
       "2        Lily Properties AB  5590655865  2017-12        28           -   \n",
       "3        Lily Properties AB  5590655865  2016-12         0           -   \n",
       "4  Fogdetorps El Aktiebolag  5564709904  2019-12         0           -   \n",
       "\n",
       "  op_profit_ebit prof_after_net_fin_items results sub_unpaid_cap fixed_assets  \\\n",
       "0            -44                      -44     -44              0           99   \n",
       "1            -72                      -72     -72              0          130   \n",
       "2           -279                     -279    -279              0          160   \n",
       "3           -226                      749     749              0          801   \n",
       "4            -62                     7938    7938              0         8649   \n",
       "\n",
       "   ... gross_prof working_cap solidity_equity_assets_ratio  \\\n",
       "0  ...          -           -                       68.63%   \n",
       "1  ...          -           -                       75.13%   \n",
       "2  ...    100.00%    1282.14%                       91.23%   \n",
       "3  ...          -           -                       94.22%   \n",
       "4  ...          -           -                       74.29%   \n",
       "\n",
       "  cash_liquidity_quick_ratio status_bool date_diff default_date status  \\\n",
       "0                     57.14%           0       NaN          NaN    NaN   \n",
       "1                     81.63%           0       NaN          NaN    NaN   \n",
       "2                    764.00%           0       NaN          NaN    NaN   \n",
       "3                     40.82%           0       NaN          NaN    NaN   \n",
       "4                    269.62%           0       NaN          NaN    NaN   \n",
       "\n",
       "  actual_status remark  \n",
       "0           NaN    NaN  \n",
       "1           NaN    NaN  \n",
       "2           NaN    NaN  \n",
       "3           NaN    NaN  \n",
       "4           NaN    NaN  \n",
       "\n",
       "[5 rows x 42 columns]"
      ]
     },
     "execution_count": 11,
     "metadata": {},
     "output_type": "execute_result"
    }
   ],
   "source": [
    "financials.head()"
   ]
  },
  {
   "cell_type": "markdown",
   "metadata": {},
   "source": [
    "## Removing the ids from status that do not appear in the financials dataset and visa versa"
   ]
  },
  {
   "cell_type": "code",
   "execution_count": null,
   "metadata": {},
   "outputs": [],
   "source": [
    "financials['id'].nunique()"
   ]
  },
  {
   "cell_type": "code",
   "execution_count": null,
   "metadata": {},
   "outputs": [],
   "source": [
    "status['id'].nunique()"
   ]
  },
  {
   "cell_type": "code",
   "execution_count": 12,
   "metadata": {},
   "outputs": [],
   "source": [
    "status = status[status['id'].isin(financials['id'].unique())]"
   ]
  },
  {
   "cell_type": "code",
   "execution_count": 13,
   "metadata": {},
   "outputs": [
    {
     "data": {
      "text/plain": [
       "(69331, 6)"
      ]
     },
     "execution_count": 13,
     "metadata": {},
     "output_type": "execute_result"
    }
   ],
   "source": [
    "status.shape"
   ]
  },
  {
   "cell_type": "code",
   "execution_count": 14,
   "metadata": {},
   "outputs": [
    {
     "data": {
      "text/plain": [
       "69510"
      ]
     },
     "execution_count": 14,
     "metadata": {},
     "output_type": "execute_result"
    }
   ],
   "source": [
    "financials['id'].nunique()"
   ]
  },
  {
   "cell_type": "code",
   "execution_count": 15,
   "metadata": {},
   "outputs": [],
   "source": [
    "financials = financials[financials['id'].isin(status['id'].unique())]"
   ]
  },
  {
   "cell_type": "code",
   "execution_count": 16,
   "metadata": {},
   "outputs": [
    {
     "data": {
      "text/plain": [
       "69326"
      ]
     },
     "execution_count": 16,
     "metadata": {},
     "output_type": "execute_result"
    }
   ],
   "source": [
    "financials['id'].nunique()"
   ]
  },
  {
   "cell_type": "code",
   "execution_count": 17,
   "metadata": {},
   "outputs": [
    {
     "data": {
      "text/plain": [
       "(2139, 6)"
      ]
     },
     "execution_count": 17,
     "metadata": {},
     "output_type": "execute_result"
    }
   ],
   "source": [
    "status[status['status']=='inaktivt'].shape"
   ]
  },
  {
   "cell_type": "markdown",
   "metadata": {},
   "source": [
    "## Number of companies that are inaktive but not banckrupt\n",
    "\n",
    "To get around this we can just set the boolean column to 1 for the most recent year showing financials"
   ]
  },
  {
   "cell_type": "code",
   "execution_count": 18,
   "metadata": {},
   "outputs": [
    {
     "data": {
      "text/plain": [
       "331"
      ]
     },
     "execution_count": 18,
     "metadata": {},
     "output_type": "execute_result"
    }
   ],
   "source": [
    "status[status['status']=='inaktivt']['id'].nunique()-status[status['status']=='inaktivt'][~status['remark'].isna()]['id'].nunique()"
   ]
  },
  {
   "cell_type": "code",
   "execution_count": 19,
   "metadata": {},
   "outputs": [],
   "source": [
    "indexnames = status[status['status']=='inaktivt'][status['remark'].isna()]['id'].index"
   ]
  },
  {
   "cell_type": "code",
   "execution_count": 20,
   "metadata": {},
   "outputs": [
    {
     "data": {
      "text/plain": [
       "(332,)"
      ]
     },
     "execution_count": 20,
     "metadata": {},
     "output_type": "execute_result"
    }
   ],
   "source": [
    "indexnames.shape"
   ]
  },
  {
   "cell_type": "code",
   "execution_count": 21,
   "metadata": {},
   "outputs": [],
   "source": [
    "# removing companies that are inactive but are not bankrupt (from status and financial)\n",
    "status = status.drop(indexnames)\n",
    "financials = financials[financials['id'].isin(status['id'].unique())]"
   ]
  },
  {
   "cell_type": "code",
   "execution_count": 22,
   "metadata": {},
   "outputs": [
    {
     "data": {
      "text/plain": [
       "68995"
      ]
     },
     "execution_count": 22,
     "metadata": {},
     "output_type": "execute_result"
    }
   ],
   "source": [
    "financials['id'].nunique()"
   ]
  },
  {
   "cell_type": "code",
   "execution_count": 23,
   "metadata": {},
   "outputs": [
    {
     "data": {
      "text/plain": [
       "(1807, 6)"
      ]
     },
     "execution_count": 23,
     "metadata": {},
     "output_type": "execute_result"
    }
   ],
   "source": [
    "status[status['status']=='inaktivt'].shape"
   ]
  },
  {
   "cell_type": "code",
   "execution_count": 24,
   "metadata": {},
   "outputs": [
    {
     "data": {
      "text/plain": [
       "(68999, 6)"
      ]
     },
     "execution_count": 24,
     "metadata": {},
     "output_type": "execute_result"
    }
   ],
   "source": [
    "status.shape"
   ]
  },
  {
   "cell_type": "code",
   "execution_count": 25,
   "metadata": {},
   "outputs": [
    {
     "data": {
      "text/plain": [
       "(478042, 42)"
      ]
     },
     "execution_count": 25,
     "metadata": {},
     "output_type": "execute_result"
    }
   ],
   "source": [
    "financials.shape"
   ]
  },
  {
   "cell_type": "markdown",
   "metadata": {},
   "source": [
    "## Coming up with a way to merge the status and financials data"
   ]
  },
  {
   "cell_type": "code",
   "execution_count": 26,
   "metadata": {},
   "outputs": [
    {
     "data": {
      "text/html": [
       "<div>\n",
       "<style scoped>\n",
       "    .dataframe tbody tr th:only-of-type {\n",
       "        vertical-align: middle;\n",
       "    }\n",
       "\n",
       "    .dataframe tbody tr th {\n",
       "        vertical-align: top;\n",
       "    }\n",
       "\n",
       "    .dataframe thead th {\n",
       "        text-align: right;\n",
       "    }\n",
       "</style>\n",
       "<table border=\"1\" class=\"dataframe\">\n",
       "  <thead>\n",
       "    <tr style=\"text-align: right;\">\n",
       "      <th></th>\n",
       "      <th>company</th>\n",
       "      <th>id</th>\n",
       "      <th>status</th>\n",
       "      <th>actual_status</th>\n",
       "      <th>remark</th>\n",
       "      <th>default_date</th>\n",
       "    </tr>\n",
       "  </thead>\n",
       "  <tbody>\n",
       "    <tr>\n",
       "      <th>20682</th>\n",
       "      <td>RmB Gruppen AB</td>\n",
       "      <td>5568159189</td>\n",
       "      <td>inaktivt</td>\n",
       "      <td>Registrerad</td>\n",
       "      <td>Konkurs inledd</td>\n",
       "      <td>2019-01-28</td>\n",
       "    </tr>\n",
       "    <tr>\n",
       "      <th>20733</th>\n",
       "      <td>Racon Bygg AB</td>\n",
       "      <td>5567767891</td>\n",
       "      <td>inaktivt</td>\n",
       "      <td>Registrerad</td>\n",
       "      <td>Konkurs inledd</td>\n",
       "      <td>2017-07-06</td>\n",
       "    </tr>\n",
       "    <tr>\n",
       "      <th>20734</th>\n",
       "      <td>B o B Riv o Sanering AB</td>\n",
       "      <td>5569808487</td>\n",
       "      <td>inaktivt</td>\n",
       "      <td>Registrerad</td>\n",
       "      <td>Konkurs inledd</td>\n",
       "      <td>2019-05-02</td>\n",
       "    </tr>\n",
       "    <tr>\n",
       "      <th>20763</th>\n",
       "      <td>Geo08 mätningsteknik AB</td>\n",
       "      <td>5568209497</td>\n",
       "      <td>inaktivt</td>\n",
       "      <td>Registrerad</td>\n",
       "      <td>Konkurs inledd</td>\n",
       "      <td>2020-01-23</td>\n",
       "    </tr>\n",
       "    <tr>\n",
       "      <th>20772</th>\n",
       "      <td>Bygg Klokt Stockholm AB</td>\n",
       "      <td>5569318628</td>\n",
       "      <td>inaktivt</td>\n",
       "      <td>Registrerad</td>\n",
       "      <td>Konkurs inledd</td>\n",
       "      <td>2020-11-25</td>\n",
       "    </tr>\n",
       "  </tbody>\n",
       "</table>\n",
       "</div>"
      ],
      "text/plain": [
       "                       company          id    status actual_status  \\\n",
       "20682           RmB Gruppen AB  5568159189  inaktivt   Registrerad   \n",
       "20733            Racon Bygg AB  5567767891  inaktivt   Registrerad   \n",
       "20734  B o B Riv o Sanering AB  5569808487  inaktivt   Registrerad   \n",
       "20763  Geo08 mätningsteknik AB  5568209497  inaktivt   Registrerad   \n",
       "20772  Bygg Klokt Stockholm AB  5569318628  inaktivt   Registrerad   \n",
       "\n",
       "               remark default_date  \n",
       "20682  Konkurs inledd   2019-01-28  \n",
       "20733  Konkurs inledd   2017-07-06  \n",
       "20734  Konkurs inledd   2019-05-02  \n",
       "20763  Konkurs inledd   2020-01-23  \n",
       "20772  Konkurs inledd   2020-11-25  "
      ]
     },
     "execution_count": 26,
     "metadata": {},
     "output_type": "execute_result"
    }
   ],
   "source": [
    "status[status['status']=='inaktivt'][500:505]"
   ]
  },
  {
   "cell_type": "code",
   "execution_count": 27,
   "metadata": {},
   "outputs": [],
   "source": [
    "company_test = financials[financials['id']==5569994840]"
   ]
  },
  {
   "cell_type": "code",
   "execution_count": 28,
   "metadata": {},
   "outputs": [
    {
     "data": {
      "text/html": [
       "<div>\n",
       "<style scoped>\n",
       "    .dataframe tbody tr th:only-of-type {\n",
       "        vertical-align: middle;\n",
       "    }\n",
       "\n",
       "    .dataframe tbody tr th {\n",
       "        vertical-align: top;\n",
       "    }\n",
       "\n",
       "    .dataframe thead th {\n",
       "        text-align: right;\n",
       "    }\n",
       "</style>\n",
       "<table border=\"1\" class=\"dataframe\">\n",
       "  <thead>\n",
       "    <tr style=\"text-align: right;\">\n",
       "      <th></th>\n",
       "      <th>company</th>\n",
       "      <th>id</th>\n",
       "      <th>year</th>\n",
       "      <th>net_sales</th>\n",
       "      <th>other_sales</th>\n",
       "      <th>op_profit_ebit</th>\n",
       "      <th>prof_after_net_fin_items</th>\n",
       "      <th>results</th>\n",
       "      <th>sub_unpaid_cap</th>\n",
       "      <th>fixed_assets</th>\n",
       "      <th>...</th>\n",
       "      <th>gross_prof</th>\n",
       "      <th>working_cap</th>\n",
       "      <th>solidity_equity_assets_ratio</th>\n",
       "      <th>cash_liquidity_quick_ratio</th>\n",
       "      <th>status_bool</th>\n",
       "      <th>date_diff</th>\n",
       "      <th>default_date</th>\n",
       "      <th>status</th>\n",
       "      <th>actual_status</th>\n",
       "      <th>remark</th>\n",
       "    </tr>\n",
       "  </thead>\n",
       "  <tbody>\n",
       "    <tr>\n",
       "      <th>107914</th>\n",
       "      <td>Aktiebolaget husbyggarna i kungens kurva</td>\n",
       "      <td>5569994840</td>\n",
       "      <td>2017-12</td>\n",
       "      <td>22525</td>\n",
       "      <td>-</td>\n",
       "      <td>786</td>\n",
       "      <td>542</td>\n",
       "      <td>398</td>\n",
       "      <td>0</td>\n",
       "      <td>2941</td>\n",
       "      <td>...</td>\n",
       "      <td>37.50%</td>\n",
       "      <td>0.58%</td>\n",
       "      <td>28.40%</td>\n",
       "      <td>102.03%</td>\n",
       "      <td>0</td>\n",
       "      <td>NaN</td>\n",
       "      <td>NaN</td>\n",
       "      <td>NaN</td>\n",
       "      <td>NaN</td>\n",
       "      <td>NaN</td>\n",
       "    </tr>\n",
       "    <tr>\n",
       "      <th>107915</th>\n",
       "      <td>Aktiebolaget husbyggarna i kungens kurva</td>\n",
       "      <td>5569994840</td>\n",
       "      <td>2016-07</td>\n",
       "      <td>4866</td>\n",
       "      <td>-</td>\n",
       "      <td>212</td>\n",
       "      <td>209</td>\n",
       "      <td>163</td>\n",
       "      <td>0</td>\n",
       "      <td>2239</td>\n",
       "      <td>...</td>\n",
       "      <td>35.47%</td>\n",
       "      <td>1.11%</td>\n",
       "      <td>59.43%</td>\n",
       "      <td>103.50%</td>\n",
       "      <td>0</td>\n",
       "      <td>NaN</td>\n",
       "      <td>NaN</td>\n",
       "      <td>NaN</td>\n",
       "      <td>NaN</td>\n",
       "      <td>NaN</td>\n",
       "    </tr>\n",
       "    <tr>\n",
       "      <th>107916</th>\n",
       "      <td>Aktiebolaget husbyggarna i kungens kurva</td>\n",
       "      <td>5569994840</td>\n",
       "      <td>2015-07</td>\n",
       "      <td>0</td>\n",
       "      <td>-</td>\n",
       "      <td>0</td>\n",
       "      <td>0</td>\n",
       "      <td>0</td>\n",
       "      <td>0</td>\n",
       "      <td>810</td>\n",
       "      <td>...</td>\n",
       "      <td>-</td>\n",
       "      <td>-</td>\n",
       "      <td>99.38%</td>\n",
       "      <td>8000.00%</td>\n",
       "      <td>0</td>\n",
       "      <td>NaN</td>\n",
       "      <td>NaN</td>\n",
       "      <td>NaN</td>\n",
       "      <td>NaN</td>\n",
       "      <td>NaN</td>\n",
       "    </tr>\n",
       "  </tbody>\n",
       "</table>\n",
       "<p>3 rows × 42 columns</p>\n",
       "</div>"
      ],
      "text/plain": [
       "                                         company          id     year  \\\n",
       "107914  Aktiebolaget husbyggarna i kungens kurva  5569994840  2017-12   \n",
       "107915  Aktiebolaget husbyggarna i kungens kurva  5569994840  2016-07   \n",
       "107916  Aktiebolaget husbyggarna i kungens kurva  5569994840  2015-07   \n",
       "\n",
       "       net_sales other_sales op_profit_ebit prof_after_net_fin_items results  \\\n",
       "107914     22525           -            786                      542     398   \n",
       "107915      4866           -            212                      209     163   \n",
       "107916         0           -              0                        0       0   \n",
       "\n",
       "       sub_unpaid_cap fixed_assets  ... gross_prof working_cap  \\\n",
       "107914              0         2941  ...     37.50%       0.58%   \n",
       "107915              0         2239  ...     35.47%       1.11%   \n",
       "107916              0          810  ...          -           -   \n",
       "\n",
       "       solidity_equity_assets_ratio cash_liquidity_quick_ratio status_bool  \\\n",
       "107914                       28.40%                    102.03%           0   \n",
       "107915                       59.43%                    103.50%           0   \n",
       "107916                       99.38%                   8000.00%           0   \n",
       "\n",
       "       date_diff default_date status actual_status remark  \n",
       "107914       NaN          NaN    NaN           NaN    NaN  \n",
       "107915       NaN          NaN    NaN           NaN    NaN  \n",
       "107916       NaN          NaN    NaN           NaN    NaN  \n",
       "\n",
       "[3 rows x 42 columns]"
      ]
     },
     "execution_count": 28,
     "metadata": {},
     "output_type": "execute_result"
    }
   ],
   "source": [
    "company_test"
   ]
  },
  {
   "cell_type": "code",
   "execution_count": 29,
   "metadata": {},
   "outputs": [
    {
     "data": {
      "text/plain": [
       "997"
      ]
     },
     "execution_count": 29,
     "metadata": {},
     "output_type": "execute_result"
    }
   ],
   "source": [
    "duration = datetime.strptime('2019-03-25', '%Y-%m-%d')-datetime.strptime(company_test['year'].iloc[1], '%Y-%m')\n",
    "duration.days"
   ]
  },
  {
   "cell_type": "code",
   "execution_count": 30,
   "metadata": {},
   "outputs": [
    {
     "data": {
      "text/plain": [
       "479"
      ]
     },
     "execution_count": 30,
     "metadata": {},
     "output_type": "execute_result"
    }
   ],
   "source": [
    "(datetime.strptime(status[status['id']==5569994840]['default_date'].iloc[0],'%Y-%m-%d') - datetime.strptime(company_test['year'].iloc[0], '%Y-%m')).days"
   ]
  },
  {
   "cell_type": "code",
   "execution_count": 31,
   "metadata": {},
   "outputs": [],
   "source": [
    "def add_company_status(company_id):\n",
    "    company = financials[financials['id']==company_id]\n",
    "    company_status = status[status['id']==company_id]\n",
    "    years = company.shape[0]\n",
    "    min_date_diff = 1000000\n",
    "    min_date_diff_row = 0\n",
    "    \n",
    "    for i in range(years):\n",
    "        date_diff = datetime.strptime(status[status['id']==company_id]['default_date'].iloc[0],'%Y-%m-%d') - datetime.strptime(company['year'].iloc[i], '%Y-%m')\n",
    "        date_diff = date_diff.days\n",
    "        if date_diff < 0:\n",
    "            # returned financials after banckrupcy (should not happen)\n",
    "            continue\n",
    "        if date_diff < min_date_diff:\n",
    "            min_date_diff = date_diff\n",
    "            min_date_diff_row = i\n",
    "    \n",
    "    company['status_bool'].iloc[min_date_diff_row] = 1\n",
    "    company['date_diff'].iloc[min_date_diff_row] = round(min_date_diff/365,3)\n",
    "    company['default_date'].iloc[min_date_diff_row] = company_status['default_date'].iloc[0]\n",
    "    company['status'].iloc[min_date_diff_row] = company_status['status'].iloc[0]\n",
    "    company['actual_status'].iloc[min_date_diff_row] = company_status['actual_status'].iloc[0]\n",
    "    company['remark'].iloc[min_date_diff_row] = company_status['remark'].iloc[0]\n",
    "    \n",
    "    return company"
   ]
  },
  {
   "cell_type": "code",
   "execution_count": 32,
   "metadata": {},
   "outputs": [
    {
     "data": {
      "text/plain": [
       "1807"
      ]
     },
     "execution_count": 32,
     "metadata": {},
     "output_type": "execute_result"
    }
   ],
   "source": [
    "count = 0\n",
    "for Id in status[status['status']=='inaktivt']['id'].unique():\n",
    "    financials[financials['id']==Id] = add_company_status(Id)\n",
    "    count+=1\n",
    "count"
   ]
  },
  {
   "cell_type": "code",
   "execution_count": 37,
   "metadata": {},
   "outputs": [
    {
     "data": {
      "text/html": [
       "<div>\n",
       "<style scoped>\n",
       "    .dataframe tbody tr th:only-of-type {\n",
       "        vertical-align: middle;\n",
       "    }\n",
       "\n",
       "    .dataframe tbody tr th {\n",
       "        vertical-align: top;\n",
       "    }\n",
       "\n",
       "    .dataframe thead th {\n",
       "        text-align: right;\n",
       "    }\n",
       "</style>\n",
       "<table border=\"1\" class=\"dataframe\">\n",
       "  <thead>\n",
       "    <tr style=\"text-align: right;\">\n",
       "      <th></th>\n",
       "      <th>company</th>\n",
       "      <th>id</th>\n",
       "      <th>status</th>\n",
       "      <th>actual_status</th>\n",
       "      <th>remark</th>\n",
       "      <th>default_date</th>\n",
       "    </tr>\n",
       "  </thead>\n",
       "  <tbody>\n",
       "    <tr>\n",
       "      <th>20733</th>\n",
       "      <td>Racon Bygg AB</td>\n",
       "      <td>5567767891</td>\n",
       "      <td>inaktivt</td>\n",
       "      <td>Registrerad</td>\n",
       "      <td>Konkurs inledd</td>\n",
       "      <td>2017-07-06</td>\n",
       "    </tr>\n",
       "  </tbody>\n",
       "</table>\n",
       "</div>"
      ],
      "text/plain": [
       "             company          id    status actual_status          remark  \\\n",
       "20733  Racon Bygg AB  5567767891  inaktivt   Registrerad  Konkurs inledd   \n",
       "\n",
       "      default_date  \n",
       "20733   2017-07-06  "
      ]
     },
     "execution_count": 37,
     "metadata": {},
     "output_type": "execute_result"
    }
   ],
   "source": [
    "status[status['id']==5567767891]"
   ]
  },
  {
   "cell_type": "code",
   "execution_count": 38,
   "metadata": {},
   "outputs": [
    {
     "data": {
      "text/html": [
       "<div>\n",
       "<style scoped>\n",
       "    .dataframe tbody tr th:only-of-type {\n",
       "        vertical-align: middle;\n",
       "    }\n",
       "\n",
       "    .dataframe tbody tr th {\n",
       "        vertical-align: top;\n",
       "    }\n",
       "\n",
       "    .dataframe thead th {\n",
       "        text-align: right;\n",
       "    }\n",
       "</style>\n",
       "<table border=\"1\" class=\"dataframe\">\n",
       "  <thead>\n",
       "    <tr style=\"text-align: right;\">\n",
       "      <th></th>\n",
       "      <th>company</th>\n",
       "      <th>id</th>\n",
       "      <th>year</th>\n",
       "      <th>net_sales</th>\n",
       "      <th>other_sales</th>\n",
       "      <th>op_profit_ebit</th>\n",
       "      <th>prof_after_net_fin_items</th>\n",
       "      <th>results</th>\n",
       "      <th>sub_unpaid_cap</th>\n",
       "      <th>fixed_assets</th>\n",
       "      <th>...</th>\n",
       "      <th>gross_prof</th>\n",
       "      <th>working_cap</th>\n",
       "      <th>solidity_equity_assets_ratio</th>\n",
       "      <th>cash_liquidity_quick_ratio</th>\n",
       "      <th>status_bool</th>\n",
       "      <th>date_diff</th>\n",
       "      <th>default_date</th>\n",
       "      <th>status</th>\n",
       "      <th>actual_status</th>\n",
       "      <th>remark</th>\n",
       "    </tr>\n",
       "  </thead>\n",
       "  <tbody>\n",
       "    <tr>\n",
       "      <th>115760</th>\n",
       "      <td>Racon Bygg AB</td>\n",
       "      <td>5567767891</td>\n",
       "      <td>2016-12</td>\n",
       "      <td>13080</td>\n",
       "      <td>137</td>\n",
       "      <td>-10</td>\n",
       "      <td>-33</td>\n",
       "      <td>-33</td>\n",
       "      <td>0</td>\n",
       "      <td>169</td>\n",
       "      <td>...</td>\n",
       "      <td>33.37%</td>\n",
       "      <td>0.79%</td>\n",
       "      <td>8.68%</td>\n",
       "      <td>100.32%</td>\n",
       "      <td>1</td>\n",
       "      <td>0.595</td>\n",
       "      <td>2017-07-06</td>\n",
       "      <td>inaktivt</td>\n",
       "      <td>Registrerad</td>\n",
       "      <td>Konkurs inledd</td>\n",
       "    </tr>\n",
       "    <tr>\n",
       "      <th>115761</th>\n",
       "      <td>Racon Bygg AB</td>\n",
       "      <td>5567767891</td>\n",
       "      <td>2015-12</td>\n",
       "      <td>15723</td>\n",
       "      <td>96</td>\n",
       "      <td>77</td>\n",
       "      <td>56</td>\n",
       "      <td>41</td>\n",
       "      <td>0</td>\n",
       "      <td>351</td>\n",
       "      <td>...</td>\n",
       "      <td>31.19%</td>\n",
       "      <td>0.56%</td>\n",
       "      <td>9.83%</td>\n",
       "      <td>104.22%</td>\n",
       "      <td>0</td>\n",
       "      <td>NaN</td>\n",
       "      <td>NaN</td>\n",
       "      <td>NaN</td>\n",
       "      <td>NaN</td>\n",
       "      <td>NaN</td>\n",
       "    </tr>\n",
       "    <tr>\n",
       "      <th>115762</th>\n",
       "      <td>Racon Bygg AB</td>\n",
       "      <td>5567767891</td>\n",
       "      <td>2014-12</td>\n",
       "      <td>8263</td>\n",
       "      <td>174</td>\n",
       "      <td>513</td>\n",
       "      <td>493</td>\n",
       "      <td>434</td>\n",
       "      <td>0</td>\n",
       "      <td>437</td>\n",
       "      <td>...</td>\n",
       "      <td>47.31%</td>\n",
       "      <td>4.91%</td>\n",
       "      <td>19.66%</td>\n",
       "      <td>121.48%</td>\n",
       "      <td>0</td>\n",
       "      <td>NaN</td>\n",
       "      <td>NaN</td>\n",
       "      <td>NaN</td>\n",
       "      <td>NaN</td>\n",
       "      <td>NaN</td>\n",
       "    </tr>\n",
       "    <tr>\n",
       "      <th>115763</th>\n",
       "      <td>Racon Bygg AB</td>\n",
       "      <td>5567767891</td>\n",
       "      <td>2013-12</td>\n",
       "      <td>4661</td>\n",
       "      <td>18</td>\n",
       "      <td>-266</td>\n",
       "      <td>-283</td>\n",
       "      <td>-245</td>\n",
       "      <td>0</td>\n",
       "      <td>458</td>\n",
       "      <td>...</td>\n",
       "      <td>45.05%</td>\n",
       "      <td>-1.01%</td>\n",
       "      <td>6.56%</td>\n",
       "      <td>95.95%</td>\n",
       "      <td>0</td>\n",
       "      <td>NaN</td>\n",
       "      <td>NaN</td>\n",
       "      <td>NaN</td>\n",
       "      <td>NaN</td>\n",
       "      <td>NaN</td>\n",
       "    </tr>\n",
       "    <tr>\n",
       "      <th>115764</th>\n",
       "      <td>Racon Bygg AB</td>\n",
       "      <td>5567767891</td>\n",
       "      <td>2012-12</td>\n",
       "      <td>4460</td>\n",
       "      <td>63</td>\n",
       "      <td>-17</td>\n",
       "      <td>-19</td>\n",
       "      <td>-19</td>\n",
       "      <td>0</td>\n",
       "      <td>32</td>\n",
       "      <td>...</td>\n",
       "      <td>55.61%</td>\n",
       "      <td>3.97%</td>\n",
       "      <td>19.00%</td>\n",
       "      <td>121.61%</td>\n",
       "      <td>0</td>\n",
       "      <td>NaN</td>\n",
       "      <td>NaN</td>\n",
       "      <td>NaN</td>\n",
       "      <td>NaN</td>\n",
       "      <td>NaN</td>\n",
       "    </tr>\n",
       "    <tr>\n",
       "      <th>115765</th>\n",
       "      <td>Racon Bygg AB</td>\n",
       "      <td>5567767891</td>\n",
       "      <td>2011-12</td>\n",
       "      <td>4045</td>\n",
       "      <td>-</td>\n",
       "      <td>148</td>\n",
       "      <td>148</td>\n",
       "      <td>85</td>\n",
       "      <td>0</td>\n",
       "      <td>37</td>\n",
       "      <td>...</td>\n",
       "      <td>61.53%</td>\n",
       "      <td>4.62%</td>\n",
       "      <td>21.67%</td>\n",
       "      <td>124.44%</td>\n",
       "      <td>0</td>\n",
       "      <td>NaN</td>\n",
       "      <td>NaN</td>\n",
       "      <td>NaN</td>\n",
       "      <td>NaN</td>\n",
       "      <td>NaN</td>\n",
       "    </tr>\n",
       "    <tr>\n",
       "      <th>115766</th>\n",
       "      <td>Racon Bygg AB</td>\n",
       "      <td>5567767891</td>\n",
       "      <td>2010-12</td>\n",
       "      <td>5886</td>\n",
       "      <td>-</td>\n",
       "      <td>-64</td>\n",
       "      <td>-62</td>\n",
       "      <td>-62</td>\n",
       "      <td>0</td>\n",
       "      <td>86</td>\n",
       "      <td>...</td>\n",
       "      <td>56.39%</td>\n",
       "      <td>0.27%</td>\n",
       "      <td>8.61%</td>\n",
       "      <td>101.48%</td>\n",
       "      <td>0</td>\n",
       "      <td>NaN</td>\n",
       "      <td>NaN</td>\n",
       "      <td>NaN</td>\n",
       "      <td>NaN</td>\n",
       "      <td>NaN</td>\n",
       "    </tr>\n",
       "    <tr>\n",
       "      <th>115767</th>\n",
       "      <td>Racon Bygg AB</td>\n",
       "      <td>5567767891</td>\n",
       "      <td>2009-12</td>\n",
       "      <td>1763</td>\n",
       "      <td>7</td>\n",
       "      <td>5</td>\n",
       "      <td>5</td>\n",
       "      <td>3</td>\n",
       "      <td>0</td>\n",
       "      <td>61</td>\n",
       "      <td>...</td>\n",
       "      <td>66.53%</td>\n",
       "      <td>16.39%</td>\n",
       "      <td>16.38%</td>\n",
       "      <td>203.21%</td>\n",
       "      <td>0</td>\n",
       "      <td>NaN</td>\n",
       "      <td>NaN</td>\n",
       "      <td>NaN</td>\n",
       "      <td>NaN</td>\n",
       "      <td>NaN</td>\n",
       "    </tr>\n",
       "  </tbody>\n",
       "</table>\n",
       "<p>8 rows × 42 columns</p>\n",
       "</div>"
      ],
      "text/plain": [
       "              company          id     year net_sales other_sales  \\\n",
       "115760  Racon Bygg AB  5567767891  2016-12     13080         137   \n",
       "115761  Racon Bygg AB  5567767891  2015-12     15723          96   \n",
       "115762  Racon Bygg AB  5567767891  2014-12      8263         174   \n",
       "115763  Racon Bygg AB  5567767891  2013-12      4661          18   \n",
       "115764  Racon Bygg AB  5567767891  2012-12      4460          63   \n",
       "115765  Racon Bygg AB  5567767891  2011-12      4045           -   \n",
       "115766  Racon Bygg AB  5567767891  2010-12      5886           -   \n",
       "115767  Racon Bygg AB  5567767891  2009-12      1763           7   \n",
       "\n",
       "       op_profit_ebit prof_after_net_fin_items results sub_unpaid_cap  \\\n",
       "115760            -10                      -33     -33              0   \n",
       "115761             77                       56      41              0   \n",
       "115762            513                      493     434              0   \n",
       "115763           -266                     -283    -245              0   \n",
       "115764            -17                      -19     -19              0   \n",
       "115765            148                      148      85              0   \n",
       "115766            -64                      -62     -62              0   \n",
       "115767              5                        5       3              0   \n",
       "\n",
       "       fixed_assets  ... gross_prof working_cap solidity_equity_assets_ratio  \\\n",
       "115760          169  ...     33.37%       0.79%                        8.68%   \n",
       "115761          351  ...     31.19%       0.56%                        9.83%   \n",
       "115762          437  ...     47.31%       4.91%                       19.66%   \n",
       "115763          458  ...     45.05%      -1.01%                        6.56%   \n",
       "115764           32  ...     55.61%       3.97%                       19.00%   \n",
       "115765           37  ...     61.53%       4.62%                       21.67%   \n",
       "115766           86  ...     56.39%       0.27%                        8.61%   \n",
       "115767           61  ...     66.53%      16.39%                       16.38%   \n",
       "\n",
       "       cash_liquidity_quick_ratio status_bool date_diff default_date  \\\n",
       "115760                    100.32%           1     0.595   2017-07-06   \n",
       "115761                    104.22%           0       NaN          NaN   \n",
       "115762                    121.48%           0       NaN          NaN   \n",
       "115763                     95.95%           0       NaN          NaN   \n",
       "115764                    121.61%           0       NaN          NaN   \n",
       "115765                    124.44%           0       NaN          NaN   \n",
       "115766                    101.48%           0       NaN          NaN   \n",
       "115767                    203.21%           0       NaN          NaN   \n",
       "\n",
       "          status actual_status          remark  \n",
       "115760  inaktivt   Registrerad  Konkurs inledd  \n",
       "115761       NaN           NaN             NaN  \n",
       "115762       NaN           NaN             NaN  \n",
       "115763       NaN           NaN             NaN  \n",
       "115764       NaN           NaN             NaN  \n",
       "115765       NaN           NaN             NaN  \n",
       "115766       NaN           NaN             NaN  \n",
       "115767       NaN           NaN             NaN  \n",
       "\n",
       "[8 rows x 42 columns]"
      ]
     },
     "execution_count": 38,
     "metadata": {},
     "output_type": "execute_result"
    }
   ],
   "source": [
    "financials[financials['id']==5567767891]"
   ]
  },
  {
   "cell_type": "code",
   "execution_count": 39,
   "metadata": {},
   "outputs": [
    {
     "data": {
      "text/html": [
       "<div>\n",
       "<style scoped>\n",
       "    .dataframe tbody tr th:only-of-type {\n",
       "        vertical-align: middle;\n",
       "    }\n",
       "\n",
       "    .dataframe tbody tr th {\n",
       "        vertical-align: top;\n",
       "    }\n",
       "\n",
       "    .dataframe thead th {\n",
       "        text-align: right;\n",
       "    }\n",
       "</style>\n",
       "<table border=\"1\" class=\"dataframe\">\n",
       "  <thead>\n",
       "    <tr style=\"text-align: right;\">\n",
       "      <th></th>\n",
       "      <th>company</th>\n",
       "      <th>id</th>\n",
       "      <th>status</th>\n",
       "      <th>actual_status</th>\n",
       "      <th>remark</th>\n",
       "      <th>default_date</th>\n",
       "    </tr>\n",
       "  </thead>\n",
       "  <tbody>\n",
       "    <tr>\n",
       "      <th>2</th>\n",
       "      <td>Lily Properties AB</td>\n",
       "      <td>5590655865</td>\n",
       "      <td>aktivt</td>\n",
       "      <td>aktivt</td>\n",
       "      <td>NaN</td>\n",
       "      <td>NaN</td>\n",
       "    </tr>\n",
       "    <tr>\n",
       "      <th>4</th>\n",
       "      <td>Fogdetorps El Aktiebolag</td>\n",
       "      <td>5564709904</td>\n",
       "      <td>aktivt</td>\n",
       "      <td>Registrerad</td>\n",
       "      <td>NaN</td>\n",
       "      <td>NaN</td>\n",
       "    </tr>\n",
       "    <tr>\n",
       "      <th>12</th>\n",
       "      <td>Årsta Markentreprenad AB</td>\n",
       "      <td>5592051295</td>\n",
       "      <td>aktivt</td>\n",
       "      <td>aktivt</td>\n",
       "      <td>NaN</td>\n",
       "      <td>NaN</td>\n",
       "    </tr>\n",
       "    <tr>\n",
       "      <th>25</th>\n",
       "      <td>Sportgolvsgruppen Sverige AB</td>\n",
       "      <td>5568855877</td>\n",
       "      <td>aktivt</td>\n",
       "      <td>aktivt</td>\n",
       "      <td>NaN</td>\n",
       "      <td>NaN</td>\n",
       "    </tr>\n",
       "    <tr>\n",
       "      <th>26</th>\n",
       "      <td>J.N. Kraftinstallatörer Aktiebolag</td>\n",
       "      <td>5591365738</td>\n",
       "      <td>aktivt</td>\n",
       "      <td>aktivt</td>\n",
       "      <td>NaN</td>\n",
       "      <td>NaN</td>\n",
       "    </tr>\n",
       "  </tbody>\n",
       "</table>\n",
       "</div>"
      ],
      "text/plain": [
       "                               company          id  status actual_status  \\\n",
       "2                   Lily Properties AB  5590655865  aktivt        aktivt   \n",
       "4             Fogdetorps El Aktiebolag  5564709904  aktivt   Registrerad   \n",
       "12            Årsta Markentreprenad AB  5592051295  aktivt        aktivt   \n",
       "25        Sportgolvsgruppen Sverige AB  5568855877  aktivt        aktivt   \n",
       "26  J.N. Kraftinstallatörer Aktiebolag  5591365738  aktivt        aktivt   \n",
       "\n",
       "   remark default_date  \n",
       "2     NaN          NaN  \n",
       "4     NaN          NaN  \n",
       "12    NaN          NaN  \n",
       "25    NaN          NaN  \n",
       "26    NaN          NaN  "
      ]
     },
     "execution_count": 39,
     "metadata": {},
     "output_type": "execute_result"
    }
   ],
   "source": [
    "status.head()"
   ]
  },
  {
   "cell_type": "code",
   "execution_count": 40,
   "metadata": {},
   "outputs": [
    {
     "data": {
      "text/plain": [
       "1807"
      ]
     },
     "execution_count": 40,
     "metadata": {},
     "output_type": "execute_result"
    }
   ],
   "source": [
    "financials[financials['status_bool']==1]['id'].nunique()"
   ]
  },
  {
   "cell_type": "code",
   "execution_count": 41,
   "metadata": {},
   "outputs": [],
   "source": [
    "#financials.to_csv(\"../data/financials/financials_and_status.csv\", index=False)"
   ]
  },
  {
   "cell_type": "code",
   "execution_count": 42,
   "metadata": {},
   "outputs": [
    {
     "data": {
      "text/plain": [
       "(478042, 42)"
      ]
     },
     "execution_count": 42,
     "metadata": {},
     "output_type": "execute_result"
    }
   ],
   "source": [
    "financials.shape"
   ]
  },
  {
   "cell_type": "code",
   "execution_count": 43,
   "metadata": {},
   "outputs": [
    {
     "data": {
      "text/plain": [
       "68995"
      ]
     },
     "execution_count": 43,
     "metadata": {},
     "output_type": "execute_result"
    }
   ],
   "source": [
    "financials['id'].nunique()"
   ]
  },
  {
   "cell_type": "code",
   "execution_count": null,
   "metadata": {},
   "outputs": [],
   "source": []
  }
 ],
 "metadata": {
  "kernelspec": {
   "display_name": "Python 3",
   "language": "python",
   "name": "python3"
  },
  "language_info": {
   "codemirror_mode": {
    "name": "ipython",
    "version": 3
   },
   "file_extension": ".py",
   "mimetype": "text/x-python",
   "name": "python",
   "nbconvert_exporter": "python",
   "pygments_lexer": "ipython3",
   "version": "3.8.5"
  }
 },
 "nbformat": 4,
 "nbformat_minor": 4
}
