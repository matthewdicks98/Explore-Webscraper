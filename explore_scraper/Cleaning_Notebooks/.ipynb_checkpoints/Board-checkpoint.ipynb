{
 "cells": [
  {
   "cell_type": "code",
   "execution_count": 1,
   "metadata": {},
   "outputs": [],
   "source": [
    "import pandas as pd\n",
    "import numpy as np"
   ]
  },
  {
   "cell_type": "markdown",
   "metadata": {},
   "source": [
    "## Reading in the data"
   ]
  },
  {
   "cell_type": "code",
   "execution_count": 2,
   "metadata": {},
   "outputs": [],
   "source": [
    "# collecting board base information\n",
    "board_base_0_1000 = pd.read_csv(\"../data/financials/board/board_base_0_1000.csv\")\n",
    "board_base_1000_2000 = pd.read_csv(\"../data/financials/board/board_base_1000_2000.csv\")\n",
    "board_base_2000_6000 = pd.read_csv(\"../data/financials/board/board_base_2000_6000.csv\")\n",
    "board_base_6000_7000 = pd.read_csv(\"../data/financials/board/board_base_6000_7000.csv\")\n",
    "\n",
    "# collecting board information\n",
    "board_0_1000 = pd.read_csv(\"../data/financials/board/board_0_1000.csv\")\n",
    "board_1000_2000 = pd.read_csv(\"../data/financials/board/board_1000_2000.csv\")\n",
    "board_2000_3000 = pd.read_csv(\"../data/financials/board/board_2000_3000.csv\")\n",
    "board_3000_4000 = pd.read_csv(\"../data/financials/board/board_3000_4000.csv\")\n",
    "board_4000_8000 = pd.read_csv(\"../data/financials/board/board_4000_8000.csv\")\n",
    "board_8000_9000 = pd.read_csv(\"../data/financials/board/board_8000_9000.csv\")\n",
    "board_9000_13000 = pd.read_csv(\"../data/financials/board/board_9000_13000.csv\")\n",
    "board_13000_14000 = pd.read_csv(\"../data/financials/board/board_13000_14000.csv\")\n",
    "board_14000_15000 = pd.read_csv(\"../data/financials/board/board_14000_15000.csv\")\n",
    "board_15000_19000 = pd.read_csv(\"../data/financials/board/board_15000_19000.csv\")\n",
    "board_19000_20000 = pd.read_csv(\"../data/financials/board/board_19000_20000.csv\")\n",
    "board_20000_21000 = pd.read_csv(\"../data/financials/board/board_20000_21000.csv\")\n",
    "board_21000_25000 = pd.read_csv(\"../data/financials/board/board_21000_25000.csv\")\n",
    "board_25000_26000 = pd.read_csv(\"../data/financials/board/board_25000_26000.csv\")\n",
    "board_26000_27000 = pd.read_csv(\"../data/financials/board/board_26000_27000.csv\")\n",
    "board_27000_31000 = pd.read_csv(\"../data/financials/board/board_27000_31000.csv\")\n",
    "board_31000_32000 = pd.read_csv(\"../data/financials/board/board_31000_32000.csv\")\n",
    "board_32000_33000 = pd.read_csv(\"../data/financials/board/board_32000_33000.csv\")\n",
    "board_33000_37000 = pd.read_csv(\"../data/financials/board/board_33000_37000.csv\")\n",
    "board_37000_38000 = pd.read_csv(\"../data/financials/board/board_37000_38000.csv\")\n",
    "board_38000_39000 = pd.read_csv(\"../data/financials/board/board_38000_39000.csv\")\n",
    "board_39000_40000 = pd.read_csv(\"../data/financials/board/board_39000_40000.csv\")\n",
    "board_40000_41000 = pd.read_csv(\"../data/financials/board/board_40000_41000.csv\")\n",
    "board_41000_42000 = pd.read_csv(\"../data/financials/board/board_41000_42000.csv\")\n",
    "board_42000_43000 = pd.read_csv(\"../data/financials/board/board_42000_43000.csv\")\n",
    "board_43000_44000 = pd.read_csv(\"../data/financials/board/board_43000_44000.csv\")\n",
    "board_44000_50000 = pd.read_csv(\"../data/financials/board/board_44000_50000.csv\")"
   ]
  },
  {
   "cell_type": "markdown",
   "metadata": {},
   "source": [
    "## Creating the full dataset"
   ]
  },
  {
   "cell_type": "code",
   "execution_count": 3,
   "metadata": {},
   "outputs": [],
   "source": [
    "board = board_base_0_1000.append(board_base_1000_2000, ignore_index=True)\n",
    "board = board.append(board_base_2000_6000, ignore_index=True)\n",
    "board = board.append(board_base_6000_7000, ignore_index=True)\n",
    "board = board.append(board_0_1000, ignore_index=True)\n",
    "board = board.append(board_1000_2000, ignore_index=True)\n",
    "board = board.append(board_2000_3000, ignore_index=True)\n",
    "board = board.append(board_3000_4000, ignore_index=True)\n",
    "board = board.append(board_4000_8000, ignore_index=True)\n",
    "board = board.append(board_8000_9000, ignore_index=True)\n",
    "board = board.append(board_9000_13000, ignore_index=True)\n",
    "board = board.append(board_13000_14000, ignore_index=True)\n",
    "board = board.append(board_14000_15000, ignore_index=True)\n",
    "board = board.append(board_14000_15000, ignore_index=True)\n",
    "board = board.append(board_15000_19000, ignore_index=True)\n",
    "board = board.append(board_19000_20000, ignore_index=True)\n",
    "board = board.append(board_20000_21000, ignore_index=True)\n",
    "board = board.append(board_21000_25000, ignore_index=True)\n",
    "board = board.append(board_25000_26000, ignore_index=True)\n",
    "board = board.append(board_26000_27000, ignore_index=True)\n",
    "board = board.append(board_27000_31000, ignore_index=True)\n",
    "board = board.append(board_31000_32000, ignore_index=True)\n",
    "board = board.append(board_32000_33000, ignore_index=True)\n",
    "board = board.append(board_33000_37000, ignore_index=True)\n",
    "board = board.append(board_37000_38000, ignore_index=True)\n",
    "board = board.append(board_38000_39000, ignore_index=True)\n",
    "board = board.append(board_39000_40000, ignore_index=True)\n",
    "board = board.append(board_40000_41000, ignore_index=True)\n",
    "board = board.append(board_41000_42000, ignore_index=True)\n",
    "board = board.append(board_42000_43000, ignore_index=True)\n",
    "board = board.append(board_43000_44000, ignore_index=True)\n",
    "board = board.append(board_44000_50000, ignore_index=True)"
   ]
  },
  {
   "cell_type": "code",
   "execution_count": 4,
   "metadata": {
    "scrolled": true
   },
   "outputs": [
    {
     "data": {
      "text/html": [
       "<div>\n",
       "<style scoped>\n",
       "    .dataframe tbody tr th:only-of-type {\n",
       "        vertical-align: middle;\n",
       "    }\n",
       "\n",
       "    .dataframe tbody tr th {\n",
       "        vertical-align: top;\n",
       "    }\n",
       "\n",
       "    .dataframe thead th {\n",
       "        text-align: right;\n",
       "    }\n",
       "</style>\n",
       "<table border=\"1\" class=\"dataframe\">\n",
       "  <thead>\n",
       "    <tr style=\"text-align: right;\">\n",
       "      <th></th>\n",
       "      <th>company</th>\n",
       "      <th>id</th>\n",
       "      <th>number_of_board_memebers</th>\n",
       "      <th>average_age_board</th>\n",
       "      <th>executives</th>\n",
       "      <th>total_active_assignments</th>\n",
       "      <th>total_prev_assignments</th>\n",
       "      <th>companies</th>\n",
       "    </tr>\n",
       "  </thead>\n",
       "  <tbody>\n",
       "    <tr>\n",
       "      <th>0</th>\n",
       "      <td>A Brash AB</td>\n",
       "      <td>5568391519</td>\n",
       "      <td>2.0</td>\n",
       "      <td>39.0</td>\n",
       "      <td>Brash; Andrew William</td>\n",
       "      <td>3.0</td>\n",
       "      <td>1.0</td>\n",
       "      <td>John G Construction AB|A Brash Stockholm AB|A ...</td>\n",
       "    </tr>\n",
       "    <tr>\n",
       "      <th>1</th>\n",
       "      <td>A C Ställningsmontage Aktiebolag</td>\n",
       "      <td>5563594406</td>\n",
       "      <td>2.0</td>\n",
       "      <td>49.0</td>\n",
       "      <td>Herranen; Peter Mikael</td>\n",
       "      <td>3.0</td>\n",
       "      <td>1.0</td>\n",
       "      <td>Nisses Gatukök AB|Norrlands Kustmontage AB|A C...</td>\n",
       "    </tr>\n",
       "    <tr>\n",
       "      <th>2</th>\n",
       "      <td>A Dahlqvist Bygg &amp; Betong AB</td>\n",
       "      <td>5590030499</td>\n",
       "      <td>6.0</td>\n",
       "      <td>54.0</td>\n",
       "      <td>Holmgren; Erik Bertil</td>\n",
       "      <td>6.0</td>\n",
       "      <td>1.0</td>\n",
       "      <td>Bertil Holmgren Bygg Aktiebolag|A Dahlqvist By...</td>\n",
       "    </tr>\n",
       "    <tr>\n",
       "      <th>3</th>\n",
       "      <td>A Hedlunds Måleriaktiebolag</td>\n",
       "      <td>5563014082</td>\n",
       "      <td>2.0</td>\n",
       "      <td>52.0</td>\n",
       "      <td>Hedlund; Axel Joakim</td>\n",
       "      <td>9.0</td>\n",
       "      <td>7.0</td>\n",
       "      <td>Hedlunds Måleri i Göteborg Aktiebolag|A Hedlun...</td>\n",
       "    </tr>\n",
       "    <tr>\n",
       "      <th>4</th>\n",
       "      <td>A Måleri &amp; Golv i Uppland AB</td>\n",
       "      <td>5562074129</td>\n",
       "      <td>3.0</td>\n",
       "      <td>52.0</td>\n",
       "      <td>Norling; Hans Fredric</td>\n",
       "      <td>1.0</td>\n",
       "      <td>4.0</td>\n",
       "      <td>A Måleri &amp; Golv i Uppland AB</td>\n",
       "    </tr>\n",
       "  </tbody>\n",
       "</table>\n",
       "</div>"
      ],
      "text/plain": [
       "                            company          id  number_of_board_memebers  \\\n",
       "0                        A Brash AB  5568391519                       2.0   \n",
       "1  A C Ställningsmontage Aktiebolag  5563594406                       2.0   \n",
       "2      A Dahlqvist Bygg & Betong AB  5590030499                       6.0   \n",
       "3       A Hedlunds Måleriaktiebolag  5563014082                       2.0   \n",
       "4      A Måleri & Golv i Uppland AB  5562074129                       3.0   \n",
       "\n",
       "   average_age_board              executives  total_active_assignments  \\\n",
       "0               39.0   Brash; Andrew William                       3.0   \n",
       "1               49.0  Herranen; Peter Mikael                       3.0   \n",
       "2               54.0   Holmgren; Erik Bertil                       6.0   \n",
       "3               52.0    Hedlund; Axel Joakim                       9.0   \n",
       "4               52.0   Norling; Hans Fredric                       1.0   \n",
       "\n",
       "   total_prev_assignments                                          companies  \n",
       "0                     1.0  John G Construction AB|A Brash Stockholm AB|A ...  \n",
       "1                     1.0  Nisses Gatukök AB|Norrlands Kustmontage AB|A C...  \n",
       "2                     1.0  Bertil Holmgren Bygg Aktiebolag|A Dahlqvist By...  \n",
       "3                     7.0  Hedlunds Måleri i Göteborg Aktiebolag|A Hedlun...  \n",
       "4                     4.0                       A Måleri & Golv i Uppland AB  "
      ]
     },
     "execution_count": 4,
     "metadata": {},
     "output_type": "execute_result"
    }
   ],
   "source": [
    "board.head()"
   ]
  },
  {
   "cell_type": "code",
   "execution_count": 5,
   "metadata": {},
   "outputs": [
    {
     "data": {
      "text/plain": [
       "(15276, 8)"
      ]
     },
     "execution_count": 5,
     "metadata": {},
     "output_type": "execute_result"
    }
   ],
   "source": [
    "board.shape"
   ]
  },
  {
   "cell_type": "code",
   "execution_count": 6,
   "metadata": {},
   "outputs": [
    {
     "data": {
      "text/plain": [
       "13164"
      ]
     },
     "execution_count": 6,
     "metadata": {},
     "output_type": "execute_result"
    }
   ],
   "source": [
    "board['company'].nunique()"
   ]
  },
  {
   "cell_type": "markdown",
   "metadata": {},
   "source": [
    "## Remove own name from a companies active assignments"
   ]
  },
  {
   "cell_type": "code",
   "execution_count": 7,
   "metadata": {},
   "outputs": [],
   "source": [
    "for i in range(board.shape[0]):\n",
    "    company = board.loc[i]\n",
    "    company_name = company['company']\n",
    "    active_assignments = company['companies']\n",
    "    \n",
    "    if type(active_assignments)==float:\n",
    "        continue\n",
    "    assignment_list = active_assignments.split(\"|\")\n",
    "    if company_name in assignment_list:\n",
    "        while company_name in assignment_list:\n",
    "            assignment_list.remove(company_name)\n",
    "    assignment_string = '|'.join(assignment_list)\n",
    "    board.loc[i,'active_assignments'] = assignment_string"
   ]
  },
  {
   "cell_type": "code",
   "execution_count": 8,
   "metadata": {},
   "outputs": [
    {
     "data": {
      "text/html": [
       "<div>\n",
       "<style scoped>\n",
       "    .dataframe tbody tr th:only-of-type {\n",
       "        vertical-align: middle;\n",
       "    }\n",
       "\n",
       "    .dataframe tbody tr th {\n",
       "        vertical-align: top;\n",
       "    }\n",
       "\n",
       "    .dataframe thead th {\n",
       "        text-align: right;\n",
       "    }\n",
       "</style>\n",
       "<table border=\"1\" class=\"dataframe\">\n",
       "  <thead>\n",
       "    <tr style=\"text-align: right;\">\n",
       "      <th></th>\n",
       "      <th>company</th>\n",
       "      <th>id</th>\n",
       "      <th>number_of_board_memebers</th>\n",
       "      <th>average_age_board</th>\n",
       "      <th>executives</th>\n",
       "      <th>total_active_assignments</th>\n",
       "      <th>total_prev_assignments</th>\n",
       "      <th>companies</th>\n",
       "      <th>active_assignments</th>\n",
       "    </tr>\n",
       "  </thead>\n",
       "  <tbody>\n",
       "    <tr>\n",
       "      <th>0</th>\n",
       "      <td>A Brash AB</td>\n",
       "      <td>5568391519</td>\n",
       "      <td>2.0</td>\n",
       "      <td>39.0</td>\n",
       "      <td>Brash; Andrew William</td>\n",
       "      <td>3.0</td>\n",
       "      <td>1.0</td>\n",
       "      <td>John G Construction AB|A Brash Stockholm AB|A ...</td>\n",
       "      <td>John G Construction AB|A Brash Stockholm AB</td>\n",
       "    </tr>\n",
       "  </tbody>\n",
       "</table>\n",
       "</div>"
      ],
      "text/plain": [
       "      company          id  number_of_board_memebers  average_age_board  \\\n",
       "0  A Brash AB  5568391519                       2.0               39.0   \n",
       "\n",
       "              executives  total_active_assignments  total_prev_assignments  \\\n",
       "0  Brash; Andrew William                       3.0                     1.0   \n",
       "\n",
       "                                           companies  \\\n",
       "0  John G Construction AB|A Brash Stockholm AB|A ...   \n",
       "\n",
       "                            active_assignments  \n",
       "0  John G Construction AB|A Brash Stockholm AB  "
      ]
     },
     "execution_count": 8,
     "metadata": {},
     "output_type": "execute_result"
    }
   ],
   "source": [
    "board[board['id']==5568391519]"
   ]
  },
  {
   "cell_type": "code",
   "execution_count": 9,
   "metadata": {},
   "outputs": [
    {
     "data": {
      "text/plain": [
       "'John G Construction AB|A Brash Stockholm AB|A Brash AB'"
      ]
     },
     "execution_count": 9,
     "metadata": {},
     "output_type": "execute_result"
    }
   ],
   "source": [
    "board[board['id']==5568391519]['companies'].iloc[0]"
   ]
  },
  {
   "cell_type": "code",
   "execution_count": 10,
   "metadata": {},
   "outputs": [
    {
     "data": {
      "text/plain": [
       "'John G Construction AB|A Brash Stockholm AB'"
      ]
     },
     "execution_count": 10,
     "metadata": {},
     "output_type": "execute_result"
    }
   ],
   "source": [
    "board[board['id']==5568391519]['active_assignments'].iloc[0]"
   ]
  },
  {
   "cell_type": "markdown",
   "metadata": {},
   "source": [
    "## Remove those rows from the dataset (they are the ones with no active assignments)"
   ]
  },
  {
   "cell_type": "code",
   "execution_count": 11,
   "metadata": {},
   "outputs": [],
   "source": [
    "board.drop(board[board['active_assignments']==''].index, inplace = True)"
   ]
  },
  {
   "cell_type": "code",
   "execution_count": 12,
   "metadata": {},
   "outputs": [
    {
     "data": {
      "text/plain": [
       "(9877, 9)"
      ]
     },
     "execution_count": 12,
     "metadata": {},
     "output_type": "execute_result"
    }
   ],
   "source": [
    "board.shape"
   ]
  },
  {
   "cell_type": "code",
   "execution_count": 13,
   "metadata": {},
   "outputs": [
    {
     "data": {
      "text/plain": [
       "8744"
      ]
     },
     "execution_count": 13,
     "metadata": {},
     "output_type": "execute_result"
    }
   ],
   "source": [
    "board['id'].nunique()"
   ]
  },
  {
   "cell_type": "markdown",
   "metadata": {},
   "source": [
    "## Testing how many of the active assignment companies are inactive"
   ]
  },
  {
   "cell_type": "code",
   "execution_count": 14,
   "metadata": {},
   "outputs": [],
   "source": [
    "company_names = []\n",
    "for companies in board['active_assignments']:\n",
    "    if type(companies)==float:\n",
    "        continue\n",
    "    companies_list = companies.split('|')\n",
    "    company_names += companies_list"
   ]
  },
  {
   "cell_type": "code",
   "execution_count": 15,
   "metadata": {},
   "outputs": [
    {
     "data": {
      "text/plain": [
       "43140"
      ]
     },
     "execution_count": 15,
     "metadata": {},
     "output_type": "execute_result"
    }
   ],
   "source": [
    "len(company_names)"
   ]
  },
  {
   "cell_type": "code",
   "execution_count": 16,
   "metadata": {},
   "outputs": [],
   "source": [
    "data = pd.read_csv(\"../data/financials/financials_status_forms_clean2.csv\")"
   ]
  },
  {
   "cell_type": "code",
   "execution_count": 17,
   "metadata": {},
   "outputs": [],
   "source": [
    "all_companies = data['company'].unique()"
   ]
  },
  {
   "cell_type": "code",
   "execution_count": 18,
   "metadata": {},
   "outputs": [],
   "source": [
    "x = data[data['company'].isin(company_names)]"
   ]
  },
  {
   "cell_type": "code",
   "execution_count": 19,
   "metadata": {},
   "outputs": [
    {
     "data": {
      "text/plain": [
       "4496"
      ]
     },
     "execution_count": 19,
     "metadata": {},
     "output_type": "execute_result"
    }
   ],
   "source": [
    "x['company'].nunique()"
   ]
  },
  {
   "cell_type": "code",
   "execution_count": 20,
   "metadata": {},
   "outputs": [
    {
     "data": {
      "text/plain": [
       "(76, 48)"
      ]
     },
     "execution_count": 20,
     "metadata": {},
     "output_type": "execute_result"
    }
   ],
   "source": [
    "x[x['default']==1].shape"
   ]
  },
  {
   "cell_type": "code",
   "execution_count": 21,
   "metadata": {},
   "outputs": [
    {
     "data": {
      "text/plain": [
       "76"
      ]
     },
     "execution_count": 21,
     "metadata": {},
     "output_type": "execute_result"
    }
   ],
   "source": [
    "x[x['default']==1]['company'].nunique()"
   ]
  },
  {
   "cell_type": "markdown",
   "metadata": {},
   "source": [
    "## Testing to see why certain companies in the active companies are not in the dataset (looks like it is because of different industries)"
   ]
  },
  {
   "cell_type": "code",
   "execution_count": 22,
   "metadata": {},
   "outputs": [],
   "source": [
    "def h():\n",
    "    comp_names = []\n",
    "    for companies in board['active_assignments']:\n",
    "        if type(companies)==float:\n",
    "            continue\n",
    "        companies_list = companies.split('|')\n",
    "        for comp in companies_list:\n",
    "            if comp not in data['company'].unique():\n",
    "                comp_names.append(comp)\n",
    "                if len(comp_names) > 10:\n",
    "                    return comp_names\n",
    "                "
   ]
  },
  {
   "cell_type": "code",
   "execution_count": 23,
   "metadata": {},
   "outputs": [
    {
     "data": {
      "text/plain": [
       "['A Brash Stockholm AB',\n",
       " 'Nisses Gatukök AB',\n",
       " 'Volgsjö Fastigheter Aktiebolag',\n",
       " 'EPDH Fastigheter AB',\n",
       " 'Vagnede Förvaltning AB',\n",
       " 'Zeti Fastigheter AB',\n",
       " 'Måleriföretagen i Väst Serviceaktiebolag',\n",
       " 'NYMÅLIA Fastighets AB',\n",
       " 'Nymålia Spinnaren AB',\n",
       " 'Nymålia Paradisvägen AB',\n",
       " 'BAH Fastigheter AB']"
      ]
     },
     "execution_count": 23,
     "metadata": {},
     "output_type": "execute_result"
    }
   ],
   "source": [
    "h()"
   ]
  },
  {
   "cell_type": "markdown",
   "metadata": {},
   "source": [
    "## Calculating the per company per executive proportion of inactive companies in their active assignments"
   ]
  },
  {
   "cell_type": "code",
   "execution_count": 24,
   "metadata": {},
   "outputs": [],
   "source": [
    "def split_bar(a):\n",
    "    return a.split(\"|\")"
   ]
  },
  {
   "cell_type": "code",
   "execution_count": 25,
   "metadata": {},
   "outputs": [],
   "source": [
    "props = []\n",
    "non_zero_props_companies = []\n",
    "for Id in board['id'].unique():\n",
    "    company = board[board['id']==Id]\n",
    "    company_name = company['company'].iloc[0]\n",
    "    active_assignments = company['active_assignments']\n",
    "    assignment_list = []\n",
    "    for assignment in active_assignments:\n",
    "        if type(assignment)==float:\n",
    "            continue\n",
    "        assignment_list += assignment.split(\"|\")\n",
    "    while company_name in assignment_list:\n",
    "        # remove the company name\n",
    "        assignment_list.remove(company_name)\n",
    "    num_active_assignments = len(assignment_list)\n",
    "    # in that companies active assignments get the companies that have defaulted\n",
    "    fin_comps = data[data['company'].isin(assignment_list)]\n",
    "    defaults = fin_comps[fin_comps['default']==1].shape[0]\n",
    "    # if defaults is non-zero add the Id to the list of companies with executive who have been involved with \n",
    "    # default companies\n",
    "    if defaults > 0:\n",
    "        non_zero_props_companies.append(Id)\n",
    "    if num_active_assignments==0:\n",
    "        props.append(0)\n",
    "    else:\n",
    "        props.append(defaults/num_active_assignments)"
   ]
  },
  {
   "cell_type": "code",
   "execution_count": 26,
   "metadata": {},
   "outputs": [],
   "source": [
    "import matplotlib.pyplot as plt"
   ]
  },
  {
   "cell_type": "code",
   "execution_count": 27,
   "metadata": {},
   "outputs": [
    {
     "data": {
      "text/plain": [
       "[<matplotlib.lines.Line2D at 0x7f3543c1dfd0>]"
      ]
     },
     "execution_count": 27,
     "metadata": {},
     "output_type": "execute_result"
    },
    {
     "data": {
      "image/png": "[encoded data removed]",
      "text/plain": [
       "<Figure size 432x288 with 1 Axes>"
      ]
     },
     "metadata": {
      "needs_background": "light"
     },
     "output_type": "display_data"
    }
   ],
   "source": [
    "plt.plot(np.array(props)*100)"
   ]
  },
  {
   "cell_type": "code",
   "execution_count": 28,
   "metadata": {},
   "outputs": [
    {
     "data": {
      "text/plain": [
       "8744"
      ]
     },
     "execution_count": 28,
     "metadata": {},
     "output_type": "execute_result"
    }
   ],
   "source": [
    "len(props)"
   ]
  },
  {
   "cell_type": "code",
   "execution_count": 29,
   "metadata": {},
   "outputs": [
    {
     "data": {
      "text/plain": [
       "85"
      ]
     },
     "execution_count": 29,
     "metadata": {},
     "output_type": "execute_result"
    }
   ],
   "source": [
    "count=0\n",
    "for p in props:\n",
    "    if p != 0.0:\n",
    "        count+=1\n",
    "count"
   ]
  },
  {
   "cell_type": "code",
   "execution_count": 30,
   "metadata": {},
   "outputs": [
    {
     "data": {
      "text/plain": [
       "0.36762694568634663"
      ]
     },
     "execution_count": 30,
     "metadata": {},
     "output_type": "execute_result"
    }
   ],
   "source": [
    "np.mean(np.array(props)*100)"
   ]
  },
  {
   "cell_type": "markdown",
   "metadata": {},
   "source": [
    "## How many of the companies with non-zero proportions are inactive"
   ]
  },
  {
   "cell_type": "code",
   "execution_count": 31,
   "metadata": {},
   "outputs": [
    {
     "data": {
      "text/plain": [
       "85"
      ]
     },
     "execution_count": 31,
     "metadata": {},
     "output_type": "execute_result"
    }
   ],
   "source": [
    "# number of companies with non_zero proportions\n",
    "len(non_zero_props_companies)"
   ]
  },
  {
   "cell_type": "code",
   "execution_count": 32,
   "metadata": {},
   "outputs": [
    {
     "data": {
      "text/plain": [
       "22"
      ]
     },
     "execution_count": 32,
     "metadata": {},
     "output_type": "execute_result"
    }
   ],
   "source": [
    "# number of companies with non_zero proportions that are inactive\n",
    "data[(data['id'].isin(non_zero_props_companies)) & (data['default']==1)]['id'].nunique()"
   ]
  },
  {
   "cell_type": "code",
   "execution_count": 33,
   "metadata": {},
   "outputs": [
    {
     "data": {
      "text/plain": [
       "0.25882352941176473"
      ]
     },
     "execution_count": 33,
     "metadata": {},
     "output_type": "execute_result"
    }
   ],
   "source": [
    "data[(data['id'].isin(non_zero_props_companies)) & (data['default']==1)]['id'].nunique()/len(non_zero_props_companies)"
   ]
  },
  {
   "cell_type": "code",
   "execution_count": 34,
   "metadata": {},
   "outputs": [
    {
     "data": {
      "text/plain": [
       "194"
      ]
     },
     "execution_count": 34,
     "metadata": {},
     "output_type": "execute_result"
    }
   ],
   "source": [
    "# how many of the 8744 companies went bankrupt\n",
    "data[(data['id'].isin(board['id'].unique())) & (data['default']==1)]['id'].nunique()"
   ]
  },
  {
   "cell_type": "code",
   "execution_count": null,
   "metadata": {},
   "outputs": [],
   "source": []
  }
 ],
 "metadata": {
  "kernelspec": {
   "display_name": "Python 3",
   "language": "python",
   "name": "python3"
  },
  "language_info": {
   "codemirror_mode": {
    "name": "ipython",
    "version": 3
   },
   "file_extension": ".py",
   "mimetype": "text/x-python",
   "name": "python",
   "nbconvert_exporter": "python",
   "pygments_lexer": "ipython3",
   "version": "3.8.5"
  }
 },
 "nbformat": 4,
 "nbformat_minor": 4
}
