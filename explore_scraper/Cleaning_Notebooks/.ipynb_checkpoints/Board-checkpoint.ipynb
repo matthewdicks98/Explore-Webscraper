{
 "cells": [
  {
   "cell_type": "code",
   "execution_count": 1,
   "metadata": {},
   "outputs": [],
   "source": [
    "import pandas as pd\n",
    "import numpy as np"
   ]
  },
  {
   "cell_type": "code",
   "execution_count": 2,
   "metadata": {},
   "outputs": [],
   "source": [
    "board = pd.read_csv(\"../data/financials/board/board_base_0_7000.csv\")"
   ]
  },
  {
   "cell_type": "code",
   "execution_count": 3,
   "metadata": {},
   "outputs": [
    {
     "data": {
      "text/html": [
       "<div>\n",
       "<style scoped>\n",
       "    .dataframe tbody tr th:only-of-type {\n",
       "        vertical-align: middle;\n",
       "    }\n",
       "\n",
       "    .dataframe tbody tr th {\n",
       "        vertical-align: top;\n",
       "    }\n",
       "\n",
       "    .dataframe thead th {\n",
       "        text-align: right;\n",
       "    }\n",
       "</style>\n",
       "<table border=\"1\" class=\"dataframe\">\n",
       "  <thead>\n",
       "    <tr style=\"text-align: right;\">\n",
       "      <th></th>\n",
       "      <th>name</th>\n",
       "      <th>id</th>\n",
       "      <th>number_of_board_members</th>\n",
       "      <th>avg_age_of_board</th>\n",
       "      <th>total_active_assignments</th>\n",
       "      <th>total_prev_assignments</th>\n",
       "    </tr>\n",
       "  </thead>\n",
       "  <tbody>\n",
       "    <tr>\n",
       "      <th>0</th>\n",
       "      <td>A Bergman Rör AB</td>\n",
       "      <td>5567988125</td>\n",
       "      <td>NaN</td>\n",
       "      <td>NaN</td>\n",
       "      <td>NaN</td>\n",
       "      <td>NaN</td>\n",
       "    </tr>\n",
       "    <tr>\n",
       "      <th>1</th>\n",
       "      <td>A Brash AB</td>\n",
       "      <td>5568391519</td>\n",
       "      <td>2.0</td>\n",
       "      <td>39.0</td>\n",
       "      <td>3.0</td>\n",
       "      <td>1.0</td>\n",
       "    </tr>\n",
       "    <tr>\n",
       "      <th>2</th>\n",
       "      <td>A Bygg och Montage i Piteå AB</td>\n",
       "      <td>5568871411</td>\n",
       "      <td>2.0</td>\n",
       "      <td>47.0</td>\n",
       "      <td>NaN</td>\n",
       "      <td>NaN</td>\n",
       "    </tr>\n",
       "    <tr>\n",
       "      <th>3</th>\n",
       "      <td>A Byggare i Väst AB</td>\n",
       "      <td>5569369977</td>\n",
       "      <td>2.0</td>\n",
       "      <td>45.0</td>\n",
       "      <td>NaN</td>\n",
       "      <td>NaN</td>\n",
       "    </tr>\n",
       "    <tr>\n",
       "      <th>4</th>\n",
       "      <td>Bravida Örnsköldsvik El AB</td>\n",
       "      <td>5564160371</td>\n",
       "      <td>NaN</td>\n",
       "      <td>NaN</td>\n",
       "      <td>NaN</td>\n",
       "      <td>NaN</td>\n",
       "    </tr>\n",
       "  </tbody>\n",
       "</table>\n",
       "</div>"
      ],
      "text/plain": [
       "                            name          id  number_of_board_members  \\\n",
       "0               A Bergman Rör AB  5567988125                      NaN   \n",
       "1                     A Brash AB  5568391519                      2.0   \n",
       "2  A Bygg och Montage i Piteå AB  5568871411                      2.0   \n",
       "3            A Byggare i Väst AB  5569369977                      2.0   \n",
       "4     Bravida Örnsköldsvik El AB  5564160371                      NaN   \n",
       "\n",
       "   avg_age_of_board  total_active_assignments  total_prev_assignments  \n",
       "0               NaN                       NaN                     NaN  \n",
       "1              39.0                       3.0                     1.0  \n",
       "2              47.0                       NaN                     NaN  \n",
       "3              45.0                       NaN                     NaN  \n",
       "4               NaN                       NaN                     NaN  "
      ]
     },
     "execution_count": 3,
     "metadata": {},
     "output_type": "execute_result"
    }
   ],
   "source": [
    "board.head()"
   ]
  },
  {
   "cell_type": "code",
   "execution_count": 4,
   "metadata": {},
   "outputs": [
    {
     "data": {
      "text/plain": [
       "(1764, 6)"
      ]
     },
     "execution_count": 4,
     "metadata": {},
     "output_type": "execute_result"
    }
   ],
   "source": [
    "board[~board['total_active_assignments'].isna()].shape"
   ]
  },
  {
   "cell_type": "code",
   "execution_count": 5,
   "metadata": {},
   "outputs": [
    {
     "data": {
      "text/html": [
       "<div>\n",
       "<style scoped>\n",
       "    .dataframe tbody tr th:only-of-type {\n",
       "        vertical-align: middle;\n",
       "    }\n",
       "\n",
       "    .dataframe tbody tr th {\n",
       "        vertical-align: top;\n",
       "    }\n",
       "\n",
       "    .dataframe thead th {\n",
       "        text-align: right;\n",
       "    }\n",
       "</style>\n",
       "<table border=\"1\" class=\"dataframe\">\n",
       "  <thead>\n",
       "    <tr style=\"text-align: right;\">\n",
       "      <th></th>\n",
       "      <th>name</th>\n",
       "      <th>id</th>\n",
       "      <th>number_of_board_members</th>\n",
       "      <th>avg_age_of_board</th>\n",
       "      <th>total_active_assignments</th>\n",
       "      <th>total_prev_assignments</th>\n",
       "    </tr>\n",
       "  </thead>\n",
       "  <tbody>\n",
       "    <tr>\n",
       "      <th>390</th>\n",
       "      <td>Active Works AB</td>\n",
       "      <td>5566764535</td>\n",
       "      <td>2.0</td>\n",
       "      <td>53.0</td>\n",
       "      <td>26.0</td>\n",
       "      <td>66.0</td>\n",
       "    </tr>\n",
       "  </tbody>\n",
       "</table>\n",
       "</div>"
      ],
      "text/plain": [
       "                name          id  number_of_board_members  avg_age_of_board  \\\n",
       "390  Active Works AB  5566764535                      2.0              53.0   \n",
       "\n",
       "     total_active_assignments  total_prev_assignments  \n",
       "390                      26.0                    66.0  "
      ]
     },
     "execution_count": 5,
     "metadata": {},
     "output_type": "execute_result"
    }
   ],
   "source": [
    "board[board['total_active_assignments']==26]"
   ]
  },
  {
   "cell_type": "code",
   "execution_count": 6,
   "metadata": {},
   "outputs": [
    {
     "data": {
      "text/html": [
       "<div>\n",
       "<style scoped>\n",
       "    .dataframe tbody tr th:only-of-type {\n",
       "        vertical-align: middle;\n",
       "    }\n",
       "\n",
       "    .dataframe tbody tr th {\n",
       "        vertical-align: top;\n",
       "    }\n",
       "\n",
       "    .dataframe thead th {\n",
       "        text-align: right;\n",
       "    }\n",
       "</style>\n",
       "<table border=\"1\" class=\"dataframe\">\n",
       "  <thead>\n",
       "    <tr style=\"text-align: right;\">\n",
       "      <th></th>\n",
       "      <th>name</th>\n",
       "      <th>id</th>\n",
       "      <th>number_of_board_members</th>\n",
       "      <th>avg_age_of_board</th>\n",
       "      <th>total_active_assignments</th>\n",
       "      <th>total_prev_assignments</th>\n",
       "    </tr>\n",
       "  </thead>\n",
       "  <tbody>\n",
       "    <tr>\n",
       "      <th>390</th>\n",
       "      <td>Active Works AB</td>\n",
       "      <td>5566764535</td>\n",
       "      <td>2.0</td>\n",
       "      <td>53.0</td>\n",
       "      <td>26.0</td>\n",
       "      <td>66.0</td>\n",
       "    </tr>\n",
       "  </tbody>\n",
       "</table>\n",
       "</div>"
      ],
      "text/plain": [
       "                name          id  number_of_board_members  avg_age_of_board  \\\n",
       "390  Active Works AB  5566764535                      2.0              53.0   \n",
       "\n",
       "     total_active_assignments  total_prev_assignments  \n",
       "390                      26.0                    66.0  "
      ]
     },
     "execution_count": 6,
     "metadata": {},
     "output_type": "execute_result"
    }
   ],
   "source": [
    "board[board['id']=='5566764535']"
   ]
  },
  {
   "cell_type": "code",
   "execution_count": 59,
   "metadata": {},
   "outputs": [],
   "source": [
    "board_0_1000 = pd.read_csv(\"../data/financials/board/board_base_0_1000.csv\")"
   ]
  },
  {
   "cell_type": "code",
   "execution_count": 60,
   "metadata": {},
   "outputs": [],
   "source": [
    "board_1000_2000 = pd.read_csv(\"../data/financials/board/board_base_1000_2000.csv\")"
   ]
  },
  {
   "cell_type": "code",
   "execution_count": 61,
   "metadata": {},
   "outputs": [],
   "source": [
    "board_2000_6000 = pd.read_csv(\"../data/financials/board/board_base_2000_6000.csv\")"
   ]
  },
  {
   "cell_type": "code",
   "execution_count": 62,
   "metadata": {},
   "outputs": [],
   "source": [
    "board_6000_7000 = pd.read_csv(\"../data/financials/board/board_base_6000_7000.csv\")"
   ]
  },
  {
   "cell_type": "code",
   "execution_count": 63,
   "metadata": {},
   "outputs": [],
   "source": [
    "test = board_0_1000.append(board_1000_2000, ignore_index=True)\n",
    "test = test.append(board_2000_6000, ignore_index=True)\n",
    "test = test.append(board_6000_7000, ignore_index=True)"
   ]
  },
  {
   "cell_type": "code",
   "execution_count": 65,
   "metadata": {
    "scrolled": true
   },
   "outputs": [
    {
     "data": {
      "text/html": [
       "<div>\n",
       "<style scoped>\n",
       "    .dataframe tbody tr th:only-of-type {\n",
       "        vertical-align: middle;\n",
       "    }\n",
       "\n",
       "    .dataframe tbody tr th {\n",
       "        vertical-align: top;\n",
       "    }\n",
       "\n",
       "    .dataframe thead th {\n",
       "        text-align: right;\n",
       "    }\n",
       "</style>\n",
       "<table border=\"1\" class=\"dataframe\">\n",
       "  <thead>\n",
       "    <tr style=\"text-align: right;\">\n",
       "      <th></th>\n",
       "      <th>company</th>\n",
       "      <th>id</th>\n",
       "      <th>number_of_board_memebers</th>\n",
       "      <th>average_age_board</th>\n",
       "      <th>executives</th>\n",
       "      <th>total_active_assignments</th>\n",
       "      <th>total_prev_assignments</th>\n",
       "      <th>companies</th>\n",
       "    </tr>\n",
       "  </thead>\n",
       "  <tbody>\n",
       "    <tr>\n",
       "      <th>0</th>\n",
       "      <td>A Brash AB</td>\n",
       "      <td>5568391519</td>\n",
       "      <td>2.0</td>\n",
       "      <td>39.0</td>\n",
       "      <td>Brash; Andrew William</td>\n",
       "      <td>3</td>\n",
       "      <td>1</td>\n",
       "      <td>John G Construction AB|A Brash Stockholm AB|A ...</td>\n",
       "    </tr>\n",
       "    <tr>\n",
       "      <th>1</th>\n",
       "      <td>A C Ställningsmontage Aktiebolag</td>\n",
       "      <td>5563594406</td>\n",
       "      <td>2.0</td>\n",
       "      <td>49.0</td>\n",
       "      <td>Herranen; Peter Mikael</td>\n",
       "      <td>3</td>\n",
       "      <td>1</td>\n",
       "      <td>Nisses Gatukök AB|Norrlands Kustmontage AB|A C...</td>\n",
       "    </tr>\n",
       "    <tr>\n",
       "      <th>2</th>\n",
       "      <td>A Dahlqvist Bygg &amp; Betong AB</td>\n",
       "      <td>5590030499</td>\n",
       "      <td>6.0</td>\n",
       "      <td>54.0</td>\n",
       "      <td>Holmgren; Erik Bertil</td>\n",
       "      <td>6</td>\n",
       "      <td>1</td>\n",
       "      <td>Bertil Holmgren Bygg Aktiebolag|A Dahlqvist By...</td>\n",
       "    </tr>\n",
       "    <tr>\n",
       "      <th>3</th>\n",
       "      <td>A Hedlunds Måleriaktiebolag</td>\n",
       "      <td>5563014082</td>\n",
       "      <td>2.0</td>\n",
       "      <td>52.0</td>\n",
       "      <td>Hedlund; Axel Joakim</td>\n",
       "      <td>9</td>\n",
       "      <td>7</td>\n",
       "      <td>Hedlunds Måleri i Göteborg Aktiebolag|A Hedlun...</td>\n",
       "    </tr>\n",
       "    <tr>\n",
       "      <th>4</th>\n",
       "      <td>A Måleri &amp; Golv i Uppland AB</td>\n",
       "      <td>5562074129</td>\n",
       "      <td>3.0</td>\n",
       "      <td>52.0</td>\n",
       "      <td>Norling; Hans Fredric</td>\n",
       "      <td>1</td>\n",
       "      <td>4</td>\n",
       "      <td>A Måleri &amp; Golv i Uppland AB</td>\n",
       "    </tr>\n",
       "  </tbody>\n",
       "</table>\n",
       "</div>"
      ],
      "text/plain": [
       "                            company          id  number_of_board_memebers  \\\n",
       "0                        A Brash AB  5568391519                       2.0   \n",
       "1  A C Ställningsmontage Aktiebolag  5563594406                       2.0   \n",
       "2      A Dahlqvist Bygg & Betong AB  5590030499                       6.0   \n",
       "3       A Hedlunds Måleriaktiebolag  5563014082                       2.0   \n",
       "4      A Måleri & Golv i Uppland AB  5562074129                       3.0   \n",
       "\n",
       "   average_age_board              executives  total_active_assignments  \\\n",
       "0               39.0   Brash; Andrew William                         3   \n",
       "1               49.0  Herranen; Peter Mikael                         3   \n",
       "2               54.0   Holmgren; Erik Bertil                         6   \n",
       "3               52.0    Hedlund; Axel Joakim                         9   \n",
       "4               52.0   Norling; Hans Fredric                         1   \n",
       "\n",
       "   total_prev_assignments                                          companies  \n",
       "0                       1  John G Construction AB|A Brash Stockholm AB|A ...  \n",
       "1                       1  Nisses Gatukök AB|Norrlands Kustmontage AB|A C...  \n",
       "2                       1  Bertil Holmgren Bygg Aktiebolag|A Dahlqvist By...  \n",
       "3                       7  Hedlunds Måleri i Göteborg Aktiebolag|A Hedlun...  \n",
       "4                       4                       A Måleri & Golv i Uppland AB  "
      ]
     },
     "execution_count": 65,
     "metadata": {},
     "output_type": "execute_result"
    }
   ],
   "source": [
    "test.head()"
   ]
  },
  {
   "cell_type": "code",
   "execution_count": 66,
   "metadata": {},
   "outputs": [
    {
     "data": {
      "text/plain": [
       "1859"
      ]
     },
     "execution_count": 66,
     "metadata": {},
     "output_type": "execute_result"
    }
   ],
   "source": [
    "board_0_1000.shape[0]+board_1000_2000.shape[0]+board_2000_6000.shape[0]+board_6000_7000.shape[0]"
   ]
  },
  {
   "cell_type": "code",
   "execution_count": 67,
   "metadata": {},
   "outputs": [
    {
     "data": {
      "text/plain": [
       "(1859, 8)"
      ]
     },
     "execution_count": 67,
     "metadata": {},
     "output_type": "execute_result"
    }
   ],
   "source": [
    "test.shape"
   ]
  },
  {
   "cell_type": "code",
   "execution_count": 68,
   "metadata": {},
   "outputs": [
    {
     "data": {
      "text/plain": [
       "1747"
      ]
     },
     "execution_count": 68,
     "metadata": {},
     "output_type": "execute_result"
    }
   ],
   "source": [
    "test['company'].nunique()"
   ]
  },
  {
   "cell_type": "markdown",
   "metadata": {},
   "source": [
    "## Testing how many of the active assignment companies are inactive"
   ]
  },
  {
   "cell_type": "code",
   "execution_count": 69,
   "metadata": {},
   "outputs": [],
   "source": [
    "company_names = []\n",
    "for companies in test['companies']:\n",
    "    if type(companies)==float:\n",
    "        continue\n",
    "    companies_list = companies.split('|')\n",
    "    company_names += companies_list"
   ]
  },
  {
   "cell_type": "code",
   "execution_count": 70,
   "metadata": {},
   "outputs": [
    {
     "data": {
      "text/plain": [
       "7618"
      ]
     },
     "execution_count": 70,
     "metadata": {},
     "output_type": "execute_result"
    }
   ],
   "source": [
    "len(company_names)"
   ]
  },
  {
   "cell_type": "code",
   "execution_count": 71,
   "metadata": {},
   "outputs": [],
   "source": [
    "data = pd.read_csv(\"../data/financials/financials_status_forms_clean2.csv\")"
   ]
  },
  {
   "cell_type": "code",
   "execution_count": 72,
   "metadata": {},
   "outputs": [],
   "source": [
    "all_companies = data['company'].unique()"
   ]
  },
  {
   "cell_type": "code",
   "execution_count": 73,
   "metadata": {},
   "outputs": [],
   "source": [
    "x = data[data['company'].isin(company_names)]"
   ]
  },
  {
   "cell_type": "code",
   "execution_count": 74,
   "metadata": {},
   "outputs": [
    {
     "data": {
      "text/plain": [
       "2474"
      ]
     },
     "execution_count": 74,
     "metadata": {},
     "output_type": "execute_result"
    }
   ],
   "source": [
    "x['company'].nunique()"
   ]
  },
  {
   "cell_type": "code",
   "execution_count": 75,
   "metadata": {},
   "outputs": [
    {
     "data": {
      "text/plain": [
       "(47, 48)"
      ]
     },
     "execution_count": 75,
     "metadata": {},
     "output_type": "execute_result"
    }
   ],
   "source": [
    "x[x['default']==1].shape"
   ]
  },
  {
   "cell_type": "code",
   "execution_count": 76,
   "metadata": {},
   "outputs": [
    {
     "data": {
      "text/plain": [
       "47"
      ]
     },
     "execution_count": 76,
     "metadata": {},
     "output_type": "execute_result"
    }
   ],
   "source": [
    "x[x['default']==1]['company'].nunique()"
   ]
  },
  {
   "cell_type": "markdown",
   "metadata": {},
   "source": [
    "## Testing to see why certain companies in the active companies are not in the dataset (looks like it is because of different industries)"
   ]
  },
  {
   "cell_type": "code",
   "execution_count": 33,
   "metadata": {},
   "outputs": [],
   "source": [
    "def h():\n",
    "    comp_names = []\n",
    "    for companies in test['companies']:\n",
    "        if type(companies)==float:\n",
    "            continue\n",
    "        companies_list = companies.split('|')\n",
    "        for comp in companies_list:\n",
    "            if comp not in data['company'].unique():\n",
    "                comp_names.append(comp)\n",
    "                if len(comp_names) > 10:\n",
    "                    return comp_names\n",
    "                "
   ]
  },
  {
   "cell_type": "code",
   "execution_count": 34,
   "metadata": {},
   "outputs": [
    {
     "data": {
      "text/plain": [
       "['A Brash Stockholm AB',\n",
       " 'Nisses Gatukök AB',\n",
       " 'Volgsjö Fastigheter Aktiebolag',\n",
       " 'EPDH Fastigheter AB',\n",
       " 'Vagnede Förvaltning AB',\n",
       " 'Zeti Fastigheter AB',\n",
       " 'Måleriföretagen i Väst Serviceaktiebolag',\n",
       " 'NYMÅLIA Fastighets AB',\n",
       " 'Nymålia Spinnaren AB',\n",
       " 'Nymålia Paradisvägen AB',\n",
       " 'BAH Fastigheter AB']"
      ]
     },
     "execution_count": 34,
     "metadata": {},
     "output_type": "execute_result"
    }
   ],
   "source": [
    "h()"
   ]
  },
  {
   "cell_type": "markdown",
   "metadata": {},
   "source": [
    "## Calculating the per company per executive per company proportion of inactive companies in their active assignments"
   ]
  },
  {
   "cell_type": "code",
   "execution_count": 142,
   "metadata": {},
   "outputs": [],
   "source": [
    "def split_bar(a):\n",
    "    return a.split(\"|\")"
   ]
  },
  {
   "cell_type": "code",
   "execution_count": 147,
   "metadata": {},
   "outputs": [
    {
     "ename": "NameError",
     "evalue": "name 'assignement' is not defined",
     "output_type": "error",
     "traceback": [
      "\u001b[0;31m---------------------------------------------------------------------------\u001b[0m",
      "\u001b[0;31mNameError\u001b[0m                                 Traceback (most recent call last)",
      "\u001b[0;32m<ipython-input-147-0df9c15840d6>\u001b[0m in \u001b[0;36m<module>\u001b[0;34m\u001b[0m\n\u001b[1;32m      5\u001b[0m     \u001b[0massignment_list\u001b[0m \u001b[0;34m=\u001b[0m \u001b[0;34m[\u001b[0m\u001b[0;34m]\u001b[0m\u001b[0;34m\u001b[0m\u001b[0;34m\u001b[0m\u001b[0m\n\u001b[1;32m      6\u001b[0m     \u001b[0;32mfor\u001b[0m \u001b[0massignment\u001b[0m \u001b[0;32min\u001b[0m \u001b[0mactive_assignments\u001b[0m\u001b[0;34m:\u001b[0m\u001b[0;34m\u001b[0m\u001b[0;34m\u001b[0m\u001b[0m\n\u001b[0;32m----> 7\u001b[0;31m         \u001b[0;32mif\u001b[0m \u001b[0mtype\u001b[0m\u001b[0;34m(\u001b[0m\u001b[0massignement\u001b[0m\u001b[0;34m)\u001b[0m\u001b[0;34m==\u001b[0m\u001b[0mfloat\u001b[0m\u001b[0;34m:\u001b[0m\u001b[0;34m\u001b[0m\u001b[0;34m\u001b[0m\u001b[0m\n\u001b[0m\u001b[1;32m      8\u001b[0m             \u001b[0;32mcontinue\u001b[0m\u001b[0;34m\u001b[0m\u001b[0;34m\u001b[0m\u001b[0m\n\u001b[1;32m      9\u001b[0m         \u001b[0massignment_list\u001b[0m \u001b[0;34m+=\u001b[0m \u001b[0massignment\u001b[0m\u001b[0;34m.\u001b[0m\u001b[0msplit\u001b[0m\u001b[0;34m(\u001b[0m\u001b[0;34m\"|\"\u001b[0m\u001b[0;34m)\u001b[0m\u001b[0;34m\u001b[0m\u001b[0;34m\u001b[0m\u001b[0m\n",
      "\u001b[0;31mNameError\u001b[0m: name 'assignement' is not defined"
     ]
    }
   ],
   "source": [
    "props = []\n",
    "for Id in test['id'].unique():\n",
    "    company = test[test['id']==Id]\n",
    "    active_assignments = company['companies']\n",
    "    assignment_list = []\n",
    "    for assignment in active_assignments:\n",
    "        if type(assignement)==float:\n",
    "            continue\n",
    "        assignment_list += assignment.split(\"|\")\n",
    "    num_active_assignments = len(assignment_list)\n",
    "    # in that companies active assignments get the companies that have defaulted\n",
    "    fin_comps = data[data['company'].isin(assignment_list)]\n",
    "    defaults = fin_comps[fin_comps['default']==1].shape[0]\n",
    "    props.append(defaults/num_active_assignments)"
   ]
  },
  {
   "cell_type": "code",
   "execution_count": 78,
   "metadata": {},
   "outputs": [],
   "source": [
    "import matplotlib.pyplot as plt"
   ]
  },
  {
   "cell_type": "code",
   "execution_count": 143,
   "metadata": {},
   "outputs": [
    {
     "data": {
      "text/plain": [
       "[<matplotlib.lines.Line2D at 0x7f51c68f3be0>]"
      ]
     },
     "execution_count": 143,
     "metadata": {},
     "output_type": "execute_result"
    },
    {
     "data": {
      "image/png": "[encoded data removed]",
      "text/plain": [
       "<Figure size 432x288 with 1 Axes>"
      ]
     },
     "metadata": {
      "needs_background": "light"
     },
     "output_type": "display_data"
    }
   ],
   "source": [
    "plt.plot(np.array(props)*100)"
   ]
  },
  {
   "cell_type": "code",
   "execution_count": 144,
   "metadata": {},
   "outputs": [
    {
     "data": {
      "text/plain": [
       "1746"
      ]
     },
     "execution_count": 144,
     "metadata": {},
     "output_type": "execute_result"
    }
   ],
   "source": [
    "len(props)"
   ]
  },
  {
   "cell_type": "code",
   "execution_count": 145,
   "metadata": {},
   "outputs": [
    {
     "data": {
      "text/plain": [
       "43"
      ]
     },
     "execution_count": 145,
     "metadata": {},
     "output_type": "execute_result"
    }
   ],
   "source": [
    "count=0\n",
    "for p in props:\n",
    "    if p != 0.0:\n",
    "        count+=1\n",
    "count"
   ]
  },
  {
   "cell_type": "code",
   "execution_count": 146,
   "metadata": {},
   "outputs": [
    {
     "data": {
      "text/plain": [
       "0.9902056494267261"
      ]
     },
     "execution_count": 146,
     "metadata": {},
     "output_type": "execute_result"
    }
   ],
   "source": [
    "np.mean(np.array(props)*100)"
   ]
  }
 ],
 "metadata": {
  "kernelspec": {
   "display_name": "Python 3",
   "language": "python",
   "name": "python3"
  },
  "language_info": {
   "codemirror_mode": {
    "name": "ipython",
    "version": 3
   },
   "file_extension": ".py",
   "mimetype": "text/x-python",
   "name": "python",
   "nbconvert_exporter": "python",
   "pygments_lexer": "ipython3",
   "version": "3.8.5"
  }
 },
 "nbformat": 4,
 "nbformat_minor": 4
}
