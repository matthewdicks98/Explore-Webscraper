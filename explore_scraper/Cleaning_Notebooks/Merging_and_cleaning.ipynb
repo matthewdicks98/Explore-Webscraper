{
 "cells": [
  {
   "cell_type": "code",
   "execution_count": 1,
   "metadata": {},
   "outputs": [],
   "source": [
    "import numpy as np\n",
    "import pandas as pd\n",
    "from datetime import datetime\n",
    "import warnings\n",
    "warnings.filterwarnings(\"ignore\")"
   ]
  },
  {
   "cell_type": "code",
   "execution_count": 102,
   "metadata": {},
   "outputs": [],
   "source": [
    "from google_trans_new import google_translator   "
   ]
  },
  {
   "cell_type": "markdown",
   "metadata": {},
   "source": [
    "## Reading in the data"
   ]
  },
  {
   "cell_type": "code",
   "execution_count": 111,
   "metadata": {},
   "outputs": [],
   "source": [
    "status = pd.read_csv(\"../data/financials/status_forms_test1000.csv\")"
   ]
  },
  {
   "cell_type": "code",
   "execution_count": 112,
   "metadata": {},
   "outputs": [],
   "source": [
    "financials = pd.read_csv(\"../data/financials/fin_forms_test1000.csv\")"
   ]
  },
  {
   "cell_type": "code",
   "execution_count": 113,
   "metadata": {},
   "outputs": [],
   "source": [
    "# setting the columns for the status variables to go in\n",
    "financials['default'] = [0]*financials.shape[0]\n",
    "financials['date_diff'] = [np.nan]*financials.shape[0]\n",
    "financials['default_date'] = [np.nan]*financials.shape[0]\n",
    "financials['status'] = [np.nan]*financials.shape[0]\n",
    "financials['actual_status'] = [np.nan]*financials.shape[0]\n",
    "financials['remark'] = [np.nan]*financials.shape[0]\n",
    "\n",
    "# setting the columns for the forms variables\n",
    "financials['company_form'] = [np.nan]*financials.shape[0]\n",
    "financials['county'] = [np.nan]*financials.shape[0]\n",
    "financials['industry'] = [np.nan]*financials.shape[0]\n",
    "financials['operation'] = [np.nan]*financials.shape[0]\n",
    "financials['registered_date'] = [np.nan]*financials.shape[0]"
   ]
  },
  {
   "cell_type": "markdown",
   "metadata": {},
   "source": [
    "## Removing the ids from status that do not appear in the financials dataset and visa versa"
   ]
  },
  {
   "cell_type": "code",
   "execution_count": 114,
   "metadata": {},
   "outputs": [],
   "source": [
    "status = status[status['id'].isin(financials['id'].unique())]\n",
    "financials = financials[financials['id'].isin(status['id'].unique())]"
   ]
  },
  {
   "cell_type": "markdown",
   "metadata": {},
   "source": [
    "## Number of companies that are inaktivt but not banckrupt"
   ]
  },
  {
   "cell_type": "code",
   "execution_count": 115,
   "metadata": {},
   "outputs": [],
   "source": [
    "indexnames = status[status['status']=='inaktivt'][status['remark'].isna()]['id'].index"
   ]
  },
  {
   "cell_type": "code",
   "execution_count": 116,
   "metadata": {},
   "outputs": [],
   "source": [
    "# removing companies that are inactive but are not bankrupt (from status and financial)\n",
    "status = status.drop(indexnames)\n",
    "financials = financials[financials['id'].isin(status['id'].unique())]"
   ]
  },
  {
   "cell_type": "markdown",
   "metadata": {},
   "source": [
    "## Merging status and financial data"
   ]
  },
  {
   "cell_type": "code",
   "execution_count": 117,
   "metadata": {},
   "outputs": [
    {
     "data": {
      "text/html": [
       "<div>\n",
       "<style scoped>\n",
       "    .dataframe tbody tr th:only-of-type {\n",
       "        vertical-align: middle;\n",
       "    }\n",
       "\n",
       "    .dataframe tbody tr th {\n",
       "        vertical-align: top;\n",
       "    }\n",
       "\n",
       "    .dataframe thead th {\n",
       "        text-align: right;\n",
       "    }\n",
       "</style>\n",
       "<table border=\"1\" class=\"dataframe\">\n",
       "  <thead>\n",
       "    <tr style=\"text-align: right;\">\n",
       "      <th></th>\n",
       "      <th>company</th>\n",
       "      <th>id</th>\n",
       "      <th>year</th>\n",
       "      <th>date</th>\n",
       "      <th>net_sales</th>\n",
       "      <th>other_sales</th>\n",
       "      <th>op_profit_ebit</th>\n",
       "      <th>prof_after_net_fin_items</th>\n",
       "      <th>results</th>\n",
       "      <th>sub_unpaid_cap</th>\n",
       "      <th>...</th>\n",
       "      <th>date_diff</th>\n",
       "      <th>default_date</th>\n",
       "      <th>status</th>\n",
       "      <th>actual_status</th>\n",
       "      <th>remark</th>\n",
       "      <th>company_form</th>\n",
       "      <th>county</th>\n",
       "      <th>industry</th>\n",
       "      <th>operation</th>\n",
       "      <th>registered_date</th>\n",
       "    </tr>\n",
       "  </thead>\n",
       "  <tbody>\n",
       "    <tr>\n",
       "      <th>0</th>\n",
       "      <td>Lily Properties AB</td>\n",
       "      <td>5590655865</td>\n",
       "      <td>2019</td>\n",
       "      <td>2019-12</td>\n",
       "      <td>0</td>\n",
       "      <td>-</td>\n",
       "      <td>-44</td>\n",
       "      <td>-44</td>\n",
       "      <td>-44</td>\n",
       "      <td>0</td>\n",
       "      <td>...</td>\n",
       "      <td>NaN</td>\n",
       "      <td>NaN</td>\n",
       "      <td>NaN</td>\n",
       "      <td>NaN</td>\n",
       "      <td>NaN</td>\n",
       "      <td>NaN</td>\n",
       "      <td>NaN</td>\n",
       "      <td>NaN</td>\n",
       "      <td>NaN</td>\n",
       "      <td>NaN</td>\n",
       "    </tr>\n",
       "    <tr>\n",
       "      <th>1</th>\n",
       "      <td>Lily Properties AB</td>\n",
       "      <td>5590655865</td>\n",
       "      <td>2018</td>\n",
       "      <td>2018-12</td>\n",
       "      <td>0</td>\n",
       "      <td>-</td>\n",
       "      <td>-72</td>\n",
       "      <td>-72</td>\n",
       "      <td>-72</td>\n",
       "      <td>0</td>\n",
       "      <td>...</td>\n",
       "      <td>NaN</td>\n",
       "      <td>NaN</td>\n",
       "      <td>NaN</td>\n",
       "      <td>NaN</td>\n",
       "      <td>NaN</td>\n",
       "      <td>NaN</td>\n",
       "      <td>NaN</td>\n",
       "      <td>NaN</td>\n",
       "      <td>NaN</td>\n",
       "      <td>NaN</td>\n",
       "    </tr>\n",
       "    <tr>\n",
       "      <th>2</th>\n",
       "      <td>Lily Properties AB</td>\n",
       "      <td>5590655865</td>\n",
       "      <td>2017</td>\n",
       "      <td>2017-12</td>\n",
       "      <td>28</td>\n",
       "      <td>-</td>\n",
       "      <td>-279</td>\n",
       "      <td>-279</td>\n",
       "      <td>-279</td>\n",
       "      <td>0</td>\n",
       "      <td>...</td>\n",
       "      <td>NaN</td>\n",
       "      <td>NaN</td>\n",
       "      <td>NaN</td>\n",
       "      <td>NaN</td>\n",
       "      <td>NaN</td>\n",
       "      <td>NaN</td>\n",
       "      <td>NaN</td>\n",
       "      <td>NaN</td>\n",
       "      <td>NaN</td>\n",
       "      <td>NaN</td>\n",
       "    </tr>\n",
       "    <tr>\n",
       "      <th>3</th>\n",
       "      <td>Lily Properties AB</td>\n",
       "      <td>5590655865</td>\n",
       "      <td>2016</td>\n",
       "      <td>2016-12</td>\n",
       "      <td>0</td>\n",
       "      <td>-</td>\n",
       "      <td>-226</td>\n",
       "      <td>749</td>\n",
       "      <td>749</td>\n",
       "      <td>0</td>\n",
       "      <td>...</td>\n",
       "      <td>NaN</td>\n",
       "      <td>NaN</td>\n",
       "      <td>NaN</td>\n",
       "      <td>NaN</td>\n",
       "      <td>NaN</td>\n",
       "      <td>NaN</td>\n",
       "      <td>NaN</td>\n",
       "      <td>NaN</td>\n",
       "      <td>NaN</td>\n",
       "      <td>NaN</td>\n",
       "    </tr>\n",
       "    <tr>\n",
       "      <th>4</th>\n",
       "      <td>Fogdetorps El Aktiebolag</td>\n",
       "      <td>5564709904</td>\n",
       "      <td>2019</td>\n",
       "      <td>2019-12</td>\n",
       "      <td>0</td>\n",
       "      <td>-</td>\n",
       "      <td>-62</td>\n",
       "      <td>7938</td>\n",
       "      <td>7938</td>\n",
       "      <td>0</td>\n",
       "      <td>...</td>\n",
       "      <td>NaN</td>\n",
       "      <td>NaN</td>\n",
       "      <td>NaN</td>\n",
       "      <td>NaN</td>\n",
       "      <td>NaN</td>\n",
       "      <td>NaN</td>\n",
       "      <td>NaN</td>\n",
       "      <td>NaN</td>\n",
       "      <td>NaN</td>\n",
       "      <td>NaN</td>\n",
       "    </tr>\n",
       "  </tbody>\n",
       "</table>\n",
       "<p>5 rows × 48 columns</p>\n",
       "</div>"
      ],
      "text/plain": [
       "                    company          id  year     date net_sales other_sales  \\\n",
       "0        Lily Properties AB  5590655865  2019  2019-12         0           -   \n",
       "1        Lily Properties AB  5590655865  2018  2018-12         0           -   \n",
       "2        Lily Properties AB  5590655865  2017  2017-12        28           -   \n",
       "3        Lily Properties AB  5590655865  2016  2016-12         0           -   \n",
       "4  Fogdetorps El Aktiebolag  5564709904  2019  2019-12         0           -   \n",
       "\n",
       "  op_profit_ebit prof_after_net_fin_items results sub_unpaid_cap  ...  \\\n",
       "0            -44                      -44     -44              0  ...   \n",
       "1            -72                      -72     -72              0  ...   \n",
       "2           -279                     -279    -279              0  ...   \n",
       "3           -226                      749     749              0  ...   \n",
       "4            -62                     7938    7938              0  ...   \n",
       "\n",
       "  date_diff default_date status actual_status remark company_form county  \\\n",
       "0       NaN          NaN    NaN           NaN    NaN          NaN    NaN   \n",
       "1       NaN          NaN    NaN           NaN    NaN          NaN    NaN   \n",
       "2       NaN          NaN    NaN           NaN    NaN          NaN    NaN   \n",
       "3       NaN          NaN    NaN           NaN    NaN          NaN    NaN   \n",
       "4       NaN          NaN    NaN           NaN    NaN          NaN    NaN   \n",
       "\n",
       "  industry operation registered_date  \n",
       "0      NaN       NaN             NaN  \n",
       "1      NaN       NaN             NaN  \n",
       "2      NaN       NaN             NaN  \n",
       "3      NaN       NaN             NaN  \n",
       "4      NaN       NaN             NaN  \n",
       "\n",
       "[5 rows x 48 columns]"
      ]
     },
     "execution_count": 117,
     "metadata": {},
     "output_type": "execute_result"
    }
   ],
   "source": [
    "financials.head()"
   ]
  },
  {
   "cell_type": "code",
   "execution_count": 118,
   "metadata": {},
   "outputs": [],
   "source": [
    "def add_company_status(company_id):\n",
    "    company = financials[financials['id']==company_id]\n",
    "    company_status = status[status['id']==company_id]\n",
    "    \n",
    "    # add the default info\n",
    "    if 'inaktivt' in list(company_status['status']):\n",
    "        \n",
    "        years = company.shape[0]\n",
    "        min_date_diff = 1000000\n",
    "        min_date_diff_row = 0\n",
    "\n",
    "        for i in range(years):\n",
    "            date_diff = datetime.strptime(status[status['id']==company_id]['default_date'].iloc[0],'%Y-%m-%d') - datetime.strptime(company['date'].iloc[i], '%Y-%m')\n",
    "            date_diff = date_diff.days\n",
    "            if date_diff < 0:\n",
    "                # returned financials after banckrupcy (should not happen)\n",
    "                continue\n",
    "            if date_diff < min_date_diff:\n",
    "                min_date_diff = date_diff\n",
    "                min_date_diff_row = i\n",
    "\n",
    "        company['default'].iloc[min_date_diff_row] = 1\n",
    "        company['date_diff'].iloc[min_date_diff_row] = round(min_date_diff/365,3)\n",
    "        company['default_date'].iloc[min_date_diff_row] = company_status['default_date'].iloc[0]\n",
    "        company['status'].iloc[min_date_diff_row] = company_status['status'].iloc[0]\n",
    "        company['actual_status'].iloc[min_date_diff_row] = company_status['actual_status'].iloc[0]\n",
    "        company['remark'].iloc[min_date_diff_row] = company_status['remark'].iloc[0]\n",
    "        \n",
    "    # add the forms info\n",
    "    company['company_form'] = company.shape[0]*list(company_status['company_form'])\n",
    "    company['county'] = company.shape[0]*list(company_status['county'])\n",
    "    company['industry'] = company.shape[0]*list(company_status['industry'])\n",
    "    company['operation'] = company.shape[0]*list(company_status['operation'])\n",
    "    company['registered_date'] = company.shape[0]*list(company_status['registered_date'])\n",
    "    \n",
    "    return company"
   ]
  },
  {
   "cell_type": "code",
   "execution_count": 119,
   "metadata": {},
   "outputs": [],
   "source": [
    "for company_id in financials['id'].unique():\n",
    "    financials[financials['id']==company_id] = add_company_status(company_id)"
   ]
  },
  {
   "cell_type": "markdown",
   "metadata": {},
   "source": [
    "## Replacing the dashes with NaNs"
   ]
  },
  {
   "cell_type": "code",
   "execution_count": 120,
   "metadata": {},
   "outputs": [],
   "source": [
    "for col in financials.columns:\n",
    "    financials[col].replace(\"-\",np.nan,inplace=True)"
   ]
  },
  {
   "cell_type": "code",
   "execution_count": 121,
   "metadata": {},
   "outputs": [
    {
     "data": {
      "text/plain": [
       "(977, 48)"
      ]
     },
     "execution_count": 121,
     "metadata": {},
     "output_type": "execute_result"
    }
   ],
   "source": [
    "financials.shape"
   ]
  },
  {
   "cell_type": "markdown",
   "metadata": {},
   "source": [
    "## Remove the percentage signs"
   ]
  },
  {
   "cell_type": "code",
   "execution_count": 122,
   "metadata": {},
   "outputs": [],
   "source": [
    "for col in financials.columns[30:37]:\n",
    "    financials[col] = financials[col].str[0:-1]"
   ]
  },
  {
   "cell_type": "markdown",
   "metadata": {},
   "source": [
    "## Converting the object datatypes to floats"
   ]
  },
  {
   "cell_type": "code",
   "execution_count": 123,
   "metadata": {},
   "outputs": [],
   "source": [
    "for col in financials.columns[4:37]:\n",
    "    financials[col] = financials[col].astype(float)"
   ]
  },
  {
   "cell_type": "markdown",
   "metadata": {},
   "source": [
    "## Dividing percentage columns by 100"
   ]
  },
  {
   "cell_type": "code",
   "execution_count": 124,
   "metadata": {},
   "outputs": [],
   "source": [
    "financials.iloc[:,30:37] = financials.iloc[:,30:37]/100"
   ]
  },
  {
   "cell_type": "markdown",
   "metadata": {},
   "source": [
    "## Adding active status so it matches the 0s and 1s"
   ]
  },
  {
   "cell_type": "code",
   "execution_count": 125,
   "metadata": {},
   "outputs": [],
   "source": [
    "financials['status'].replace(np.nan,'aktivt',inplace=True)"
   ]
  },
  {
   "cell_type": "markdown",
   "metadata": {},
   "source": [
    "## Translating sweedish to english"
   ]
  },
  {
   "cell_type": "code",
   "execution_count": 126,
   "metadata": {},
   "outputs": [],
   "source": [
    "def translate_columns(columns):\n",
    "    \n",
    "    # get all the words that need to be translated\n",
    "    sweedish_words = []\n",
    "    for col in columns:\n",
    "        sweedish_words += list(financials[col].unique())\n",
    "                                                              \n",
    "    # replace the sweedish words with their english counter part\n",
    "    translator = google_translator()  \n",
    "    for word in sweedish_words:\n",
    "        # if it is np.nan\n",
    "        if type(word)==float:\n",
    "            continue\n",
    "        # google did not translate this right aktivt ----> actively\n",
    "        elif word == 'aktivt':\n",
    "            print(word + \" ------> \"+'active')\n",
    "            financials.replace(word,'active', inplace=True)\n",
    "        else:\n",
    "            print(word + \" ------> \"+translator.translate(word,lang_tgt='en'))\n",
    "            financials.replace(word,translator.translate(word,lang_tgt='en').strip(), inplace=True)"
   ]
  },
  {
   "cell_type": "code",
   "execution_count": 127,
   "metadata": {
    "scrolled": true
   },
   "outputs": [
    {
     "name": "stdout",
     "output_type": "stream",
     "text": [
      "aktivt ------> active\n",
      "inaktivt ------> inactive \n",
      "inaktivt ------> inactive \n",
      "Registrerad ------> Registered \n",
      "Konkurs avslutad ------> Bankruptcy completed \n",
      "Konkurs inledd ------> Bankruptcy initiated \n",
      "Aktiebolag ------> Limited company \n",
      "Stockholms län ------> Stockholm County \n",
      "Uppsala län ------> Uppsala county \n",
      "Kronobergs län ------> Kronoberg County \n",
      "Norrbottens län ------> Norrbotten County \n",
      "Skåne län ------> Skåne County \n",
      "Östergötlands län ------> Östergötland County \n",
      "Västra Götalands län ------> Västra Götaland County \n",
      "Jönköpings län ------> Jönköping County \n",
      "Bygg-; Design- & Inredningsverksamhet ------> Construction; Design & Interior design business \n",
      "Fastighetsverksamhet ------> Real estate activities \n",
      "Byggverksamhet ------> Construction activities \n",
      "El-VVS & Bygginstallationer ------> Electrical plumbing & construction installations \n",
      "Anläggningsarbeten ------> Construction work \n",
      "Teknisk konsult inom Bygg- & Anläggningsteknik ------> Technical consultant in Construction & Civil Engineering \n",
      "Golv- & Väggbeläggningsarbeten ------> Floor & wall covering work \n",
      "Utformning av Byggprojekt ------> Design of Construction project \n",
      "Byggnadssnickeriarbeten ------> Carpentry work \n",
      "Måleriarbeten ------> Painting work \n",
      "Arkitektverksamhet ------> Architectural business \n",
      "Industri- & Produktdesignverksamhet ------> Industrial & Product Design operations \n",
      "Puts-; Fasad- & Stuckatörsarbeten ------> Puts-; Facade & stucco work \n",
      "Inredningsarkitekt ------> Interior designer \n",
      "Takarbeten ------> Roofing work \n",
      "Fastighetsförvaltning på uppdrag ------> Property management on assignment \n",
      "Rivning av hus & byggnader ------> Demolition of houses & buildings \n",
      "Grafisk Designverksamhet ------> Graphic Design activities \n"
     ]
    }
   ],
   "source": [
    "translate_columns(['status','actual_status','remark','company_form','county','industry','operation'])"
   ]
  },
  {
   "cell_type": "code",
   "execution_count": 128,
   "metadata": {},
   "outputs": [
    {
     "data": {
      "text/html": [
       "<div>\n",
       "<style scoped>\n",
       "    .dataframe tbody tr th:only-of-type {\n",
       "        vertical-align: middle;\n",
       "    }\n",
       "\n",
       "    .dataframe tbody tr th {\n",
       "        vertical-align: top;\n",
       "    }\n",
       "\n",
       "    .dataframe thead th {\n",
       "        text-align: right;\n",
       "    }\n",
       "</style>\n",
       "<table border=\"1\" class=\"dataframe\">\n",
       "  <thead>\n",
       "    <tr style=\"text-align: right;\">\n",
       "      <th></th>\n",
       "      <th>company</th>\n",
       "      <th>id</th>\n",
       "      <th>year</th>\n",
       "      <th>date</th>\n",
       "      <th>net_sales</th>\n",
       "      <th>other_sales</th>\n",
       "      <th>op_profit_ebit</th>\n",
       "      <th>prof_after_net_fin_items</th>\n",
       "      <th>results</th>\n",
       "      <th>sub_unpaid_cap</th>\n",
       "      <th>...</th>\n",
       "      <th>date_diff</th>\n",
       "      <th>default_date</th>\n",
       "      <th>status</th>\n",
       "      <th>actual_status</th>\n",
       "      <th>remark</th>\n",
       "      <th>company_form</th>\n",
       "      <th>county</th>\n",
       "      <th>industry</th>\n",
       "      <th>operation</th>\n",
       "      <th>registered_date</th>\n",
       "    </tr>\n",
       "  </thead>\n",
       "  <tbody>\n",
       "    <tr>\n",
       "      <th>0</th>\n",
       "      <td>Lily Properties AB</td>\n",
       "      <td>5590655865</td>\n",
       "      <td>2019</td>\n",
       "      <td>2019-12</td>\n",
       "      <td>0.0</td>\n",
       "      <td>NaN</td>\n",
       "      <td>-44.0</td>\n",
       "      <td>-44.0</td>\n",
       "      <td>-44.0</td>\n",
       "      <td>0.0</td>\n",
       "      <td>...</td>\n",
       "      <td>NaN</td>\n",
       "      <td>NaN</td>\n",
       "      <td>active</td>\n",
       "      <td>NaN</td>\n",
       "      <td>NaN</td>\n",
       "      <td>Limited company</td>\n",
       "      <td>Stockholm County</td>\n",
       "      <td>Construction; Design &amp; Interior design business</td>\n",
       "      <td>Construction activities</td>\n",
       "      <td>2016-06-07</td>\n",
       "    </tr>\n",
       "    <tr>\n",
       "      <th>1</th>\n",
       "      <td>Lily Properties AB</td>\n",
       "      <td>5590655865</td>\n",
       "      <td>2018</td>\n",
       "      <td>2018-12</td>\n",
       "      <td>0.0</td>\n",
       "      <td>NaN</td>\n",
       "      <td>-72.0</td>\n",
       "      <td>-72.0</td>\n",
       "      <td>-72.0</td>\n",
       "      <td>0.0</td>\n",
       "      <td>...</td>\n",
       "      <td>NaN</td>\n",
       "      <td>NaN</td>\n",
       "      <td>active</td>\n",
       "      <td>NaN</td>\n",
       "      <td>NaN</td>\n",
       "      <td>Limited company</td>\n",
       "      <td>Stockholm County</td>\n",
       "      <td>Construction; Design &amp; Interior design business</td>\n",
       "      <td>Construction activities</td>\n",
       "      <td>2016-06-07</td>\n",
       "    </tr>\n",
       "    <tr>\n",
       "      <th>2</th>\n",
       "      <td>Lily Properties AB</td>\n",
       "      <td>5590655865</td>\n",
       "      <td>2017</td>\n",
       "      <td>2017-12</td>\n",
       "      <td>28.0</td>\n",
       "      <td>NaN</td>\n",
       "      <td>-279.0</td>\n",
       "      <td>-279.0</td>\n",
       "      <td>-279.0</td>\n",
       "      <td>0.0</td>\n",
       "      <td>...</td>\n",
       "      <td>NaN</td>\n",
       "      <td>NaN</td>\n",
       "      <td>active</td>\n",
       "      <td>NaN</td>\n",
       "      <td>NaN</td>\n",
       "      <td>Limited company</td>\n",
       "      <td>Stockholm County</td>\n",
       "      <td>Construction; Design &amp; Interior design business</td>\n",
       "      <td>Construction activities</td>\n",
       "      <td>2016-06-07</td>\n",
       "    </tr>\n",
       "    <tr>\n",
       "      <th>3</th>\n",
       "      <td>Lily Properties AB</td>\n",
       "      <td>5590655865</td>\n",
       "      <td>2016</td>\n",
       "      <td>2016-12</td>\n",
       "      <td>0.0</td>\n",
       "      <td>NaN</td>\n",
       "      <td>-226.0</td>\n",
       "      <td>749.0</td>\n",
       "      <td>749.0</td>\n",
       "      <td>0.0</td>\n",
       "      <td>...</td>\n",
       "      <td>NaN</td>\n",
       "      <td>NaN</td>\n",
       "      <td>active</td>\n",
       "      <td>NaN</td>\n",
       "      <td>NaN</td>\n",
       "      <td>Limited company</td>\n",
       "      <td>Stockholm County</td>\n",
       "      <td>Construction; Design &amp; Interior design business</td>\n",
       "      <td>Construction activities</td>\n",
       "      <td>2016-06-07</td>\n",
       "    </tr>\n",
       "    <tr>\n",
       "      <th>4</th>\n",
       "      <td>Fogdetorps El Aktiebolag</td>\n",
       "      <td>5564709904</td>\n",
       "      <td>2019</td>\n",
       "      <td>2019-12</td>\n",
       "      <td>0.0</td>\n",
       "      <td>NaN</td>\n",
       "      <td>-62.0</td>\n",
       "      <td>7938.0</td>\n",
       "      <td>7938.0</td>\n",
       "      <td>0.0</td>\n",
       "      <td>...</td>\n",
       "      <td>NaN</td>\n",
       "      <td>NaN</td>\n",
       "      <td>active</td>\n",
       "      <td>NaN</td>\n",
       "      <td>NaN</td>\n",
       "      <td>Limited company</td>\n",
       "      <td>Stockholm County</td>\n",
       "      <td>Construction; Design &amp; Interior design business</td>\n",
       "      <td>Electrical plumbing &amp; construction installations</td>\n",
       "      <td>1993-08-09</td>\n",
       "    </tr>\n",
       "  </tbody>\n",
       "</table>\n",
       "<p>5 rows × 48 columns</p>\n",
       "</div>"
      ],
      "text/plain": [
       "                    company          id  year     date  net_sales  \\\n",
       "0        Lily Properties AB  5590655865  2019  2019-12        0.0   \n",
       "1        Lily Properties AB  5590655865  2018  2018-12        0.0   \n",
       "2        Lily Properties AB  5590655865  2017  2017-12       28.0   \n",
       "3        Lily Properties AB  5590655865  2016  2016-12        0.0   \n",
       "4  Fogdetorps El Aktiebolag  5564709904  2019  2019-12        0.0   \n",
       "\n",
       "   other_sales  op_profit_ebit  prof_after_net_fin_items  results  \\\n",
       "0          NaN           -44.0                     -44.0    -44.0   \n",
       "1          NaN           -72.0                     -72.0    -72.0   \n",
       "2          NaN          -279.0                    -279.0   -279.0   \n",
       "3          NaN          -226.0                     749.0    749.0   \n",
       "4          NaN           -62.0                    7938.0   7938.0   \n",
       "\n",
       "   sub_unpaid_cap  ...  date_diff  default_date  status  actual_status  \\\n",
       "0             0.0  ...        NaN           NaN  active            NaN   \n",
       "1             0.0  ...        NaN           NaN  active            NaN   \n",
       "2             0.0  ...        NaN           NaN  active            NaN   \n",
       "3             0.0  ...        NaN           NaN  active            NaN   \n",
       "4             0.0  ...        NaN           NaN  active            NaN   \n",
       "\n",
       "   remark     company_form            county  \\\n",
       "0     NaN  Limited company  Stockholm County   \n",
       "1     NaN  Limited company  Stockholm County   \n",
       "2     NaN  Limited company  Stockholm County   \n",
       "3     NaN  Limited company  Stockholm County   \n",
       "4     NaN  Limited company  Stockholm County   \n",
       "\n",
       "                                          industry  \\\n",
       "0  Construction; Design & Interior design business   \n",
       "1  Construction; Design & Interior design business   \n",
       "2  Construction; Design & Interior design business   \n",
       "3  Construction; Design & Interior design business   \n",
       "4  Construction; Design & Interior design business   \n",
       "\n",
       "                                          operation  registered_date  \n",
       "0                           Construction activities       2016-06-07  \n",
       "1                           Construction activities       2016-06-07  \n",
       "2                           Construction activities       2016-06-07  \n",
       "3                           Construction activities       2016-06-07  \n",
       "4  Electrical plumbing & construction installations       1993-08-09  \n",
       "\n",
       "[5 rows x 48 columns]"
      ]
     },
     "execution_count": 128,
     "metadata": {},
     "output_type": "execute_result"
    }
   ],
   "source": [
    "financials.head()"
   ]
  },
  {
   "cell_type": "code",
   "execution_count": null,
   "metadata": {},
   "outputs": [],
   "source": []
  }
 ],
 "metadata": {
  "kernelspec": {
   "display_name": "Python 3",
   "language": "python",
   "name": "python3"
  },
  "language_info": {
   "codemirror_mode": {
    "name": "ipython",
    "version": 3
   },
   "file_extension": ".py",
   "mimetype": "text/x-python",
   "name": "python",
   "nbconvert_exporter": "python",
   "pygments_lexer": "ipython3",
   "version": "3.8.5"
  }
 },
 "nbformat": 4,
 "nbformat_minor": 4
}
